{
 "cells": [
  {
   "cell_type": "markdown",
   "metadata": {
    "id": "PzQ_Wml4TCSo"
   },
   "source": [
    "# Airports Dataset ✈\n",
    "<hr>"
   ]
  },
  {
   "cell_type": "markdown",
   "metadata": {
    "id": "xDPrJQMsT6LY"
   },
   "source": [
    "### Sobre o dataset"
   ]
  },
  {
   "cell_type": "markdown",
   "metadata": {
    "id": "ljHxgZRxUGVw"
   },
   "source": [
    "Em janeiro de 2017, o OpenFlights Airports Database contém mais de 10.000 aeroportos, estações de trem e terminais de balsas em todo o mundo, conforme mostrado no mapa acima. Cada entrada contém as seguintes informações:\n",
    "\n",
    "1. ID do aeroporto - Identificador exclusivo do OpenFlights para este aeroporto.\n",
    "\n",
    "2. Nome - Nome do aeroporto. Pode ou não conter o nome da Cidade.\n",
    "\n",
    "3. Cidade - Principal cidade servida pelo aeroporto. Pode ser escrito de forma diferente de Nome.\n",
    "\n",
    "4. País - País ou território onde está localizado o aeroporto. Consulte Países para referência cruzada aos códigos ISO 3166-1.\n",
    "\n",
    "5. IATA - código IATA de 3 letras. Nulo se não atribuído/desconhecido.\n",
    "\n",
    "6. ICAO - código ICAO de 4 letras.Nulo se não atribuído.\n",
    "\n",
    "7. Latitude - Graus decimais, geralmente com seis dígitos significativos. Negativo é Sul, positivo é Norte.\n",
    "\n",
    "8. Longitude - Graus decimais, geralmente com seis dígitos significativos. Negativo é Oeste, positivo é Leste.\n",
    "\n",
    "9. Altitude - Em pés.\n",
    "\n",
    "10. Fuso horário - Compensação de horas do UTC. As horas fracionárias são expressas como decimais, por exemplo. A Índia é 5,5.\n",
    "\n",
    "11. DST - Horário de verão. Um de E (Europa), A (EUA/Canadá), S (América do Sul), O (Austrália), Z (Nova Zelândia), N (Nenhum) ou U (Desconhecido).\n",
    "\n",
    "12. Fuso horário do banco de dados Tz - Fuso horário no formato \"tz\" (Olson), por exemplo. \"América/Los_Angeles\".\n",
    "\n",
    "13. Tipo - Tipo do aeroporto. Valor \"aeroporto\" para terminais aéreos, \"estação\" para estações de trem, \"porto\" para terminais de balsas e \"desconhecido\" se não for conhecido. Em airports.csv, apenas type=airport está incluído.\n",
    "\n",
    "14. Fonte - Fonte desses dados. \"OurAirports\" para dados provenientes de OurAirports, \"Legacy\" para dados antigos não correspondentes a OurAirports (principalmente DAFIF), \"User\" para contribuições de usuários não verificadas. Em airports.csv, apenas source=OurAirports está incluído.\n",
    "\n",
    "Os dados que serão utilizados para analise foram extraidos no seguinte link: https://openflights.org/data.html."
   ]
  },
  {
   "cell_type": "markdown",
   "metadata": {
    "id": "-vF1oVUJVRmv"
   },
   "source": [
    "### Importando dados"
   ]
  },
  {
   "cell_type": "code",
   "execution_count": 1,
   "metadata": {
    "id": "MI_bsR7eAD1Y"
   },
   "outputs": [],
   "source": [
    "#importando bibliotecas\n",
    "import pandas as pd\n",
    "import numpy as np\n",
    "import seaborn as sns\n",
    "import matplotlib.pyplot as plt"
   ]
  },
  {
   "cell_type": "code",
   "execution_count": 2,
   "metadata": {
    "id": "mzzOdUCLBKbK"
   },
   "outputs": [],
   "source": [
    "# inserindo dados e colunas\n",
    "url = 'https://raw.githubusercontent.com/jpatokal/openflights/master/data/airports.dat'\n",
    "\n",
    "columns = ['id','city', 'country', 'IATA', 'ICAO', 'latitude', 'longitude', \n",
    "           'altitude', 'timezone', 'dst', 'ts_database', 'type', 'source']"
   ]
  },
  {
   "cell_type": "code",
   "execution_count": 3,
   "metadata": {
    "colab": {
     "base_uri": "https://localhost:8080/",
     "height": 441
    },
    "id": "KbuBxK-MBN5I",
    "outputId": "161cbe0e-37af-49e2-89b7-a2f95a923633"
   },
   "outputs": [
    {
     "data": {
      "text/html": [
       "<div>\n",
       "<style scoped>\n",
       "    .dataframe tbody tr th:only-of-type {\n",
       "        vertical-align: middle;\n",
       "    }\n",
       "\n",
       "    .dataframe tbody tr th {\n",
       "        vertical-align: top;\n",
       "    }\n",
       "\n",
       "    .dataframe thead th {\n",
       "        text-align: right;\n",
       "    }\n",
       "</style>\n",
       "<table border=\"1\" class=\"dataframe\">\n",
       "  <thead>\n",
       "    <tr style=\"text-align: right;\">\n",
       "      <th></th>\n",
       "      <th>id</th>\n",
       "      <th>city</th>\n",
       "      <th>country</th>\n",
       "      <th>IATA</th>\n",
       "      <th>ICAO</th>\n",
       "      <th>latitude</th>\n",
       "      <th>longitude</th>\n",
       "      <th>altitude</th>\n",
       "      <th>timezone</th>\n",
       "      <th>dst</th>\n",
       "      <th>ts_database</th>\n",
       "      <th>type</th>\n",
       "      <th>source</th>\n",
       "    </tr>\n",
       "  </thead>\n",
       "  <tbody>\n",
       "    <tr>\n",
       "      <th>1</th>\n",
       "      <td>Goroka Airport</td>\n",
       "      <td>Goroka</td>\n",
       "      <td>Papua New Guinea</td>\n",
       "      <td>GKA</td>\n",
       "      <td>AYGA</td>\n",
       "      <td>-6.081690</td>\n",
       "      <td>145.391998</td>\n",
       "      <td>5282</td>\n",
       "      <td>10</td>\n",
       "      <td>U</td>\n",
       "      <td>Pacific/Port_Moresby</td>\n",
       "      <td>airport</td>\n",
       "      <td>OurAirports</td>\n",
       "    </tr>\n",
       "    <tr>\n",
       "      <th>2</th>\n",
       "      <td>Madang Airport</td>\n",
       "      <td>Madang</td>\n",
       "      <td>Papua New Guinea</td>\n",
       "      <td>MAG</td>\n",
       "      <td>AYMD</td>\n",
       "      <td>-5.207080</td>\n",
       "      <td>145.789001</td>\n",
       "      <td>20</td>\n",
       "      <td>10</td>\n",
       "      <td>U</td>\n",
       "      <td>Pacific/Port_Moresby</td>\n",
       "      <td>airport</td>\n",
       "      <td>OurAirports</td>\n",
       "    </tr>\n",
       "    <tr>\n",
       "      <th>3</th>\n",
       "      <td>Mount Hagen Kagamuga Airport</td>\n",
       "      <td>Mount Hagen</td>\n",
       "      <td>Papua New Guinea</td>\n",
       "      <td>HGU</td>\n",
       "      <td>AYMH</td>\n",
       "      <td>-5.826790</td>\n",
       "      <td>144.296005</td>\n",
       "      <td>5388</td>\n",
       "      <td>10</td>\n",
       "      <td>U</td>\n",
       "      <td>Pacific/Port_Moresby</td>\n",
       "      <td>airport</td>\n",
       "      <td>OurAirports</td>\n",
       "    </tr>\n",
       "    <tr>\n",
       "      <th>4</th>\n",
       "      <td>Nadzab Airport</td>\n",
       "      <td>Nadzab</td>\n",
       "      <td>Papua New Guinea</td>\n",
       "      <td>LAE</td>\n",
       "      <td>AYNZ</td>\n",
       "      <td>-6.569803</td>\n",
       "      <td>146.725977</td>\n",
       "      <td>239</td>\n",
       "      <td>10</td>\n",
       "      <td>U</td>\n",
       "      <td>Pacific/Port_Moresby</td>\n",
       "      <td>airport</td>\n",
       "      <td>OurAirports</td>\n",
       "    </tr>\n",
       "    <tr>\n",
       "      <th>5</th>\n",
       "      <td>Port Moresby Jacksons International Airport</td>\n",
       "      <td>Port Moresby</td>\n",
       "      <td>Papua New Guinea</td>\n",
       "      <td>POM</td>\n",
       "      <td>AYPY</td>\n",
       "      <td>-9.443380</td>\n",
       "      <td>147.220001</td>\n",
       "      <td>146</td>\n",
       "      <td>10</td>\n",
       "      <td>U</td>\n",
       "      <td>Pacific/Port_Moresby</td>\n",
       "      <td>airport</td>\n",
       "      <td>OurAirports</td>\n",
       "    </tr>\n",
       "  </tbody>\n",
       "</table>\n",
       "</div>"
      ],
      "text/plain": [
       "                                            id          city  \\\n",
       "1                               Goroka Airport        Goroka   \n",
       "2                               Madang Airport        Madang   \n",
       "3                 Mount Hagen Kagamuga Airport   Mount Hagen   \n",
       "4                               Nadzab Airport        Nadzab   \n",
       "5  Port Moresby Jacksons International Airport  Port Moresby   \n",
       "\n",
       "            country IATA  ICAO  latitude   longitude  altitude timezone dst  \\\n",
       "1  Papua New Guinea  GKA  AYGA -6.081690  145.391998      5282       10   U   \n",
       "2  Papua New Guinea  MAG  AYMD -5.207080  145.789001        20       10   U   \n",
       "3  Papua New Guinea  HGU  AYMH -5.826790  144.296005      5388       10   U   \n",
       "4  Papua New Guinea  LAE  AYNZ -6.569803  146.725977       239       10   U   \n",
       "5  Papua New Guinea  POM  AYPY -9.443380  147.220001       146       10   U   \n",
       "\n",
       "            ts_database     type       source  \n",
       "1  Pacific/Port_Moresby  airport  OurAirports  \n",
       "2  Pacific/Port_Moresby  airport  OurAirports  \n",
       "3  Pacific/Port_Moresby  airport  OurAirports  \n",
       "4  Pacific/Port_Moresby  airport  OurAirports  \n",
       "5  Pacific/Port_Moresby  airport  OurAirports  "
      ]
     },
     "execution_count": 3,
     "metadata": {},
     "output_type": "execute_result"
    }
   ],
   "source": [
    "dados = pd.read_csv(url, names=columns, sep=',', na_values='?', skipinitialspace= True, encoding='utf-8')\n",
    "dados.head()"
   ]
  },
  {
   "cell_type": "markdown",
   "metadata": {
    "id": "GG1BGbGcVVN3"
   },
   "source": [
    "### Analisando"
   ]
  },
  {
   "cell_type": "code",
   "execution_count": 4,
   "metadata": {
    "colab": {
     "base_uri": "https://localhost:8080/"
    },
    "id": "DZUajuDaBYJ4",
    "outputId": "6e8f798e-90df-402e-a1d5-8278f7a8848c"
   },
   "outputs": [
    {
     "name": "stdout",
     "output_type": "stream",
     "text": [
      "<class 'pandas.core.frame.DataFrame'>\n",
      "Int64Index: 7698 entries, 1 to 14110\n",
      "Data columns (total 13 columns):\n",
      " #   Column       Non-Null Count  Dtype  \n",
      "---  ------       --------------  -----  \n",
      " 0   id           7698 non-null   object \n",
      " 1   city         7649 non-null   object \n",
      " 2   country      7698 non-null   object \n",
      " 3   IATA         7698 non-null   object \n",
      " 4   ICAO         7698 non-null   object \n",
      " 5   latitude     7698 non-null   float64\n",
      " 6   longitude    7698 non-null   float64\n",
      " 7   altitude     7698 non-null   int64  \n",
      " 8   timezone     7698 non-null   object \n",
      " 9   dst          7698 non-null   object \n",
      " 10  ts_database  7698 non-null   object \n",
      " 11  type         7698 non-null   object \n",
      " 12  source       7698 non-null   object \n",
      "dtypes: float64(2), int64(1), object(10)\n",
      "memory usage: 842.0+ KB\n"
     ]
    }
   ],
   "source": [
    "# informações sobre o dataframe\n",
    "dados.info()"
   ]
  },
  {
   "cell_type": "code",
   "execution_count": 5,
   "metadata": {
    "colab": {
     "base_uri": "https://localhost:8080/"
    },
    "id": "kzQlEt1sRw5Z",
    "outputId": "910c5ae4-d53f-4837-ec04-2534ca9a0a7c"
   },
   "outputs": [
    {
     "data": {
      "text/plain": [
       "id              0\n",
       "city           49\n",
       "country         0\n",
       "IATA            0\n",
       "ICAO            0\n",
       "latitude        0\n",
       "longitude       0\n",
       "altitude        0\n",
       "timezone        0\n",
       "dst             0\n",
       "ts_database     0\n",
       "type            0\n",
       "source          0\n",
       "dtype: int64"
      ]
     },
     "execution_count": 5,
     "metadata": {},
     "output_type": "execute_result"
    }
   ],
   "source": [
    "# verificando valores nulos\n",
    "dados.isnull().sum()"
   ]
  },
  {
   "cell_type": "code",
   "execution_count": 6,
   "metadata": {
    "colab": {
     "base_uri": "https://localhost:8080/"
    },
    "id": "w-rE0xS0STig",
    "outputId": "19f53ace-a697-494c-ba74-7802f051faeb"
   },
   "outputs": [
    {
     "data": {
      "text/plain": [
       "(7698, 13)"
      ]
     },
     "execution_count": 6,
     "metadata": {},
     "output_type": "execute_result"
    }
   ],
   "source": [
    "# tamanho do dataset\n",
    "dados.shape"
   ]
  },
  {
   "cell_type": "code",
   "execution_count": 7,
   "metadata": {
    "colab": {
     "base_uri": "https://localhost:8080/",
     "height": 300
    },
    "id": "lwlB2XWpSgMQ",
    "outputId": "a3c6bcf2-0ab5-4b06-e707-863859c6adfe"
   },
   "outputs": [
    {
     "data": {
      "text/html": [
       "<div>\n",
       "<style scoped>\n",
       "    .dataframe tbody tr th:only-of-type {\n",
       "        vertical-align: middle;\n",
       "    }\n",
       "\n",
       "    .dataframe tbody tr th {\n",
       "        vertical-align: top;\n",
       "    }\n",
       "\n",
       "    .dataframe thead th {\n",
       "        text-align: right;\n",
       "    }\n",
       "</style>\n",
       "<table border=\"1\" class=\"dataframe\">\n",
       "  <thead>\n",
       "    <tr style=\"text-align: right;\">\n",
       "      <th></th>\n",
       "      <th>latitude</th>\n",
       "      <th>longitude</th>\n",
       "      <th>altitude</th>\n",
       "    </tr>\n",
       "  </thead>\n",
       "  <tbody>\n",
       "    <tr>\n",
       "      <th>count</th>\n",
       "      <td>7698.000000</td>\n",
       "      <td>7698.000000</td>\n",
       "      <td>7698.000000</td>\n",
       "    </tr>\n",
       "    <tr>\n",
       "      <th>mean</th>\n",
       "      <td>25.808442</td>\n",
       "      <td>-1.390546</td>\n",
       "      <td>1015.873344</td>\n",
       "    </tr>\n",
       "    <tr>\n",
       "      <th>std</th>\n",
       "      <td>28.404946</td>\n",
       "      <td>86.519162</td>\n",
       "      <td>1628.775132</td>\n",
       "    </tr>\n",
       "    <tr>\n",
       "      <th>min</th>\n",
       "      <td>-90.000000</td>\n",
       "      <td>-179.876999</td>\n",
       "      <td>-1266.000000</td>\n",
       "    </tr>\n",
       "    <tr>\n",
       "      <th>25%</th>\n",
       "      <td>6.907983</td>\n",
       "      <td>-78.974699</td>\n",
       "      <td>63.000000</td>\n",
       "    </tr>\n",
       "    <tr>\n",
       "      <th>50%</th>\n",
       "      <td>34.085701</td>\n",
       "      <td>6.375653</td>\n",
       "      <td>352.000000</td>\n",
       "    </tr>\n",
       "    <tr>\n",
       "      <th>75%</th>\n",
       "      <td>47.239551</td>\n",
       "      <td>56.000599</td>\n",
       "      <td>1203.000000</td>\n",
       "    </tr>\n",
       "    <tr>\n",
       "      <th>max</th>\n",
       "      <td>89.500000</td>\n",
       "      <td>179.951004</td>\n",
       "      <td>14472.000000</td>\n",
       "    </tr>\n",
       "  </tbody>\n",
       "</table>\n",
       "</div>"
      ],
      "text/plain": [
       "          latitude    longitude      altitude\n",
       "count  7698.000000  7698.000000   7698.000000\n",
       "mean     25.808442    -1.390546   1015.873344\n",
       "std      28.404946    86.519162   1628.775132\n",
       "min     -90.000000  -179.876999  -1266.000000\n",
       "25%       6.907983   -78.974699     63.000000\n",
       "50%      34.085701     6.375653    352.000000\n",
       "75%      47.239551    56.000599   1203.000000\n",
       "max      89.500000   179.951004  14472.000000"
      ]
     },
     "execution_count": 7,
     "metadata": {},
     "output_type": "execute_result"
    }
   ],
   "source": [
    "# dados estatisticos\n",
    "dados.describe()"
   ]
  },
  {
   "cell_type": "code",
   "execution_count": 8,
   "metadata": {
    "colab": {
     "base_uri": "https://localhost:8080/",
     "height": 143
    },
    "id": "4e55lYtrSlGg",
    "outputId": "fab8a682-a7df-42e1-9e56-bab6bac94b2d"
   },
   "outputs": [
    {
     "data": {
      "text/html": [
       "<div>\n",
       "<style scoped>\n",
       "    .dataframe tbody tr th:only-of-type {\n",
       "        vertical-align: middle;\n",
       "    }\n",
       "\n",
       "    .dataframe tbody tr th {\n",
       "        vertical-align: top;\n",
       "    }\n",
       "\n",
       "    .dataframe thead th {\n",
       "        text-align: right;\n",
       "    }\n",
       "</style>\n",
       "<table border=\"1\" class=\"dataframe\">\n",
       "  <thead>\n",
       "    <tr style=\"text-align: right;\">\n",
       "      <th></th>\n",
       "      <th>latitude</th>\n",
       "      <th>longitude</th>\n",
       "      <th>altitude</th>\n",
       "    </tr>\n",
       "  </thead>\n",
       "  <tbody>\n",
       "    <tr>\n",
       "      <th>latitude</th>\n",
       "      <td>1.0000</td>\n",
       "      <td>-0.2767</td>\n",
       "      <td>-0.1045</td>\n",
       "    </tr>\n",
       "    <tr>\n",
       "      <th>longitude</th>\n",
       "      <td>-0.2767</td>\n",
       "      <td>1.0000</td>\n",
       "      <td>-0.0446</td>\n",
       "    </tr>\n",
       "    <tr>\n",
       "      <th>altitude</th>\n",
       "      <td>-0.1045</td>\n",
       "      <td>-0.0446</td>\n",
       "      <td>1.0000</td>\n",
       "    </tr>\n",
       "  </tbody>\n",
       "</table>\n",
       "</div>"
      ],
      "text/plain": [
       "           latitude  longitude  altitude\n",
       "latitude     1.0000    -0.2767   -0.1045\n",
       "longitude   -0.2767     1.0000   -0.0446\n",
       "altitude    -0.1045    -0.0446    1.0000"
      ]
     },
     "execution_count": 8,
     "metadata": {},
     "output_type": "execute_result"
    }
   ],
   "source": [
    "# verificando a correlação entre dados\n",
    "dados.corr().round(4)"
   ]
  },
  {
   "cell_type": "markdown",
   "metadata": {
    "id": "hl7BQS3nG0v0"
   },
   "source": [
    "## Resolvendo as questões"
   ]
  },
  {
   "attachments": {
    "Captura%20de%20tela%202022-07-16%20104847-2.png": {
     "image/png": "[encoded data removed]"
    }
   },
   "cell_type": "markdown",
   "metadata": {
    "id": "yPPAjmA8Q4GF"
   },
   "source": [
    "Qual o tamanho do arquivo airports.dat?\n",
    "\n",
    "![Captura%20de%20tela%202022-07-16%20104847-2.png](attachment:Captura%20de%20tela%202022-07-16%20104847-2.png)"
   ]
  },
  {
   "cell_type": "code",
   "execution_count": 9,
   "metadata": {
    "colab": {
     "base_uri": "https://localhost:8080/",
     "height": 423
    },
    "id": "d5ywz88zMQm8",
    "outputId": "97c04bc3-f454-4672-cd1c-31a59fe6bc04"
   },
   "outputs": [
    {
     "data": {
      "text/html": [
       "<div>\n",
       "<style scoped>\n",
       "    .dataframe tbody tr th:only-of-type {\n",
       "        vertical-align: middle;\n",
       "    }\n",
       "\n",
       "    .dataframe tbody tr th {\n",
       "        vertical-align: top;\n",
       "    }\n",
       "\n",
       "    .dataframe thead th {\n",
       "        text-align: right;\n",
       "    }\n",
       "</style>\n",
       "<table border=\"1\" class=\"dataframe\">\n",
       "  <thead>\n",
       "    <tr style=\"text-align: right;\">\n",
       "      <th></th>\n",
       "      <th>id</th>\n",
       "      <th>latitude</th>\n",
       "      <th>longitude</th>\n",
       "    </tr>\n",
       "  </thead>\n",
       "  <tbody>\n",
       "    <tr>\n",
       "      <th>1</th>\n",
       "      <td>Goroka Airport</td>\n",
       "      <td>-6.081690</td>\n",
       "      <td>145.391998</td>\n",
       "    </tr>\n",
       "    <tr>\n",
       "      <th>2</th>\n",
       "      <td>Madang Airport</td>\n",
       "      <td>-5.207080</td>\n",
       "      <td>145.789001</td>\n",
       "    </tr>\n",
       "    <tr>\n",
       "      <th>3</th>\n",
       "      <td>Mount Hagen Kagamuga Airport</td>\n",
       "      <td>-5.826790</td>\n",
       "      <td>144.296005</td>\n",
       "    </tr>\n",
       "    <tr>\n",
       "      <th>4</th>\n",
       "      <td>Nadzab Airport</td>\n",
       "      <td>-6.569803</td>\n",
       "      <td>146.725977</td>\n",
       "    </tr>\n",
       "    <tr>\n",
       "      <th>5</th>\n",
       "      <td>Port Moresby Jacksons International Airport</td>\n",
       "      <td>-9.443380</td>\n",
       "      <td>147.220001</td>\n",
       "    </tr>\n",
       "    <tr>\n",
       "      <th>...</th>\n",
       "      <td>...</td>\n",
       "      <td>...</td>\n",
       "      <td>...</td>\n",
       "    </tr>\n",
       "    <tr>\n",
       "      <th>14106</th>\n",
       "      <td>Rogachyovo Air Base</td>\n",
       "      <td>71.616699</td>\n",
       "      <td>52.478298</td>\n",
       "    </tr>\n",
       "    <tr>\n",
       "      <th>14107</th>\n",
       "      <td>Ulan-Ude East Airport</td>\n",
       "      <td>51.849998</td>\n",
       "      <td>107.737999</td>\n",
       "    </tr>\n",
       "    <tr>\n",
       "      <th>14108</th>\n",
       "      <td>Krechevitsy Air Base</td>\n",
       "      <td>58.625000</td>\n",
       "      <td>31.385000</td>\n",
       "    </tr>\n",
       "    <tr>\n",
       "      <th>14109</th>\n",
       "      <td>Desierto de Atacama Airport</td>\n",
       "      <td>-27.261200</td>\n",
       "      <td>-70.779198</td>\n",
       "    </tr>\n",
       "    <tr>\n",
       "      <th>14110</th>\n",
       "      <td>Melitopol Air Base</td>\n",
       "      <td>46.880001</td>\n",
       "      <td>35.305000</td>\n",
       "    </tr>\n",
       "  </tbody>\n",
       "</table>\n",
       "<p>7698 rows × 3 columns</p>\n",
       "</div>"
      ],
      "text/plain": [
       "                                                id   latitude   longitude\n",
       "1                                   Goroka Airport  -6.081690  145.391998\n",
       "2                                   Madang Airport  -5.207080  145.789001\n",
       "3                     Mount Hagen Kagamuga Airport  -5.826790  144.296005\n",
       "4                                   Nadzab Airport  -6.569803  146.725977\n",
       "5      Port Moresby Jacksons International Airport  -9.443380  147.220001\n",
       "...                                            ...        ...         ...\n",
       "14106                          Rogachyovo Air Base  71.616699   52.478298\n",
       "14107                        Ulan-Ude East Airport  51.849998  107.737999\n",
       "14108                         Krechevitsy Air Base  58.625000   31.385000\n",
       "14109                  Desierto de Atacama Airport -27.261200  -70.779198\n",
       "14110                           Melitopol Air Base  46.880001   35.305000\n",
       "\n",
       "[7698 rows x 3 columns]"
      ]
     },
     "execution_count": 9,
     "metadata": {},
     "output_type": "execute_result"
    }
   ],
   "source": [
    "#Considerando o dataset airports.dat, qual a distância entre os aeroportos Jorge Newbery Airpark e Guarulhos?\n",
    "perg7 = dados[['id', 'latitude', 'longitude']]\n",
    "perg7"
   ]
  },
  {
   "cell_type": "code",
   "execution_count": 10,
   "metadata": {
    "colab": {
     "base_uri": "https://localhost:8080/"
    },
    "id": "JoKPhKtbNC3s",
    "outputId": "821b51f5-8697-44a4-b121-200348c676ac"
   },
   "outputs": [
    {
     "name": "stdout",
     "output_type": "stream",
     "text": [
      "Collecting haversine\n",
      "  Downloading haversine-2.6.0-py2.py3-none-any.whl (6.8 kB)\n",
      "Installing collected packages: haversine\n",
      "Successfully installed haversine-2.6.0\n"
     ]
    }
   ],
   "source": [
    "!pip install haversine"
   ]
  },
  {
   "cell_type": "code",
   "execution_count": 11,
   "metadata": {
    "id": "L3z0smrDOxfU"
   },
   "outputs": [],
   "source": [
    "from haversine import haversine"
   ]
  },
  {
   "cell_type": "code",
   "execution_count": 12,
   "metadata": {
    "colab": {
     "base_uri": "https://localhost:8080/",
     "height": 81
    },
    "id": "rK7Jc4S0NU47",
    "outputId": "4684035e-ad8c-4928-df6b-37f10f364414"
   },
   "outputs": [
    {
     "data": {
      "text/html": [
       "<div>\n",
       "<style scoped>\n",
       "    .dataframe tbody tr th:only-of-type {\n",
       "        vertical-align: middle;\n",
       "    }\n",
       "\n",
       "    .dataframe tbody tr th {\n",
       "        vertical-align: top;\n",
       "    }\n",
       "\n",
       "    .dataframe thead th {\n",
       "        text-align: right;\n",
       "    }\n",
       "</style>\n",
       "<table border=\"1\" class=\"dataframe\">\n",
       "  <thead>\n",
       "    <tr style=\"text-align: right;\">\n",
       "      <th></th>\n",
       "      <th>id</th>\n",
       "      <th>latitude</th>\n",
       "      <th>longitude</th>\n",
       "    </tr>\n",
       "  </thead>\n",
       "  <tbody>\n",
       "    <tr>\n",
       "      <th>2442</th>\n",
       "      <td>Jorge Newbery Airpark</td>\n",
       "      <td>-34.5592</td>\n",
       "      <td>-58.4156</td>\n",
       "    </tr>\n",
       "  </tbody>\n",
       "</table>\n",
       "</div>"
      ],
      "text/plain": [
       "                         id  latitude  longitude\n",
       "2442  Jorge Newbery Airpark  -34.5592   -58.4156"
      ]
     },
     "execution_count": 12,
     "metadata": {},
     "output_type": "execute_result"
    }
   ],
   "source": [
    "#procurando valores de latitude e longitude\n",
    "jorge = perg7.query('`id` == \"Jorge Newbery Airpark\"')\n",
    "jorge"
   ]
  },
  {
   "cell_type": "code",
   "execution_count": 13,
   "metadata": {
    "colab": {
     "base_uri": "https://localhost:8080/",
     "height": 81
    },
    "id": "zhIseDxdNmt7",
    "outputId": "893b3e7a-d60e-42eb-f528-93d562b719aa"
   },
   "outputs": [
    {
     "data": {
      "text/html": [
       "<div>\n",
       "<style scoped>\n",
       "    .dataframe tbody tr th:only-of-type {\n",
       "        vertical-align: middle;\n",
       "    }\n",
       "\n",
       "    .dataframe tbody tr th {\n",
       "        vertical-align: top;\n",
       "    }\n",
       "\n",
       "    .dataframe thead th {\n",
       "        text-align: right;\n",
       "    }\n",
       "</style>\n",
       "<table border=\"1\" class=\"dataframe\">\n",
       "  <thead>\n",
       "    <tr style=\"text-align: right;\">\n",
       "      <th></th>\n",
       "      <th>id</th>\n",
       "      <th>latitude</th>\n",
       "      <th>longitude</th>\n",
       "    </tr>\n",
       "  </thead>\n",
       "  <tbody>\n",
       "    <tr>\n",
       "      <th>2564</th>\n",
       "      <td>Guarulhos - Governador André Franco Montoro In...</td>\n",
       "      <td>-23.435556</td>\n",
       "      <td>-46.473057</td>\n",
       "    </tr>\n",
       "  </tbody>\n",
       "</table>\n",
       "</div>"
      ],
      "text/plain": [
       "                                                     id   latitude  longitude\n",
       "2564  Guarulhos - Governador André Franco Montoro In... -23.435556 -46.473057"
      ]
     },
     "execution_count": 13,
     "metadata": {},
     "output_type": "execute_result"
    }
   ],
   "source": [
    "#procurando valores de latitude e longitude\n",
    "guarulhos = perg7.query('`id` == \"Guarulhos - Governador André Franco Montoro International Airport\"')\n",
    "guarulhos"
   ]
  },
  {
   "cell_type": "code",
   "execution_count": 14,
   "metadata": {
    "id": "T9H0sAosO__s"
   },
   "outputs": [],
   "source": [
    "#inserindo os resultados em variaveis\n",
    "jorge = (-34.5592,-58.4156)\n",
    "guarulhos= (-23.435556,-46.473057)"
   ]
  },
  {
   "cell_type": "code",
   "execution_count": 15,
   "metadata": {
    "colab": {
     "base_uri": "https://localhost:8080/"
    },
    "id": "PM70D5USOos0",
    "outputId": "f5968a69-5cc1-4d52-c570-8c7226bf263e"
   },
   "outputs": [
    {
     "data": {
      "text/plain": [
       "1693.9996279229154"
      ]
     },
     "execution_count": 15,
     "metadata": {},
     "output_type": "execute_result"
    }
   ],
   "source": [
    "# por fim calculando a distancia em km usando a biblioteca haversine\n",
    "perg7 = haversine(jorge, guarulhos)\n",
    "perg7"
   ]
  },
  {
   "cell_type": "code",
   "execution_count": 16,
   "metadata": {
    "colab": {
     "base_uri": "https://localhost:8080/",
     "height": 423
    },
    "id": "05KXS12XG21y",
    "outputId": "bd3ebc0e-af60-4eab-ee14-d62b0e1c6007"
   },
   "outputs": [
    {
     "data": {
      "text/html": [
       "<div>\n",
       "<style scoped>\n",
       "    .dataframe tbody tr th:only-of-type {\n",
       "        vertical-align: middle;\n",
       "    }\n",
       "\n",
       "    .dataframe tbody tr th {\n",
       "        vertical-align: top;\n",
       "    }\n",
       "\n",
       "    .dataframe thead th {\n",
       "        text-align: right;\n",
       "    }\n",
       "</style>\n",
       "<table border=\"1\" class=\"dataframe\">\n",
       "  <thead>\n",
       "    <tr style=\"text-align: right;\">\n",
       "      <th></th>\n",
       "      <th>country</th>\n",
       "      <th>city</th>\n",
       "    </tr>\n",
       "  </thead>\n",
       "  <tbody>\n",
       "    <tr>\n",
       "      <th>1</th>\n",
       "      <td>Papua New Guinea</td>\n",
       "      <td>Goroka</td>\n",
       "    </tr>\n",
       "    <tr>\n",
       "      <th>2</th>\n",
       "      <td>Papua New Guinea</td>\n",
       "      <td>Madang</td>\n",
       "    </tr>\n",
       "    <tr>\n",
       "      <th>3</th>\n",
       "      <td>Papua New Guinea</td>\n",
       "      <td>Mount Hagen</td>\n",
       "    </tr>\n",
       "    <tr>\n",
       "      <th>4</th>\n",
       "      <td>Papua New Guinea</td>\n",
       "      <td>Nadzab</td>\n",
       "    </tr>\n",
       "    <tr>\n",
       "      <th>5</th>\n",
       "      <td>Papua New Guinea</td>\n",
       "      <td>Port Moresby</td>\n",
       "    </tr>\n",
       "    <tr>\n",
       "      <th>...</th>\n",
       "      <td>...</td>\n",
       "      <td>...</td>\n",
       "    </tr>\n",
       "    <tr>\n",
       "      <th>14106</th>\n",
       "      <td>Russia</td>\n",
       "      <td>Belaya</td>\n",
       "    </tr>\n",
       "    <tr>\n",
       "      <th>14107</th>\n",
       "      <td>Russia</td>\n",
       "      <td>Ulan Ude</td>\n",
       "    </tr>\n",
       "    <tr>\n",
       "      <th>14108</th>\n",
       "      <td>Russia</td>\n",
       "      <td>Novgorod</td>\n",
       "    </tr>\n",
       "    <tr>\n",
       "      <th>14109</th>\n",
       "      <td>Chile</td>\n",
       "      <td>Copiapo</td>\n",
       "    </tr>\n",
       "    <tr>\n",
       "      <th>14110</th>\n",
       "      <td>Ukraine</td>\n",
       "      <td>Melitopol</td>\n",
       "    </tr>\n",
       "  </tbody>\n",
       "</table>\n",
       "<p>7698 rows × 2 columns</p>\n",
       "</div>"
      ],
      "text/plain": [
       "                country          city\n",
       "1      Papua New Guinea        Goroka\n",
       "2      Papua New Guinea        Madang\n",
       "3      Papua New Guinea   Mount Hagen\n",
       "4      Papua New Guinea        Nadzab\n",
       "5      Papua New Guinea  Port Moresby\n",
       "...                 ...           ...\n",
       "14106            Russia        Belaya\n",
       "14107            Russia      Ulan Ude\n",
       "14108            Russia      Novgorod\n",
       "14109             Chile       Copiapo\n",
       "14110           Ukraine     Melitopol\n",
       "\n",
       "[7698 rows x 2 columns]"
      ]
     },
     "execution_count": 16,
     "metadata": {},
     "output_type": "execute_result"
    }
   ],
   "source": [
    "#Considerando o dataset airports.dat, quantos aeroportos existem na cidade de São Paulo?\n",
    "perg8 = dados[['country', 'city']]\n",
    "perg8"
   ]
  },
  {
   "cell_type": "code",
   "execution_count": 17,
   "metadata": {
    "colab": {
     "base_uri": "https://localhost:8080/"
    },
    "id": "o-wvhCk-H1CM",
    "outputId": "6bdcc385-0bad-461d-8929-5671524caf8f"
   },
   "outputs": [
    {
     "data": {
      "text/plain": [
       "country    3\n",
       "city       3\n",
       "dtype: int64"
      ]
     },
     "execution_count": 17,
     "metadata": {},
     "output_type": "execute_result"
    }
   ],
   "source": [
    "perg8 = perg8.query('`country` == \"Brazil\" and `city` == \"Sao Paulo\"')\n",
    "perg8.count()"
   ]
  },
  {
   "cell_type": "code",
   "execution_count": 18,
   "metadata": {
    "colab": {
     "base_uri": "https://localhost:8080/",
     "height": 423
    },
    "id": "n6QtzvEDJf20",
    "outputId": "cdc6a54d-867d-48f2-9923-11c7e2cb1e1c"
   },
   "outputs": [
    {
     "data": {
      "text/html": [
       "<div>\n",
       "<style scoped>\n",
       "    .dataframe tbody tr th:only-of-type {\n",
       "        vertical-align: middle;\n",
       "    }\n",
       "\n",
       "    .dataframe tbody tr th {\n",
       "        vertical-align: top;\n",
       "    }\n",
       "\n",
       "    .dataframe thead th {\n",
       "        text-align: right;\n",
       "    }\n",
       "</style>\n",
       "<table border=\"1\" class=\"dataframe\">\n",
       "  <thead>\n",
       "    <tr style=\"text-align: right;\">\n",
       "      <th></th>\n",
       "      <th>country</th>\n",
       "    </tr>\n",
       "  </thead>\n",
       "  <tbody>\n",
       "    <tr>\n",
       "      <th>1</th>\n",
       "      <td>Papua New Guinea</td>\n",
       "    </tr>\n",
       "    <tr>\n",
       "      <th>2</th>\n",
       "      <td>Papua New Guinea</td>\n",
       "    </tr>\n",
       "    <tr>\n",
       "      <th>3</th>\n",
       "      <td>Papua New Guinea</td>\n",
       "    </tr>\n",
       "    <tr>\n",
       "      <th>4</th>\n",
       "      <td>Papua New Guinea</td>\n",
       "    </tr>\n",
       "    <tr>\n",
       "      <th>5</th>\n",
       "      <td>Papua New Guinea</td>\n",
       "    </tr>\n",
       "    <tr>\n",
       "      <th>...</th>\n",
       "      <td>...</td>\n",
       "    </tr>\n",
       "    <tr>\n",
       "      <th>14106</th>\n",
       "      <td>Russia</td>\n",
       "    </tr>\n",
       "    <tr>\n",
       "      <th>14107</th>\n",
       "      <td>Russia</td>\n",
       "    </tr>\n",
       "    <tr>\n",
       "      <th>14108</th>\n",
       "      <td>Russia</td>\n",
       "    </tr>\n",
       "    <tr>\n",
       "      <th>14109</th>\n",
       "      <td>Chile</td>\n",
       "    </tr>\n",
       "    <tr>\n",
       "      <th>14110</th>\n",
       "      <td>Ukraine</td>\n",
       "    </tr>\n",
       "  </tbody>\n",
       "</table>\n",
       "<p>7698 rows × 1 columns</p>\n",
       "</div>"
      ],
      "text/plain": [
       "                country\n",
       "1      Papua New Guinea\n",
       "2      Papua New Guinea\n",
       "3      Papua New Guinea\n",
       "4      Papua New Guinea\n",
       "5      Papua New Guinea\n",
       "...                 ...\n",
       "14106            Russia\n",
       "14107            Russia\n",
       "14108            Russia\n",
       "14109             Chile\n",
       "14110           Ukraine\n",
       "\n",
       "[7698 rows x 1 columns]"
      ]
     },
     "execution_count": 18,
     "metadata": {},
     "output_type": "execute_result"
    }
   ],
   "source": [
    "#Considerando o dataset airports.dat, quantos aeroportos o Brasil possui?\n",
    "perg9 = dados[['country']]\n",
    "perg9"
   ]
  },
  {
   "cell_type": "code",
   "execution_count": 19,
   "metadata": {
    "colab": {
     "base_uri": "https://localhost:8080/"
    },
    "id": "1HvRqfRxIpks",
    "outputId": "b7bda94d-6266-436e-c7d7-81a6c3f04c35"
   },
   "outputs": [
    {
     "data": {
      "text/plain": [
       "country    264\n",
       "dtype: int64"
      ]
     },
     "execution_count": 19,
     "metadata": {},
     "output_type": "execute_result"
    }
   ],
   "source": [
    "perg9= perg9.query('`country` == \"Brazil\"')\n",
    "perg9.count()"
   ]
  },
  {
   "cell_type": "code",
   "execution_count": 20,
   "metadata": {
    "colab": {
     "base_uri": "https://localhost:8080/"
    },
    "id": "0JMqWBiYJ8hC",
    "outputId": "8613fa0b-09a3-441b-8bd5-49f1c87cd2d0"
   },
   "outputs": [
    {
     "data": {
      "text/plain": [
       "London            9\n",
       "Columbus          8\n",
       "Georgetown        7\n",
       "San Jose          7\n",
       "Moscow            6\n",
       "                 ..\n",
       "Isla Rey Jorge    1\n",
       "Rancagua          1\n",
       "Vallenar          1\n",
       "Osorno            1\n",
       "Melitopol         1\n",
       "Name: city, Length: 6955, dtype: int64"
      ]
     },
     "execution_count": 20,
     "metadata": {},
     "output_type": "execute_result"
    }
   ],
   "source": [
    "#Considerando o dataset airports.dat, qual cidade apresenta a maior quantidade de aeroportos?\n",
    "dados['city'].value_counts()"
   ]
  },
  {
   "cell_type": "code",
   "execution_count": 21,
   "metadata": {
    "colab": {
     "base_uri": "https://localhost:8080/"
    },
    "id": "GwNXZQI_KkCU",
    "outputId": "ce2c4f9b-04a3-4495-f2eb-8e66739125f2"
   },
   "outputs": [
    {
     "data": {
      "text/plain": [
       "United States    1512\n",
       "Canada            430\n",
       "Australia         334\n",
       "Russia            264\n",
       "Brazil            264\n",
       "                 ... \n",
       "Anguilla            1\n",
       "Isle of Man         1\n",
       "Macau               1\n",
       "Jersey              1\n",
       "Wake Island         1\n",
       "Name: country, Length: 237, dtype: int64"
      ]
     },
     "execution_count": 21,
     "metadata": {},
     "output_type": "execute_result"
    }
   ],
   "source": [
    "#Considerando o dataset airports.dat, qual país apresenta a maior quantidade de aeroportos?\n",
    "dados['country'].value_counts()"
   ]
  },
  {
   "cell_type": "code",
   "execution_count": 22,
   "metadata": {
    "colab": {
     "base_uri": "https://localhost:8080/",
     "height": 423
    },
    "id": "im9PCGmAKzON",
    "outputId": "aaa1dcb6-aa97-4896-f7f0-c52b4ae07855"
   },
   "outputs": [
    {
     "data": {
      "text/html": [
       "<div>\n",
       "<style scoped>\n",
       "    .dataframe tbody tr th:only-of-type {\n",
       "        vertical-align: middle;\n",
       "    }\n",
       "\n",
       "    .dataframe tbody tr th {\n",
       "        vertical-align: top;\n",
       "    }\n",
       "\n",
       "    .dataframe thead th {\n",
       "        text-align: right;\n",
       "    }\n",
       "</style>\n",
       "<table border=\"1\" class=\"dataframe\">\n",
       "  <thead>\n",
       "    <tr style=\"text-align: right;\">\n",
       "      <th></th>\n",
       "      <th>id</th>\n",
       "      <th>altitude</th>\n",
       "    </tr>\n",
       "  </thead>\n",
       "  <tbody>\n",
       "    <tr>\n",
       "      <th>1</th>\n",
       "      <td>Goroka Airport</td>\n",
       "      <td>5282</td>\n",
       "    </tr>\n",
       "    <tr>\n",
       "      <th>2</th>\n",
       "      <td>Madang Airport</td>\n",
       "      <td>20</td>\n",
       "    </tr>\n",
       "    <tr>\n",
       "      <th>3</th>\n",
       "      <td>Mount Hagen Kagamuga Airport</td>\n",
       "      <td>5388</td>\n",
       "    </tr>\n",
       "    <tr>\n",
       "      <th>4</th>\n",
       "      <td>Nadzab Airport</td>\n",
       "      <td>239</td>\n",
       "    </tr>\n",
       "    <tr>\n",
       "      <th>5</th>\n",
       "      <td>Port Moresby Jacksons International Airport</td>\n",
       "      <td>146</td>\n",
       "    </tr>\n",
       "    <tr>\n",
       "      <th>...</th>\n",
       "      <td>...</td>\n",
       "      <td>...</td>\n",
       "    </tr>\n",
       "    <tr>\n",
       "      <th>14106</th>\n",
       "      <td>Rogachyovo Air Base</td>\n",
       "      <td>272</td>\n",
       "    </tr>\n",
       "    <tr>\n",
       "      <th>14107</th>\n",
       "      <td>Ulan-Ude East Airport</td>\n",
       "      <td>1670</td>\n",
       "    </tr>\n",
       "    <tr>\n",
       "      <th>14108</th>\n",
       "      <td>Krechevitsy Air Base</td>\n",
       "      <td>85</td>\n",
       "    </tr>\n",
       "    <tr>\n",
       "      <th>14109</th>\n",
       "      <td>Desierto de Atacama Airport</td>\n",
       "      <td>670</td>\n",
       "    </tr>\n",
       "    <tr>\n",
       "      <th>14110</th>\n",
       "      <td>Melitopol Air Base</td>\n",
       "      <td>0</td>\n",
       "    </tr>\n",
       "  </tbody>\n",
       "</table>\n",
       "<p>7698 rows × 2 columns</p>\n",
       "</div>"
      ],
      "text/plain": [
       "                                                id  altitude\n",
       "1                                   Goroka Airport      5282\n",
       "2                                   Madang Airport        20\n",
       "3                     Mount Hagen Kagamuga Airport      5388\n",
       "4                                   Nadzab Airport       239\n",
       "5      Port Moresby Jacksons International Airport       146\n",
       "...                                            ...       ...\n",
       "14106                          Rogachyovo Air Base       272\n",
       "14107                        Ulan-Ude East Airport      1670\n",
       "14108                         Krechevitsy Air Base        85\n",
       "14109                  Desierto de Atacama Airport       670\n",
       "14110                           Melitopol Air Base         0\n",
       "\n",
       "[7698 rows x 2 columns]"
      ]
     },
     "execution_count": 22,
     "metadata": {},
     "output_type": "execute_result"
    }
   ],
   "source": [
    "# Considerando o dataset airports.dat, qual aeroporto apresenta a maior altitude?\n",
    "perg12 = dados[['id', 'altitude']]\n",
    "perg12"
   ]
  },
  {
   "cell_type": "code",
   "execution_count": 23,
   "metadata": {
    "colab": {
     "base_uri": "https://localhost:8080/"
    },
    "id": "NMzAK5SzK83k",
    "outputId": "57f1e266-a79d-4f7a-f27d-ec3127b6f6ca"
   },
   "outputs": [
    {
     "data": {
      "text/plain": [
       "id          Žilina Airport\n",
       "altitude             14472\n",
       "dtype: object"
      ]
     },
     "execution_count": 23,
     "metadata": {},
     "output_type": "execute_result"
    }
   ],
   "source": [
    "perg12.max()"
   ]
  }
 ],
 "metadata": {
  "colab": {
   "collapsed_sections": [],
   "name": "Airports",
   "provenance": []
  },
  "kernelspec": {
   "display_name": "Python 3 (ipykernel)",
   "language": "python",
   "name": "python3"
  },
  "language_info": {
   "codemirror_mode": {
    "name": "ipython",
    "version": 3
   },
   "file_extension": ".py",
   "mimetype": "text/x-python",
   "name": "python",
   "nbconvert_exporter": "python",
   "pygments_lexer": "ipython3",
   "version": "3.9.12"
  }
 },
 "nbformat": 4,
 "nbformat_minor": 1
}
