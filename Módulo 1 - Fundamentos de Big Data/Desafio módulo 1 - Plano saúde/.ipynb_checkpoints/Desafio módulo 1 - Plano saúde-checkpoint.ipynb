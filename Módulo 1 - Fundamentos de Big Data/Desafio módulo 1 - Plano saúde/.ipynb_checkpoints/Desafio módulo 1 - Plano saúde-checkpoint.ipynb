{
 "cells": [
  {
   "cell_type": "markdown",
   "metadata": {
    "id": "XCVkDr-xWnGJ"
   },
   "source": [
    "# Desafio módulo 1 - Plano saúde\n",
    "<hr>"
   ]
  },
  {
   "cell_type": "markdown",
   "metadata": {
    "id": "1viZ52yTXA3g"
   },
   "source": [
    "### **Enunciado**\n",
    "\n",
    "Uma operadora de seguro de saúde identificou, na sua base de dados de clientes, a relação entre os dados de colesterol e peso com a incidência de problemas que influenciam no desenvolvimento de doenças cardíacas. Pensando no bem-estar dos seus clientes, e ao mesmo tempo pensando em diminuir problemas de internação e tratamento para esses tipos de causa, a operadora quer realizar um estudo para identificar o perfil de pessoas que se encaixam nos grupos de risco e assim realizar medidas preventivas e palestras de cuidados médicos. Para isso, a operadora conta com a equipe de arquiteto de big data para ajudá-los a encontrar o grupo de risco dentre\n",
    "essas pessoas.Através da análise dos dados, os analistas da operadora de seguro de saúde identificaram 4 grandes grupos:\n",
    "\n",
    "1. Alto Risco;\n",
    "2. Risco Moderado alto;\n",
    "3. Risco Moderado baixo;\n",
    "4. Baixo Risco.\n",
    "\n",
    "**Atividades**\n",
    "\n",
    "1. Criar um projeto no Google Drive;\n",
    "2. Coletar e analisar os dados dos seguintes datasets:\n",
    "\n",
    "  a. dados_clientes;\n",
    "\n",
    "  b. estados_brasileiros;\n",
    "\n",
    "  c. idade_clientes.\n",
    "  \n",
    "3. Manipular dados e corrigir erros, se necessário;\n",
    "4. Implementar algoritmo não supervisionado kmeans;\n",
    "5. Criar agrupamento para quatro grupos distintos;\n",
    "6. Responder às questões teóricas e práticas do trabalho."
   ]
  },
  {
   "cell_type": "markdown",
   "metadata": {
    "id": "-e62II0qX9VP"
   },
   "source": [
    "## Importando Bibliotecas"
   ]
  },
  {
   "cell_type": "code",
   "execution_count": 164,
   "metadata": {
    "id": "VKnwcbUiYzz4"
   },
   "outputs": [],
   "source": [
    "# Importando bibliotecas\n",
    "import pandas as pd\n",
    "import numpy as np\n",
    "import matplotlib.pyplot as plt"
   ]
  },
  {
   "cell_type": "markdown",
   "metadata": {
    "id": "WXRNUu5fYCb3"
   },
   "source": [
    "## Coleta de dados"
   ]
  },
  {
   "cell_type": "markdown",
   "metadata": {
    "id": "UM5whX9lYG3H"
   },
   "source": [
    "### Coletando os dados de clientes"
   ]
  },
  {
   "cell_type": "code",
   "execution_count": 86,
   "metadata": {
    "colab": {
     "base_uri": "https://localhost:8080/"
    },
    "id": "3gCCwu5-YtjH",
    "outputId": "e487ecd9-9cc0-428e-ad1d-c417529188fe"
   },
   "outputs": [
    {
     "data": {
      "text/html": [
       "<div>\n",
       "<style scoped>\n",
       "    .dataframe tbody tr th:only-of-type {\n",
       "        vertical-align: middle;\n",
       "    }\n",
       "\n",
       "    .dataframe tbody tr th {\n",
       "        vertical-align: top;\n",
       "    }\n",
       "\n",
       "    .dataframe thead th {\n",
       "        text-align: right;\n",
       "    }\n",
       "</style>\n",
       "<table border=\"1\" class=\"dataframe\">\n",
       "  <thead>\n",
       "    <tr style=\"text-align: right;\">\n",
       "      <th></th>\n",
       "      <th>id_cliente</th>\n",
       "      <th>peso</th>\n",
       "      <th>colesterol</th>\n",
       "      <th>genero</th>\n",
       "      <th>id_estado</th>\n",
       "    </tr>\n",
       "  </thead>\n",
       "  <tbody>\n",
       "    <tr>\n",
       "      <th>0</th>\n",
       "      <td>1</td>\n",
       "      <td>102.0</td>\n",
       "      <td>111</td>\n",
       "      <td>Masculino</td>\n",
       "      <td>23</td>\n",
       "    </tr>\n",
       "    <tr>\n",
       "      <th>1</th>\n",
       "      <td>2</td>\n",
       "      <td>115.0</td>\n",
       "      <td>135</td>\n",
       "      <td>Masculino</td>\n",
       "      <td>7</td>\n",
       "    </tr>\n",
       "    <tr>\n",
       "      <th>2</th>\n",
       "      <td>3</td>\n",
       "      <td>115.0</td>\n",
       "      <td>136</td>\n",
       "      <td>Masculino</td>\n",
       "      <td>4</td>\n",
       "    </tr>\n",
       "    <tr>\n",
       "      <th>3</th>\n",
       "      <td>4</td>\n",
       "      <td>140.0</td>\n",
       "      <td>167</td>\n",
       "      <td>Feminino</td>\n",
       "      <td>24</td>\n",
       "    </tr>\n",
       "    <tr>\n",
       "      <th>4</th>\n",
       "      <td>5</td>\n",
       "      <td>130.0</td>\n",
       "      <td>158</td>\n",
       "      <td>Masculino</td>\n",
       "      <td>26</td>\n",
       "    </tr>\n",
       "  </tbody>\n",
       "</table>\n",
       "</div>"
      ],
      "text/plain": [
       "   id_cliente   peso  colesterol     genero  id_estado\n",
       "0           1  102.0         111  Masculino         23\n",
       "1           2  115.0         135  Masculino          7\n",
       "2           3  115.0         136  Masculino          4\n",
       "3           4  140.0         167   Feminino         24\n",
       "4           5  130.0         158  Masculino         26"
      ]
     },
     "execution_count": 86,
     "metadata": {},
     "output_type": "execute_result"
    }
   ],
   "source": [
    "clientes = pd.read_excel(\"dados_clientes-1.xlsx\")\n",
    "clientes.head()"
   ]
  },
  {
   "cell_type": "markdown",
   "metadata": {
    "id": "s58bwU8jYkwn"
   },
   "source": [
    "### Coletando dados de estados brasileiros"
   ]
  },
  {
   "cell_type": "code",
   "execution_count": 87,
   "metadata": {
    "colab": {
     "base_uri": "https://localhost:8080/"
    },
    "id": "v7KMyfH1ZWIQ",
    "outputId": "68ae897c-d8e5-41ba-dad1-b817b943953a"
   },
   "outputs": [
    {
     "data": {
      "text/html": [
       "<div>\n",
       "<style scoped>\n",
       "    .dataframe tbody tr th:only-of-type {\n",
       "        vertical-align: middle;\n",
       "    }\n",
       "\n",
       "    .dataframe tbody tr th {\n",
       "        vertical-align: top;\n",
       "    }\n",
       "\n",
       "    .dataframe thead th {\n",
       "        text-align: right;\n",
       "    }\n",
       "</style>\n",
       "<table border=\"1\" class=\"dataframe\">\n",
       "  <thead>\n",
       "    <tr style=\"text-align: right;\">\n",
       "      <th></th>\n",
       "      <th>id_estado</th>\n",
       "      <th>estado</th>\n",
       "      <th>sigla_estado</th>\n",
       "      <th>pais</th>\n",
       "    </tr>\n",
       "  </thead>\n",
       "  <tbody>\n",
       "    <tr>\n",
       "      <th>0</th>\n",
       "      <td>1</td>\n",
       "      <td>Acre</td>\n",
       "      <td>ac</td>\n",
       "      <td>Brasil</td>\n",
       "    </tr>\n",
       "    <tr>\n",
       "      <th>1</th>\n",
       "      <td>2</td>\n",
       "      <td>Alagoas</td>\n",
       "      <td>al</td>\n",
       "      <td>Brasil</td>\n",
       "    </tr>\n",
       "    <tr>\n",
       "      <th>2</th>\n",
       "      <td>3</td>\n",
       "      <td>Amapá</td>\n",
       "      <td>ap</td>\n",
       "      <td>Brasil</td>\n",
       "    </tr>\n",
       "    <tr>\n",
       "      <th>3</th>\n",
       "      <td>4</td>\n",
       "      <td>Amazonas</td>\n",
       "      <td>am</td>\n",
       "      <td>Brasil</td>\n",
       "    </tr>\n",
       "    <tr>\n",
       "      <th>4</th>\n",
       "      <td>5</td>\n",
       "      <td>Bahia</td>\n",
       "      <td>ba</td>\n",
       "      <td>Brasil</td>\n",
       "    </tr>\n",
       "  </tbody>\n",
       "</table>\n",
       "</div>"
      ],
      "text/plain": [
       "   id_estado    estado sigla_estado    pais\n",
       "0          1      Acre           ac  Brasil\n",
       "1          2   Alagoas           al  Brasil\n",
       "2          3     Amapá           ap  Brasil\n",
       "3          4  Amazonas           am  Brasil\n",
       "4          5     Bahia           ba  Brasil"
      ]
     },
     "execution_count": 87,
     "metadata": {},
     "output_type": "execute_result"
    }
   ],
   "source": [
    "estados = pd.read_csv('estados_brasileiros-1.csv', sep=';', encoding='latin-1')\n",
    "estados.head()"
   ]
  },
  {
   "cell_type": "markdown",
   "metadata": {
    "id": "Lac1NVn6YpeX"
   },
   "source": [
    "### Coletando idade de clientes"
   ]
  },
  {
   "cell_type": "code",
   "execution_count": 88,
   "metadata": {
    "colab": {
     "base_uri": "https://localhost:8080/"
    },
    "id": "a9YWO8ZTZ4Wo",
    "outputId": "58588db0-bc5f-4d35-f19a-46c8dca94117"
   },
   "outputs": [
    {
     "data": {
      "text/html": [
       "<div>\n",
       "<style scoped>\n",
       "    .dataframe tbody tr th:only-of-type {\n",
       "        vertical-align: middle;\n",
       "    }\n",
       "\n",
       "    .dataframe tbody tr th {\n",
       "        vertical-align: top;\n",
       "    }\n",
       "\n",
       "    .dataframe thead th {\n",
       "        text-align: right;\n",
       "    }\n",
       "</style>\n",
       "<table border=\"1\" class=\"dataframe\">\n",
       "  <thead>\n",
       "    <tr style=\"text-align: right;\">\n",
       "      <th></th>\n",
       "      <th>id_cliente</th>\n",
       "      <th>idade</th>\n",
       "    </tr>\n",
       "  </thead>\n",
       "  <tbody>\n",
       "    <tr>\n",
       "      <th>0</th>\n",
       "      <td>1</td>\n",
       "      <td>17</td>\n",
       "    </tr>\n",
       "    <tr>\n",
       "      <th>1</th>\n",
       "      <td>2</td>\n",
       "      <td>28</td>\n",
       "    </tr>\n",
       "    <tr>\n",
       "      <th>2</th>\n",
       "      <td>3</td>\n",
       "      <td>62</td>\n",
       "    </tr>\n",
       "    <tr>\n",
       "      <th>3</th>\n",
       "      <td>4</td>\n",
       "      <td>55</td>\n",
       "    </tr>\n",
       "    <tr>\n",
       "      <th>4</th>\n",
       "      <td>5</td>\n",
       "      <td>44</td>\n",
       "    </tr>\n",
       "    <tr>\n",
       "      <th>...</th>\n",
       "      <td>...</td>\n",
       "      <td>...</td>\n",
       "    </tr>\n",
       "    <tr>\n",
       "      <th>542</th>\n",
       "      <td>543</td>\n",
       "      <td>20</td>\n",
       "    </tr>\n",
       "    <tr>\n",
       "      <th>543</th>\n",
       "      <td>544</td>\n",
       "      <td>66</td>\n",
       "    </tr>\n",
       "    <tr>\n",
       "      <th>544</th>\n",
       "      <td>545</td>\n",
       "      <td>36</td>\n",
       "    </tr>\n",
       "    <tr>\n",
       "      <th>545</th>\n",
       "      <td>546</td>\n",
       "      <td>57</td>\n",
       "    </tr>\n",
       "    <tr>\n",
       "      <th>546</th>\n",
       "      <td>547</td>\n",
       "      <td>61</td>\n",
       "    </tr>\n",
       "  </tbody>\n",
       "</table>\n",
       "<p>547 rows × 2 columns</p>\n",
       "</div>"
      ],
      "text/plain": [
       "     id_cliente  idade\n",
       "0             1     17\n",
       "1             2     28\n",
       "2             3     62\n",
       "3             4     55\n",
       "4             5     44\n",
       "..          ...    ...\n",
       "542         543     20\n",
       "543         544     66\n",
       "544         545     36\n",
       "545         546     57\n",
       "546         547     61\n",
       "\n",
       "[547 rows x 2 columns]"
      ]
     },
     "execution_count": 88,
     "metadata": {},
     "output_type": "execute_result"
    }
   ],
   "source": [
    "idade = pd.read_csv('idade_clientes-1.csv', sep=';')\n",
    "idade"
   ]
  },
  {
   "cell_type": "markdown",
   "metadata": {
    "id": "RxGyFDLiaOr_"
   },
   "source": [
    "## Preparando dados"
   ]
  },
  {
   "cell_type": "markdown",
   "metadata": {
    "id": "ewvxulKXa-eP"
   },
   "source": [
    "### Analisando as variaveis do banco"
   ]
  },
  {
   "cell_type": "code",
   "execution_count": 89,
   "metadata": {
    "colab": {
     "base_uri": "https://localhost:8080/"
    },
    "id": "nB3KsI-5aQ2V",
    "outputId": "1c4f3e31-3ce3-4064-f061-004beeae9dea"
   },
   "outputs": [
    {
     "name": "stdout",
     "output_type": "stream",
     "text": [
      "<class 'pandas.core.frame.DataFrame'>\n",
      "RangeIndex: 547 entries, 0 to 546\n",
      "Data columns (total 5 columns):\n",
      " #   Column      Non-Null Count  Dtype  \n",
      "---  ------      --------------  -----  \n",
      " 0   id_cliente  547 non-null    int64  \n",
      " 1   peso        542 non-null    float64\n",
      " 2   colesterol  547 non-null    int64  \n",
      " 3   genero      547 non-null    object \n",
      " 4   id_estado   547 non-null    int64  \n",
      "dtypes: float64(1), int64(3), object(1)\n",
      "memory usage: 21.5+ KB\n"
     ]
    }
   ],
   "source": [
    "# analisando dados de clientes\n",
    "clientes.info()"
   ]
  },
  {
   "cell_type": "code",
   "execution_count": 90,
   "metadata": {
    "colab": {
     "base_uri": "https://localhost:8080/",
     "height": 300
    },
    "id": "BC9MaOjwab3f",
    "outputId": "c42c4197-e0d6-40f9-9967-7eb30cde3b4f"
   },
   "outputs": [
    {
     "data": {
      "text/html": [
       "<div>\n",
       "<style scoped>\n",
       "    .dataframe tbody tr th:only-of-type {\n",
       "        vertical-align: middle;\n",
       "    }\n",
       "\n",
       "    .dataframe tbody tr th {\n",
       "        vertical-align: top;\n",
       "    }\n",
       "\n",
       "    .dataframe thead th {\n",
       "        text-align: right;\n",
       "    }\n",
       "</style>\n",
       "<table border=\"1\" class=\"dataframe\">\n",
       "  <thead>\n",
       "    <tr style=\"text-align: right;\">\n",
       "      <th></th>\n",
       "      <th>id_cliente</th>\n",
       "      <th>peso</th>\n",
       "      <th>colesterol</th>\n",
       "      <th>id_estado</th>\n",
       "    </tr>\n",
       "  </thead>\n",
       "  <tbody>\n",
       "    <tr>\n",
       "      <th>count</th>\n",
       "      <td>547.00000</td>\n",
       "      <td>542.000000</td>\n",
       "      <td>547.000000</td>\n",
       "      <td>547.000000</td>\n",
       "    </tr>\n",
       "    <tr>\n",
       "      <th>mean</th>\n",
       "      <td>274.00000</td>\n",
       "      <td>143.440959</td>\n",
       "      <td>170.433272</td>\n",
       "      <td>13.833638</td>\n",
       "    </tr>\n",
       "    <tr>\n",
       "      <th>std</th>\n",
       "      <td>158.04957</td>\n",
       "      <td>30.836868</td>\n",
       "      <td>39.147189</td>\n",
       "      <td>7.593117</td>\n",
       "    </tr>\n",
       "    <tr>\n",
       "      <th>min</th>\n",
       "      <td>1.00000</td>\n",
       "      <td>95.000000</td>\n",
       "      <td>102.000000</td>\n",
       "      <td>1.000000</td>\n",
       "    </tr>\n",
       "    <tr>\n",
       "      <th>25%</th>\n",
       "      <td>137.50000</td>\n",
       "      <td>116.000000</td>\n",
       "      <td>136.000000</td>\n",
       "      <td>7.000000</td>\n",
       "    </tr>\n",
       "    <tr>\n",
       "      <th>50%</th>\n",
       "      <td>274.00000</td>\n",
       "      <td>140.000000</td>\n",
       "      <td>169.000000</td>\n",
       "      <td>13.000000</td>\n",
       "    </tr>\n",
       "    <tr>\n",
       "      <th>75%</th>\n",
       "      <td>410.50000</td>\n",
       "      <td>171.000000</td>\n",
       "      <td>208.000000</td>\n",
       "      <td>20.000000</td>\n",
       "    </tr>\n",
       "    <tr>\n",
       "      <th>max</th>\n",
       "      <td>547.00000</td>\n",
       "      <td>203.000000</td>\n",
       "      <td>235.000000</td>\n",
       "      <td>27.000000</td>\n",
       "    </tr>\n",
       "  </tbody>\n",
       "</table>\n",
       "</div>"
      ],
      "text/plain": [
       "       id_cliente        peso  colesterol   id_estado\n",
       "count   547.00000  542.000000  547.000000  547.000000\n",
       "mean    274.00000  143.440959  170.433272   13.833638\n",
       "std     158.04957   30.836868   39.147189    7.593117\n",
       "min       1.00000   95.000000  102.000000    1.000000\n",
       "25%     137.50000  116.000000  136.000000    7.000000\n",
       "50%     274.00000  140.000000  169.000000   13.000000\n",
       "75%     410.50000  171.000000  208.000000   20.000000\n",
       "max     547.00000  203.000000  235.000000   27.000000"
      ]
     },
     "execution_count": 90,
     "metadata": {},
     "output_type": "execute_result"
    }
   ],
   "source": [
    "# dados estatisticos de clientes\n",
    "clientes.describe()"
   ]
  },
  {
   "cell_type": "code",
   "execution_count": 91,
   "metadata": {
    "colab": {
     "base_uri": "https://localhost:8080/"
    },
    "id": "NmJDir_-anFY",
    "outputId": "d62a6d9f-14fa-4105-a9c6-6e628a2a9ea4"
   },
   "outputs": [
    {
     "name": "stdout",
     "output_type": "stream",
     "text": [
      "<class 'pandas.core.frame.DataFrame'>\n",
      "RangeIndex: 27 entries, 0 to 26\n",
      "Data columns (total 4 columns):\n",
      " #   Column        Non-Null Count  Dtype \n",
      "---  ------        --------------  ----- \n",
      " 0   id_estado     27 non-null     int64 \n",
      " 1   estado        27 non-null     object\n",
      " 2   sigla_estado  27 non-null     object\n",
      " 3   pais          25 non-null     object\n",
      "dtypes: int64(1), object(3)\n",
      "memory usage: 992.0+ bytes\n"
     ]
    }
   ],
   "source": [
    "# analisando dados de estados\n",
    "estados.info()"
   ]
  },
  {
   "cell_type": "code",
   "execution_count": 92,
   "metadata": {
    "colab": {
     "base_uri": "https://localhost:8080/",
     "height": 300
    },
    "id": "huQOUN6fbPEQ",
    "outputId": "7058fecc-9dcf-4d38-dcc6-8bf0abb656cd"
   },
   "outputs": [
    {
     "data": {
      "text/html": [
       "<div>\n",
       "<style scoped>\n",
       "    .dataframe tbody tr th:only-of-type {\n",
       "        vertical-align: middle;\n",
       "    }\n",
       "\n",
       "    .dataframe tbody tr th {\n",
       "        vertical-align: top;\n",
       "    }\n",
       "\n",
       "    .dataframe thead th {\n",
       "        text-align: right;\n",
       "    }\n",
       "</style>\n",
       "<table border=\"1\" class=\"dataframe\">\n",
       "  <thead>\n",
       "    <tr style=\"text-align: right;\">\n",
       "      <th></th>\n",
       "      <th>id_estado</th>\n",
       "    </tr>\n",
       "  </thead>\n",
       "  <tbody>\n",
       "    <tr>\n",
       "      <th>count</th>\n",
       "      <td>27.000000</td>\n",
       "    </tr>\n",
       "    <tr>\n",
       "      <th>mean</th>\n",
       "      <td>14.000000</td>\n",
       "    </tr>\n",
       "    <tr>\n",
       "      <th>std</th>\n",
       "      <td>7.937254</td>\n",
       "    </tr>\n",
       "    <tr>\n",
       "      <th>min</th>\n",
       "      <td>1.000000</td>\n",
       "    </tr>\n",
       "    <tr>\n",
       "      <th>25%</th>\n",
       "      <td>7.500000</td>\n",
       "    </tr>\n",
       "    <tr>\n",
       "      <th>50%</th>\n",
       "      <td>14.000000</td>\n",
       "    </tr>\n",
       "    <tr>\n",
       "      <th>75%</th>\n",
       "      <td>20.500000</td>\n",
       "    </tr>\n",
       "    <tr>\n",
       "      <th>max</th>\n",
       "      <td>27.000000</td>\n",
       "    </tr>\n",
       "  </tbody>\n",
       "</table>\n",
       "</div>"
      ],
      "text/plain": [
       "       id_estado\n",
       "count  27.000000\n",
       "mean   14.000000\n",
       "std     7.937254\n",
       "min     1.000000\n",
       "25%     7.500000\n",
       "50%    14.000000\n",
       "75%    20.500000\n",
       "max    27.000000"
      ]
     },
     "execution_count": 92,
     "metadata": {},
     "output_type": "execute_result"
    }
   ],
   "source": [
    "# dados estatisticos de estados\n",
    "estados.describe()"
   ]
  },
  {
   "cell_type": "code",
   "execution_count": 93,
   "metadata": {
    "colab": {
     "base_uri": "https://localhost:8080/"
    },
    "id": "u0MCPibnbSAf",
    "outputId": "41f0bc5e-f002-42e1-a79f-2943c5053cb2"
   },
   "outputs": [
    {
     "name": "stdout",
     "output_type": "stream",
     "text": [
      "<class 'pandas.core.frame.DataFrame'>\n",
      "RangeIndex: 547 entries, 0 to 546\n",
      "Data columns (total 2 columns):\n",
      " #   Column      Non-Null Count  Dtype\n",
      "---  ------      --------------  -----\n",
      " 0   id_cliente  547 non-null    int64\n",
      " 1   idade       547 non-null    int64\n",
      "dtypes: int64(2)\n",
      "memory usage: 8.7 KB\n"
     ]
    }
   ],
   "source": [
    "# analisando dados de idades\n",
    "idade.info()"
   ]
  },
  {
   "cell_type": "code",
   "execution_count": 94,
   "metadata": {
    "colab": {
     "base_uri": "https://localhost:8080/",
     "height": 300
    },
    "id": "gSJXBjuVbiRQ",
    "outputId": "c246b5fa-2625-4f76-a7e7-8c5295ffe2b0"
   },
   "outputs": [
    {
     "data": {
      "text/html": [
       "<div>\n",
       "<style scoped>\n",
       "    .dataframe tbody tr th:only-of-type {\n",
       "        vertical-align: middle;\n",
       "    }\n",
       "\n",
       "    .dataframe tbody tr th {\n",
       "        vertical-align: top;\n",
       "    }\n",
       "\n",
       "    .dataframe thead th {\n",
       "        text-align: right;\n",
       "    }\n",
       "</style>\n",
       "<table border=\"1\" class=\"dataframe\">\n",
       "  <thead>\n",
       "    <tr style=\"text-align: right;\">\n",
       "      <th></th>\n",
       "      <th>id_cliente</th>\n",
       "      <th>idade</th>\n",
       "    </tr>\n",
       "  </thead>\n",
       "  <tbody>\n",
       "    <tr>\n",
       "      <th>count</th>\n",
       "      <td>547.00000</td>\n",
       "      <td>547.000000</td>\n",
       "    </tr>\n",
       "    <tr>\n",
       "      <th>mean</th>\n",
       "      <td>274.00000</td>\n",
       "      <td>42.791590</td>\n",
       "    </tr>\n",
       "    <tr>\n",
       "      <th>std</th>\n",
       "      <td>158.04957</td>\n",
       "      <td>15.160209</td>\n",
       "    </tr>\n",
       "    <tr>\n",
       "      <th>min</th>\n",
       "      <td>1.00000</td>\n",
       "      <td>16.000000</td>\n",
       "    </tr>\n",
       "    <tr>\n",
       "      <th>25%</th>\n",
       "      <td>137.50000</td>\n",
       "      <td>30.000000</td>\n",
       "    </tr>\n",
       "    <tr>\n",
       "      <th>50%</th>\n",
       "      <td>274.00000</td>\n",
       "      <td>42.000000</td>\n",
       "    </tr>\n",
       "    <tr>\n",
       "      <th>75%</th>\n",
       "      <td>410.50000</td>\n",
       "      <td>55.000000</td>\n",
       "    </tr>\n",
       "    <tr>\n",
       "      <th>max</th>\n",
       "      <td>547.00000</td>\n",
       "      <td>70.000000</td>\n",
       "    </tr>\n",
       "  </tbody>\n",
       "</table>\n",
       "</div>"
      ],
      "text/plain": [
       "       id_cliente       idade\n",
       "count   547.00000  547.000000\n",
       "mean    274.00000   42.791590\n",
       "std     158.04957   15.160209\n",
       "min       1.00000   16.000000\n",
       "25%     137.50000   30.000000\n",
       "50%     274.00000   42.000000\n",
       "75%     410.50000   55.000000\n",
       "max     547.00000   70.000000"
      ]
     },
     "execution_count": 94,
     "metadata": {},
     "output_type": "execute_result"
    }
   ],
   "source": [
    "# dados estatisticos de idade\n",
    "idade.describe()"
   ]
  },
  {
   "cell_type": "markdown",
   "metadata": {
    "id": "tBA5-sEfchvP"
   },
   "source": [
    "### Analisando valores ausentes na base"
   ]
  },
  {
   "cell_type": "code",
   "execution_count": 95,
   "metadata": {
    "colab": {
     "base_uri": "https://localhost:8080/"
    },
    "id": "ljE9fz1acr5H",
    "outputId": "fc06a24c-600c-48e0-ecc8-2e6f71e55cd7"
   },
   "outputs": [
    {
     "data": {
      "text/plain": [
       "id_cliente    0\n",
       "peso          5\n",
       "colesterol    0\n",
       "genero        0\n",
       "id_estado     0\n",
       "dtype: int64"
      ]
     },
     "execution_count": 95,
     "metadata": {},
     "output_type": "execute_result"
    }
   ],
   "source": [
    "# base clientes\n",
    "clientes.isna().sum()"
   ]
  },
  {
   "cell_type": "code",
   "execution_count": 96,
   "metadata": {
    "colab": {
     "base_uri": "https://localhost:8080/"
    },
    "id": "WN4Cx66nboOn",
    "outputId": "62bc9d3c-475e-4e74-fe67-4fe7657f7511"
   },
   "outputs": [
    {
     "data": {
      "text/plain": [
       "id_estado       0\n",
       "estado          0\n",
       "sigla_estado    0\n",
       "pais            2\n",
       "dtype: int64"
      ]
     },
     "execution_count": 96,
     "metadata": {},
     "output_type": "execute_result"
    }
   ],
   "source": [
    "# base estados\n",
    "estados.isna().sum()"
   ]
  },
  {
   "cell_type": "code",
   "execution_count": 97,
   "metadata": {
    "colab": {
     "base_uri": "https://localhost:8080/"
    },
    "id": "y5PtuwKldIIY",
    "outputId": "d5059a57-b7e1-403b-ab83-df1215b17820"
   },
   "outputs": [
    {
     "data": {
      "text/plain": [
       "id_cliente    0\n",
       "idade         0\n",
       "dtype: int64"
      ]
     },
     "execution_count": 97,
     "metadata": {},
     "output_type": "execute_result"
    }
   ],
   "source": [
    "# base idade\n",
    "idade.isna().sum()"
   ]
  },
  {
   "cell_type": "markdown",
   "metadata": {
    "id": "7Vzltf0cbqhf"
   },
   "source": [
    "Checklist:\n",
    "\n",
    "1. Clientes: 5 valores da coluna ausentes\n",
    "2. Estados: 2 valores da coluna pais ausentes\n",
    "3. Idade: OK, não tem nenhum valor ausente\n",
    "\n",
    "Total: 7 registros ausentes"
   ]
  },
  {
   "cell_type": "code",
   "execution_count": 98,
   "metadata": {
    "colab": {
     "base_uri": "https://localhost:8080/",
     "height": 206
    },
    "id": "GxI3LK7rdKbY",
    "outputId": "c919d97c-7f68-4d1c-9b03-56389d7752bb"
   },
   "outputs": [
    {
     "data": {
      "text/html": [
       "<div>\n",
       "<style scoped>\n",
       "    .dataframe tbody tr th:only-of-type {\n",
       "        vertical-align: middle;\n",
       "    }\n",
       "\n",
       "    .dataframe tbody tr th {\n",
       "        vertical-align: top;\n",
       "    }\n",
       "\n",
       "    .dataframe thead th {\n",
       "        text-align: right;\n",
       "    }\n",
       "</style>\n",
       "<table border=\"1\" class=\"dataframe\">\n",
       "  <thead>\n",
       "    <tr style=\"text-align: right;\">\n",
       "      <th></th>\n",
       "      <th>id_cliente</th>\n",
       "      <th>peso</th>\n",
       "      <th>colesterol</th>\n",
       "      <th>genero</th>\n",
       "      <th>id_estado</th>\n",
       "    </tr>\n",
       "  </thead>\n",
       "  <tbody>\n",
       "    <tr>\n",
       "      <th>63</th>\n",
       "      <td>64</td>\n",
       "      <td>NaN</td>\n",
       "      <td>211</td>\n",
       "      <td>Masculino</td>\n",
       "      <td>12</td>\n",
       "    </tr>\n",
       "    <tr>\n",
       "      <th>101</th>\n",
       "      <td>102</td>\n",
       "      <td>NaN</td>\n",
       "      <td>230</td>\n",
       "      <td>Feminino</td>\n",
       "      <td>24</td>\n",
       "    </tr>\n",
       "    <tr>\n",
       "      <th>146</th>\n",
       "      <td>147</td>\n",
       "      <td>NaN</td>\n",
       "      <td>171</td>\n",
       "      <td>Masculino</td>\n",
       "      <td>23</td>\n",
       "    </tr>\n",
       "    <tr>\n",
       "      <th>195</th>\n",
       "      <td>196</td>\n",
       "      <td>NaN</td>\n",
       "      <td>143</td>\n",
       "      <td>Feminino</td>\n",
       "      <td>15</td>\n",
       "    </tr>\n",
       "    <tr>\n",
       "      <th>215</th>\n",
       "      <td>216</td>\n",
       "      <td>NaN</td>\n",
       "      <td>180</td>\n",
       "      <td>Masculino</td>\n",
       "      <td>13</td>\n",
       "    </tr>\n",
       "  </tbody>\n",
       "</table>\n",
       "</div>"
      ],
      "text/plain": [
       "     id_cliente  peso  colesterol     genero  id_estado\n",
       "63           64   NaN         211  Masculino         12\n",
       "101         102   NaN         230   Feminino         24\n",
       "146         147   NaN         171  Masculino         23\n",
       "195         196   NaN         143   Feminino         15\n",
       "215         216   NaN         180  Masculino         13"
      ]
     },
     "execution_count": 98,
     "metadata": {},
     "output_type": "execute_result"
    }
   ],
   "source": [
    "# olhando os valores ausentes de cliente \n",
    "clientes.loc[clientes['peso'].isnull()]"
   ]
  },
  {
   "cell_type": "code",
   "execution_count": 99,
   "metadata": {
    "colab": {
     "base_uri": "https://localhost:8080/",
     "height": 112
    },
    "id": "JqXfm-ThdksQ",
    "outputId": "5f60b444-bc37-4818-df05-36636b2d30bb"
   },
   "outputs": [
    {
     "data": {
      "text/html": [
       "<div>\n",
       "<style scoped>\n",
       "    .dataframe tbody tr th:only-of-type {\n",
       "        vertical-align: middle;\n",
       "    }\n",
       "\n",
       "    .dataframe tbody tr th {\n",
       "        vertical-align: top;\n",
       "    }\n",
       "\n",
       "    .dataframe thead th {\n",
       "        text-align: right;\n",
       "    }\n",
       "</style>\n",
       "<table border=\"1\" class=\"dataframe\">\n",
       "  <thead>\n",
       "    <tr style=\"text-align: right;\">\n",
       "      <th></th>\n",
       "      <th>id_estado</th>\n",
       "      <th>estado</th>\n",
       "      <th>sigla_estado</th>\n",
       "      <th>pais</th>\n",
       "    </tr>\n",
       "  </thead>\n",
       "  <tbody>\n",
       "    <tr>\n",
       "      <th>17</th>\n",
       "      <td>18</td>\n",
       "      <td>Piauí</td>\n",
       "      <td>pi</td>\n",
       "      <td>NaN</td>\n",
       "    </tr>\n",
       "    <tr>\n",
       "      <th>23</th>\n",
       "      <td>24</td>\n",
       "      <td>Santa Catarina</td>\n",
       "      <td>sc</td>\n",
       "      <td>NaN</td>\n",
       "    </tr>\n",
       "  </tbody>\n",
       "</table>\n",
       "</div>"
      ],
      "text/plain": [
       "    id_estado          estado sigla_estado pais\n",
       "17         18           Piauí           pi  NaN\n",
       "23         24  Santa Catarina           sc  NaN"
      ]
     },
     "execution_count": 99,
     "metadata": {},
     "output_type": "execute_result"
    }
   ],
   "source": [
    "# olhando os valores ausentes de pais\n",
    "estados.loc[estados['pais'].isnull()]"
   ]
  },
  {
   "cell_type": "markdown",
   "metadata": {
    "id": "xqr_baadeBP_"
   },
   "source": [
    "### Eliminando registros da base clientes"
   ]
  },
  {
   "cell_type": "code",
   "execution_count": 100,
   "metadata": {
    "colab": {
     "base_uri": "https://localhost:8080/",
     "height": 206
    },
    "id": "PGfbF1IAdzb4",
    "outputId": "10bbe7e4-f386-4e67-b9eb-8ce4e66a5236"
   },
   "outputs": [
    {
     "data": {
      "text/html": [
       "<div>\n",
       "<style scoped>\n",
       "    .dataframe tbody tr th:only-of-type {\n",
       "        vertical-align: middle;\n",
       "    }\n",
       "\n",
       "    .dataframe tbody tr th {\n",
       "        vertical-align: top;\n",
       "    }\n",
       "\n",
       "    .dataframe thead th {\n",
       "        text-align: right;\n",
       "    }\n",
       "</style>\n",
       "<table border=\"1\" class=\"dataframe\">\n",
       "  <thead>\n",
       "    <tr style=\"text-align: right;\">\n",
       "      <th></th>\n",
       "      <th>id_cliente</th>\n",
       "      <th>peso</th>\n",
       "      <th>colesterol</th>\n",
       "      <th>genero</th>\n",
       "      <th>id_estado</th>\n",
       "    </tr>\n",
       "  </thead>\n",
       "  <tbody>\n",
       "    <tr>\n",
       "      <th>0</th>\n",
       "      <td>1</td>\n",
       "      <td>102.0</td>\n",
       "      <td>111</td>\n",
       "      <td>Masculino</td>\n",
       "      <td>23</td>\n",
       "    </tr>\n",
       "    <tr>\n",
       "      <th>1</th>\n",
       "      <td>2</td>\n",
       "      <td>115.0</td>\n",
       "      <td>135</td>\n",
       "      <td>Masculino</td>\n",
       "      <td>7</td>\n",
       "    </tr>\n",
       "    <tr>\n",
       "      <th>2</th>\n",
       "      <td>3</td>\n",
       "      <td>115.0</td>\n",
       "      <td>136</td>\n",
       "      <td>Masculino</td>\n",
       "      <td>4</td>\n",
       "    </tr>\n",
       "    <tr>\n",
       "      <th>3</th>\n",
       "      <td>4</td>\n",
       "      <td>140.0</td>\n",
       "      <td>167</td>\n",
       "      <td>Feminino</td>\n",
       "      <td>24</td>\n",
       "    </tr>\n",
       "    <tr>\n",
       "      <th>4</th>\n",
       "      <td>5</td>\n",
       "      <td>130.0</td>\n",
       "      <td>158</td>\n",
       "      <td>Masculino</td>\n",
       "      <td>26</td>\n",
       "    </tr>\n",
       "  </tbody>\n",
       "</table>\n",
       "</div>"
      ],
      "text/plain": [
       "   id_cliente   peso  colesterol     genero  id_estado\n",
       "0           1  102.0         111  Masculino         23\n",
       "1           2  115.0         135  Masculino          7\n",
       "2           3  115.0         136  Masculino          4\n",
       "3           4  140.0         167   Feminino         24\n",
       "4           5  130.0         158  Masculino         26"
      ]
     },
     "execution_count": 100,
     "metadata": {},
     "output_type": "execute_result"
    }
   ],
   "source": [
    "# removendo registros da coluna peso\n",
    "clientes.dropna(subset=['peso'], inplace=True)\n",
    "clientes.head()"
   ]
  },
  {
   "cell_type": "code",
   "execution_count": 101,
   "metadata": {
    "colab": {
     "base_uri": "https://localhost:8080/"
    },
    "id": "OOrztEo8ezMu",
    "outputId": "17c6b15e-5fe4-497b-a988-2f863cf612b2"
   },
   "outputs": [
    {
     "data": {
      "text/plain": [
       "id_cliente    0\n",
       "peso          0\n",
       "colesterol    0\n",
       "genero        0\n",
       "id_estado     0\n",
       "dtype: int64"
      ]
     },
     "execution_count": 101,
     "metadata": {},
     "output_type": "execute_result"
    }
   ],
   "source": [
    "# verificando novamente os valores ausentes\n",
    "clientes.isna().sum()"
   ]
  },
  {
   "cell_type": "code",
   "execution_count": 102,
   "metadata": {
    "colab": {
     "base_uri": "https://localhost:8080/"
    },
    "id": "XMxbFnFugByG",
    "outputId": "baf079b0-30bc-4f70-f7c6-62b28a1aebc7"
   },
   "outputs": [
    {
     "data": {
      "text/plain": [
       "id_cliente    542\n",
       "peso          542\n",
       "colesterol    542\n",
       "genero        542\n",
       "id_estado     542\n",
       "dtype: int64"
      ]
     },
     "execution_count": 102,
     "metadata": {},
     "output_type": "execute_result"
    }
   ],
   "source": [
    "# contando os registros \n",
    "clientes.count()"
   ]
  },
  {
   "cell_type": "code",
   "execution_count": 103,
   "metadata": {
    "colab": {
     "base_uri": "https://localhost:8080/",
     "height": 300
    },
    "id": "PmcIYcwfgNKG",
    "outputId": "866944b5-097e-431b-dcd1-6cd04c52af85"
   },
   "outputs": [
    {
     "data": {
      "text/html": [
       "<div>\n",
       "<style scoped>\n",
       "    .dataframe tbody tr th:only-of-type {\n",
       "        vertical-align: middle;\n",
       "    }\n",
       "\n",
       "    .dataframe tbody tr th {\n",
       "        vertical-align: top;\n",
       "    }\n",
       "\n",
       "    .dataframe thead th {\n",
       "        text-align: right;\n",
       "    }\n",
       "</style>\n",
       "<table border=\"1\" class=\"dataframe\">\n",
       "  <thead>\n",
       "    <tr style=\"text-align: right;\">\n",
       "      <th></th>\n",
       "      <th>id_cliente</th>\n",
       "      <th>peso</th>\n",
       "      <th>colesterol</th>\n",
       "      <th>id_estado</th>\n",
       "    </tr>\n",
       "  </thead>\n",
       "  <tbody>\n",
       "    <tr>\n",
       "      <th>count</th>\n",
       "      <td>542.000000</td>\n",
       "      <td>542.000000</td>\n",
       "      <td>542.000000</td>\n",
       "      <td>542.000000</td>\n",
       "    </tr>\n",
       "    <tr>\n",
       "      <th>mean</th>\n",
       "      <td>275.190037</td>\n",
       "      <td>143.440959</td>\n",
       "      <td>170.280443</td>\n",
       "      <td>13.800738</td>\n",
       "    </tr>\n",
       "    <tr>\n",
       "      <th>std</th>\n",
       "      <td>158.194932</td>\n",
       "      <td>30.836868</td>\n",
       "      <td>39.185218</td>\n",
       "      <td>7.604659</td>\n",
       "    </tr>\n",
       "    <tr>\n",
       "      <th>min</th>\n",
       "      <td>1.000000</td>\n",
       "      <td>95.000000</td>\n",
       "      <td>102.000000</td>\n",
       "      <td>1.000000</td>\n",
       "    </tr>\n",
       "    <tr>\n",
       "      <th>25%</th>\n",
       "      <td>138.250000</td>\n",
       "      <td>116.000000</td>\n",
       "      <td>136.000000</td>\n",
       "      <td>7.000000</td>\n",
       "    </tr>\n",
       "    <tr>\n",
       "      <th>50%</th>\n",
       "      <td>276.500000</td>\n",
       "      <td>140.000000</td>\n",
       "      <td>169.000000</td>\n",
       "      <td>13.000000</td>\n",
       "    </tr>\n",
       "    <tr>\n",
       "      <th>75%</th>\n",
       "      <td>411.750000</td>\n",
       "      <td>171.000000</td>\n",
       "      <td>207.750000</td>\n",
       "      <td>20.000000</td>\n",
       "    </tr>\n",
       "    <tr>\n",
       "      <th>max</th>\n",
       "      <td>547.000000</td>\n",
       "      <td>203.000000</td>\n",
       "      <td>235.000000</td>\n",
       "      <td>27.000000</td>\n",
       "    </tr>\n",
       "  </tbody>\n",
       "</table>\n",
       "</div>"
      ],
      "text/plain": [
       "       id_cliente        peso  colesterol   id_estado\n",
       "count  542.000000  542.000000  542.000000  542.000000\n",
       "mean   275.190037  143.440959  170.280443   13.800738\n",
       "std    158.194932   30.836868   39.185218    7.604659\n",
       "min      1.000000   95.000000  102.000000    1.000000\n",
       "25%    138.250000  116.000000  136.000000    7.000000\n",
       "50%    276.500000  140.000000  169.000000   13.000000\n",
       "75%    411.750000  171.000000  207.750000   20.000000\n",
       "max    547.000000  203.000000  235.000000   27.000000"
      ]
     },
     "execution_count": 103,
     "metadata": {},
     "output_type": "execute_result"
    }
   ],
   "source": [
    "clientes.describe()"
   ]
  },
  {
   "cell_type": "markdown",
   "metadata": {
    "id": "N_Arr999giQC"
   },
   "source": [
    "### Calculando media e mediana de peso clientes"
   ]
  },
  {
   "cell_type": "code",
   "execution_count": 104,
   "metadata": {
    "colab": {
     "base_uri": "https://localhost:8080/"
    },
    "id": "rNn_BEuGgfSa",
    "outputId": "94d474af-1536-455e-d371-c87ec6ba0aef"
   },
   "outputs": [
    {
     "name": "stdout",
     "output_type": "stream",
     "text": [
      "O valor da media dos pesos é: 143.4409594095941\n",
      "O valor da mediana é: 140.0\n"
     ]
    }
   ],
   "source": [
    "media = clientes.peso.mean()\n",
    "mediana = clientes.peso.median()\n",
    "\n",
    "print(f\"O valor da media dos pesos é: {media}\\nO valor da mediana é: {mediana}\")"
   ]
  },
  {
   "cell_type": "code",
   "execution_count": 105,
   "metadata": {
    "colab": {
     "base_uri": "https://localhost:8080/",
     "height": 81
    },
    "id": "FXXJu-VDiK02",
    "outputId": "ab6a6cc4-d766-4555-b1b6-98ddf0276fd2"
   },
   "outputs": [
    {
     "data": {
      "text/html": [
       "<div>\n",
       "<style scoped>\n",
       "    .dataframe tbody tr th:only-of-type {\n",
       "        vertical-align: middle;\n",
       "    }\n",
       "\n",
       "    .dataframe tbody tr th {\n",
       "        vertical-align: top;\n",
       "    }\n",
       "\n",
       "    .dataframe thead th {\n",
       "        text-align: right;\n",
       "    }\n",
       "</style>\n",
       "<table border=\"1\" class=\"dataframe\">\n",
       "  <thead>\n",
       "    <tr style=\"text-align: right;\">\n",
       "      <th></th>\n",
       "      <th>id_cliente</th>\n",
       "      <th>peso</th>\n",
       "      <th>colesterol</th>\n",
       "      <th>genero</th>\n",
       "      <th>id_estado</th>\n",
       "    </tr>\n",
       "  </thead>\n",
       "  <tbody>\n",
       "    <tr>\n",
       "      <th>0</th>\n",
       "      <td>1</td>\n",
       "      <td>102.0</td>\n",
       "      <td>111</td>\n",
       "      <td>Masculino</td>\n",
       "      <td>23</td>\n",
       "    </tr>\n",
       "  </tbody>\n",
       "</table>\n",
       "</div>"
      ],
      "text/plain": [
       "   id_cliente   peso  colesterol     genero  id_estado\n",
       "0           1  102.0         111  Masculino         23"
      ]
     },
     "execution_count": 105,
     "metadata": {},
     "output_type": "execute_result"
    }
   ],
   "source": [
    "clientes.head(1)"
   ]
  },
  {
   "cell_type": "code",
   "execution_count": 106,
   "metadata": {
    "colab": {
     "base_uri": "https://localhost:8080/",
     "height": 81
    },
    "id": "XKSvCvuGiNt-",
    "outputId": "4277a192-f78f-49f6-f071-6baf6f73e75f"
   },
   "outputs": [
    {
     "data": {
      "text/html": [
       "<div>\n",
       "<style scoped>\n",
       "    .dataframe tbody tr th:only-of-type {\n",
       "        vertical-align: middle;\n",
       "    }\n",
       "\n",
       "    .dataframe tbody tr th {\n",
       "        vertical-align: top;\n",
       "    }\n",
       "\n",
       "    .dataframe thead th {\n",
       "        text-align: right;\n",
       "    }\n",
       "</style>\n",
       "<table border=\"1\" class=\"dataframe\">\n",
       "  <thead>\n",
       "    <tr style=\"text-align: right;\">\n",
       "      <th></th>\n",
       "      <th>id_cliente</th>\n",
       "      <th>peso</th>\n",
       "      <th>colesterol</th>\n",
       "      <th>genero</th>\n",
       "      <th>id_estado</th>\n",
       "    </tr>\n",
       "  </thead>\n",
       "  <tbody>\n",
       "    <tr>\n",
       "      <th>546</th>\n",
       "      <td>547</td>\n",
       "      <td>148.0</td>\n",
       "      <td>176</td>\n",
       "      <td>Masculino</td>\n",
       "      <td>8</td>\n",
       "    </tr>\n",
       "  </tbody>\n",
       "</table>\n",
       "</div>"
      ],
      "text/plain": [
       "     id_cliente   peso  colesterol     genero  id_estado\n",
       "546         547  148.0         176  Masculino          8"
      ]
     },
     "execution_count": 106,
     "metadata": {},
     "output_type": "execute_result"
    }
   ],
   "source": [
    "clientes.tail(1)"
   ]
  },
  {
   "cell_type": "markdown",
   "metadata": {
    "id": "jbDWhtXWievz"
   },
   "source": [
    "### Eliminando dados da base estados\n"
   ]
  },
  {
   "cell_type": "code",
   "execution_count": 107,
   "metadata": {
    "colab": {
     "base_uri": "https://localhost:8080/",
     "height": 112
    },
    "id": "cGLi7qEZipP2",
    "outputId": "c8ac9209-8a59-4131-cba4-ebd6c36b2255"
   },
   "outputs": [
    {
     "data": {
      "text/html": [
       "<div>\n",
       "<style scoped>\n",
       "    .dataframe tbody tr th:only-of-type {\n",
       "        vertical-align: middle;\n",
       "    }\n",
       "\n",
       "    .dataframe tbody tr th {\n",
       "        vertical-align: top;\n",
       "    }\n",
       "\n",
       "    .dataframe thead th {\n",
       "        text-align: right;\n",
       "    }\n",
       "</style>\n",
       "<table border=\"1\" class=\"dataframe\">\n",
       "  <thead>\n",
       "    <tr style=\"text-align: right;\">\n",
       "      <th></th>\n",
       "      <th>id_estado</th>\n",
       "      <th>estado</th>\n",
       "      <th>sigla_estado</th>\n",
       "      <th>pais</th>\n",
       "    </tr>\n",
       "  </thead>\n",
       "  <tbody>\n",
       "    <tr>\n",
       "      <th>17</th>\n",
       "      <td>18</td>\n",
       "      <td>Piauí</td>\n",
       "      <td>pi</td>\n",
       "      <td>NaN</td>\n",
       "    </tr>\n",
       "    <tr>\n",
       "      <th>23</th>\n",
       "      <td>24</td>\n",
       "      <td>Santa Catarina</td>\n",
       "      <td>sc</td>\n",
       "      <td>NaN</td>\n",
       "    </tr>\n",
       "  </tbody>\n",
       "</table>\n",
       "</div>"
      ],
      "text/plain": [
       "    id_estado          estado sigla_estado pais\n",
       "17         18           Piauí           pi  NaN\n",
       "23         24  Santa Catarina           sc  NaN"
      ]
     },
     "execution_count": 107,
     "metadata": {},
     "output_type": "execute_result"
    }
   ],
   "source": [
    "estados.loc[estados['pais'].isnull()]"
   ]
  },
  {
   "cell_type": "code",
   "execution_count": 108,
   "metadata": {
    "colab": {
     "base_uri": "https://localhost:8080/"
    },
    "id": "HFZF5ZdYi_nW",
    "outputId": "82b584d0-5fdc-474e-cf59-f50090308a21"
   },
   "outputs": [
    {
     "name": "stdout",
     "output_type": "stream",
     "text": [
      "Brasil    25\n",
      "Name: pais, dtype: int64\n"
     ]
    }
   ],
   "source": [
    "print(estados.pais.value_counts())"
   ]
  },
  {
   "cell_type": "code",
   "execution_count": 109,
   "metadata": {
    "colab": {
     "base_uri": "https://localhost:8080/",
     "height": 833
    },
    "id": "Ma7WllwVrsTK",
    "outputId": "69419931-f62f-4035-fc81-435a45035d5d"
   },
   "outputs": [
    {
     "data": {
      "text/html": [
       "<div>\n",
       "<style scoped>\n",
       "    .dataframe tbody tr th:only-of-type {\n",
       "        vertical-align: middle;\n",
       "    }\n",
       "\n",
       "    .dataframe tbody tr th {\n",
       "        vertical-align: top;\n",
       "    }\n",
       "\n",
       "    .dataframe thead th {\n",
       "        text-align: right;\n",
       "    }\n",
       "</style>\n",
       "<table border=\"1\" class=\"dataframe\">\n",
       "  <thead>\n",
       "    <tr style=\"text-align: right;\">\n",
       "      <th></th>\n",
       "      <th>id_estado</th>\n",
       "      <th>estado</th>\n",
       "      <th>sigla_estado</th>\n",
       "      <th>pais</th>\n",
       "    </tr>\n",
       "  </thead>\n",
       "  <tbody>\n",
       "    <tr>\n",
       "      <th>0</th>\n",
       "      <td>1</td>\n",
       "      <td>Acre</td>\n",
       "      <td>ac</td>\n",
       "      <td>Brasil</td>\n",
       "    </tr>\n",
       "    <tr>\n",
       "      <th>1</th>\n",
       "      <td>2</td>\n",
       "      <td>Alagoas</td>\n",
       "      <td>al</td>\n",
       "      <td>Brasil</td>\n",
       "    </tr>\n",
       "    <tr>\n",
       "      <th>2</th>\n",
       "      <td>3</td>\n",
       "      <td>Amapá</td>\n",
       "      <td>ap</td>\n",
       "      <td>Brasil</td>\n",
       "    </tr>\n",
       "    <tr>\n",
       "      <th>3</th>\n",
       "      <td>4</td>\n",
       "      <td>Amazonas</td>\n",
       "      <td>am</td>\n",
       "      <td>Brasil</td>\n",
       "    </tr>\n",
       "    <tr>\n",
       "      <th>4</th>\n",
       "      <td>5</td>\n",
       "      <td>Bahia</td>\n",
       "      <td>ba</td>\n",
       "      <td>Brasil</td>\n",
       "    </tr>\n",
       "    <tr>\n",
       "      <th>5</th>\n",
       "      <td>6</td>\n",
       "      <td>Ceará</td>\n",
       "      <td>ce</td>\n",
       "      <td>Brasil</td>\n",
       "    </tr>\n",
       "    <tr>\n",
       "      <th>6</th>\n",
       "      <td>7</td>\n",
       "      <td>Distrito Federal</td>\n",
       "      <td>df</td>\n",
       "      <td>Brasil</td>\n",
       "    </tr>\n",
       "    <tr>\n",
       "      <th>7</th>\n",
       "      <td>8</td>\n",
       "      <td>Espírito Santo</td>\n",
       "      <td>es</td>\n",
       "      <td>Brasil</td>\n",
       "    </tr>\n",
       "    <tr>\n",
       "      <th>8</th>\n",
       "      <td>9</td>\n",
       "      <td>Goiás</td>\n",
       "      <td>go</td>\n",
       "      <td>Brasil</td>\n",
       "    </tr>\n",
       "    <tr>\n",
       "      <th>9</th>\n",
       "      <td>10</td>\n",
       "      <td>Maranhão</td>\n",
       "      <td>ma</td>\n",
       "      <td>Brasil</td>\n",
       "    </tr>\n",
       "    <tr>\n",
       "      <th>10</th>\n",
       "      <td>11</td>\n",
       "      <td>Mato Grosso</td>\n",
       "      <td>mt</td>\n",
       "      <td>Brasil</td>\n",
       "    </tr>\n",
       "    <tr>\n",
       "      <th>11</th>\n",
       "      <td>12</td>\n",
       "      <td>Mato Grosso do Sul</td>\n",
       "      <td>ms</td>\n",
       "      <td>Brasil</td>\n",
       "    </tr>\n",
       "    <tr>\n",
       "      <th>12</th>\n",
       "      <td>13</td>\n",
       "      <td>Minas Gerais</td>\n",
       "      <td>mg</td>\n",
       "      <td>Brasil</td>\n",
       "    </tr>\n",
       "    <tr>\n",
       "      <th>13</th>\n",
       "      <td>14</td>\n",
       "      <td>Pará</td>\n",
       "      <td>pa</td>\n",
       "      <td>Brasil</td>\n",
       "    </tr>\n",
       "    <tr>\n",
       "      <th>14</th>\n",
       "      <td>15</td>\n",
       "      <td>Paraíba</td>\n",
       "      <td>pb</td>\n",
       "      <td>Brasil</td>\n",
       "    </tr>\n",
       "    <tr>\n",
       "      <th>15</th>\n",
       "      <td>16</td>\n",
       "      <td>Paraná</td>\n",
       "      <td>pr</td>\n",
       "      <td>Brasil</td>\n",
       "    </tr>\n",
       "    <tr>\n",
       "      <th>16</th>\n",
       "      <td>17</td>\n",
       "      <td>Pernambuco</td>\n",
       "      <td>pe</td>\n",
       "      <td>Brasil</td>\n",
       "    </tr>\n",
       "    <tr>\n",
       "      <th>18</th>\n",
       "      <td>19</td>\n",
       "      <td>Rio de Janeiro</td>\n",
       "      <td>rj</td>\n",
       "      <td>Brasil</td>\n",
       "    </tr>\n",
       "    <tr>\n",
       "      <th>19</th>\n",
       "      <td>20</td>\n",
       "      <td>Rio Grande do Norte</td>\n",
       "      <td>rn</td>\n",
       "      <td>Brasil</td>\n",
       "    </tr>\n",
       "    <tr>\n",
       "      <th>20</th>\n",
       "      <td>21</td>\n",
       "      <td>Rio Grande do Sul</td>\n",
       "      <td>rs</td>\n",
       "      <td>Brasil</td>\n",
       "    </tr>\n",
       "    <tr>\n",
       "      <th>21</th>\n",
       "      <td>22</td>\n",
       "      <td>Rondônia</td>\n",
       "      <td>ro</td>\n",
       "      <td>Brasil</td>\n",
       "    </tr>\n",
       "    <tr>\n",
       "      <th>22</th>\n",
       "      <td>23</td>\n",
       "      <td>Roraima</td>\n",
       "      <td>rr</td>\n",
       "      <td>Brasil</td>\n",
       "    </tr>\n",
       "    <tr>\n",
       "      <th>24</th>\n",
       "      <td>25</td>\n",
       "      <td>São Paulo</td>\n",
       "      <td>sp</td>\n",
       "      <td>Brasil</td>\n",
       "    </tr>\n",
       "    <tr>\n",
       "      <th>25</th>\n",
       "      <td>26</td>\n",
       "      <td>Sergipe</td>\n",
       "      <td>se</td>\n",
       "      <td>Brasil</td>\n",
       "    </tr>\n",
       "    <tr>\n",
       "      <th>26</th>\n",
       "      <td>27</td>\n",
       "      <td>Tocantins</td>\n",
       "      <td>to</td>\n",
       "      <td>Brasil</td>\n",
       "    </tr>\n",
       "  </tbody>\n",
       "</table>\n",
       "</div>"
      ],
      "text/plain": [
       "    id_estado               estado sigla_estado    pais\n",
       "0           1                 Acre           ac  Brasil\n",
       "1           2              Alagoas           al  Brasil\n",
       "2           3                Amapá           ap  Brasil\n",
       "3           4             Amazonas           am  Brasil\n",
       "4           5                Bahia           ba  Brasil\n",
       "5           6                Ceará           ce  Brasil\n",
       "6           7     Distrito Federal           df  Brasil\n",
       "7           8       Espírito Santo           es  Brasil\n",
       "8           9                Goiás           go  Brasil\n",
       "9          10             Maranhão           ma  Brasil\n",
       "10         11          Mato Grosso           mt  Brasil\n",
       "11         12   Mato Grosso do Sul           ms  Brasil\n",
       "12         13         Minas Gerais           mg  Brasil\n",
       "13         14                 Pará           pa  Brasil\n",
       "14         15              Paraíba           pb  Brasil\n",
       "15         16               Paraná           pr  Brasil\n",
       "16         17           Pernambuco           pe  Brasil\n",
       "18         19       Rio de Janeiro           rj  Brasil\n",
       "19         20  Rio Grande do Norte           rn  Brasil\n",
       "20         21    Rio Grande do Sul           rs  Brasil\n",
       "21         22             Rondônia           ro  Brasil\n",
       "22         23              Roraima           rr  Brasil\n",
       "24         25            São Paulo           sp  Brasil\n",
       "25         26              Sergipe           se  Brasil\n",
       "26         27            Tocantins           to  Brasil"
      ]
     },
     "execution_count": 109,
     "metadata": {},
     "output_type": "execute_result"
    }
   ],
   "source": [
    "estados.dropna(subset=['pais'], inplace=True)\n",
    "estados"
   ]
  },
  {
   "cell_type": "code",
   "execution_count": 110,
   "metadata": {
    "id": "NmpsYftRjH49"
   },
   "outputs": [],
   "source": [
    "# substituir valores vazios da coluna pais por brasil\n",
    "#estados.pais.fillna('Brasil', inplace=True)"
   ]
  },
  {
   "cell_type": "code",
   "execution_count": 111,
   "metadata": {
    "colab": {
     "base_uri": "https://localhost:8080/"
    },
    "id": "08CnsYPcjJ4F",
    "outputId": "1c9da720-d41e-4715-a40c-ddb77776a868"
   },
   "outputs": [
    {
     "data": {
      "text/plain": [
       "id_estado       0\n",
       "estado          0\n",
       "sigla_estado    0\n",
       "pais            0\n",
       "dtype: int64"
      ]
     },
     "execution_count": 111,
     "metadata": {},
     "output_type": "execute_result"
    }
   ],
   "source": [
    "estados.isna().sum()"
   ]
  },
  {
   "cell_type": "markdown",
   "metadata": {
    "id": "VugJl6Mkk4VD"
   },
   "source": [
    "### Analisando a distribuição"
   ]
  },
  {
   "cell_type": "code",
   "execution_count": 112,
   "metadata": {
    "colab": {
     "base_uri": "https://localhost:8080/",
     "height": 542
    },
    "id": "3-hRTrKBx2xl",
    "outputId": "86736904-3e8c-4301-cb20-82f4c0191301"
   },
   "outputs": [
    {
     "data": {
      "application/vnd.plotly.v1+json": {
       "config": {
        "plotlyServerURL": "https://plot.ly"
       },
       "data": [
        {
         "alignmentgroup": "True",
         "bingroup": "x",
         "hovertemplate": "peso=%{x}<br>count=%{y}<extra></extra>",
         "legendgroup": "",
         "marker": {
          "color": "#636efa",
          "pattern": {
           "shape": ""
          }
         },
         "name": "",
         "nbinsx": 100,
         "offsetgroup": "",
         "orientation": "v",
         "showlegend": false,
         "type": "histogram",
         "x": [
          102,
          115,
          115,
          140,
          130,
          198,
          114,
          145,
          191,
          186,
          104,
          188,
          96,
          156,
          125,
          178,
          109,
          168,
          152,
          133,
          153,
          107,
          199,
          140,
          95,
          183,
          108,
          190,
          174,
          149,
          169,
          138,
          151,
          109,
          178,
          106,
          195,
          96,
          129,
          166,
          197,
          148,
          117,
          193,
          170,
          130,
          183,
          134,
          128,
          105,
          115,
          166,
          183,
          149,
          110,
          164,
          157,
          170,
          124,
          145,
          113,
          150,
          100,
          139,
          150,
          101,
          157,
          187,
          137,
          121,
          132,
          130,
          156,
          180,
          100,
          122,
          185,
          113,
          123,
          119,
          113,
          168,
          126,
          102,
          116,
          144,
          140,
          124,
          108,
          154,
          185,
          106,
          97,
          96,
          129,
          124,
          149,
          97,
          102,
          146,
          100,
          118,
          179,
          179,
          113,
          142,
          101,
          174,
          131,
          179,
          122,
          105,
          176,
          103,
          120,
          118,
          143,
          134,
          203,
          116,
          150,
          192,
          187,
          107,
          192,
          97,
          157,
          128,
          183,
          112,
          173,
          156,
          137,
          156,
          112,
          203,
          141,
          97,
          186,
          113,
          195,
          175,
          154,
          173,
          152,
          114,
          181,
          111,
          200,
          100,
          134,
          167,
          198,
          151,
          121,
          196,
          171,
          135,
          186,
          138,
          133,
          107,
          120,
          168,
          184,
          154,
          115,
          168,
          161,
          171,
          129,
          150,
          118,
          154,
          103,
          180,
          141,
          152,
          104,
          159,
          191,
          142,
          123,
          135,
          132,
          158,
          181,
          105,
          126,
          186,
          116,
          124,
          115,
          173,
          128,
          103,
          120,
          146,
          145,
          125,
          109,
          156,
          187,
          110,
          100,
          97,
          133,
          128,
          154,
          100,
          104,
          203,
          104,
          119,
          181,
          180,
          116,
          144,
          102,
          176,
          135,
          184,
          124,
          110,
          180,
          103,
          117,
          120,
          145,
          133,
          201,
          117,
          146,
          195,
          188,
          108,
          191,
          100,
          158,
          127,
          181,
          113,
          171,
          153,
          137,
          154,
          112,
          201,
          141,
          100,
          185,
          111,
          191,
          176,
          150,
          171,
          140,
          153,
          111,
          180,
          107,
          197,
          101,
          132,
          168,
          200,
          150,
          119,
          197,
          172,
          134,
          185,
          135,
          132,
          109,
          116,
          170,
          187,
          154,
          111,
          169,
          161,
          174,
          125,
          148,
          117,
          154,
          104,
          183,
          142,
          155,
          105,
          160,
          191,
          140,
          123,
          136,
          132,
          158,
          182,
          104,
          126,
          188,
          118,
          127,
          123,
          118,
          169,
          128,
          106,
          119,
          147,
          141,
          125,
          109,
          158,
          190,
          110,
          99,
          98,
          134,
          129,
          154,
          100,
          107,
          149,
          203,
          101,
          119,
          182,
          181,
          115,
          145,
          102,
          176,
          134,
          183,
          123,
          108,
          177,
          104,
          117,
          117,
          145,
          134,
          199,
          115,
          149,
          192,
          188,
          107,
          190,
          98,
          158,
          128,
          180,
          110,
          172,
          157,
          137,
          158,
          110,
          203,
          145,
          96,
          186,
          110,
          194,
          177,
          152,
          172,
          140,
          154,
          113,
          179,
          111,
          196,
          101,
          131,
          171,
          199,
          151,
          121,
          196,
          174,
          135,
          184,
          137,
          129,
          108,
          116,
          168,
          184,
          151,
          114,
          167,
          160,
          175,
          127,
          146,
          118,
          151,
          105,
          180,
          140,
          155,
          106,
          160,
          192,
          138,
          122,
          135,
          132,
          158,
          184,
          101,
          126,
          188,
          118,
          127,
          123,
          117,
          172,
          127,
          104,
          121,
          148,
          141,
          128,
          113,
          155,
          189,
          108,
          98,
          100,
          134,
          125,
          151,
          100,
          107,
          147,
          200,
          101,
          120,
          181,
          182,
          117,
          145,
          106,
          179,
          134,
          180,
          126,
          110,
          180,
          103,
          116,
          119,
          144,
          133,
          199,
          115,
          150,
          192,
          188,
          109,
          189,
          101,
          159,
          128,
          182,
          111,
          171,
          154,
          134,
          157,
          112,
          203,
          142,
          97,
          187,
          111,
          194,
          176,
          153,
          171,
          142,
          153,
          113,
          183,
          108,
          200,
          99,
          131,
          171,
          200,
          152,
          119,
          196,
          173,
          132,
          185,
          138,
          132,
          110,
          119,
          167,
          188,
          151,
          112,
          166,
          158,
          172,
          127,
          150,
          115,
          151,
          103,
          181,
          141,
          152,
          105,
          162,
          190,
          141,
          122,
          136,
          131,
          157,
          181,
          103,
          127,
          189,
          114,
          125,
          123,
          116,
          172,
          129,
          107,
          117,
          148
         ],
         "xaxis": "x",
         "yaxis": "y"
        }
       ],
       "layout": {
        "barmode": "relative",
        "legend": {
         "tracegroupgap": 0
        },
        "margin": {
         "t": 60
        },
        "template": {
         "data": {
          "bar": [
           {
            "error_x": {
             "color": "#2a3f5f"
            },
            "error_y": {
             "color": "#2a3f5f"
            },
            "marker": {
             "line": {
              "color": "#E5ECF6",
              "width": 0.5
             },
             "pattern": {
              "fillmode": "overlay",
              "size": 10,
              "solidity": 0.2
             }
            },
            "type": "bar"
           }
          ],
          "barpolar": [
           {
            "marker": {
             "line": {
              "color": "#E5ECF6",
              "width": 0.5
             },
             "pattern": {
              "fillmode": "overlay",
              "size": 10,
              "solidity": 0.2
             }
            },
            "type": "barpolar"
           }
          ],
          "carpet": [
           {
            "aaxis": {
             "endlinecolor": "#2a3f5f",
             "gridcolor": "white",
             "linecolor": "white",
             "minorgridcolor": "white",
             "startlinecolor": "#2a3f5f"
            },
            "baxis": {
             "endlinecolor": "#2a3f5f",
             "gridcolor": "white",
             "linecolor": "white",
             "minorgridcolor": "white",
             "startlinecolor": "#2a3f5f"
            },
            "type": "carpet"
           }
          ],
          "choropleth": [
           {
            "colorbar": {
             "outlinewidth": 0,
             "ticks": ""
            },
            "type": "choropleth"
           }
          ],
          "contour": [
           {
            "colorbar": {
             "outlinewidth": 0,
             "ticks": ""
            },
            "colorscale": [
             [
              0,
              "#0d0887"
             ],
             [
              0.1111111111111111,
              "#46039f"
             ],
             [
              0.2222222222222222,
              "#7201a8"
             ],
             [
              0.3333333333333333,
              "#9c179e"
             ],
             [
              0.4444444444444444,
              "#bd3786"
             ],
             [
              0.5555555555555556,
              "#d8576b"
             ],
             [
              0.6666666666666666,
              "#ed7953"
             ],
             [
              0.7777777777777778,
              "#fb9f3a"
             ],
             [
              0.8888888888888888,
              "#fdca26"
             ],
             [
              1,
              "#f0f921"
             ]
            ],
            "type": "contour"
           }
          ],
          "contourcarpet": [
           {
            "colorbar": {
             "outlinewidth": 0,
             "ticks": ""
            },
            "type": "contourcarpet"
           }
          ],
          "heatmap": [
           {
            "colorbar": {
             "outlinewidth": 0,
             "ticks": ""
            },
            "colorscale": [
             [
              0,
              "#0d0887"
             ],
             [
              0.1111111111111111,
              "#46039f"
             ],
             [
              0.2222222222222222,
              "#7201a8"
             ],
             [
              0.3333333333333333,
              "#9c179e"
             ],
             [
              0.4444444444444444,
              "#bd3786"
             ],
             [
              0.5555555555555556,
              "#d8576b"
             ],
             [
              0.6666666666666666,
              "#ed7953"
             ],
             [
              0.7777777777777778,
              "#fb9f3a"
             ],
             [
              0.8888888888888888,
              "#fdca26"
             ],
             [
              1,
              "#f0f921"
             ]
            ],
            "type": "heatmap"
           }
          ],
          "heatmapgl": [
           {
            "colorbar": {
             "outlinewidth": 0,
             "ticks": ""
            },
            "colorscale": [
             [
              0,
              "#0d0887"
             ],
             [
              0.1111111111111111,
              "#46039f"
             ],
             [
              0.2222222222222222,
              "#7201a8"
             ],
             [
              0.3333333333333333,
              "#9c179e"
             ],
             [
              0.4444444444444444,
              "#bd3786"
             ],
             [
              0.5555555555555556,
              "#d8576b"
             ],
             [
              0.6666666666666666,
              "#ed7953"
             ],
             [
              0.7777777777777778,
              "#fb9f3a"
             ],
             [
              0.8888888888888888,
              "#fdca26"
             ],
             [
              1,
              "#f0f921"
             ]
            ],
            "type": "heatmapgl"
           }
          ],
          "histogram": [
           {
            "marker": {
             "pattern": {
              "fillmode": "overlay",
              "size": 10,
              "solidity": 0.2
             }
            },
            "type": "histogram"
           }
          ],
          "histogram2d": [
           {
            "colorbar": {
             "outlinewidth": 0,
             "ticks": ""
            },
            "colorscale": [
             [
              0,
              "#0d0887"
             ],
             [
              0.1111111111111111,
              "#46039f"
             ],
             [
              0.2222222222222222,
              "#7201a8"
             ],
             [
              0.3333333333333333,
              "#9c179e"
             ],
             [
              0.4444444444444444,
              "#bd3786"
             ],
             [
              0.5555555555555556,
              "#d8576b"
             ],
             [
              0.6666666666666666,
              "#ed7953"
             ],
             [
              0.7777777777777778,
              "#fb9f3a"
             ],
             [
              0.8888888888888888,
              "#fdca26"
             ],
             [
              1,
              "#f0f921"
             ]
            ],
            "type": "histogram2d"
           }
          ],
          "histogram2dcontour": [
           {
            "colorbar": {
             "outlinewidth": 0,
             "ticks": ""
            },
            "colorscale": [
             [
              0,
              "#0d0887"
             ],
             [
              0.1111111111111111,
              "#46039f"
             ],
             [
              0.2222222222222222,
              "#7201a8"
             ],
             [
              0.3333333333333333,
              "#9c179e"
             ],
             [
              0.4444444444444444,
              "#bd3786"
             ],
             [
              0.5555555555555556,
              "#d8576b"
             ],
             [
              0.6666666666666666,
              "#ed7953"
             ],
             [
              0.7777777777777778,
              "#fb9f3a"
             ],
             [
              0.8888888888888888,
              "#fdca26"
             ],
             [
              1,
              "#f0f921"
             ]
            ],
            "type": "histogram2dcontour"
           }
          ],
          "mesh3d": [
           {
            "colorbar": {
             "outlinewidth": 0,
             "ticks": ""
            },
            "type": "mesh3d"
           }
          ],
          "parcoords": [
           {
            "line": {
             "colorbar": {
              "outlinewidth": 0,
              "ticks": ""
             }
            },
            "type": "parcoords"
           }
          ],
          "pie": [
           {
            "automargin": true,
            "type": "pie"
           }
          ],
          "scatter": [
           {
            "fillpattern": {
             "fillmode": "overlay",
             "size": 10,
             "solidity": 0.2
            },
            "type": "scatter"
           }
          ],
          "scatter3d": [
           {
            "line": {
             "colorbar": {
              "outlinewidth": 0,
              "ticks": ""
             }
            },
            "marker": {
             "colorbar": {
              "outlinewidth": 0,
              "ticks": ""
             }
            },
            "type": "scatter3d"
           }
          ],
          "scattercarpet": [
           {
            "marker": {
             "colorbar": {
              "outlinewidth": 0,
              "ticks": ""
             }
            },
            "type": "scattercarpet"
           }
          ],
          "scattergeo": [
           {
            "marker": {
             "colorbar": {
              "outlinewidth": 0,
              "ticks": ""
             }
            },
            "type": "scattergeo"
           }
          ],
          "scattergl": [
           {
            "marker": {
             "colorbar": {
              "outlinewidth": 0,
              "ticks": ""
             }
            },
            "type": "scattergl"
           }
          ],
          "scattermapbox": [
           {
            "marker": {
             "colorbar": {
              "outlinewidth": 0,
              "ticks": ""
             }
            },
            "type": "scattermapbox"
           }
          ],
          "scatterpolar": [
           {
            "marker": {
             "colorbar": {
              "outlinewidth": 0,
              "ticks": ""
             }
            },
            "type": "scatterpolar"
           }
          ],
          "scatterpolargl": [
           {
            "marker": {
             "colorbar": {
              "outlinewidth": 0,
              "ticks": ""
             }
            },
            "type": "scatterpolargl"
           }
          ],
          "scatterternary": [
           {
            "marker": {
             "colorbar": {
              "outlinewidth": 0,
              "ticks": ""
             }
            },
            "type": "scatterternary"
           }
          ],
          "surface": [
           {
            "colorbar": {
             "outlinewidth": 0,
             "ticks": ""
            },
            "colorscale": [
             [
              0,
              "#0d0887"
             ],
             [
              0.1111111111111111,
              "#46039f"
             ],
             [
              0.2222222222222222,
              "#7201a8"
             ],
             [
              0.3333333333333333,
              "#9c179e"
             ],
             [
              0.4444444444444444,
              "#bd3786"
             ],
             [
              0.5555555555555556,
              "#d8576b"
             ],
             [
              0.6666666666666666,
              "#ed7953"
             ],
             [
              0.7777777777777778,
              "#fb9f3a"
             ],
             [
              0.8888888888888888,
              "#fdca26"
             ],
             [
              1,
              "#f0f921"
             ]
            ],
            "type": "surface"
           }
          ],
          "table": [
           {
            "cells": {
             "fill": {
              "color": "#EBF0F8"
             },
             "line": {
              "color": "white"
             }
            },
            "header": {
             "fill": {
              "color": "#C8D4E3"
             },
             "line": {
              "color": "white"
             }
            },
            "type": "table"
           }
          ]
         },
         "layout": {
          "annotationdefaults": {
           "arrowcolor": "#2a3f5f",
           "arrowhead": 0,
           "arrowwidth": 1
          },
          "autotypenumbers": "strict",
          "coloraxis": {
           "colorbar": {
            "outlinewidth": 0,
            "ticks": ""
           }
          },
          "colorscale": {
           "diverging": [
            [
             0,
             "#8e0152"
            ],
            [
             0.1,
             "#c51b7d"
            ],
            [
             0.2,
             "#de77ae"
            ],
            [
             0.3,
             "#f1b6da"
            ],
            [
             0.4,
             "#fde0ef"
            ],
            [
             0.5,
             "#f7f7f7"
            ],
            [
             0.6,
             "#e6f5d0"
            ],
            [
             0.7,
             "#b8e186"
            ],
            [
             0.8,
             "#7fbc41"
            ],
            [
             0.9,
             "#4d9221"
            ],
            [
             1,
             "#276419"
            ]
           ],
           "sequential": [
            [
             0,
             "#0d0887"
            ],
            [
             0.1111111111111111,
             "#46039f"
            ],
            [
             0.2222222222222222,
             "#7201a8"
            ],
            [
             0.3333333333333333,
             "#9c179e"
            ],
            [
             0.4444444444444444,
             "#bd3786"
            ],
            [
             0.5555555555555556,
             "#d8576b"
            ],
            [
             0.6666666666666666,
             "#ed7953"
            ],
            [
             0.7777777777777778,
             "#fb9f3a"
            ],
            [
             0.8888888888888888,
             "#fdca26"
            ],
            [
             1,
             "#f0f921"
            ]
           ],
           "sequentialminus": [
            [
             0,
             "#0d0887"
            ],
            [
             0.1111111111111111,
             "#46039f"
            ],
            [
             0.2222222222222222,
             "#7201a8"
            ],
            [
             0.3333333333333333,
             "#9c179e"
            ],
            [
             0.4444444444444444,
             "#bd3786"
            ],
            [
             0.5555555555555556,
             "#d8576b"
            ],
            [
             0.6666666666666666,
             "#ed7953"
            ],
            [
             0.7777777777777778,
             "#fb9f3a"
            ],
            [
             0.8888888888888888,
             "#fdca26"
            ],
            [
             1,
             "#f0f921"
            ]
           ]
          },
          "colorway": [
           "#636efa",
           "#EF553B",
           "#00cc96",
           "#ab63fa",
           "#FFA15A",
           "#19d3f3",
           "#FF6692",
           "#B6E880",
           "#FF97FF",
           "#FECB52"
          ],
          "font": {
           "color": "#2a3f5f"
          },
          "geo": {
           "bgcolor": "white",
           "lakecolor": "white",
           "landcolor": "#E5ECF6",
           "showlakes": true,
           "showland": true,
           "subunitcolor": "white"
          },
          "hoverlabel": {
           "align": "left"
          },
          "hovermode": "closest",
          "mapbox": {
           "style": "light"
          },
          "paper_bgcolor": "white",
          "plot_bgcolor": "#E5ECF6",
          "polar": {
           "angularaxis": {
            "gridcolor": "white",
            "linecolor": "white",
            "ticks": ""
           },
           "bgcolor": "#E5ECF6",
           "radialaxis": {
            "gridcolor": "white",
            "linecolor": "white",
            "ticks": ""
           }
          },
          "scene": {
           "xaxis": {
            "backgroundcolor": "#E5ECF6",
            "gridcolor": "white",
            "gridwidth": 2,
            "linecolor": "white",
            "showbackground": true,
            "ticks": "",
            "zerolinecolor": "white"
           },
           "yaxis": {
            "backgroundcolor": "#E5ECF6",
            "gridcolor": "white",
            "gridwidth": 2,
            "linecolor": "white",
            "showbackground": true,
            "ticks": "",
            "zerolinecolor": "white"
           },
           "zaxis": {
            "backgroundcolor": "#E5ECF6",
            "gridcolor": "white",
            "gridwidth": 2,
            "linecolor": "white",
            "showbackground": true,
            "ticks": "",
            "zerolinecolor": "white"
           }
          },
          "shapedefaults": {
           "line": {
            "color": "#2a3f5f"
           }
          },
          "ternary": {
           "aaxis": {
            "gridcolor": "white",
            "linecolor": "white",
            "ticks": ""
           },
           "baxis": {
            "gridcolor": "white",
            "linecolor": "white",
            "ticks": ""
           },
           "bgcolor": "#E5ECF6",
           "caxis": {
            "gridcolor": "white",
            "linecolor": "white",
            "ticks": ""
           }
          },
          "title": {
           "x": 0.05
          },
          "xaxis": {
           "automargin": true,
           "gridcolor": "white",
           "linecolor": "white",
           "ticks": "",
           "title": {
            "standoff": 15
           },
           "zerolinecolor": "white",
           "zerolinewidth": 2
          },
          "yaxis": {
           "automargin": true,
           "gridcolor": "white",
           "linecolor": "white",
           "ticks": "",
           "title": {
            "standoff": 15
           },
           "zerolinecolor": "white",
           "zerolinewidth": 2
          }
         }
        },
        "xaxis": {
         "anchor": "y",
         "domain": [
          0,
          1
         ],
         "title": {
          "text": "peso"
         }
        },
        "yaxis": {
         "anchor": "x",
         "domain": [
          0,
          1
         ],
         "title": {
          "text": "count"
         }
        }
       }
      },
      "text/html": [
       "<div>                            <div id=\"8cc69e22-f1d0-4c13-8d07-bf3339f30aef\" class=\"plotly-graph-div\" style=\"height:525px; width:100%;\"></div>            <script type=\"text/javascript\">                require([\"plotly\"], function(Plotly) {                    window.PLOTLYENV=window.PLOTLYENV || {};                                    if (document.getElementById(\"8cc69e22-f1d0-4c13-8d07-bf3339f30aef\")) {                    Plotly.newPlot(                        \"8cc69e22-f1d0-4c13-8d07-bf3339f30aef\",                        [{\"alignmentgroup\":\"True\",\"bingroup\":\"x\",\"hovertemplate\":\"peso=%{x}<br>count=%{y}<extra></extra>\",\"legendgroup\":\"\",\"marker\":{\"color\":\"#636efa\",\"pattern\":{\"shape\":\"\"}},\"name\":\"\",\"nbinsx\":100,\"offsetgroup\":\"\",\"orientation\":\"v\",\"showlegend\":false,\"x\":[102.0,115.0,115.0,140.0,130.0,198.0,114.0,145.0,191.0,186.0,104.0,188.0,96.0,156.0,125.0,178.0,109.0,168.0,152.0,133.0,153.0,107.0,199.0,140.0,95.0,183.0,108.0,190.0,174.0,149.0,169.0,138.0,151.0,109.0,178.0,106.0,195.0,96.0,129.0,166.0,197.0,148.0,117.0,193.0,170.0,130.0,183.0,134.0,128.0,105.0,115.0,166.0,183.0,149.0,110.0,164.0,157.0,170.0,124.0,145.0,113.0,150.0,100.0,139.0,150.0,101.0,157.0,187.0,137.0,121.0,132.0,130.0,156.0,180.0,100.0,122.0,185.0,113.0,123.0,119.0,113.0,168.0,126.0,102.0,116.0,144.0,140.0,124.0,108.0,154.0,185.0,106.0,97.0,96.0,129.0,124.0,149.0,97.0,102.0,146.0,100.0,118.0,179.0,179.0,113.0,142.0,101.0,174.0,131.0,179.0,122.0,105.0,176.0,103.0,120.0,118.0,143.0,134.0,203.0,116.0,150.0,192.0,187.0,107.0,192.0,97.0,157.0,128.0,183.0,112.0,173.0,156.0,137.0,156.0,112.0,203.0,141.0,97.0,186.0,113.0,195.0,175.0,154.0,173.0,152.0,114.0,181.0,111.0,200.0,100.0,134.0,167.0,198.0,151.0,121.0,196.0,171.0,135.0,186.0,138.0,133.0,107.0,120.0,168.0,184.0,154.0,115.0,168.0,161.0,171.0,129.0,150.0,118.0,154.0,103.0,180.0,141.0,152.0,104.0,159.0,191.0,142.0,123.0,135.0,132.0,158.0,181.0,105.0,126.0,186.0,116.0,124.0,115.0,173.0,128.0,103.0,120.0,146.0,145.0,125.0,109.0,156.0,187.0,110.0,100.0,97.0,133.0,128.0,154.0,100.0,104.0,203.0,104.0,119.0,181.0,180.0,116.0,144.0,102.0,176.0,135.0,184.0,124.0,110.0,180.0,103.0,117.0,120.0,145.0,133.0,201.0,117.0,146.0,195.0,188.0,108.0,191.0,100.0,158.0,127.0,181.0,113.0,171.0,153.0,137.0,154.0,112.0,201.0,141.0,100.0,185.0,111.0,191.0,176.0,150.0,171.0,140.0,153.0,111.0,180.0,107.0,197.0,101.0,132.0,168.0,200.0,150.0,119.0,197.0,172.0,134.0,185.0,135.0,132.0,109.0,116.0,170.0,187.0,154.0,111.0,169.0,161.0,174.0,125.0,148.0,117.0,154.0,104.0,183.0,142.0,155.0,105.0,160.0,191.0,140.0,123.0,136.0,132.0,158.0,182.0,104.0,126.0,188.0,118.0,127.0,123.0,118.0,169.0,128.0,106.0,119.0,147.0,141.0,125.0,109.0,158.0,190.0,110.0,99.0,98.0,134.0,129.0,154.0,100.0,107.0,149.0,203.0,101.0,119.0,182.0,181.0,115.0,145.0,102.0,176.0,134.0,183.0,123.0,108.0,177.0,104.0,117.0,117.0,145.0,134.0,199.0,115.0,149.0,192.0,188.0,107.0,190.0,98.0,158.0,128.0,180.0,110.0,172.0,157.0,137.0,158.0,110.0,203.0,145.0,96.0,186.0,110.0,194.0,177.0,152.0,172.0,140.0,154.0,113.0,179.0,111.0,196.0,101.0,131.0,171.0,199.0,151.0,121.0,196.0,174.0,135.0,184.0,137.0,129.0,108.0,116.0,168.0,184.0,151.0,114.0,167.0,160.0,175.0,127.0,146.0,118.0,151.0,105.0,180.0,140.0,155.0,106.0,160.0,192.0,138.0,122.0,135.0,132.0,158.0,184.0,101.0,126.0,188.0,118.0,127.0,123.0,117.0,172.0,127.0,104.0,121.0,148.0,141.0,128.0,113.0,155.0,189.0,108.0,98.0,100.0,134.0,125.0,151.0,100.0,107.0,147.0,200.0,101.0,120.0,181.0,182.0,117.0,145.0,106.0,179.0,134.0,180.0,126.0,110.0,180.0,103.0,116.0,119.0,144.0,133.0,199.0,115.0,150.0,192.0,188.0,109.0,189.0,101.0,159.0,128.0,182.0,111.0,171.0,154.0,134.0,157.0,112.0,203.0,142.0,97.0,187.0,111.0,194.0,176.0,153.0,171.0,142.0,153.0,113.0,183.0,108.0,200.0,99.0,131.0,171.0,200.0,152.0,119.0,196.0,173.0,132.0,185.0,138.0,132.0,110.0,119.0,167.0,188.0,151.0,112.0,166.0,158.0,172.0,127.0,150.0,115.0,151.0,103.0,181.0,141.0,152.0,105.0,162.0,190.0,141.0,122.0,136.0,131.0,157.0,181.0,103.0,127.0,189.0,114.0,125.0,123.0,116.0,172.0,129.0,107.0,117.0,148.0],\"xaxis\":\"x\",\"yaxis\":\"y\",\"type\":\"histogram\"}],                        {\"template\":{\"data\":{\"histogram2dcontour\":[{\"type\":\"histogram2dcontour\",\"colorbar\":{\"outlinewidth\":0,\"ticks\":\"\"},\"colorscale\":[[0.0,\"#0d0887\"],[0.1111111111111111,\"#46039f\"],[0.2222222222222222,\"#7201a8\"],[0.3333333333333333,\"#9c179e\"],[0.4444444444444444,\"#bd3786\"],[0.5555555555555556,\"#d8576b\"],[0.6666666666666666,\"#ed7953\"],[0.7777777777777778,\"#fb9f3a\"],[0.8888888888888888,\"#fdca26\"],[1.0,\"#f0f921\"]]}],\"choropleth\":[{\"type\":\"choropleth\",\"colorbar\":{\"outlinewidth\":0,\"ticks\":\"\"}}],\"histogram2d\":[{\"type\":\"histogram2d\",\"colorbar\":{\"outlinewidth\":0,\"ticks\":\"\"},\"colorscale\":[[0.0,\"#0d0887\"],[0.1111111111111111,\"#46039f\"],[0.2222222222222222,\"#7201a8\"],[0.3333333333333333,\"#9c179e\"],[0.4444444444444444,\"#bd3786\"],[0.5555555555555556,\"#d8576b\"],[0.6666666666666666,\"#ed7953\"],[0.7777777777777778,\"#fb9f3a\"],[0.8888888888888888,\"#fdca26\"],[1.0,\"#f0f921\"]]}],\"heatmap\":[{\"type\":\"heatmap\",\"colorbar\":{\"outlinewidth\":0,\"ticks\":\"\"},\"colorscale\":[[0.0,\"#0d0887\"],[0.1111111111111111,\"#46039f\"],[0.2222222222222222,\"#7201a8\"],[0.3333333333333333,\"#9c179e\"],[0.4444444444444444,\"#bd3786\"],[0.5555555555555556,\"#d8576b\"],[0.6666666666666666,\"#ed7953\"],[0.7777777777777778,\"#fb9f3a\"],[0.8888888888888888,\"#fdca26\"],[1.0,\"#f0f921\"]]}],\"heatmapgl\":[{\"type\":\"heatmapgl\",\"colorbar\":{\"outlinewidth\":0,\"ticks\":\"\"},\"colorscale\":[[0.0,\"#0d0887\"],[0.1111111111111111,\"#46039f\"],[0.2222222222222222,\"#7201a8\"],[0.3333333333333333,\"#9c179e\"],[0.4444444444444444,\"#bd3786\"],[0.5555555555555556,\"#d8576b\"],[0.6666666666666666,\"#ed7953\"],[0.7777777777777778,\"#fb9f3a\"],[0.8888888888888888,\"#fdca26\"],[1.0,\"#f0f921\"]]}],\"contourcarpet\":[{\"type\":\"contourcarpet\",\"colorbar\":{\"outlinewidth\":0,\"ticks\":\"\"}}],\"contour\":[{\"type\":\"contour\",\"colorbar\":{\"outlinewidth\":0,\"ticks\":\"\"},\"colorscale\":[[0.0,\"#0d0887\"],[0.1111111111111111,\"#46039f\"],[0.2222222222222222,\"#7201a8\"],[0.3333333333333333,\"#9c179e\"],[0.4444444444444444,\"#bd3786\"],[0.5555555555555556,\"#d8576b\"],[0.6666666666666666,\"#ed7953\"],[0.7777777777777778,\"#fb9f3a\"],[0.8888888888888888,\"#fdca26\"],[1.0,\"#f0f921\"]]}],\"surface\":[{\"type\":\"surface\",\"colorbar\":{\"outlinewidth\":0,\"ticks\":\"\"},\"colorscale\":[[0.0,\"#0d0887\"],[0.1111111111111111,\"#46039f\"],[0.2222222222222222,\"#7201a8\"],[0.3333333333333333,\"#9c179e\"],[0.4444444444444444,\"#bd3786\"],[0.5555555555555556,\"#d8576b\"],[0.6666666666666666,\"#ed7953\"],[0.7777777777777778,\"#fb9f3a\"],[0.8888888888888888,\"#fdca26\"],[1.0,\"#f0f921\"]]}],\"mesh3d\":[{\"type\":\"mesh3d\",\"colorbar\":{\"outlinewidth\":0,\"ticks\":\"\"}}],\"scatter\":[{\"fillpattern\":{\"fillmode\":\"overlay\",\"size\":10,\"solidity\":0.2},\"type\":\"scatter\"}],\"parcoords\":[{\"type\":\"parcoords\",\"line\":{\"colorbar\":{\"outlinewidth\":0,\"ticks\":\"\"}}}],\"scatterpolargl\":[{\"type\":\"scatterpolargl\",\"marker\":{\"colorbar\":{\"outlinewidth\":0,\"ticks\":\"\"}}}],\"bar\":[{\"error_x\":{\"color\":\"#2a3f5f\"},\"error_y\":{\"color\":\"#2a3f5f\"},\"marker\":{\"line\":{\"color\":\"#E5ECF6\",\"width\":0.5},\"pattern\":{\"fillmode\":\"overlay\",\"size\":10,\"solidity\":0.2}},\"type\":\"bar\"}],\"scattergeo\":[{\"type\":\"scattergeo\",\"marker\":{\"colorbar\":{\"outlinewidth\":0,\"ticks\":\"\"}}}],\"scatterpolar\":[{\"type\":\"scatterpolar\",\"marker\":{\"colorbar\":{\"outlinewidth\":0,\"ticks\":\"\"}}}],\"histogram\":[{\"marker\":{\"pattern\":{\"fillmode\":\"overlay\",\"size\":10,\"solidity\":0.2}},\"type\":\"histogram\"}],\"scattergl\":[{\"type\":\"scattergl\",\"marker\":{\"colorbar\":{\"outlinewidth\":0,\"ticks\":\"\"}}}],\"scatter3d\":[{\"type\":\"scatter3d\",\"line\":{\"colorbar\":{\"outlinewidth\":0,\"ticks\":\"\"}},\"marker\":{\"colorbar\":{\"outlinewidth\":0,\"ticks\":\"\"}}}],\"scattermapbox\":[{\"type\":\"scattermapbox\",\"marker\":{\"colorbar\":{\"outlinewidth\":0,\"ticks\":\"\"}}}],\"scatterternary\":[{\"type\":\"scatterternary\",\"marker\":{\"colorbar\":{\"outlinewidth\":0,\"ticks\":\"\"}}}],\"scattercarpet\":[{\"type\":\"scattercarpet\",\"marker\":{\"colorbar\":{\"outlinewidth\":0,\"ticks\":\"\"}}}],\"carpet\":[{\"aaxis\":{\"endlinecolor\":\"#2a3f5f\",\"gridcolor\":\"white\",\"linecolor\":\"white\",\"minorgridcolor\":\"white\",\"startlinecolor\":\"#2a3f5f\"},\"baxis\":{\"endlinecolor\":\"#2a3f5f\",\"gridcolor\":\"white\",\"linecolor\":\"white\",\"minorgridcolor\":\"white\",\"startlinecolor\":\"#2a3f5f\"},\"type\":\"carpet\"}],\"table\":[{\"cells\":{\"fill\":{\"color\":\"#EBF0F8\"},\"line\":{\"color\":\"white\"}},\"header\":{\"fill\":{\"color\":\"#C8D4E3\"},\"line\":{\"color\":\"white\"}},\"type\":\"table\"}],\"barpolar\":[{\"marker\":{\"line\":{\"color\":\"#E5ECF6\",\"width\":0.5},\"pattern\":{\"fillmode\":\"overlay\",\"size\":10,\"solidity\":0.2}},\"type\":\"barpolar\"}],\"pie\":[{\"automargin\":true,\"type\":\"pie\"}]},\"layout\":{\"autotypenumbers\":\"strict\",\"colorway\":[\"#636efa\",\"#EF553B\",\"#00cc96\",\"#ab63fa\",\"#FFA15A\",\"#19d3f3\",\"#FF6692\",\"#B6E880\",\"#FF97FF\",\"#FECB52\"],\"font\":{\"color\":\"#2a3f5f\"},\"hovermode\":\"closest\",\"hoverlabel\":{\"align\":\"left\"},\"paper_bgcolor\":\"white\",\"plot_bgcolor\":\"#E5ECF6\",\"polar\":{\"bgcolor\":\"#E5ECF6\",\"angularaxis\":{\"gridcolor\":\"white\",\"linecolor\":\"white\",\"ticks\":\"\"},\"radialaxis\":{\"gridcolor\":\"white\",\"linecolor\":\"white\",\"ticks\":\"\"}},\"ternary\":{\"bgcolor\":\"#E5ECF6\",\"aaxis\":{\"gridcolor\":\"white\",\"linecolor\":\"white\",\"ticks\":\"\"},\"baxis\":{\"gridcolor\":\"white\",\"linecolor\":\"white\",\"ticks\":\"\"},\"caxis\":{\"gridcolor\":\"white\",\"linecolor\":\"white\",\"ticks\":\"\"}},\"coloraxis\":{\"colorbar\":{\"outlinewidth\":0,\"ticks\":\"\"}},\"colorscale\":{\"sequential\":[[0.0,\"#0d0887\"],[0.1111111111111111,\"#46039f\"],[0.2222222222222222,\"#7201a8\"],[0.3333333333333333,\"#9c179e\"],[0.4444444444444444,\"#bd3786\"],[0.5555555555555556,\"#d8576b\"],[0.6666666666666666,\"#ed7953\"],[0.7777777777777778,\"#fb9f3a\"],[0.8888888888888888,\"#fdca26\"],[1.0,\"#f0f921\"]],\"sequentialminus\":[[0.0,\"#0d0887\"],[0.1111111111111111,\"#46039f\"],[0.2222222222222222,\"#7201a8\"],[0.3333333333333333,\"#9c179e\"],[0.4444444444444444,\"#bd3786\"],[0.5555555555555556,\"#d8576b\"],[0.6666666666666666,\"#ed7953\"],[0.7777777777777778,\"#fb9f3a\"],[0.8888888888888888,\"#fdca26\"],[1.0,\"#f0f921\"]],\"diverging\":[[0,\"#8e0152\"],[0.1,\"#c51b7d\"],[0.2,\"#de77ae\"],[0.3,\"#f1b6da\"],[0.4,\"#fde0ef\"],[0.5,\"#f7f7f7\"],[0.6,\"#e6f5d0\"],[0.7,\"#b8e186\"],[0.8,\"#7fbc41\"],[0.9,\"#4d9221\"],[1,\"#276419\"]]},\"xaxis\":{\"gridcolor\":\"white\",\"linecolor\":\"white\",\"ticks\":\"\",\"title\":{\"standoff\":15},\"zerolinecolor\":\"white\",\"automargin\":true,\"zerolinewidth\":2},\"yaxis\":{\"gridcolor\":\"white\",\"linecolor\":\"white\",\"ticks\":\"\",\"title\":{\"standoff\":15},\"zerolinecolor\":\"white\",\"automargin\":true,\"zerolinewidth\":2},\"scene\":{\"xaxis\":{\"backgroundcolor\":\"#E5ECF6\",\"gridcolor\":\"white\",\"linecolor\":\"white\",\"showbackground\":true,\"ticks\":\"\",\"zerolinecolor\":\"white\",\"gridwidth\":2},\"yaxis\":{\"backgroundcolor\":\"#E5ECF6\",\"gridcolor\":\"white\",\"linecolor\":\"white\",\"showbackground\":true,\"ticks\":\"\",\"zerolinecolor\":\"white\",\"gridwidth\":2},\"zaxis\":{\"backgroundcolor\":\"#E5ECF6\",\"gridcolor\":\"white\",\"linecolor\":\"white\",\"showbackground\":true,\"ticks\":\"\",\"zerolinecolor\":\"white\",\"gridwidth\":2}},\"shapedefaults\":{\"line\":{\"color\":\"#2a3f5f\"}},\"annotationdefaults\":{\"arrowcolor\":\"#2a3f5f\",\"arrowhead\":0,\"arrowwidth\":1},\"geo\":{\"bgcolor\":\"white\",\"landcolor\":\"#E5ECF6\",\"subunitcolor\":\"white\",\"showland\":true,\"showlakes\":true,\"lakecolor\":\"white\"},\"title\":{\"x\":0.05},\"mapbox\":{\"style\":\"light\"}}},\"xaxis\":{\"anchor\":\"y\",\"domain\":[0.0,1.0],\"title\":{\"text\":\"peso\"}},\"yaxis\":{\"anchor\":\"x\",\"domain\":[0.0,1.0],\"title\":{\"text\":\"count\"}},\"legend\":{\"tracegroupgap\":0},\"margin\":{\"t\":60},\"barmode\":\"relative\"},                        {\"responsive\": true}                    ).then(function(){\n",
       "                            \n",
       "var gd = document.getElementById('8cc69e22-f1d0-4c13-8d07-bf3339f30aef');\n",
       "var x = new MutationObserver(function (mutations, observer) {{\n",
       "        var display = window.getComputedStyle(gd).display;\n",
       "        if (!display || display === 'none') {{\n",
       "            console.log([gd, 'removed!']);\n",
       "            Plotly.purge(gd);\n",
       "            observer.disconnect();\n",
       "        }}\n",
       "}});\n",
       "\n",
       "// Listen for the removal of the full notebook cells\n",
       "var notebookContainer = gd.closest('#notebook-container');\n",
       "if (notebookContainer) {{\n",
       "    x.observe(notebookContainer, {childList: true});\n",
       "}}\n",
       "\n",
       "// Listen for the clearing of the current output cell\n",
       "var outputEl = gd.closest('.output');\n",
       "if (outputEl) {{\n",
       "    x.observe(outputEl, {childList: true});\n",
       "}}\n",
       "\n",
       "                        })                };                });            </script>        </div>"
      ]
     },
     "metadata": {},
     "output_type": "display_data"
    }
   ],
   "source": [
    "import plotly.express as px\n",
    "\n",
    "fig = px.histogram(clientes, x=\"peso\", nbins=100)\n",
    "fig.show()"
   ]
  },
  {
   "cell_type": "code",
   "execution_count": 113,
   "metadata": {
    "colab": {
     "base_uri": "https://localhost:8080/",
     "height": 542
    },
    "id": "4btcER5_lOE5",
    "outputId": "15d94a61-add7-41de-d3a8-366556216816"
   },
   "outputs": [
    {
     "data": {
      "application/vnd.plotly.v1+json": {
       "config": {
        "plotlyServerURL": "https://plot.ly"
       },
       "data": [
        {
         "alignmentgroup": "True",
         "bingroup": "x",
         "hovertemplate": "colesterol=%{x}<br>count=%{y}<extra></extra>",
         "legendgroup": "",
         "marker": {
          "color": "#636efa",
          "pattern": {
           "shape": ""
          }
         },
         "name": "",
         "nbinsx": 100,
         "offsetgroup": "",
         "orientation": "v",
         "showlegend": false,
         "type": "histogram",
         "x": [
          111,
          135,
          136,
          167,
          158,
          227,
          131,
          176,
          223,
          221,
          116,
          222,
          102,
          192,
          152,
          213,
          125,
          204,
          189,
          163,
          189,
          122,
          228,
          168,
          102,
          218,
          123,
          222,
          208,
          183,
          204,
          167,
          188,
          126,
          213,
          122,
          225,
          105,
          155,
          203,
          225,
          177,
          139,
          224,
          207,
          158,
          218,
          164,
          154,
          118,
          138,
          199,
          219,
          183,
          128,
          197,
          196,
          208,
          152,
          175,
          129,
          185,
          107,
          167,
          185,
          110,
          194,
          221,
          166,
          143,
          163,
          158,
          191,
          216,
          106,
          146,
          220,
          131,
          147,
          141,
          130,
          204,
          152,
          111,
          139,
          172,
          168,
          148,
          123,
          189,
          220,
          120,
          106,
          105,
          157,
          149,
          185,
          106,
          115,
          177,
          108,
          140,
          214,
          216,
          130,
          169,
          110,
          209,
          162,
          214,
          145,
          116,
          209,
          116,
          139,
          143,
          168,
          158,
          232,
          136,
          180,
          228,
          222,
          117,
          224,
          104,
          195,
          156,
          213,
          133,
          208,
          195,
          163,
          195,
          124,
          231,
          172,
          104,
          221,
          128,
          222,
          214,
          184,
          204,
          195,
          132,
          214,
          123,
          233,
          107,
          162,
          204,
          227,
          185,
          142,
          225,
          212,
          161,
          220,
          168,
          155,
          125,
          144,
          201,
          222,
          189,
          132,
          204,
          201,
          211,
          156,
          179,
          129,
          185,
          107,
          213,
          172,
          193,
          114,
          202,
          222,
          168,
          146,
          170,
          165,
          196,
          224,
          108,
          149,
          224,
          136,
          152,
          135,
          211,
          156,
          115,
          143,
          179,
          173,
          148,
          127,
          194,
          225,
          127,
          106,
          112,
          164,
          151,
          191,
          110,
          116,
          235,
          108,
          141,
          219,
          219,
          138,
          169,
          116,
          212,
          162,
          220,
          151,
          119,
          212,
          111,
          142,
          138,
          172,
          158,
          228,
          134,
          181,
          231,
          223,
          121,
          222,
          102,
          195,
          156,
          214,
          132,
          204,
          190,
          167,
          195,
          127,
          235,
          171,
          110,
          221,
          128,
          226,
          208,
          191,
          205,
          173,
          191,
          128,
          220,
          126,
          232,
          108,
          159,
          211,
          232,
          182,
          145,
          224,
          209,
          160,
          219,
          170,
          161,
          122,
          141,
          204,
          226,
          187,
          129,
          199,
          199,
          214,
          159,
          176,
          129,
          187,
          109,
          212,
          170,
          191,
          116,
          202,
          226,
          166,
          151,
          170,
          166,
          193,
          218,
          109,
          152,
          220,
          133,
          152,
          142,
          131,
          204,
          153,
          114,
          144,
          172,
          176,
          150,
          129,
          190,
          226,
          128,
          106,
          107,
          159,
          157,
          192,
          110,
          115,
          183,
          233,
          112,
          146,
          222,
          216,
          134,
          174,
          114,
          211,
          167,
          214,
          145,
          120,
          217,
          113,
          141,
          140,
          171,
          163,
          232,
          131,
          184,
          225,
          223,
          121,
          223,
          105,
          197,
          160,
          218,
          131,
          211,
          194,
          169,
          189,
          128,
          228,
          169,
          108,
          219,
          124,
          224,
          214,
          190,
          205,
          167,
          190,
          128,
          217,
          126,
          228,
          105,
          162,
          211,
          227,
          178,
          146,
          227,
          208,
          163,
          225,
          167,
          162,
          125,
          144,
          199,
          226,
          183,
          136,
          199,
          204,
          215,
          155,
          179,
          133,
          186,
          111,
          219,
          173,
          185,
          118,
          199,
          226,
          169,
          144,
          166,
          166,
          198,
          222,
          110,
          154,
          226,
          135,
          151,
          146,
          133,
          205,
          154,
          116,
          145,
          174,
          168,
          156,
          124,
          196,
          227,
          122,
          106,
          110,
          158,
          154,
          190,
          110,
          120,
          180,
          232,
          110,
          142,
          222,
          218,
          138,
          176,
          115,
          211,
          168,
          216,
          147,
          124,
          215,
          117,
          139,
          138,
          171,
          158,
          232,
          139,
          178,
          224,
          224,
          116,
          223,
          109,
          193,
          155,
          221,
          130,
          212,
          190,
          169,
          191,
          122,
          234,
          175,
          108,
          220,
          126,
          227,
          216,
          188,
          205,
          172,
          192,
          129,
          219,
          127,
          228,
          105,
          159,
          205,
          228,
          178,
          139,
          232,
          212,
          162,
          226,
          171,
          159,
          120,
          143,
          200,
          221,
          184,
          134,
          200,
          201,
          210,
          159,
          178,
          137,
          190,
          110,
          213,
          170,
          193,
          113,
          196,
          222,
          174,
          143,
          169,
          165,
          194,
          217,
          113,
          150,
          223,
          133,
          149,
          149,
          130,
          207,
          157,
          115,
          147,
          176
         ],
         "xaxis": "x",
         "yaxis": "y"
        }
       ],
       "layout": {
        "barmode": "relative",
        "legend": {
         "tracegroupgap": 0
        },
        "margin": {
         "t": 60
        },
        "template": {
         "data": {
          "bar": [
           {
            "error_x": {
             "color": "#2a3f5f"
            },
            "error_y": {
             "color": "#2a3f5f"
            },
            "marker": {
             "line": {
              "color": "#E5ECF6",
              "width": 0.5
             },
             "pattern": {
              "fillmode": "overlay",
              "size": 10,
              "solidity": 0.2
             }
            },
            "type": "bar"
           }
          ],
          "barpolar": [
           {
            "marker": {
             "line": {
              "color": "#E5ECF6",
              "width": 0.5
             },
             "pattern": {
              "fillmode": "overlay",
              "size": 10,
              "solidity": 0.2
             }
            },
            "type": "barpolar"
           }
          ],
          "carpet": [
           {
            "aaxis": {
             "endlinecolor": "#2a3f5f",
             "gridcolor": "white",
             "linecolor": "white",
             "minorgridcolor": "white",
             "startlinecolor": "#2a3f5f"
            },
            "baxis": {
             "endlinecolor": "#2a3f5f",
             "gridcolor": "white",
             "linecolor": "white",
             "minorgridcolor": "white",
             "startlinecolor": "#2a3f5f"
            },
            "type": "carpet"
           }
          ],
          "choropleth": [
           {
            "colorbar": {
             "outlinewidth": 0,
             "ticks": ""
            },
            "type": "choropleth"
           }
          ],
          "contour": [
           {
            "colorbar": {
             "outlinewidth": 0,
             "ticks": ""
            },
            "colorscale": [
             [
              0,
              "#0d0887"
             ],
             [
              0.1111111111111111,
              "#46039f"
             ],
             [
              0.2222222222222222,
              "#7201a8"
             ],
             [
              0.3333333333333333,
              "#9c179e"
             ],
             [
              0.4444444444444444,
              "#bd3786"
             ],
             [
              0.5555555555555556,
              "#d8576b"
             ],
             [
              0.6666666666666666,
              "#ed7953"
             ],
             [
              0.7777777777777778,
              "#fb9f3a"
             ],
             [
              0.8888888888888888,
              "#fdca26"
             ],
             [
              1,
              "#f0f921"
             ]
            ],
            "type": "contour"
           }
          ],
          "contourcarpet": [
           {
            "colorbar": {
             "outlinewidth": 0,
             "ticks": ""
            },
            "type": "contourcarpet"
           }
          ],
          "heatmap": [
           {
            "colorbar": {
             "outlinewidth": 0,
             "ticks": ""
            },
            "colorscale": [
             [
              0,
              "#0d0887"
             ],
             [
              0.1111111111111111,
              "#46039f"
             ],
             [
              0.2222222222222222,
              "#7201a8"
             ],
             [
              0.3333333333333333,
              "#9c179e"
             ],
             [
              0.4444444444444444,
              "#bd3786"
             ],
             [
              0.5555555555555556,
              "#d8576b"
             ],
             [
              0.6666666666666666,
              "#ed7953"
             ],
             [
              0.7777777777777778,
              "#fb9f3a"
             ],
             [
              0.8888888888888888,
              "#fdca26"
             ],
             [
              1,
              "#f0f921"
             ]
            ],
            "type": "heatmap"
           }
          ],
          "heatmapgl": [
           {
            "colorbar": {
             "outlinewidth": 0,
             "ticks": ""
            },
            "colorscale": [
             [
              0,
              "#0d0887"
             ],
             [
              0.1111111111111111,
              "#46039f"
             ],
             [
              0.2222222222222222,
              "#7201a8"
             ],
             [
              0.3333333333333333,
              "#9c179e"
             ],
             [
              0.4444444444444444,
              "#bd3786"
             ],
             [
              0.5555555555555556,
              "#d8576b"
             ],
             [
              0.6666666666666666,
              "#ed7953"
             ],
             [
              0.7777777777777778,
              "#fb9f3a"
             ],
             [
              0.8888888888888888,
              "#fdca26"
             ],
             [
              1,
              "#f0f921"
             ]
            ],
            "type": "heatmapgl"
           }
          ],
          "histogram": [
           {
            "marker": {
             "pattern": {
              "fillmode": "overlay",
              "size": 10,
              "solidity": 0.2
             }
            },
            "type": "histogram"
           }
          ],
          "histogram2d": [
           {
            "colorbar": {
             "outlinewidth": 0,
             "ticks": ""
            },
            "colorscale": [
             [
              0,
              "#0d0887"
             ],
             [
              0.1111111111111111,
              "#46039f"
             ],
             [
              0.2222222222222222,
              "#7201a8"
             ],
             [
              0.3333333333333333,
              "#9c179e"
             ],
             [
              0.4444444444444444,
              "#bd3786"
             ],
             [
              0.5555555555555556,
              "#d8576b"
             ],
             [
              0.6666666666666666,
              "#ed7953"
             ],
             [
              0.7777777777777778,
              "#fb9f3a"
             ],
             [
              0.8888888888888888,
              "#fdca26"
             ],
             [
              1,
              "#f0f921"
             ]
            ],
            "type": "histogram2d"
           }
          ],
          "histogram2dcontour": [
           {
            "colorbar": {
             "outlinewidth": 0,
             "ticks": ""
            },
            "colorscale": [
             [
              0,
              "#0d0887"
             ],
             [
              0.1111111111111111,
              "#46039f"
             ],
             [
              0.2222222222222222,
              "#7201a8"
             ],
             [
              0.3333333333333333,
              "#9c179e"
             ],
             [
              0.4444444444444444,
              "#bd3786"
             ],
             [
              0.5555555555555556,
              "#d8576b"
             ],
             [
              0.6666666666666666,
              "#ed7953"
             ],
             [
              0.7777777777777778,
              "#fb9f3a"
             ],
             [
              0.8888888888888888,
              "#fdca26"
             ],
             [
              1,
              "#f0f921"
             ]
            ],
            "type": "histogram2dcontour"
           }
          ],
          "mesh3d": [
           {
            "colorbar": {
             "outlinewidth": 0,
             "ticks": ""
            },
            "type": "mesh3d"
           }
          ],
          "parcoords": [
           {
            "line": {
             "colorbar": {
              "outlinewidth": 0,
              "ticks": ""
             }
            },
            "type": "parcoords"
           }
          ],
          "pie": [
           {
            "automargin": true,
            "type": "pie"
           }
          ],
          "scatter": [
           {
            "fillpattern": {
             "fillmode": "overlay",
             "size": 10,
             "solidity": 0.2
            },
            "type": "scatter"
           }
          ],
          "scatter3d": [
           {
            "line": {
             "colorbar": {
              "outlinewidth": 0,
              "ticks": ""
             }
            },
            "marker": {
             "colorbar": {
              "outlinewidth": 0,
              "ticks": ""
             }
            },
            "type": "scatter3d"
           }
          ],
          "scattercarpet": [
           {
            "marker": {
             "colorbar": {
              "outlinewidth": 0,
              "ticks": ""
             }
            },
            "type": "scattercarpet"
           }
          ],
          "scattergeo": [
           {
            "marker": {
             "colorbar": {
              "outlinewidth": 0,
              "ticks": ""
             }
            },
            "type": "scattergeo"
           }
          ],
          "scattergl": [
           {
            "marker": {
             "colorbar": {
              "outlinewidth": 0,
              "ticks": ""
             }
            },
            "type": "scattergl"
           }
          ],
          "scattermapbox": [
           {
            "marker": {
             "colorbar": {
              "outlinewidth": 0,
              "ticks": ""
             }
            },
            "type": "scattermapbox"
           }
          ],
          "scatterpolar": [
           {
            "marker": {
             "colorbar": {
              "outlinewidth": 0,
              "ticks": ""
             }
            },
            "type": "scatterpolar"
           }
          ],
          "scatterpolargl": [
           {
            "marker": {
             "colorbar": {
              "outlinewidth": 0,
              "ticks": ""
             }
            },
            "type": "scatterpolargl"
           }
          ],
          "scatterternary": [
           {
            "marker": {
             "colorbar": {
              "outlinewidth": 0,
              "ticks": ""
             }
            },
            "type": "scatterternary"
           }
          ],
          "surface": [
           {
            "colorbar": {
             "outlinewidth": 0,
             "ticks": ""
            },
            "colorscale": [
             [
              0,
              "#0d0887"
             ],
             [
              0.1111111111111111,
              "#46039f"
             ],
             [
              0.2222222222222222,
              "#7201a8"
             ],
             [
              0.3333333333333333,
              "#9c179e"
             ],
             [
              0.4444444444444444,
              "#bd3786"
             ],
             [
              0.5555555555555556,
              "#d8576b"
             ],
             [
              0.6666666666666666,
              "#ed7953"
             ],
             [
              0.7777777777777778,
              "#fb9f3a"
             ],
             [
              0.8888888888888888,
              "#fdca26"
             ],
             [
              1,
              "#f0f921"
             ]
            ],
            "type": "surface"
           }
          ],
          "table": [
           {
            "cells": {
             "fill": {
              "color": "#EBF0F8"
             },
             "line": {
              "color": "white"
             }
            },
            "header": {
             "fill": {
              "color": "#C8D4E3"
             },
             "line": {
              "color": "white"
             }
            },
            "type": "table"
           }
          ]
         },
         "layout": {
          "annotationdefaults": {
           "arrowcolor": "#2a3f5f",
           "arrowhead": 0,
           "arrowwidth": 1
          },
          "autotypenumbers": "strict",
          "coloraxis": {
           "colorbar": {
            "outlinewidth": 0,
            "ticks": ""
           }
          },
          "colorscale": {
           "diverging": [
            [
             0,
             "#8e0152"
            ],
            [
             0.1,
             "#c51b7d"
            ],
            [
             0.2,
             "#de77ae"
            ],
            [
             0.3,
             "#f1b6da"
            ],
            [
             0.4,
             "#fde0ef"
            ],
            [
             0.5,
             "#f7f7f7"
            ],
            [
             0.6,
             "#e6f5d0"
            ],
            [
             0.7,
             "#b8e186"
            ],
            [
             0.8,
             "#7fbc41"
            ],
            [
             0.9,
             "#4d9221"
            ],
            [
             1,
             "#276419"
            ]
           ],
           "sequential": [
            [
             0,
             "#0d0887"
            ],
            [
             0.1111111111111111,
             "#46039f"
            ],
            [
             0.2222222222222222,
             "#7201a8"
            ],
            [
             0.3333333333333333,
             "#9c179e"
            ],
            [
             0.4444444444444444,
             "#bd3786"
            ],
            [
             0.5555555555555556,
             "#d8576b"
            ],
            [
             0.6666666666666666,
             "#ed7953"
            ],
            [
             0.7777777777777778,
             "#fb9f3a"
            ],
            [
             0.8888888888888888,
             "#fdca26"
            ],
            [
             1,
             "#f0f921"
            ]
           ],
           "sequentialminus": [
            [
             0,
             "#0d0887"
            ],
            [
             0.1111111111111111,
             "#46039f"
            ],
            [
             0.2222222222222222,
             "#7201a8"
            ],
            [
             0.3333333333333333,
             "#9c179e"
            ],
            [
             0.4444444444444444,
             "#bd3786"
            ],
            [
             0.5555555555555556,
             "#d8576b"
            ],
            [
             0.6666666666666666,
             "#ed7953"
            ],
            [
             0.7777777777777778,
             "#fb9f3a"
            ],
            [
             0.8888888888888888,
             "#fdca26"
            ],
            [
             1,
             "#f0f921"
            ]
           ]
          },
          "colorway": [
           "#636efa",
           "#EF553B",
           "#00cc96",
           "#ab63fa",
           "#FFA15A",
           "#19d3f3",
           "#FF6692",
           "#B6E880",
           "#FF97FF",
           "#FECB52"
          ],
          "font": {
           "color": "#2a3f5f"
          },
          "geo": {
           "bgcolor": "white",
           "lakecolor": "white",
           "landcolor": "#E5ECF6",
           "showlakes": true,
           "showland": true,
           "subunitcolor": "white"
          },
          "hoverlabel": {
           "align": "left"
          },
          "hovermode": "closest",
          "mapbox": {
           "style": "light"
          },
          "paper_bgcolor": "white",
          "plot_bgcolor": "#E5ECF6",
          "polar": {
           "angularaxis": {
            "gridcolor": "white",
            "linecolor": "white",
            "ticks": ""
           },
           "bgcolor": "#E5ECF6",
           "radialaxis": {
            "gridcolor": "white",
            "linecolor": "white",
            "ticks": ""
           }
          },
          "scene": {
           "xaxis": {
            "backgroundcolor": "#E5ECF6",
            "gridcolor": "white",
            "gridwidth": 2,
            "linecolor": "white",
            "showbackground": true,
            "ticks": "",
            "zerolinecolor": "white"
           },
           "yaxis": {
            "backgroundcolor": "#E5ECF6",
            "gridcolor": "white",
            "gridwidth": 2,
            "linecolor": "white",
            "showbackground": true,
            "ticks": "",
            "zerolinecolor": "white"
           },
           "zaxis": {
            "backgroundcolor": "#E5ECF6",
            "gridcolor": "white",
            "gridwidth": 2,
            "linecolor": "white",
            "showbackground": true,
            "ticks": "",
            "zerolinecolor": "white"
           }
          },
          "shapedefaults": {
           "line": {
            "color": "#2a3f5f"
           }
          },
          "ternary": {
           "aaxis": {
            "gridcolor": "white",
            "linecolor": "white",
            "ticks": ""
           },
           "baxis": {
            "gridcolor": "white",
            "linecolor": "white",
            "ticks": ""
           },
           "bgcolor": "#E5ECF6",
           "caxis": {
            "gridcolor": "white",
            "linecolor": "white",
            "ticks": ""
           }
          },
          "title": {
           "x": 0.05
          },
          "xaxis": {
           "automargin": true,
           "gridcolor": "white",
           "linecolor": "white",
           "ticks": "",
           "title": {
            "standoff": 15
           },
           "zerolinecolor": "white",
           "zerolinewidth": 2
          },
          "yaxis": {
           "automargin": true,
           "gridcolor": "white",
           "linecolor": "white",
           "ticks": "",
           "title": {
            "standoff": 15
           },
           "zerolinecolor": "white",
           "zerolinewidth": 2
          }
         }
        },
        "xaxis": {
         "anchor": "y",
         "domain": [
          0,
          1
         ],
         "title": {
          "text": "colesterol"
         }
        },
        "yaxis": {
         "anchor": "x",
         "domain": [
          0,
          1
         ],
         "title": {
          "text": "count"
         }
        }
       }
      },
      "text/html": [
       "<div>                            <div id=\"872cd2ce-65a2-4c84-9b8b-ab73cf31d449\" class=\"plotly-graph-div\" style=\"height:525px; width:100%;\"></div>            <script type=\"text/javascript\">                require([\"plotly\"], function(Plotly) {                    window.PLOTLYENV=window.PLOTLYENV || {};                                    if (document.getElementById(\"872cd2ce-65a2-4c84-9b8b-ab73cf31d449\")) {                    Plotly.newPlot(                        \"872cd2ce-65a2-4c84-9b8b-ab73cf31d449\",                        [{\"alignmentgroup\":\"True\",\"bingroup\":\"x\",\"hovertemplate\":\"colesterol=%{x}<br>count=%{y}<extra></extra>\",\"legendgroup\":\"\",\"marker\":{\"color\":\"#636efa\",\"pattern\":{\"shape\":\"\"}},\"name\":\"\",\"nbinsx\":100,\"offsetgroup\":\"\",\"orientation\":\"v\",\"showlegend\":false,\"x\":[111,135,136,167,158,227,131,176,223,221,116,222,102,192,152,213,125,204,189,163,189,122,228,168,102,218,123,222,208,183,204,167,188,126,213,122,225,105,155,203,225,177,139,224,207,158,218,164,154,118,138,199,219,183,128,197,196,208,152,175,129,185,107,167,185,110,194,221,166,143,163,158,191,216,106,146,220,131,147,141,130,204,152,111,139,172,168,148,123,189,220,120,106,105,157,149,185,106,115,177,108,140,214,216,130,169,110,209,162,214,145,116,209,116,139,143,168,158,232,136,180,228,222,117,224,104,195,156,213,133,208,195,163,195,124,231,172,104,221,128,222,214,184,204,195,132,214,123,233,107,162,204,227,185,142,225,212,161,220,168,155,125,144,201,222,189,132,204,201,211,156,179,129,185,107,213,172,193,114,202,222,168,146,170,165,196,224,108,149,224,136,152,135,211,156,115,143,179,173,148,127,194,225,127,106,112,164,151,191,110,116,235,108,141,219,219,138,169,116,212,162,220,151,119,212,111,142,138,172,158,228,134,181,231,223,121,222,102,195,156,214,132,204,190,167,195,127,235,171,110,221,128,226,208,191,205,173,191,128,220,126,232,108,159,211,232,182,145,224,209,160,219,170,161,122,141,204,226,187,129,199,199,214,159,176,129,187,109,212,170,191,116,202,226,166,151,170,166,193,218,109,152,220,133,152,142,131,204,153,114,144,172,176,150,129,190,226,128,106,107,159,157,192,110,115,183,233,112,146,222,216,134,174,114,211,167,214,145,120,217,113,141,140,171,163,232,131,184,225,223,121,223,105,197,160,218,131,211,194,169,189,128,228,169,108,219,124,224,214,190,205,167,190,128,217,126,228,105,162,211,227,178,146,227,208,163,225,167,162,125,144,199,226,183,136,199,204,215,155,179,133,186,111,219,173,185,118,199,226,169,144,166,166,198,222,110,154,226,135,151,146,133,205,154,116,145,174,168,156,124,196,227,122,106,110,158,154,190,110,120,180,232,110,142,222,218,138,176,115,211,168,216,147,124,215,117,139,138,171,158,232,139,178,224,224,116,223,109,193,155,221,130,212,190,169,191,122,234,175,108,220,126,227,216,188,205,172,192,129,219,127,228,105,159,205,228,178,139,232,212,162,226,171,159,120,143,200,221,184,134,200,201,210,159,178,137,190,110,213,170,193,113,196,222,174,143,169,165,194,217,113,150,223,133,149,149,130,207,157,115,147,176],\"xaxis\":\"x\",\"yaxis\":\"y\",\"type\":\"histogram\"}],                        {\"template\":{\"data\":{\"histogram2dcontour\":[{\"type\":\"histogram2dcontour\",\"colorbar\":{\"outlinewidth\":0,\"ticks\":\"\"},\"colorscale\":[[0.0,\"#0d0887\"],[0.1111111111111111,\"#46039f\"],[0.2222222222222222,\"#7201a8\"],[0.3333333333333333,\"#9c179e\"],[0.4444444444444444,\"#bd3786\"],[0.5555555555555556,\"#d8576b\"],[0.6666666666666666,\"#ed7953\"],[0.7777777777777778,\"#fb9f3a\"],[0.8888888888888888,\"#fdca26\"],[1.0,\"#f0f921\"]]}],\"choropleth\":[{\"type\":\"choropleth\",\"colorbar\":{\"outlinewidth\":0,\"ticks\":\"\"}}],\"histogram2d\":[{\"type\":\"histogram2d\",\"colorbar\":{\"outlinewidth\":0,\"ticks\":\"\"},\"colorscale\":[[0.0,\"#0d0887\"],[0.1111111111111111,\"#46039f\"],[0.2222222222222222,\"#7201a8\"],[0.3333333333333333,\"#9c179e\"],[0.4444444444444444,\"#bd3786\"],[0.5555555555555556,\"#d8576b\"],[0.6666666666666666,\"#ed7953\"],[0.7777777777777778,\"#fb9f3a\"],[0.8888888888888888,\"#fdca26\"],[1.0,\"#f0f921\"]]}],\"heatmap\":[{\"type\":\"heatmap\",\"colorbar\":{\"outlinewidth\":0,\"ticks\":\"\"},\"colorscale\":[[0.0,\"#0d0887\"],[0.1111111111111111,\"#46039f\"],[0.2222222222222222,\"#7201a8\"],[0.3333333333333333,\"#9c179e\"],[0.4444444444444444,\"#bd3786\"],[0.5555555555555556,\"#d8576b\"],[0.6666666666666666,\"#ed7953\"],[0.7777777777777778,\"#fb9f3a\"],[0.8888888888888888,\"#fdca26\"],[1.0,\"#f0f921\"]]}],\"heatmapgl\":[{\"type\":\"heatmapgl\",\"colorbar\":{\"outlinewidth\":0,\"ticks\":\"\"},\"colorscale\":[[0.0,\"#0d0887\"],[0.1111111111111111,\"#46039f\"],[0.2222222222222222,\"#7201a8\"],[0.3333333333333333,\"#9c179e\"],[0.4444444444444444,\"#bd3786\"],[0.5555555555555556,\"#d8576b\"],[0.6666666666666666,\"#ed7953\"],[0.7777777777777778,\"#fb9f3a\"],[0.8888888888888888,\"#fdca26\"],[1.0,\"#f0f921\"]]}],\"contourcarpet\":[{\"type\":\"contourcarpet\",\"colorbar\":{\"outlinewidth\":0,\"ticks\":\"\"}}],\"contour\":[{\"type\":\"contour\",\"colorbar\":{\"outlinewidth\":0,\"ticks\":\"\"},\"colorscale\":[[0.0,\"#0d0887\"],[0.1111111111111111,\"#46039f\"],[0.2222222222222222,\"#7201a8\"],[0.3333333333333333,\"#9c179e\"],[0.4444444444444444,\"#bd3786\"],[0.5555555555555556,\"#d8576b\"],[0.6666666666666666,\"#ed7953\"],[0.7777777777777778,\"#fb9f3a\"],[0.8888888888888888,\"#fdca26\"],[1.0,\"#f0f921\"]]}],\"surface\":[{\"type\":\"surface\",\"colorbar\":{\"outlinewidth\":0,\"ticks\":\"\"},\"colorscale\":[[0.0,\"#0d0887\"],[0.1111111111111111,\"#46039f\"],[0.2222222222222222,\"#7201a8\"],[0.3333333333333333,\"#9c179e\"],[0.4444444444444444,\"#bd3786\"],[0.5555555555555556,\"#d8576b\"],[0.6666666666666666,\"#ed7953\"],[0.7777777777777778,\"#fb9f3a\"],[0.8888888888888888,\"#fdca26\"],[1.0,\"#f0f921\"]]}],\"mesh3d\":[{\"type\":\"mesh3d\",\"colorbar\":{\"outlinewidth\":0,\"ticks\":\"\"}}],\"scatter\":[{\"fillpattern\":{\"fillmode\":\"overlay\",\"size\":10,\"solidity\":0.2},\"type\":\"scatter\"}],\"parcoords\":[{\"type\":\"parcoords\",\"line\":{\"colorbar\":{\"outlinewidth\":0,\"ticks\":\"\"}}}],\"scatterpolargl\":[{\"type\":\"scatterpolargl\",\"marker\":{\"colorbar\":{\"outlinewidth\":0,\"ticks\":\"\"}}}],\"bar\":[{\"error_x\":{\"color\":\"#2a3f5f\"},\"error_y\":{\"color\":\"#2a3f5f\"},\"marker\":{\"line\":{\"color\":\"#E5ECF6\",\"width\":0.5},\"pattern\":{\"fillmode\":\"overlay\",\"size\":10,\"solidity\":0.2}},\"type\":\"bar\"}],\"scattergeo\":[{\"type\":\"scattergeo\",\"marker\":{\"colorbar\":{\"outlinewidth\":0,\"ticks\":\"\"}}}],\"scatterpolar\":[{\"type\":\"scatterpolar\",\"marker\":{\"colorbar\":{\"outlinewidth\":0,\"ticks\":\"\"}}}],\"histogram\":[{\"marker\":{\"pattern\":{\"fillmode\":\"overlay\",\"size\":10,\"solidity\":0.2}},\"type\":\"histogram\"}],\"scattergl\":[{\"type\":\"scattergl\",\"marker\":{\"colorbar\":{\"outlinewidth\":0,\"ticks\":\"\"}}}],\"scatter3d\":[{\"type\":\"scatter3d\",\"line\":{\"colorbar\":{\"outlinewidth\":0,\"ticks\":\"\"}},\"marker\":{\"colorbar\":{\"outlinewidth\":0,\"ticks\":\"\"}}}],\"scattermapbox\":[{\"type\":\"scattermapbox\",\"marker\":{\"colorbar\":{\"outlinewidth\":0,\"ticks\":\"\"}}}],\"scatterternary\":[{\"type\":\"scatterternary\",\"marker\":{\"colorbar\":{\"outlinewidth\":0,\"ticks\":\"\"}}}],\"scattercarpet\":[{\"type\":\"scattercarpet\",\"marker\":{\"colorbar\":{\"outlinewidth\":0,\"ticks\":\"\"}}}],\"carpet\":[{\"aaxis\":{\"endlinecolor\":\"#2a3f5f\",\"gridcolor\":\"white\",\"linecolor\":\"white\",\"minorgridcolor\":\"white\",\"startlinecolor\":\"#2a3f5f\"},\"baxis\":{\"endlinecolor\":\"#2a3f5f\",\"gridcolor\":\"white\",\"linecolor\":\"white\",\"minorgridcolor\":\"white\",\"startlinecolor\":\"#2a3f5f\"},\"type\":\"carpet\"}],\"table\":[{\"cells\":{\"fill\":{\"color\":\"#EBF0F8\"},\"line\":{\"color\":\"white\"}},\"header\":{\"fill\":{\"color\":\"#C8D4E3\"},\"line\":{\"color\":\"white\"}},\"type\":\"table\"}],\"barpolar\":[{\"marker\":{\"line\":{\"color\":\"#E5ECF6\",\"width\":0.5},\"pattern\":{\"fillmode\":\"overlay\",\"size\":10,\"solidity\":0.2}},\"type\":\"barpolar\"}],\"pie\":[{\"automargin\":true,\"type\":\"pie\"}]},\"layout\":{\"autotypenumbers\":\"strict\",\"colorway\":[\"#636efa\",\"#EF553B\",\"#00cc96\",\"#ab63fa\",\"#FFA15A\",\"#19d3f3\",\"#FF6692\",\"#B6E880\",\"#FF97FF\",\"#FECB52\"],\"font\":{\"color\":\"#2a3f5f\"},\"hovermode\":\"closest\",\"hoverlabel\":{\"align\":\"left\"},\"paper_bgcolor\":\"white\",\"plot_bgcolor\":\"#E5ECF6\",\"polar\":{\"bgcolor\":\"#E5ECF6\",\"angularaxis\":{\"gridcolor\":\"white\",\"linecolor\":\"white\",\"ticks\":\"\"},\"radialaxis\":{\"gridcolor\":\"white\",\"linecolor\":\"white\",\"ticks\":\"\"}},\"ternary\":{\"bgcolor\":\"#E5ECF6\",\"aaxis\":{\"gridcolor\":\"white\",\"linecolor\":\"white\",\"ticks\":\"\"},\"baxis\":{\"gridcolor\":\"white\",\"linecolor\":\"white\",\"ticks\":\"\"},\"caxis\":{\"gridcolor\":\"white\",\"linecolor\":\"white\",\"ticks\":\"\"}},\"coloraxis\":{\"colorbar\":{\"outlinewidth\":0,\"ticks\":\"\"}},\"colorscale\":{\"sequential\":[[0.0,\"#0d0887\"],[0.1111111111111111,\"#46039f\"],[0.2222222222222222,\"#7201a8\"],[0.3333333333333333,\"#9c179e\"],[0.4444444444444444,\"#bd3786\"],[0.5555555555555556,\"#d8576b\"],[0.6666666666666666,\"#ed7953\"],[0.7777777777777778,\"#fb9f3a\"],[0.8888888888888888,\"#fdca26\"],[1.0,\"#f0f921\"]],\"sequentialminus\":[[0.0,\"#0d0887\"],[0.1111111111111111,\"#46039f\"],[0.2222222222222222,\"#7201a8\"],[0.3333333333333333,\"#9c179e\"],[0.4444444444444444,\"#bd3786\"],[0.5555555555555556,\"#d8576b\"],[0.6666666666666666,\"#ed7953\"],[0.7777777777777778,\"#fb9f3a\"],[0.8888888888888888,\"#fdca26\"],[1.0,\"#f0f921\"]],\"diverging\":[[0,\"#8e0152\"],[0.1,\"#c51b7d\"],[0.2,\"#de77ae\"],[0.3,\"#f1b6da\"],[0.4,\"#fde0ef\"],[0.5,\"#f7f7f7\"],[0.6,\"#e6f5d0\"],[0.7,\"#b8e186\"],[0.8,\"#7fbc41\"],[0.9,\"#4d9221\"],[1,\"#276419\"]]},\"xaxis\":{\"gridcolor\":\"white\",\"linecolor\":\"white\",\"ticks\":\"\",\"title\":{\"standoff\":15},\"zerolinecolor\":\"white\",\"automargin\":true,\"zerolinewidth\":2},\"yaxis\":{\"gridcolor\":\"white\",\"linecolor\":\"white\",\"ticks\":\"\",\"title\":{\"standoff\":15},\"zerolinecolor\":\"white\",\"automargin\":true,\"zerolinewidth\":2},\"scene\":{\"xaxis\":{\"backgroundcolor\":\"#E5ECF6\",\"gridcolor\":\"white\",\"linecolor\":\"white\",\"showbackground\":true,\"ticks\":\"\",\"zerolinecolor\":\"white\",\"gridwidth\":2},\"yaxis\":{\"backgroundcolor\":\"#E5ECF6\",\"gridcolor\":\"white\",\"linecolor\":\"white\",\"showbackground\":true,\"ticks\":\"\",\"zerolinecolor\":\"white\",\"gridwidth\":2},\"zaxis\":{\"backgroundcolor\":\"#E5ECF6\",\"gridcolor\":\"white\",\"linecolor\":\"white\",\"showbackground\":true,\"ticks\":\"\",\"zerolinecolor\":\"white\",\"gridwidth\":2}},\"shapedefaults\":{\"line\":{\"color\":\"#2a3f5f\"}},\"annotationdefaults\":{\"arrowcolor\":\"#2a3f5f\",\"arrowhead\":0,\"arrowwidth\":1},\"geo\":{\"bgcolor\":\"white\",\"landcolor\":\"#E5ECF6\",\"subunitcolor\":\"white\",\"showland\":true,\"showlakes\":true,\"lakecolor\":\"white\"},\"title\":{\"x\":0.05},\"mapbox\":{\"style\":\"light\"}}},\"xaxis\":{\"anchor\":\"y\",\"domain\":[0.0,1.0],\"title\":{\"text\":\"colesterol\"}},\"yaxis\":{\"anchor\":\"x\",\"domain\":[0.0,1.0],\"title\":{\"text\":\"count\"}},\"legend\":{\"tracegroupgap\":0},\"margin\":{\"t\":60},\"barmode\":\"relative\"},                        {\"responsive\": true}                    ).then(function(){\n",
       "                            \n",
       "var gd = document.getElementById('872cd2ce-65a2-4c84-9b8b-ab73cf31d449');\n",
       "var x = new MutationObserver(function (mutations, observer) {{\n",
       "        var display = window.getComputedStyle(gd).display;\n",
       "        if (!display || display === 'none') {{\n",
       "            console.log([gd, 'removed!']);\n",
       "            Plotly.purge(gd);\n",
       "            observer.disconnect();\n",
       "        }}\n",
       "}});\n",
       "\n",
       "// Listen for the removal of the full notebook cells\n",
       "var notebookContainer = gd.closest('#notebook-container');\n",
       "if (notebookContainer) {{\n",
       "    x.observe(notebookContainer, {childList: true});\n",
       "}}\n",
       "\n",
       "// Listen for the clearing of the current output cell\n",
       "var outputEl = gd.closest('.output');\n",
       "if (outputEl) {{\n",
       "    x.observe(outputEl, {childList: true});\n",
       "}}\n",
       "\n",
       "                        })                };                });            </script>        </div>"
      ]
     },
     "metadata": {},
     "output_type": "display_data"
    }
   ],
   "source": [
    "#criando histograma para colesterol\n",
    "fig = px.histogram(clientes, x=\"colesterol\", nbins=100)\n",
    "fig.show()"
   ]
  },
  {
   "cell_type": "markdown",
   "metadata": {
    "id": "JC5O1FAlkKVs"
   },
   "source": [
    "### Juntando as bases de dados"
   ]
  },
  {
   "cell_type": "code",
   "execution_count": 114,
   "metadata": {
    "colab": {
     "base_uri": "https://localhost:8080/",
     "height": 269
    },
    "id": "DWgkU9xCkNYs",
    "outputId": "cb0c5d28-dbce-41d3-9ae3-ab0e78610c05"
   },
   "outputs": [
    {
     "data": {
      "text/html": [
       "<div>\n",
       "<style scoped>\n",
       "    .dataframe tbody tr th:only-of-type {\n",
       "        vertical-align: middle;\n",
       "    }\n",
       "\n",
       "    .dataframe tbody tr th {\n",
       "        vertical-align: top;\n",
       "    }\n",
       "\n",
       "    .dataframe thead th {\n",
       "        text-align: right;\n",
       "    }\n",
       "</style>\n",
       "<table border=\"1\" class=\"dataframe\">\n",
       "  <thead>\n",
       "    <tr style=\"text-align: right;\">\n",
       "      <th></th>\n",
       "      <th>id_estado</th>\n",
       "      <th>estado</th>\n",
       "      <th>sigla_estado</th>\n",
       "      <th>pais</th>\n",
       "    </tr>\n",
       "  </thead>\n",
       "  <tbody>\n",
       "    <tr>\n",
       "      <th>0</th>\n",
       "      <td>1</td>\n",
       "      <td>Acre</td>\n",
       "      <td>ac</td>\n",
       "      <td>Brasil</td>\n",
       "    </tr>\n",
       "    <tr>\n",
       "      <th>1</th>\n",
       "      <td>2</td>\n",
       "      <td>Alagoas</td>\n",
       "      <td>al</td>\n",
       "      <td>Brasil</td>\n",
       "    </tr>\n",
       "    <tr>\n",
       "      <th>2</th>\n",
       "      <td>3</td>\n",
       "      <td>Amapá</td>\n",
       "      <td>ap</td>\n",
       "      <td>Brasil</td>\n",
       "    </tr>\n",
       "    <tr>\n",
       "      <th>3</th>\n",
       "      <td>4</td>\n",
       "      <td>Amazonas</td>\n",
       "      <td>am</td>\n",
       "      <td>Brasil</td>\n",
       "    </tr>\n",
       "    <tr>\n",
       "      <th>4</th>\n",
       "      <td>5</td>\n",
       "      <td>Bahia</td>\n",
       "      <td>ba</td>\n",
       "      <td>Brasil</td>\n",
       "    </tr>\n",
       "    <tr>\n",
       "      <th>5</th>\n",
       "      <td>6</td>\n",
       "      <td>Ceará</td>\n",
       "      <td>ce</td>\n",
       "      <td>Brasil</td>\n",
       "    </tr>\n",
       "    <tr>\n",
       "      <th>6</th>\n",
       "      <td>7</td>\n",
       "      <td>Distrito Federal</td>\n",
       "      <td>df</td>\n",
       "      <td>Brasil</td>\n",
       "    </tr>\n",
       "  </tbody>\n",
       "</table>\n",
       "</div>"
      ],
      "text/plain": [
       "   id_estado            estado sigla_estado    pais\n",
       "0          1              Acre           ac  Brasil\n",
       "1          2           Alagoas           al  Brasil\n",
       "2          3             Amapá           ap  Brasil\n",
       "3          4          Amazonas           am  Brasil\n",
       "4          5             Bahia           ba  Brasil\n",
       "5          6             Ceará           ce  Brasil\n",
       "6          7  Distrito Federal           df  Brasil"
      ]
     },
     "execution_count": 114,
     "metadata": {},
     "output_type": "execute_result"
    }
   ],
   "source": [
    "estados[:7]"
   ]
  },
  {
   "cell_type": "code",
   "execution_count": 115,
   "metadata": {
    "colab": {
     "base_uri": "https://localhost:8080/",
     "height": 269
    },
    "id": "FBzn4j-RkXU0",
    "outputId": "7225a884-eaf8-45a4-f584-d4f40e63b90a"
   },
   "outputs": [
    {
     "data": {
      "text/html": [
       "<div>\n",
       "<style scoped>\n",
       "    .dataframe tbody tr th:only-of-type {\n",
       "        vertical-align: middle;\n",
       "    }\n",
       "\n",
       "    .dataframe tbody tr th {\n",
       "        vertical-align: top;\n",
       "    }\n",
       "\n",
       "    .dataframe thead th {\n",
       "        text-align: right;\n",
       "    }\n",
       "</style>\n",
       "<table border=\"1\" class=\"dataframe\">\n",
       "  <thead>\n",
       "    <tr style=\"text-align: right;\">\n",
       "      <th></th>\n",
       "      <th>id_cliente</th>\n",
       "      <th>peso</th>\n",
       "      <th>colesterol</th>\n",
       "      <th>genero</th>\n",
       "      <th>id_estado</th>\n",
       "    </tr>\n",
       "  </thead>\n",
       "  <tbody>\n",
       "    <tr>\n",
       "      <th>0</th>\n",
       "      <td>1</td>\n",
       "      <td>102.0</td>\n",
       "      <td>111</td>\n",
       "      <td>Masculino</td>\n",
       "      <td>23</td>\n",
       "    </tr>\n",
       "    <tr>\n",
       "      <th>1</th>\n",
       "      <td>2</td>\n",
       "      <td>115.0</td>\n",
       "      <td>135</td>\n",
       "      <td>Masculino</td>\n",
       "      <td>7</td>\n",
       "    </tr>\n",
       "    <tr>\n",
       "      <th>2</th>\n",
       "      <td>3</td>\n",
       "      <td>115.0</td>\n",
       "      <td>136</td>\n",
       "      <td>Masculino</td>\n",
       "      <td>4</td>\n",
       "    </tr>\n",
       "    <tr>\n",
       "      <th>3</th>\n",
       "      <td>4</td>\n",
       "      <td>140.0</td>\n",
       "      <td>167</td>\n",
       "      <td>Feminino</td>\n",
       "      <td>24</td>\n",
       "    </tr>\n",
       "    <tr>\n",
       "      <th>4</th>\n",
       "      <td>5</td>\n",
       "      <td>130.0</td>\n",
       "      <td>158</td>\n",
       "      <td>Masculino</td>\n",
       "      <td>26</td>\n",
       "    </tr>\n",
       "    <tr>\n",
       "      <th>5</th>\n",
       "      <td>6</td>\n",
       "      <td>198.0</td>\n",
       "      <td>227</td>\n",
       "      <td>Masculino</td>\n",
       "      <td>8</td>\n",
       "    </tr>\n",
       "    <tr>\n",
       "      <th>6</th>\n",
       "      <td>7</td>\n",
       "      <td>114.0</td>\n",
       "      <td>131</td>\n",
       "      <td>Masculino</td>\n",
       "      <td>26</td>\n",
       "    </tr>\n",
       "  </tbody>\n",
       "</table>\n",
       "</div>"
      ],
      "text/plain": [
       "   id_cliente   peso  colesterol     genero  id_estado\n",
       "0           1  102.0         111  Masculino         23\n",
       "1           2  115.0         135  Masculino          7\n",
       "2           3  115.0         136  Masculino          4\n",
       "3           4  140.0         167   Feminino         24\n",
       "4           5  130.0         158  Masculino         26\n",
       "5           6  198.0         227  Masculino          8\n",
       "6           7  114.0         131  Masculino         26"
      ]
     },
     "execution_count": 115,
     "metadata": {},
     "output_type": "execute_result"
    }
   ],
   "source": [
    "clientes[:7]"
   ]
  },
  {
   "cell_type": "code",
   "execution_count": 116,
   "metadata": {
    "colab": {
     "base_uri": "https://localhost:8080/",
     "height": 467
    },
    "id": "Q7C4rMWFkae_",
    "outputId": "a7e777d7-0977-48bc-8ac4-e2aafc0ae3c9"
   },
   "outputs": [
    {
     "data": {
      "text/html": [
       "<div>\n",
       "<style scoped>\n",
       "    .dataframe tbody tr th:only-of-type {\n",
       "        vertical-align: middle;\n",
       "    }\n",
       "\n",
       "    .dataframe tbody tr th {\n",
       "        vertical-align: top;\n",
       "    }\n",
       "\n",
       "    .dataframe thead th {\n",
       "        text-align: right;\n",
       "    }\n",
       "</style>\n",
       "<table border=\"1\" class=\"dataframe\">\n",
       "  <thead>\n",
       "    <tr style=\"text-align: right;\">\n",
       "      <th></th>\n",
       "      <th>id_cliente</th>\n",
       "      <th>peso</th>\n",
       "      <th>colesterol</th>\n",
       "      <th>genero</th>\n",
       "      <th>id_estado</th>\n",
       "      <th>estado</th>\n",
       "      <th>sigla_estado</th>\n",
       "      <th>pais</th>\n",
       "    </tr>\n",
       "  </thead>\n",
       "  <tbody>\n",
       "    <tr>\n",
       "      <th>0</th>\n",
       "      <td>1</td>\n",
       "      <td>102.0</td>\n",
       "      <td>111</td>\n",
       "      <td>Masculino</td>\n",
       "      <td>23</td>\n",
       "      <td>Roraima</td>\n",
       "      <td>rr</td>\n",
       "      <td>Brasil</td>\n",
       "    </tr>\n",
       "    <tr>\n",
       "      <th>17</th>\n",
       "      <td>2</td>\n",
       "      <td>115.0</td>\n",
       "      <td>135</td>\n",
       "      <td>Masculino</td>\n",
       "      <td>7</td>\n",
       "      <td>Distrito Federal</td>\n",
       "      <td>df</td>\n",
       "      <td>Brasil</td>\n",
       "    </tr>\n",
       "    <tr>\n",
       "      <th>39</th>\n",
       "      <td>3</td>\n",
       "      <td>115.0</td>\n",
       "      <td>136</td>\n",
       "      <td>Masculino</td>\n",
       "      <td>4</td>\n",
       "      <td>Amazonas</td>\n",
       "      <td>am</td>\n",
       "      <td>Brasil</td>\n",
       "    </tr>\n",
       "    <tr>\n",
       "      <th>64</th>\n",
       "      <td>5</td>\n",
       "      <td>130.0</td>\n",
       "      <td>158</td>\n",
       "      <td>Masculino</td>\n",
       "      <td>26</td>\n",
       "      <td>Sergipe</td>\n",
       "      <td>se</td>\n",
       "      <td>Brasil</td>\n",
       "    </tr>\n",
       "    <tr>\n",
       "      <th>83</th>\n",
       "      <td>6</td>\n",
       "      <td>198.0</td>\n",
       "      <td>227</td>\n",
       "      <td>Masculino</td>\n",
       "      <td>8</td>\n",
       "      <td>Espírito Santo</td>\n",
       "      <td>es</td>\n",
       "      <td>Brasil</td>\n",
       "    </tr>\n",
       "    <tr>\n",
       "      <th>...</th>\n",
       "      <td>...</td>\n",
       "      <td>...</td>\n",
       "      <td>...</td>\n",
       "      <td>...</td>\n",
       "      <td>...</td>\n",
       "      <td>...</td>\n",
       "      <td>...</td>\n",
       "      <td>...</td>\n",
       "    </tr>\n",
       "    <tr>\n",
       "      <th>418</th>\n",
       "      <td>543</td>\n",
       "      <td>172.0</td>\n",
       "      <td>207</td>\n",
       "      <td>Masculino</td>\n",
       "      <td>22</td>\n",
       "      <td>Rondônia</td>\n",
       "      <td>ro</td>\n",
       "      <td>Brasil</td>\n",
       "    </tr>\n",
       "    <tr>\n",
       "      <th>430</th>\n",
       "      <td>544</td>\n",
       "      <td>129.0</td>\n",
       "      <td>157</td>\n",
       "      <td>Masculino</td>\n",
       "      <td>1</td>\n",
       "      <td>Acre</td>\n",
       "      <td>ac</td>\n",
       "      <td>Brasil</td>\n",
       "    </tr>\n",
       "    <tr>\n",
       "      <th>155</th>\n",
       "      <td>545</td>\n",
       "      <td>107.0</td>\n",
       "      <td>115</td>\n",
       "      <td>Masculino</td>\n",
       "      <td>6</td>\n",
       "      <td>Ceará</td>\n",
       "      <td>ce</td>\n",
       "      <td>Brasil</td>\n",
       "    </tr>\n",
       "    <tr>\n",
       "      <th>372</th>\n",
       "      <td>546</td>\n",
       "      <td>117.0</td>\n",
       "      <td>147</td>\n",
       "      <td>Masculino</td>\n",
       "      <td>20</td>\n",
       "      <td>Rio Grande do Norte</td>\n",
       "      <td>rn</td>\n",
       "      <td>Brasil</td>\n",
       "    </tr>\n",
       "    <tr>\n",
       "      <th>100</th>\n",
       "      <td>547</td>\n",
       "      <td>148.0</td>\n",
       "      <td>176</td>\n",
       "      <td>Masculino</td>\n",
       "      <td>8</td>\n",
       "      <td>Espírito Santo</td>\n",
       "      <td>es</td>\n",
       "      <td>Brasil</td>\n",
       "    </tr>\n",
       "  </tbody>\n",
       "</table>\n",
       "<p>498 rows × 8 columns</p>\n",
       "</div>"
      ],
      "text/plain": [
       "     id_cliente   peso  colesterol     genero  id_estado               estado  \\\n",
       "0             1  102.0         111  Masculino         23              Roraima   \n",
       "17            2  115.0         135  Masculino          7     Distrito Federal   \n",
       "39            3  115.0         136  Masculino          4             Amazonas   \n",
       "64            5  130.0         158  Masculino         26              Sergipe   \n",
       "83            6  198.0         227  Masculino          8       Espírito Santo   \n",
       "..          ...    ...         ...        ...        ...                  ...   \n",
       "418         543  172.0         207  Masculino         22             Rondônia   \n",
       "430         544  129.0         157  Masculino          1                 Acre   \n",
       "155         545  107.0         115  Masculino          6                Ceará   \n",
       "372         546  117.0         147  Masculino         20  Rio Grande do Norte   \n",
       "100         547  148.0         176  Masculino          8       Espírito Santo   \n",
       "\n",
       "    sigla_estado    pais  \n",
       "0             rr  Brasil  \n",
       "17            df  Brasil  \n",
       "39            am  Brasil  \n",
       "64            se  Brasil  \n",
       "83            es  Brasil  \n",
       "..           ...     ...  \n",
       "418           ro  Brasil  \n",
       "430           ac  Brasil  \n",
       "155           ce  Brasil  \n",
       "372           rn  Brasil  \n",
       "100           es  Brasil  \n",
       "\n",
       "[498 rows x 8 columns]"
      ]
     },
     "execution_count": 116,
     "metadata": {},
     "output_type": "execute_result"
    }
   ],
   "source": [
    "# vai fazer um join entre as bases de dados\n",
    "clientes_estados = pd.merge(clientes, estados, on='id_estado')\n",
    "clientes_estados.sort_values('id_cliente')"
   ]
  },
  {
   "cell_type": "code",
   "execution_count": 117,
   "metadata": {
    "id": "yGSj9RZekftP"
   },
   "outputs": [],
   "source": [
    "# realiza a junção entre clientes e idades\n",
    "base_completa = pd.merge(clientes_estados, idade, on='id_cliente').sort_values('id_cliente')"
   ]
  },
  {
   "cell_type": "code",
   "execution_count": 118,
   "metadata": {
    "colab": {
     "base_uri": "https://localhost:8080/",
     "height": 485
    },
    "id": "ZcifCPlQkg2H",
    "outputId": "e360da5a-73e5-4018-8893-524d7466c865"
   },
   "outputs": [
    {
     "data": {
      "text/html": [
       "<div>\n",
       "<style scoped>\n",
       "    .dataframe tbody tr th:only-of-type {\n",
       "        vertical-align: middle;\n",
       "    }\n",
       "\n",
       "    .dataframe tbody tr th {\n",
       "        vertical-align: top;\n",
       "    }\n",
       "\n",
       "    .dataframe thead th {\n",
       "        text-align: right;\n",
       "    }\n",
       "</style>\n",
       "<table border=\"1\" class=\"dataframe\">\n",
       "  <thead>\n",
       "    <tr style=\"text-align: right;\">\n",
       "      <th></th>\n",
       "      <th>id_cliente</th>\n",
       "      <th>peso</th>\n",
       "      <th>colesterol</th>\n",
       "      <th>genero</th>\n",
       "      <th>id_estado</th>\n",
       "      <th>estado</th>\n",
       "      <th>sigla_estado</th>\n",
       "      <th>pais</th>\n",
       "      <th>idade</th>\n",
       "    </tr>\n",
       "  </thead>\n",
       "  <tbody>\n",
       "    <tr>\n",
       "      <th>0</th>\n",
       "      <td>1</td>\n",
       "      <td>102.0</td>\n",
       "      <td>111</td>\n",
       "      <td>Masculino</td>\n",
       "      <td>23</td>\n",
       "      <td>Roraima</td>\n",
       "      <td>rr</td>\n",
       "      <td>Brasil</td>\n",
       "      <td>17</td>\n",
       "    </tr>\n",
       "    <tr>\n",
       "      <th>17</th>\n",
       "      <td>2</td>\n",
       "      <td>115.0</td>\n",
       "      <td>135</td>\n",
       "      <td>Masculino</td>\n",
       "      <td>7</td>\n",
       "      <td>Distrito Federal</td>\n",
       "      <td>df</td>\n",
       "      <td>Brasil</td>\n",
       "      <td>28</td>\n",
       "    </tr>\n",
       "    <tr>\n",
       "      <th>39</th>\n",
       "      <td>3</td>\n",
       "      <td>115.0</td>\n",
       "      <td>136</td>\n",
       "      <td>Masculino</td>\n",
       "      <td>4</td>\n",
       "      <td>Amazonas</td>\n",
       "      <td>am</td>\n",
       "      <td>Brasil</td>\n",
       "      <td>62</td>\n",
       "    </tr>\n",
       "    <tr>\n",
       "      <th>64</th>\n",
       "      <td>5</td>\n",
       "      <td>130.0</td>\n",
       "      <td>158</td>\n",
       "      <td>Masculino</td>\n",
       "      <td>26</td>\n",
       "      <td>Sergipe</td>\n",
       "      <td>se</td>\n",
       "      <td>Brasil</td>\n",
       "      <td>44</td>\n",
       "    </tr>\n",
       "    <tr>\n",
       "      <th>83</th>\n",
       "      <td>6</td>\n",
       "      <td>198.0</td>\n",
       "      <td>227</td>\n",
       "      <td>Masculino</td>\n",
       "      <td>8</td>\n",
       "      <td>Espírito Santo</td>\n",
       "      <td>es</td>\n",
       "      <td>Brasil</td>\n",
       "      <td>17</td>\n",
       "    </tr>\n",
       "    <tr>\n",
       "      <th>...</th>\n",
       "      <td>...</td>\n",
       "      <td>...</td>\n",
       "      <td>...</td>\n",
       "      <td>...</td>\n",
       "      <td>...</td>\n",
       "      <td>...</td>\n",
       "      <td>...</td>\n",
       "      <td>...</td>\n",
       "      <td>...</td>\n",
       "    </tr>\n",
       "    <tr>\n",
       "      <th>418</th>\n",
       "      <td>543</td>\n",
       "      <td>172.0</td>\n",
       "      <td>207</td>\n",
       "      <td>Masculino</td>\n",
       "      <td>22</td>\n",
       "      <td>Rondônia</td>\n",
       "      <td>ro</td>\n",
       "      <td>Brasil</td>\n",
       "      <td>20</td>\n",
       "    </tr>\n",
       "    <tr>\n",
       "      <th>430</th>\n",
       "      <td>544</td>\n",
       "      <td>129.0</td>\n",
       "      <td>157</td>\n",
       "      <td>Masculino</td>\n",
       "      <td>1</td>\n",
       "      <td>Acre</td>\n",
       "      <td>ac</td>\n",
       "      <td>Brasil</td>\n",
       "      <td>66</td>\n",
       "    </tr>\n",
       "    <tr>\n",
       "      <th>155</th>\n",
       "      <td>545</td>\n",
       "      <td>107.0</td>\n",
       "      <td>115</td>\n",
       "      <td>Masculino</td>\n",
       "      <td>6</td>\n",
       "      <td>Ceará</td>\n",
       "      <td>ce</td>\n",
       "      <td>Brasil</td>\n",
       "      <td>36</td>\n",
       "    </tr>\n",
       "    <tr>\n",
       "      <th>372</th>\n",
       "      <td>546</td>\n",
       "      <td>117.0</td>\n",
       "      <td>147</td>\n",
       "      <td>Masculino</td>\n",
       "      <td>20</td>\n",
       "      <td>Rio Grande do Norte</td>\n",
       "      <td>rn</td>\n",
       "      <td>Brasil</td>\n",
       "      <td>57</td>\n",
       "    </tr>\n",
       "    <tr>\n",
       "      <th>100</th>\n",
       "      <td>547</td>\n",
       "      <td>148.0</td>\n",
       "      <td>176</td>\n",
       "      <td>Masculino</td>\n",
       "      <td>8</td>\n",
       "      <td>Espírito Santo</td>\n",
       "      <td>es</td>\n",
       "      <td>Brasil</td>\n",
       "      <td>61</td>\n",
       "    </tr>\n",
       "  </tbody>\n",
       "</table>\n",
       "<p>498 rows × 9 columns</p>\n",
       "</div>"
      ],
      "text/plain": [
       "     id_cliente   peso  colesterol     genero  id_estado               estado  \\\n",
       "0             1  102.0         111  Masculino         23              Roraima   \n",
       "17            2  115.0         135  Masculino          7     Distrito Federal   \n",
       "39            3  115.0         136  Masculino          4             Amazonas   \n",
       "64            5  130.0         158  Masculino         26              Sergipe   \n",
       "83            6  198.0         227  Masculino          8       Espírito Santo   \n",
       "..          ...    ...         ...        ...        ...                  ...   \n",
       "418         543  172.0         207  Masculino         22             Rondônia   \n",
       "430         544  129.0         157  Masculino          1                 Acre   \n",
       "155         545  107.0         115  Masculino          6                Ceará   \n",
       "372         546  117.0         147  Masculino         20  Rio Grande do Norte   \n",
       "100         547  148.0         176  Masculino          8       Espírito Santo   \n",
       "\n",
       "    sigla_estado    pais  idade  \n",
       "0             rr  Brasil     17  \n",
       "17            df  Brasil     28  \n",
       "39            am  Brasil     62  \n",
       "64            se  Brasil     44  \n",
       "83            es  Brasil     17  \n",
       "..           ...     ...    ...  \n",
       "418           ro  Brasil     20  \n",
       "430           ac  Brasil     66  \n",
       "155           ce  Brasil     36  \n",
       "372           rn  Brasil     57  \n",
       "100           es  Brasil     61  \n",
       "\n",
       "[498 rows x 9 columns]"
      ]
     },
     "execution_count": 118,
     "metadata": {},
     "output_type": "execute_result"
    }
   ],
   "source": [
    "base_completa"
   ]
  },
  {
   "cell_type": "code",
   "execution_count": 119,
   "metadata": {
    "colab": {
     "base_uri": "https://localhost:8080/",
     "height": 485
    },
    "id": "maD1lAqzkj9_",
    "outputId": "14629a05-9264-4dc6-d786-b9f3607ddb54"
   },
   "outputs": [
    {
     "data": {
      "text/html": [
       "<div>\n",
       "<style scoped>\n",
       "    .dataframe tbody tr th:only-of-type {\n",
       "        vertical-align: middle;\n",
       "    }\n",
       "\n",
       "    .dataframe tbody tr th {\n",
       "        vertical-align: top;\n",
       "    }\n",
       "\n",
       "    .dataframe thead th {\n",
       "        text-align: right;\n",
       "    }\n",
       "</style>\n",
       "<table border=\"1\" class=\"dataframe\">\n",
       "  <thead>\n",
       "    <tr style=\"text-align: right;\">\n",
       "      <th></th>\n",
       "      <th>id_cliente</th>\n",
       "      <th>peso</th>\n",
       "      <th>colesterol</th>\n",
       "      <th>genero</th>\n",
       "      <th>id_estado</th>\n",
       "      <th>estado</th>\n",
       "      <th>sigla_estado</th>\n",
       "      <th>pais</th>\n",
       "      <th>idade</th>\n",
       "    </tr>\n",
       "  </thead>\n",
       "  <tbody>\n",
       "    <tr>\n",
       "      <th>0</th>\n",
       "      <td>1</td>\n",
       "      <td>102.0</td>\n",
       "      <td>111</td>\n",
       "      <td>Masculino</td>\n",
       "      <td>23</td>\n",
       "      <td>Roraima</td>\n",
       "      <td>rr</td>\n",
       "      <td>Brasil</td>\n",
       "      <td>17</td>\n",
       "    </tr>\n",
       "    <tr>\n",
       "      <th>1</th>\n",
       "      <td>2</td>\n",
       "      <td>115.0</td>\n",
       "      <td>135</td>\n",
       "      <td>Masculino</td>\n",
       "      <td>7</td>\n",
       "      <td>Distrito Federal</td>\n",
       "      <td>df</td>\n",
       "      <td>Brasil</td>\n",
       "      <td>28</td>\n",
       "    </tr>\n",
       "    <tr>\n",
       "      <th>2</th>\n",
       "      <td>3</td>\n",
       "      <td>115.0</td>\n",
       "      <td>136</td>\n",
       "      <td>Masculino</td>\n",
       "      <td>4</td>\n",
       "      <td>Amazonas</td>\n",
       "      <td>am</td>\n",
       "      <td>Brasil</td>\n",
       "      <td>62</td>\n",
       "    </tr>\n",
       "    <tr>\n",
       "      <th>3</th>\n",
       "      <td>5</td>\n",
       "      <td>130.0</td>\n",
       "      <td>158</td>\n",
       "      <td>Masculino</td>\n",
       "      <td>26</td>\n",
       "      <td>Sergipe</td>\n",
       "      <td>se</td>\n",
       "      <td>Brasil</td>\n",
       "      <td>44</td>\n",
       "    </tr>\n",
       "    <tr>\n",
       "      <th>4</th>\n",
       "      <td>6</td>\n",
       "      <td>198.0</td>\n",
       "      <td>227</td>\n",
       "      <td>Masculino</td>\n",
       "      <td>8</td>\n",
       "      <td>Espírito Santo</td>\n",
       "      <td>es</td>\n",
       "      <td>Brasil</td>\n",
       "      <td>17</td>\n",
       "    </tr>\n",
       "    <tr>\n",
       "      <th>...</th>\n",
       "      <td>...</td>\n",
       "      <td>...</td>\n",
       "      <td>...</td>\n",
       "      <td>...</td>\n",
       "      <td>...</td>\n",
       "      <td>...</td>\n",
       "      <td>...</td>\n",
       "      <td>...</td>\n",
       "      <td>...</td>\n",
       "    </tr>\n",
       "    <tr>\n",
       "      <th>493</th>\n",
       "      <td>543</td>\n",
       "      <td>172.0</td>\n",
       "      <td>207</td>\n",
       "      <td>Masculino</td>\n",
       "      <td>22</td>\n",
       "      <td>Rondônia</td>\n",
       "      <td>ro</td>\n",
       "      <td>Brasil</td>\n",
       "      <td>20</td>\n",
       "    </tr>\n",
       "    <tr>\n",
       "      <th>494</th>\n",
       "      <td>544</td>\n",
       "      <td>129.0</td>\n",
       "      <td>157</td>\n",
       "      <td>Masculino</td>\n",
       "      <td>1</td>\n",
       "      <td>Acre</td>\n",
       "      <td>ac</td>\n",
       "      <td>Brasil</td>\n",
       "      <td>66</td>\n",
       "    </tr>\n",
       "    <tr>\n",
       "      <th>495</th>\n",
       "      <td>545</td>\n",
       "      <td>107.0</td>\n",
       "      <td>115</td>\n",
       "      <td>Masculino</td>\n",
       "      <td>6</td>\n",
       "      <td>Ceará</td>\n",
       "      <td>ce</td>\n",
       "      <td>Brasil</td>\n",
       "      <td>36</td>\n",
       "    </tr>\n",
       "    <tr>\n",
       "      <th>496</th>\n",
       "      <td>546</td>\n",
       "      <td>117.0</td>\n",
       "      <td>147</td>\n",
       "      <td>Masculino</td>\n",
       "      <td>20</td>\n",
       "      <td>Rio Grande do Norte</td>\n",
       "      <td>rn</td>\n",
       "      <td>Brasil</td>\n",
       "      <td>57</td>\n",
       "    </tr>\n",
       "    <tr>\n",
       "      <th>497</th>\n",
       "      <td>547</td>\n",
       "      <td>148.0</td>\n",
       "      <td>176</td>\n",
       "      <td>Masculino</td>\n",
       "      <td>8</td>\n",
       "      <td>Espírito Santo</td>\n",
       "      <td>es</td>\n",
       "      <td>Brasil</td>\n",
       "      <td>61</td>\n",
       "    </tr>\n",
       "  </tbody>\n",
       "</table>\n",
       "<p>498 rows × 9 columns</p>\n",
       "</div>"
      ],
      "text/plain": [
       "     id_cliente   peso  colesterol     genero  id_estado               estado  \\\n",
       "0             1  102.0         111  Masculino         23              Roraima   \n",
       "1             2  115.0         135  Masculino          7     Distrito Federal   \n",
       "2             3  115.0         136  Masculino          4             Amazonas   \n",
       "3             5  130.0         158  Masculino         26              Sergipe   \n",
       "4             6  198.0         227  Masculino          8       Espírito Santo   \n",
       "..          ...    ...         ...        ...        ...                  ...   \n",
       "493         543  172.0         207  Masculino         22             Rondônia   \n",
       "494         544  129.0         157  Masculino          1                 Acre   \n",
       "495         545  107.0         115  Masculino          6                Ceará   \n",
       "496         546  117.0         147  Masculino         20  Rio Grande do Norte   \n",
       "497         547  148.0         176  Masculino          8       Espírito Santo   \n",
       "\n",
       "    sigla_estado    pais  idade  \n",
       "0             rr  Brasil     17  \n",
       "1             df  Brasil     28  \n",
       "2             am  Brasil     62  \n",
       "3             se  Brasil     44  \n",
       "4             es  Brasil     17  \n",
       "..           ...     ...    ...  \n",
       "493           ro  Brasil     20  \n",
       "494           ac  Brasil     66  \n",
       "495           ce  Brasil     36  \n",
       "496           rn  Brasil     57  \n",
       "497           es  Brasil     61  \n",
       "\n",
       "[498 rows x 9 columns]"
      ]
     },
     "execution_count": 119,
     "metadata": {},
     "output_type": "execute_result"
    }
   ],
   "source": [
    "# resetando index\n",
    "base_completa.reset_index(drop=True)"
   ]
  },
  {
   "cell_type": "markdown",
   "metadata": {
    "id": "LvZXoY2ylMgt"
   },
   "source": [
    "### Organizando as bases de dados"
   ]
  },
  {
   "cell_type": "code",
   "execution_count": 120,
   "metadata": {
    "colab": {
     "base_uri": "https://localhost:8080/",
     "height": 502
    },
    "id": "up9Fq_7qlPOt",
    "outputId": "e40c2b77-ad85-4c36-ef0b-ea00cc14733b"
   },
   "outputs": [
    {
     "data": {
      "text/html": [
       "<div>\n",
       "<style scoped>\n",
       "    .dataframe tbody tr th:only-of-type {\n",
       "        vertical-align: middle;\n",
       "    }\n",
       "\n",
       "    .dataframe tbody tr th {\n",
       "        vertical-align: top;\n",
       "    }\n",
       "\n",
       "    .dataframe thead th {\n",
       "        text-align: right;\n",
       "    }\n",
       "</style>\n",
       "<table border=\"1\" class=\"dataframe\">\n",
       "  <thead>\n",
       "    <tr style=\"text-align: right;\">\n",
       "      <th></th>\n",
       "      <th>cod_cliente</th>\n",
       "      <th>peso</th>\n",
       "      <th>colesterol</th>\n",
       "      <th>genero</th>\n",
       "      <th>id_estado</th>\n",
       "      <th>estado</th>\n",
       "      <th>sigla_estado</th>\n",
       "      <th>pais</th>\n",
       "      <th>idade</th>\n",
       "    </tr>\n",
       "  </thead>\n",
       "  <tbody>\n",
       "    <tr>\n",
       "      <th>0</th>\n",
       "      <td>1</td>\n",
       "      <td>102.0</td>\n",
       "      <td>111</td>\n",
       "      <td>Masculino</td>\n",
       "      <td>23</td>\n",
       "      <td>Roraima</td>\n",
       "      <td>rr</td>\n",
       "      <td>Brasil</td>\n",
       "      <td>17</td>\n",
       "    </tr>\n",
       "    <tr>\n",
       "      <th>17</th>\n",
       "      <td>2</td>\n",
       "      <td>115.0</td>\n",
       "      <td>135</td>\n",
       "      <td>Masculino</td>\n",
       "      <td>7</td>\n",
       "      <td>Distrito Federal</td>\n",
       "      <td>df</td>\n",
       "      <td>Brasil</td>\n",
       "      <td>28</td>\n",
       "    </tr>\n",
       "    <tr>\n",
       "      <th>39</th>\n",
       "      <td>3</td>\n",
       "      <td>115.0</td>\n",
       "      <td>136</td>\n",
       "      <td>Masculino</td>\n",
       "      <td>4</td>\n",
       "      <td>Amazonas</td>\n",
       "      <td>am</td>\n",
       "      <td>Brasil</td>\n",
       "      <td>62</td>\n",
       "    </tr>\n",
       "    <tr>\n",
       "      <th>64</th>\n",
       "      <td>5</td>\n",
       "      <td>130.0</td>\n",
       "      <td>158</td>\n",
       "      <td>Masculino</td>\n",
       "      <td>26</td>\n",
       "      <td>Sergipe</td>\n",
       "      <td>se</td>\n",
       "      <td>Brasil</td>\n",
       "      <td>44</td>\n",
       "    </tr>\n",
       "    <tr>\n",
       "      <th>83</th>\n",
       "      <td>6</td>\n",
       "      <td>198.0</td>\n",
       "      <td>227</td>\n",
       "      <td>Masculino</td>\n",
       "      <td>8</td>\n",
       "      <td>Espírito Santo</td>\n",
       "      <td>es</td>\n",
       "      <td>Brasil</td>\n",
       "      <td>17</td>\n",
       "    </tr>\n",
       "    <tr>\n",
       "      <th>...</th>\n",
       "      <td>...</td>\n",
       "      <td>...</td>\n",
       "      <td>...</td>\n",
       "      <td>...</td>\n",
       "      <td>...</td>\n",
       "      <td>...</td>\n",
       "      <td>...</td>\n",
       "      <td>...</td>\n",
       "      <td>...</td>\n",
       "    </tr>\n",
       "    <tr>\n",
       "      <th>418</th>\n",
       "      <td>543</td>\n",
       "      <td>172.0</td>\n",
       "      <td>207</td>\n",
       "      <td>Masculino</td>\n",
       "      <td>22</td>\n",
       "      <td>Rondônia</td>\n",
       "      <td>ro</td>\n",
       "      <td>Brasil</td>\n",
       "      <td>20</td>\n",
       "    </tr>\n",
       "    <tr>\n",
       "      <th>430</th>\n",
       "      <td>544</td>\n",
       "      <td>129.0</td>\n",
       "      <td>157</td>\n",
       "      <td>Masculino</td>\n",
       "      <td>1</td>\n",
       "      <td>Acre</td>\n",
       "      <td>ac</td>\n",
       "      <td>Brasil</td>\n",
       "      <td>66</td>\n",
       "    </tr>\n",
       "    <tr>\n",
       "      <th>155</th>\n",
       "      <td>545</td>\n",
       "      <td>107.0</td>\n",
       "      <td>115</td>\n",
       "      <td>Masculino</td>\n",
       "      <td>6</td>\n",
       "      <td>Ceará</td>\n",
       "      <td>ce</td>\n",
       "      <td>Brasil</td>\n",
       "      <td>36</td>\n",
       "    </tr>\n",
       "    <tr>\n",
       "      <th>372</th>\n",
       "      <td>546</td>\n",
       "      <td>117.0</td>\n",
       "      <td>147</td>\n",
       "      <td>Masculino</td>\n",
       "      <td>20</td>\n",
       "      <td>Rio Grande do Norte</td>\n",
       "      <td>rn</td>\n",
       "      <td>Brasil</td>\n",
       "      <td>57</td>\n",
       "    </tr>\n",
       "    <tr>\n",
       "      <th>100</th>\n",
       "      <td>547</td>\n",
       "      <td>148.0</td>\n",
       "      <td>176</td>\n",
       "      <td>Masculino</td>\n",
       "      <td>8</td>\n",
       "      <td>Espírito Santo</td>\n",
       "      <td>es</td>\n",
       "      <td>Brasil</td>\n",
       "      <td>61</td>\n",
       "    </tr>\n",
       "  </tbody>\n",
       "</table>\n",
       "<p>498 rows × 9 columns</p>\n",
       "</div>"
      ],
      "text/plain": [
       "     cod_cliente   peso  colesterol     genero  id_estado  \\\n",
       "0              1  102.0         111  Masculino         23   \n",
       "17             2  115.0         135  Masculino          7   \n",
       "39             3  115.0         136  Masculino          4   \n",
       "64             5  130.0         158  Masculino         26   \n",
       "83             6  198.0         227  Masculino          8   \n",
       "..           ...    ...         ...        ...        ...   \n",
       "418          543  172.0         207  Masculino         22   \n",
       "430          544  129.0         157  Masculino          1   \n",
       "155          545  107.0         115  Masculino          6   \n",
       "372          546  117.0         147  Masculino         20   \n",
       "100          547  148.0         176  Masculino          8   \n",
       "\n",
       "                  estado sigla_estado    pais  idade  \n",
       "0                Roraima           rr  Brasil     17  \n",
       "17      Distrito Federal           df  Brasil     28  \n",
       "39              Amazonas           am  Brasil     62  \n",
       "64               Sergipe           se  Brasil     44  \n",
       "83        Espírito Santo           es  Brasil     17  \n",
       "..                   ...          ...     ...    ...  \n",
       "418             Rondônia           ro  Brasil     20  \n",
       "430                 Acre           ac  Brasil     66  \n",
       "155                Ceará           ce  Brasil     36  \n",
       "372  Rio Grande do Norte           rn  Brasil     57  \n",
       "100       Espírito Santo           es  Brasil     61  \n",
       "\n",
       "[498 rows x 9 columns]"
      ]
     },
     "execution_count": 120,
     "metadata": {},
     "output_type": "execute_result"
    }
   ],
   "source": [
    "# renomeando coluna\n",
    "base_completa.rename(columns = {'id_cliente': 'cod_cliente'}, inplace=True)\n",
    "base_completa"
   ]
  },
  {
   "cell_type": "code",
   "execution_count": 121,
   "metadata": {
    "colab": {
     "base_uri": "https://localhost:8080/",
     "height": 502
    },
    "id": "8zE27PpBmCwd",
    "outputId": "67839150-d577-4595-adce-0e7d4874e903"
   },
   "outputs": [
    {
     "data": {
      "text/html": [
       "<div>\n",
       "<style scoped>\n",
       "    .dataframe tbody tr th:only-of-type {\n",
       "        vertical-align: middle;\n",
       "    }\n",
       "\n",
       "    .dataframe tbody tr th {\n",
       "        vertical-align: top;\n",
       "    }\n",
       "\n",
       "    .dataframe thead th {\n",
       "        text-align: right;\n",
       "    }\n",
       "</style>\n",
       "<table border=\"1\" class=\"dataframe\">\n",
       "  <thead>\n",
       "    <tr style=\"text-align: right;\">\n",
       "      <th></th>\n",
       "      <th>cod_cliente</th>\n",
       "      <th>peso</th>\n",
       "      <th>colesterol</th>\n",
       "      <th>genero</th>\n",
       "      <th>id_estado</th>\n",
       "      <th>estado</th>\n",
       "      <th>sigla_estado</th>\n",
       "      <th>pais</th>\n",
       "      <th>idade</th>\n",
       "    </tr>\n",
       "  </thead>\n",
       "  <tbody>\n",
       "    <tr>\n",
       "      <th>0</th>\n",
       "      <td>1</td>\n",
       "      <td>102.0</td>\n",
       "      <td>111</td>\n",
       "      <td>Masculino</td>\n",
       "      <td>23</td>\n",
       "      <td>Roraima</td>\n",
       "      <td>RR</td>\n",
       "      <td>Brasil</td>\n",
       "      <td>17</td>\n",
       "    </tr>\n",
       "    <tr>\n",
       "      <th>17</th>\n",
       "      <td>2</td>\n",
       "      <td>115.0</td>\n",
       "      <td>135</td>\n",
       "      <td>Masculino</td>\n",
       "      <td>7</td>\n",
       "      <td>Distrito Federal</td>\n",
       "      <td>DF</td>\n",
       "      <td>Brasil</td>\n",
       "      <td>28</td>\n",
       "    </tr>\n",
       "    <tr>\n",
       "      <th>39</th>\n",
       "      <td>3</td>\n",
       "      <td>115.0</td>\n",
       "      <td>136</td>\n",
       "      <td>Masculino</td>\n",
       "      <td>4</td>\n",
       "      <td>Amazonas</td>\n",
       "      <td>AM</td>\n",
       "      <td>Brasil</td>\n",
       "      <td>62</td>\n",
       "    </tr>\n",
       "    <tr>\n",
       "      <th>64</th>\n",
       "      <td>5</td>\n",
       "      <td>130.0</td>\n",
       "      <td>158</td>\n",
       "      <td>Masculino</td>\n",
       "      <td>26</td>\n",
       "      <td>Sergipe</td>\n",
       "      <td>SE</td>\n",
       "      <td>Brasil</td>\n",
       "      <td>44</td>\n",
       "    </tr>\n",
       "    <tr>\n",
       "      <th>83</th>\n",
       "      <td>6</td>\n",
       "      <td>198.0</td>\n",
       "      <td>227</td>\n",
       "      <td>Masculino</td>\n",
       "      <td>8</td>\n",
       "      <td>Espírito Santo</td>\n",
       "      <td>ES</td>\n",
       "      <td>Brasil</td>\n",
       "      <td>17</td>\n",
       "    </tr>\n",
       "    <tr>\n",
       "      <th>...</th>\n",
       "      <td>...</td>\n",
       "      <td>...</td>\n",
       "      <td>...</td>\n",
       "      <td>...</td>\n",
       "      <td>...</td>\n",
       "      <td>...</td>\n",
       "      <td>...</td>\n",
       "      <td>...</td>\n",
       "      <td>...</td>\n",
       "    </tr>\n",
       "    <tr>\n",
       "      <th>418</th>\n",
       "      <td>543</td>\n",
       "      <td>172.0</td>\n",
       "      <td>207</td>\n",
       "      <td>Masculino</td>\n",
       "      <td>22</td>\n",
       "      <td>Rondônia</td>\n",
       "      <td>RO</td>\n",
       "      <td>Brasil</td>\n",
       "      <td>20</td>\n",
       "    </tr>\n",
       "    <tr>\n",
       "      <th>430</th>\n",
       "      <td>544</td>\n",
       "      <td>129.0</td>\n",
       "      <td>157</td>\n",
       "      <td>Masculino</td>\n",
       "      <td>1</td>\n",
       "      <td>Acre</td>\n",
       "      <td>AC</td>\n",
       "      <td>Brasil</td>\n",
       "      <td>66</td>\n",
       "    </tr>\n",
       "    <tr>\n",
       "      <th>155</th>\n",
       "      <td>545</td>\n",
       "      <td>107.0</td>\n",
       "      <td>115</td>\n",
       "      <td>Masculino</td>\n",
       "      <td>6</td>\n",
       "      <td>Ceará</td>\n",
       "      <td>CE</td>\n",
       "      <td>Brasil</td>\n",
       "      <td>36</td>\n",
       "    </tr>\n",
       "    <tr>\n",
       "      <th>372</th>\n",
       "      <td>546</td>\n",
       "      <td>117.0</td>\n",
       "      <td>147</td>\n",
       "      <td>Masculino</td>\n",
       "      <td>20</td>\n",
       "      <td>Rio Grande do Norte</td>\n",
       "      <td>RN</td>\n",
       "      <td>Brasil</td>\n",
       "      <td>57</td>\n",
       "    </tr>\n",
       "    <tr>\n",
       "      <th>100</th>\n",
       "      <td>547</td>\n",
       "      <td>148.0</td>\n",
       "      <td>176</td>\n",
       "      <td>Masculino</td>\n",
       "      <td>8</td>\n",
       "      <td>Espírito Santo</td>\n",
       "      <td>ES</td>\n",
       "      <td>Brasil</td>\n",
       "      <td>61</td>\n",
       "    </tr>\n",
       "  </tbody>\n",
       "</table>\n",
       "<p>498 rows × 9 columns</p>\n",
       "</div>"
      ],
      "text/plain": [
       "     cod_cliente   peso  colesterol     genero  id_estado  \\\n",
       "0              1  102.0         111  Masculino         23   \n",
       "17             2  115.0         135  Masculino          7   \n",
       "39             3  115.0         136  Masculino          4   \n",
       "64             5  130.0         158  Masculino         26   \n",
       "83             6  198.0         227  Masculino          8   \n",
       "..           ...    ...         ...        ...        ...   \n",
       "418          543  172.0         207  Masculino         22   \n",
       "430          544  129.0         157  Masculino          1   \n",
       "155          545  107.0         115  Masculino          6   \n",
       "372          546  117.0         147  Masculino         20   \n",
       "100          547  148.0         176  Masculino          8   \n",
       "\n",
       "                  estado sigla_estado    pais  idade  \n",
       "0                Roraima           RR  Brasil     17  \n",
       "17      Distrito Federal           DF  Brasil     28  \n",
       "39              Amazonas           AM  Brasil     62  \n",
       "64               Sergipe           SE  Brasil     44  \n",
       "83        Espírito Santo           ES  Brasil     17  \n",
       "..                   ...          ...     ...    ...  \n",
       "418             Rondônia           RO  Brasil     20  \n",
       "430                 Acre           AC  Brasil     66  \n",
       "155                Ceará           CE  Brasil     36  \n",
       "372  Rio Grande do Norte           RN  Brasil     57  \n",
       "100       Espírito Santo           ES  Brasil     61  \n",
       "\n",
       "[498 rows x 9 columns]"
      ]
     },
     "execution_count": 121,
     "metadata": {},
     "output_type": "execute_result"
    }
   ],
   "source": [
    "# alterar sigla estado para upercase\n",
    "base_completa['sigla_estado'] = base_completa.sigla_estado.str.upper()\n",
    "base_completa"
   ]
  },
  {
   "cell_type": "code",
   "execution_count": 122,
   "metadata": {
    "colab": {
     "base_uri": "https://localhost:8080/",
     "height": 423
    },
    "id": "fYD8grNSmXpt",
    "outputId": "66781d83-37e7-4c96-c111-b701abab02dc"
   },
   "outputs": [
    {
     "data": {
      "text/html": [
       "<div>\n",
       "<style scoped>\n",
       "    .dataframe tbody tr th:only-of-type {\n",
       "        vertical-align: middle;\n",
       "    }\n",
       "\n",
       "    .dataframe tbody tr th {\n",
       "        vertical-align: top;\n",
       "    }\n",
       "\n",
       "    .dataframe thead th {\n",
       "        text-align: right;\n",
       "    }\n",
       "</style>\n",
       "<table border=\"1\" class=\"dataframe\">\n",
       "  <thead>\n",
       "    <tr style=\"text-align: right;\">\n",
       "      <th></th>\n",
       "      <th>cod_cliente</th>\n",
       "      <th>genero</th>\n",
       "      <th>idade</th>\n",
       "      <th>peso</th>\n",
       "      <th>id_estado</th>\n",
       "      <th>estado</th>\n",
       "      <th>sigla_estado</th>\n",
       "      <th>pais</th>\n",
       "    </tr>\n",
       "  </thead>\n",
       "  <tbody>\n",
       "    <tr>\n",
       "      <th>0</th>\n",
       "      <td>1</td>\n",
       "      <td>Masculino</td>\n",
       "      <td>17</td>\n",
       "      <td>102.0</td>\n",
       "      <td>23</td>\n",
       "      <td>Roraima</td>\n",
       "      <td>RR</td>\n",
       "      <td>Brasil</td>\n",
       "    </tr>\n",
       "    <tr>\n",
       "      <th>1</th>\n",
       "      <td>2</td>\n",
       "      <td>Masculino</td>\n",
       "      <td>28</td>\n",
       "      <td>115.0</td>\n",
       "      <td>7</td>\n",
       "      <td>Distrito Federal</td>\n",
       "      <td>DF</td>\n",
       "      <td>Brasil</td>\n",
       "    </tr>\n",
       "    <tr>\n",
       "      <th>2</th>\n",
       "      <td>3</td>\n",
       "      <td>Masculino</td>\n",
       "      <td>62</td>\n",
       "      <td>115.0</td>\n",
       "      <td>4</td>\n",
       "      <td>Amazonas</td>\n",
       "      <td>AM</td>\n",
       "      <td>Brasil</td>\n",
       "    </tr>\n",
       "    <tr>\n",
       "      <th>3</th>\n",
       "      <td>5</td>\n",
       "      <td>Masculino</td>\n",
       "      <td>44</td>\n",
       "      <td>130.0</td>\n",
       "      <td>26</td>\n",
       "      <td>Sergipe</td>\n",
       "      <td>SE</td>\n",
       "      <td>Brasil</td>\n",
       "    </tr>\n",
       "    <tr>\n",
       "      <th>4</th>\n",
       "      <td>6</td>\n",
       "      <td>Masculino</td>\n",
       "      <td>17</td>\n",
       "      <td>198.0</td>\n",
       "      <td>8</td>\n",
       "      <td>Espírito Santo</td>\n",
       "      <td>ES</td>\n",
       "      <td>Brasil</td>\n",
       "    </tr>\n",
       "    <tr>\n",
       "      <th>...</th>\n",
       "      <td>...</td>\n",
       "      <td>...</td>\n",
       "      <td>...</td>\n",
       "      <td>...</td>\n",
       "      <td>...</td>\n",
       "      <td>...</td>\n",
       "      <td>...</td>\n",
       "      <td>...</td>\n",
       "    </tr>\n",
       "    <tr>\n",
       "      <th>493</th>\n",
       "      <td>543</td>\n",
       "      <td>Masculino</td>\n",
       "      <td>20</td>\n",
       "      <td>172.0</td>\n",
       "      <td>22</td>\n",
       "      <td>Rondônia</td>\n",
       "      <td>RO</td>\n",
       "      <td>Brasil</td>\n",
       "    </tr>\n",
       "    <tr>\n",
       "      <th>494</th>\n",
       "      <td>544</td>\n",
       "      <td>Masculino</td>\n",
       "      <td>66</td>\n",
       "      <td>129.0</td>\n",
       "      <td>1</td>\n",
       "      <td>Acre</td>\n",
       "      <td>AC</td>\n",
       "      <td>Brasil</td>\n",
       "    </tr>\n",
       "    <tr>\n",
       "      <th>495</th>\n",
       "      <td>545</td>\n",
       "      <td>Masculino</td>\n",
       "      <td>36</td>\n",
       "      <td>107.0</td>\n",
       "      <td>6</td>\n",
       "      <td>Ceará</td>\n",
       "      <td>CE</td>\n",
       "      <td>Brasil</td>\n",
       "    </tr>\n",
       "    <tr>\n",
       "      <th>496</th>\n",
       "      <td>546</td>\n",
       "      <td>Masculino</td>\n",
       "      <td>57</td>\n",
       "      <td>117.0</td>\n",
       "      <td>20</td>\n",
       "      <td>Rio Grande do Norte</td>\n",
       "      <td>RN</td>\n",
       "      <td>Brasil</td>\n",
       "    </tr>\n",
       "    <tr>\n",
       "      <th>497</th>\n",
       "      <td>547</td>\n",
       "      <td>Masculino</td>\n",
       "      <td>61</td>\n",
       "      <td>148.0</td>\n",
       "      <td>8</td>\n",
       "      <td>Espírito Santo</td>\n",
       "      <td>ES</td>\n",
       "      <td>Brasil</td>\n",
       "    </tr>\n",
       "  </tbody>\n",
       "</table>\n",
       "<p>498 rows × 8 columns</p>\n",
       "</div>"
      ],
      "text/plain": [
       "     cod_cliente     genero  idade   peso  id_estado               estado  \\\n",
       "0              1  Masculino     17  102.0         23              Roraima   \n",
       "1              2  Masculino     28  115.0          7     Distrito Federal   \n",
       "2              3  Masculino     62  115.0          4             Amazonas   \n",
       "3              5  Masculino     44  130.0         26              Sergipe   \n",
       "4              6  Masculino     17  198.0          8       Espírito Santo   \n",
       "..           ...        ...    ...    ...        ...                  ...   \n",
       "493          543  Masculino     20  172.0         22             Rondônia   \n",
       "494          544  Masculino     66  129.0          1                 Acre   \n",
       "495          545  Masculino     36  107.0          6                Ceará   \n",
       "496          546  Masculino     57  117.0         20  Rio Grande do Norte   \n",
       "497          547  Masculino     61  148.0          8       Espírito Santo   \n",
       "\n",
       "    sigla_estado    pais  \n",
       "0             RR  Brasil  \n",
       "1             DF  Brasil  \n",
       "2             AM  Brasil  \n",
       "3             SE  Brasil  \n",
       "4             ES  Brasil  \n",
       "..           ...     ...  \n",
       "493           RO  Brasil  \n",
       "494           AC  Brasil  \n",
       "495           CE  Brasil  \n",
       "496           RN  Brasil  \n",
       "497           ES  Brasil  \n",
       "\n",
       "[498 rows x 8 columns]"
      ]
     },
     "execution_count": 122,
     "metadata": {},
     "output_type": "execute_result"
    }
   ],
   "source": [
    "# Alterando disposição das colunas e resetando index\n",
    "base_completa[['cod_cliente', 'genero', 'idade', 'peso', \n",
    "               'id_estado', 'estado', 'sigla_estado', 'pais' ]].reset_index(drop=True)"
   ]
  },
  {
   "cell_type": "markdown",
   "metadata": {
    "id": "cM8d9HiDhBse"
   },
   "source": [
    "## Analise de dados"
   ]
  },
  {
   "cell_type": "markdown",
   "metadata": {
    "id": "uCDJSiF3kB8W"
   },
   "source": [
    "### Aplicando o método do cotovelo"
   ]
  },
  {
   "cell_type": "code",
   "execution_count": 123,
   "metadata": {
    "id": "4RbzzUYdkEQe"
   },
   "outputs": [],
   "source": [
    "# importando o sklearn\n",
    "from sklearn.cluster import KMeans"
   ]
  },
  {
   "cell_type": "code",
   "execution_count": 124,
   "metadata": {
    "id": "0vohlqvlgsMC"
   },
   "outputs": [],
   "source": [
    "# calcular a variação total de clusters\n",
    "def calcular_wcss(dados_cliente):\n",
    "  wcss=[]\n",
    "  for k in range(1,11):\n",
    "    kmeans = KMeans(n_clusters = k)\n",
    "    kmeans.fit(X=dados_cliente)\n",
    "    wcss.append(kmeans.inertia_)\n",
    "  return wcss"
   ]
  },
  {
   "cell_type": "code",
   "execution_count": 125,
   "metadata": {
    "colab": {
     "base_uri": "https://localhost:8080/",
     "height": 206
    },
    "id": "aP0Lk1_QnHsF",
    "outputId": "4cdc54c6-e670-4272-a3f7-0ac4447dbfed"
   },
   "outputs": [
    {
     "data": {
      "text/html": [
       "<div>\n",
       "<style scoped>\n",
       "    .dataframe tbody tr th:only-of-type {\n",
       "        vertical-align: middle;\n",
       "    }\n",
       "\n",
       "    .dataframe tbody tr th {\n",
       "        vertical-align: top;\n",
       "    }\n",
       "\n",
       "    .dataframe thead th {\n",
       "        text-align: right;\n",
       "    }\n",
       "</style>\n",
       "<table border=\"1\" class=\"dataframe\">\n",
       "  <thead>\n",
       "    <tr style=\"text-align: right;\">\n",
       "      <th></th>\n",
       "      <th>peso</th>\n",
       "      <th>colesterol</th>\n",
       "    </tr>\n",
       "  </thead>\n",
       "  <tbody>\n",
       "    <tr>\n",
       "      <th>0</th>\n",
       "      <td>102.0</td>\n",
       "      <td>111</td>\n",
       "    </tr>\n",
       "    <tr>\n",
       "      <th>17</th>\n",
       "      <td>115.0</td>\n",
       "      <td>135</td>\n",
       "    </tr>\n",
       "    <tr>\n",
       "      <th>39</th>\n",
       "      <td>115.0</td>\n",
       "      <td>136</td>\n",
       "    </tr>\n",
       "    <tr>\n",
       "      <th>64</th>\n",
       "      <td>130.0</td>\n",
       "      <td>158</td>\n",
       "    </tr>\n",
       "    <tr>\n",
       "      <th>83</th>\n",
       "      <td>198.0</td>\n",
       "      <td>227</td>\n",
       "    </tr>\n",
       "  </tbody>\n",
       "</table>\n",
       "</div>"
      ],
      "text/plain": [
       "     peso  colesterol\n",
       "0   102.0         111\n",
       "17  115.0         135\n",
       "39  115.0         136\n",
       "64  130.0         158\n",
       "83  198.0         227"
      ]
     },
     "execution_count": 125,
     "metadata": {},
     "output_type": "execute_result"
    }
   ],
   "source": [
    "# variaveis que serão utilizadas no agrupamento\n",
    "dados_cliente = base_completa[['peso', 'colesterol']]\n",
    "dados_cliente.head()"
   ]
  },
  {
   "cell_type": "code",
   "execution_count": 126,
   "metadata": {
    "id": "q8mV8LVXnNVN"
   },
   "outputs": [
    {
     "name": "stderr",
     "output_type": "stream",
     "text": [
      "C:\\Users\\CRISTINA RAMOS\\anaconda3\\lib\\site-packages\\sklearn\\cluster\\_kmeans.py:1036: UserWarning:\n",
      "\n",
      "KMeans is known to have a memory leak on Windows with MKL, when there are less chunks than available threads. You can avoid it by setting the environment variable OMP_NUM_THREADS=2.\n",
      "\n"
     ]
    }
   ],
   "source": [
    "# calculando o wcss\n",
    "wcss_clientes = calcular_wcss(dados_cliente)"
   ]
  },
  {
   "cell_type": "code",
   "execution_count": 127,
   "metadata": {
    "colab": {
     "base_uri": "https://localhost:8080/"
    },
    "id": "51GTykYGna59",
    "outputId": "21bb7f04-96de-4beb-8b5f-f99aada1588d"
   },
   "outputs": [
    {
     "data": {
      "text/plain": [
       "list"
      ]
     },
     "execution_count": 127,
     "metadata": {},
     "output_type": "execute_result"
    }
   ],
   "source": [
    "type(wcss_clientes)"
   ]
  },
  {
   "cell_type": "code",
   "execution_count": 128,
   "metadata": {
    "colab": {
     "base_uri": "https://localhost:8080/"
    },
    "id": "JwiFWbZ_ne4d",
    "outputId": "cd74c743-ce3e-4d0e-eaba-c12f040d6b66"
   },
   "outputs": [
    {
     "name": "stdout",
     "output_type": "stream",
     "text": [
      "O cluster 0 possui o valor de wcss de: 1248240.668674699\n",
      "O cluster 1 possui o valor de wcss de: 298932.7377352369\n",
      "O cluster 2 possui o valor de wcss de: 127847.6195681955\n",
      "O cluster 3 possui o valor de wcss de: 73826.3353951529\n",
      "O cluster 4 possui o valor de wcss de: 49079.083808467956\n",
      "O cluster 5 possui o valor de wcss de: 34064.500021008374\n",
      "O cluster 6 possui o valor de wcss de: 25122.257107188125\n",
      "O cluster 7 possui o valor de wcss de: 20441.83167815419\n",
      "O cluster 8 possui o valor de wcss de: 15949.21276427297\n",
      "O cluster 9 possui o valor de wcss de: 13390.707825076835\n"
     ]
    }
   ],
   "source": [
    "# observando os dados obtidos no wcss\n",
    "for i in range (len(wcss_clientes)):\n",
    "  print(f'O cluster {i} possui o valor de wcss de: {wcss_clientes[i]}')"
   ]
  },
  {
   "cell_type": "markdown",
   "metadata": {
    "id": "zkGgWTg7mUBO"
   },
   "source": [
    "### Visualizando o gráfico do cotovelo"
   ]
  },
  {
   "cell_type": "code",
   "execution_count": 129,
   "metadata": {
    "colab": {
     "base_uri": "https://localhost:8080/",
     "height": 542
    },
    "id": "2_fQa5X9nt7t",
    "outputId": "217c1dd0-ff83-4355-8cf7-432742a2a189"
   },
   "outputs": [
    {
     "data": {
      "application/vnd.plotly.v1+json": {
       "config": {
        "plotlyServerURL": "https://plot.ly"
       },
       "data": [
        {
         "hovertemplate": "x=%{x}<br>y=%{y}<extra></extra>",
         "legendgroup": "",
         "line": {
          "color": "#636efa",
          "dash": "solid"
         },
         "marker": {
          "symbol": "circle"
         },
         "mode": "lines",
         "name": "",
         "orientation": "v",
         "showlegend": false,
         "type": "scatter",
         "x": [
          1,
          2,
          3,
          4,
          5,
          6,
          7,
          8,
          9,
          10
         ],
         "xaxis": "x",
         "y": [
          1248240.668674699,
          298932.7377352369,
          127847.6195681955,
          73826.3353951529,
          49079.083808467956,
          34064.500021008374,
          25122.257107188125,
          20441.83167815419,
          15949.21276427297,
          13390.707825076835
         ],
         "yaxis": "y"
        }
       ],
       "layout": {
        "legend": {
         "tracegroupgap": 0
        },
        "margin": {
         "t": 60
        },
        "template": {
         "data": {
          "bar": [
           {
            "error_x": {
             "color": "#2a3f5f"
            },
            "error_y": {
             "color": "#2a3f5f"
            },
            "marker": {
             "line": {
              "color": "#E5ECF6",
              "width": 0.5
             },
             "pattern": {
              "fillmode": "overlay",
              "size": 10,
              "solidity": 0.2
             }
            },
            "type": "bar"
           }
          ],
          "barpolar": [
           {
            "marker": {
             "line": {
              "color": "#E5ECF6",
              "width": 0.5
             },
             "pattern": {
              "fillmode": "overlay",
              "size": 10,
              "solidity": 0.2
             }
            },
            "type": "barpolar"
           }
          ],
          "carpet": [
           {
            "aaxis": {
             "endlinecolor": "#2a3f5f",
             "gridcolor": "white",
             "linecolor": "white",
             "minorgridcolor": "white",
             "startlinecolor": "#2a3f5f"
            },
            "baxis": {
             "endlinecolor": "#2a3f5f",
             "gridcolor": "white",
             "linecolor": "white",
             "minorgridcolor": "white",
             "startlinecolor": "#2a3f5f"
            },
            "type": "carpet"
           }
          ],
          "choropleth": [
           {
            "colorbar": {
             "outlinewidth": 0,
             "ticks": ""
            },
            "type": "choropleth"
           }
          ],
          "contour": [
           {
            "colorbar": {
             "outlinewidth": 0,
             "ticks": ""
            },
            "colorscale": [
             [
              0,
              "#0d0887"
             ],
             [
              0.1111111111111111,
              "#46039f"
             ],
             [
              0.2222222222222222,
              "#7201a8"
             ],
             [
              0.3333333333333333,
              "#9c179e"
             ],
             [
              0.4444444444444444,
              "#bd3786"
             ],
             [
              0.5555555555555556,
              "#d8576b"
             ],
             [
              0.6666666666666666,
              "#ed7953"
             ],
             [
              0.7777777777777778,
              "#fb9f3a"
             ],
             [
              0.8888888888888888,
              "#fdca26"
             ],
             [
              1,
              "#f0f921"
             ]
            ],
            "type": "contour"
           }
          ],
          "contourcarpet": [
           {
            "colorbar": {
             "outlinewidth": 0,
             "ticks": ""
            },
            "type": "contourcarpet"
           }
          ],
          "heatmap": [
           {
            "colorbar": {
             "outlinewidth": 0,
             "ticks": ""
            },
            "colorscale": [
             [
              0,
              "#0d0887"
             ],
             [
              0.1111111111111111,
              "#46039f"
             ],
             [
              0.2222222222222222,
              "#7201a8"
             ],
             [
              0.3333333333333333,
              "#9c179e"
             ],
             [
              0.4444444444444444,
              "#bd3786"
             ],
             [
              0.5555555555555556,
              "#d8576b"
             ],
             [
              0.6666666666666666,
              "#ed7953"
             ],
             [
              0.7777777777777778,
              "#fb9f3a"
             ],
             [
              0.8888888888888888,
              "#fdca26"
             ],
             [
              1,
              "#f0f921"
             ]
            ],
            "type": "heatmap"
           }
          ],
          "heatmapgl": [
           {
            "colorbar": {
             "outlinewidth": 0,
             "ticks": ""
            },
            "colorscale": [
             [
              0,
              "#0d0887"
             ],
             [
              0.1111111111111111,
              "#46039f"
             ],
             [
              0.2222222222222222,
              "#7201a8"
             ],
             [
              0.3333333333333333,
              "#9c179e"
             ],
             [
              0.4444444444444444,
              "#bd3786"
             ],
             [
              0.5555555555555556,
              "#d8576b"
             ],
             [
              0.6666666666666666,
              "#ed7953"
             ],
             [
              0.7777777777777778,
              "#fb9f3a"
             ],
             [
              0.8888888888888888,
              "#fdca26"
             ],
             [
              1,
              "#f0f921"
             ]
            ],
            "type": "heatmapgl"
           }
          ],
          "histogram": [
           {
            "marker": {
             "pattern": {
              "fillmode": "overlay",
              "size": 10,
              "solidity": 0.2
             }
            },
            "type": "histogram"
           }
          ],
          "histogram2d": [
           {
            "colorbar": {
             "outlinewidth": 0,
             "ticks": ""
            },
            "colorscale": [
             [
              0,
              "#0d0887"
             ],
             [
              0.1111111111111111,
              "#46039f"
             ],
             [
              0.2222222222222222,
              "#7201a8"
             ],
             [
              0.3333333333333333,
              "#9c179e"
             ],
             [
              0.4444444444444444,
              "#bd3786"
             ],
             [
              0.5555555555555556,
              "#d8576b"
             ],
             [
              0.6666666666666666,
              "#ed7953"
             ],
             [
              0.7777777777777778,
              "#fb9f3a"
             ],
             [
              0.8888888888888888,
              "#fdca26"
             ],
             [
              1,
              "#f0f921"
             ]
            ],
            "type": "histogram2d"
           }
          ],
          "histogram2dcontour": [
           {
            "colorbar": {
             "outlinewidth": 0,
             "ticks": ""
            },
            "colorscale": [
             [
              0,
              "#0d0887"
             ],
             [
              0.1111111111111111,
              "#46039f"
             ],
             [
              0.2222222222222222,
              "#7201a8"
             ],
             [
              0.3333333333333333,
              "#9c179e"
             ],
             [
              0.4444444444444444,
              "#bd3786"
             ],
             [
              0.5555555555555556,
              "#d8576b"
             ],
             [
              0.6666666666666666,
              "#ed7953"
             ],
             [
              0.7777777777777778,
              "#fb9f3a"
             ],
             [
              0.8888888888888888,
              "#fdca26"
             ],
             [
              1,
              "#f0f921"
             ]
            ],
            "type": "histogram2dcontour"
           }
          ],
          "mesh3d": [
           {
            "colorbar": {
             "outlinewidth": 0,
             "ticks": ""
            },
            "type": "mesh3d"
           }
          ],
          "parcoords": [
           {
            "line": {
             "colorbar": {
              "outlinewidth": 0,
              "ticks": ""
             }
            },
            "type": "parcoords"
           }
          ],
          "pie": [
           {
            "automargin": true,
            "type": "pie"
           }
          ],
          "scatter": [
           {
            "fillpattern": {
             "fillmode": "overlay",
             "size": 10,
             "solidity": 0.2
            },
            "type": "scatter"
           }
          ],
          "scatter3d": [
           {
            "line": {
             "colorbar": {
              "outlinewidth": 0,
              "ticks": ""
             }
            },
            "marker": {
             "colorbar": {
              "outlinewidth": 0,
              "ticks": ""
             }
            },
            "type": "scatter3d"
           }
          ],
          "scattercarpet": [
           {
            "marker": {
             "colorbar": {
              "outlinewidth": 0,
              "ticks": ""
             }
            },
            "type": "scattercarpet"
           }
          ],
          "scattergeo": [
           {
            "marker": {
             "colorbar": {
              "outlinewidth": 0,
              "ticks": ""
             }
            },
            "type": "scattergeo"
           }
          ],
          "scattergl": [
           {
            "marker": {
             "colorbar": {
              "outlinewidth": 0,
              "ticks": ""
             }
            },
            "type": "scattergl"
           }
          ],
          "scattermapbox": [
           {
            "marker": {
             "colorbar": {
              "outlinewidth": 0,
              "ticks": ""
             }
            },
            "type": "scattermapbox"
           }
          ],
          "scatterpolar": [
           {
            "marker": {
             "colorbar": {
              "outlinewidth": 0,
              "ticks": ""
             }
            },
            "type": "scatterpolar"
           }
          ],
          "scatterpolargl": [
           {
            "marker": {
             "colorbar": {
              "outlinewidth": 0,
              "ticks": ""
             }
            },
            "type": "scatterpolargl"
           }
          ],
          "scatterternary": [
           {
            "marker": {
             "colorbar": {
              "outlinewidth": 0,
              "ticks": ""
             }
            },
            "type": "scatterternary"
           }
          ],
          "surface": [
           {
            "colorbar": {
             "outlinewidth": 0,
             "ticks": ""
            },
            "colorscale": [
             [
              0,
              "#0d0887"
             ],
             [
              0.1111111111111111,
              "#46039f"
             ],
             [
              0.2222222222222222,
              "#7201a8"
             ],
             [
              0.3333333333333333,
              "#9c179e"
             ],
             [
              0.4444444444444444,
              "#bd3786"
             ],
             [
              0.5555555555555556,
              "#d8576b"
             ],
             [
              0.6666666666666666,
              "#ed7953"
             ],
             [
              0.7777777777777778,
              "#fb9f3a"
             ],
             [
              0.8888888888888888,
              "#fdca26"
             ],
             [
              1,
              "#f0f921"
             ]
            ],
            "type": "surface"
           }
          ],
          "table": [
           {
            "cells": {
             "fill": {
              "color": "#EBF0F8"
             },
             "line": {
              "color": "white"
             }
            },
            "header": {
             "fill": {
              "color": "#C8D4E3"
             },
             "line": {
              "color": "white"
             }
            },
            "type": "table"
           }
          ]
         },
         "layout": {
          "annotationdefaults": {
           "arrowcolor": "#2a3f5f",
           "arrowhead": 0,
           "arrowwidth": 1
          },
          "autotypenumbers": "strict",
          "coloraxis": {
           "colorbar": {
            "outlinewidth": 0,
            "ticks": ""
           }
          },
          "colorscale": {
           "diverging": [
            [
             0,
             "#8e0152"
            ],
            [
             0.1,
             "#c51b7d"
            ],
            [
             0.2,
             "#de77ae"
            ],
            [
             0.3,
             "#f1b6da"
            ],
            [
             0.4,
             "#fde0ef"
            ],
            [
             0.5,
             "#f7f7f7"
            ],
            [
             0.6,
             "#e6f5d0"
            ],
            [
             0.7,
             "#b8e186"
            ],
            [
             0.8,
             "#7fbc41"
            ],
            [
             0.9,
             "#4d9221"
            ],
            [
             1,
             "#276419"
            ]
           ],
           "sequential": [
            [
             0,
             "#0d0887"
            ],
            [
             0.1111111111111111,
             "#46039f"
            ],
            [
             0.2222222222222222,
             "#7201a8"
            ],
            [
             0.3333333333333333,
             "#9c179e"
            ],
            [
             0.4444444444444444,
             "#bd3786"
            ],
            [
             0.5555555555555556,
             "#d8576b"
            ],
            [
             0.6666666666666666,
             "#ed7953"
            ],
            [
             0.7777777777777778,
             "#fb9f3a"
            ],
            [
             0.8888888888888888,
             "#fdca26"
            ],
            [
             1,
             "#f0f921"
            ]
           ],
           "sequentialminus": [
            [
             0,
             "#0d0887"
            ],
            [
             0.1111111111111111,
             "#46039f"
            ],
            [
             0.2222222222222222,
             "#7201a8"
            ],
            [
             0.3333333333333333,
             "#9c179e"
            ],
            [
             0.4444444444444444,
             "#bd3786"
            ],
            [
             0.5555555555555556,
             "#d8576b"
            ],
            [
             0.6666666666666666,
             "#ed7953"
            ],
            [
             0.7777777777777778,
             "#fb9f3a"
            ],
            [
             0.8888888888888888,
             "#fdca26"
            ],
            [
             1,
             "#f0f921"
            ]
           ]
          },
          "colorway": [
           "#636efa",
           "#EF553B",
           "#00cc96",
           "#ab63fa",
           "#FFA15A",
           "#19d3f3",
           "#FF6692",
           "#B6E880",
           "#FF97FF",
           "#FECB52"
          ],
          "font": {
           "color": "#2a3f5f"
          },
          "geo": {
           "bgcolor": "white",
           "lakecolor": "white",
           "landcolor": "#E5ECF6",
           "showlakes": true,
           "showland": true,
           "subunitcolor": "white"
          },
          "hoverlabel": {
           "align": "left"
          },
          "hovermode": "closest",
          "mapbox": {
           "style": "light"
          },
          "paper_bgcolor": "white",
          "plot_bgcolor": "#E5ECF6",
          "polar": {
           "angularaxis": {
            "gridcolor": "white",
            "linecolor": "white",
            "ticks": ""
           },
           "bgcolor": "#E5ECF6",
           "radialaxis": {
            "gridcolor": "white",
            "linecolor": "white",
            "ticks": ""
           }
          },
          "scene": {
           "xaxis": {
            "backgroundcolor": "#E5ECF6",
            "gridcolor": "white",
            "gridwidth": 2,
            "linecolor": "white",
            "showbackground": true,
            "ticks": "",
            "zerolinecolor": "white"
           },
           "yaxis": {
            "backgroundcolor": "#E5ECF6",
            "gridcolor": "white",
            "gridwidth": 2,
            "linecolor": "white",
            "showbackground": true,
            "ticks": "",
            "zerolinecolor": "white"
           },
           "zaxis": {
            "backgroundcolor": "#E5ECF6",
            "gridcolor": "white",
            "gridwidth": 2,
            "linecolor": "white",
            "showbackground": true,
            "ticks": "",
            "zerolinecolor": "white"
           }
          },
          "shapedefaults": {
           "line": {
            "color": "#2a3f5f"
           }
          },
          "ternary": {
           "aaxis": {
            "gridcolor": "white",
            "linecolor": "white",
            "ticks": ""
           },
           "baxis": {
            "gridcolor": "white",
            "linecolor": "white",
            "ticks": ""
           },
           "bgcolor": "#E5ECF6",
           "caxis": {
            "gridcolor": "white",
            "linecolor": "white",
            "ticks": ""
           }
          },
          "title": {
           "x": 0.05
          },
          "xaxis": {
           "automargin": true,
           "gridcolor": "white",
           "linecolor": "white",
           "ticks": "",
           "title": {
            "standoff": 15
           },
           "zerolinecolor": "white",
           "zerolinewidth": 2
          },
          "yaxis": {
           "automargin": true,
           "gridcolor": "white",
           "linecolor": "white",
           "ticks": "",
           "title": {
            "standoff": 15
           },
           "zerolinecolor": "white",
           "zerolinewidth": 2
          }
         }
        },
        "title": {
         "text": "Calculando o WCSS"
        },
        "xaxis": {
         "anchor": "y",
         "domain": [
          0,
          1
         ],
         "title": {
          "text": "Número de clusters"
         }
        },
        "yaxis": {
         "anchor": "x",
         "domain": [
          0,
          1
         ],
         "title": {
          "text": "Valor do wcss"
         }
        }
       }
      },
      "text/html": [
       "<div>                            <div id=\"b5817624-2a59-4f81-a640-2cf0a17a5aed\" class=\"plotly-graph-div\" style=\"height:525px; width:100%;\"></div>            <script type=\"text/javascript\">                require([\"plotly\"], function(Plotly) {                    window.PLOTLYENV=window.PLOTLYENV || {};                                    if (document.getElementById(\"b5817624-2a59-4f81-a640-2cf0a17a5aed\")) {                    Plotly.newPlot(                        \"b5817624-2a59-4f81-a640-2cf0a17a5aed\",                        [{\"hovertemplate\":\"x=%{x}<br>y=%{y}<extra></extra>\",\"legendgroup\":\"\",\"line\":{\"color\":\"#636efa\",\"dash\":\"solid\"},\"marker\":{\"symbol\":\"circle\"},\"mode\":\"lines\",\"name\":\"\",\"orientation\":\"v\",\"showlegend\":false,\"x\":[1,2,3,4,5,6,7,8,9,10],\"xaxis\":\"x\",\"y\":[1248240.668674699,298932.7377352369,127847.6195681955,73826.3353951529,49079.083808467956,34064.500021008374,25122.257107188125,20441.83167815419,15949.21276427297,13390.707825076835],\"yaxis\":\"y\",\"type\":\"scatter\"}],                        {\"legend\":{\"tracegroupgap\":0},\"margin\":{\"t\":60},\"template\":{\"data\":{\"barpolar\":[{\"marker\":{\"line\":{\"color\":\"#E5ECF6\",\"width\":0.5},\"pattern\":{\"fillmode\":\"overlay\",\"size\":10,\"solidity\":0.2}},\"type\":\"barpolar\"}],\"bar\":[{\"error_x\":{\"color\":\"#2a3f5f\"},\"error_y\":{\"color\":\"#2a3f5f\"},\"marker\":{\"line\":{\"color\":\"#E5ECF6\",\"width\":0.5},\"pattern\":{\"fillmode\":\"overlay\",\"size\":10,\"solidity\":0.2}},\"type\":\"bar\"}],\"carpet\":[{\"aaxis\":{\"endlinecolor\":\"#2a3f5f\",\"gridcolor\":\"white\",\"linecolor\":\"white\",\"minorgridcolor\":\"white\",\"startlinecolor\":\"#2a3f5f\"},\"baxis\":{\"endlinecolor\":\"#2a3f5f\",\"gridcolor\":\"white\",\"linecolor\":\"white\",\"minorgridcolor\":\"white\",\"startlinecolor\":\"#2a3f5f\"},\"type\":\"carpet\"}],\"choropleth\":[{\"colorbar\":{\"outlinewidth\":0,\"ticks\":\"\"},\"type\":\"choropleth\"}],\"contourcarpet\":[{\"colorbar\":{\"outlinewidth\":0,\"ticks\":\"\"},\"type\":\"contourcarpet\"}],\"contour\":[{\"colorbar\":{\"outlinewidth\":0,\"ticks\":\"\"},\"colorscale\":[[0.0,\"#0d0887\"],[0.1111111111111111,\"#46039f\"],[0.2222222222222222,\"#7201a8\"],[0.3333333333333333,\"#9c179e\"],[0.4444444444444444,\"#bd3786\"],[0.5555555555555556,\"#d8576b\"],[0.6666666666666666,\"#ed7953\"],[0.7777777777777778,\"#fb9f3a\"],[0.8888888888888888,\"#fdca26\"],[1.0,\"#f0f921\"]],\"type\":\"contour\"}],\"heatmapgl\":[{\"colorbar\":{\"outlinewidth\":0,\"ticks\":\"\"},\"colorscale\":[[0.0,\"#0d0887\"],[0.1111111111111111,\"#46039f\"],[0.2222222222222222,\"#7201a8\"],[0.3333333333333333,\"#9c179e\"],[0.4444444444444444,\"#bd3786\"],[0.5555555555555556,\"#d8576b\"],[0.6666666666666666,\"#ed7953\"],[0.7777777777777778,\"#fb9f3a\"],[0.8888888888888888,\"#fdca26\"],[1.0,\"#f0f921\"]],\"type\":\"heatmapgl\"}],\"heatmap\":[{\"colorbar\":{\"outlinewidth\":0,\"ticks\":\"\"},\"colorscale\":[[0.0,\"#0d0887\"],[0.1111111111111111,\"#46039f\"],[0.2222222222222222,\"#7201a8\"],[0.3333333333333333,\"#9c179e\"],[0.4444444444444444,\"#bd3786\"],[0.5555555555555556,\"#d8576b\"],[0.6666666666666666,\"#ed7953\"],[0.7777777777777778,\"#fb9f3a\"],[0.8888888888888888,\"#fdca26\"],[1.0,\"#f0f921\"]],\"type\":\"heatmap\"}],\"histogram2dcontour\":[{\"colorbar\":{\"outlinewidth\":0,\"ticks\":\"\"},\"colorscale\":[[0.0,\"#0d0887\"],[0.1111111111111111,\"#46039f\"],[0.2222222222222222,\"#7201a8\"],[0.3333333333333333,\"#9c179e\"],[0.4444444444444444,\"#bd3786\"],[0.5555555555555556,\"#d8576b\"],[0.6666666666666666,\"#ed7953\"],[0.7777777777777778,\"#fb9f3a\"],[0.8888888888888888,\"#fdca26\"],[1.0,\"#f0f921\"]],\"type\":\"histogram2dcontour\"}],\"histogram2d\":[{\"colorbar\":{\"outlinewidth\":0,\"ticks\":\"\"},\"colorscale\":[[0.0,\"#0d0887\"],[0.1111111111111111,\"#46039f\"],[0.2222222222222222,\"#7201a8\"],[0.3333333333333333,\"#9c179e\"],[0.4444444444444444,\"#bd3786\"],[0.5555555555555556,\"#d8576b\"],[0.6666666666666666,\"#ed7953\"],[0.7777777777777778,\"#fb9f3a\"],[0.8888888888888888,\"#fdca26\"],[1.0,\"#f0f921\"]],\"type\":\"histogram2d\"}],\"histogram\":[{\"marker\":{\"pattern\":{\"fillmode\":\"overlay\",\"size\":10,\"solidity\":0.2}},\"type\":\"histogram\"}],\"mesh3d\":[{\"colorbar\":{\"outlinewidth\":0,\"ticks\":\"\"},\"type\":\"mesh3d\"}],\"parcoords\":[{\"line\":{\"colorbar\":{\"outlinewidth\":0,\"ticks\":\"\"}},\"type\":\"parcoords\"}],\"pie\":[{\"automargin\":true,\"type\":\"pie\"}],\"scatter3d\":[{\"line\":{\"colorbar\":{\"outlinewidth\":0,\"ticks\":\"\"}},\"marker\":{\"colorbar\":{\"outlinewidth\":0,\"ticks\":\"\"}},\"type\":\"scatter3d\"}],\"scattercarpet\":[{\"marker\":{\"colorbar\":{\"outlinewidth\":0,\"ticks\":\"\"}},\"type\":\"scattercarpet\"}],\"scattergeo\":[{\"marker\":{\"colorbar\":{\"outlinewidth\":0,\"ticks\":\"\"}},\"type\":\"scattergeo\"}],\"scattergl\":[{\"marker\":{\"colorbar\":{\"outlinewidth\":0,\"ticks\":\"\"}},\"type\":\"scattergl\"}],\"scattermapbox\":[{\"marker\":{\"colorbar\":{\"outlinewidth\":0,\"ticks\":\"\"}},\"type\":\"scattermapbox\"}],\"scatterpolargl\":[{\"marker\":{\"colorbar\":{\"outlinewidth\":0,\"ticks\":\"\"}},\"type\":\"scatterpolargl\"}],\"scatterpolar\":[{\"marker\":{\"colorbar\":{\"outlinewidth\":0,\"ticks\":\"\"}},\"type\":\"scatterpolar\"}],\"scatter\":[{\"fillpattern\":{\"fillmode\":\"overlay\",\"size\":10,\"solidity\":0.2},\"type\":\"scatter\"}],\"scatterternary\":[{\"marker\":{\"colorbar\":{\"outlinewidth\":0,\"ticks\":\"\"}},\"type\":\"scatterternary\"}],\"surface\":[{\"colorbar\":{\"outlinewidth\":0,\"ticks\":\"\"},\"colorscale\":[[0.0,\"#0d0887\"],[0.1111111111111111,\"#46039f\"],[0.2222222222222222,\"#7201a8\"],[0.3333333333333333,\"#9c179e\"],[0.4444444444444444,\"#bd3786\"],[0.5555555555555556,\"#d8576b\"],[0.6666666666666666,\"#ed7953\"],[0.7777777777777778,\"#fb9f3a\"],[0.8888888888888888,\"#fdca26\"],[1.0,\"#f0f921\"]],\"type\":\"surface\"}],\"table\":[{\"cells\":{\"fill\":{\"color\":\"#EBF0F8\"},\"line\":{\"color\":\"white\"}},\"header\":{\"fill\":{\"color\":\"#C8D4E3\"},\"line\":{\"color\":\"white\"}},\"type\":\"table\"}]},\"layout\":{\"annotationdefaults\":{\"arrowcolor\":\"#2a3f5f\",\"arrowhead\":0,\"arrowwidth\":1},\"autotypenumbers\":\"strict\",\"coloraxis\":{\"colorbar\":{\"outlinewidth\":0,\"ticks\":\"\"}},\"colorscale\":{\"diverging\":[[0,\"#8e0152\"],[0.1,\"#c51b7d\"],[0.2,\"#de77ae\"],[0.3,\"#f1b6da\"],[0.4,\"#fde0ef\"],[0.5,\"#f7f7f7\"],[0.6,\"#e6f5d0\"],[0.7,\"#b8e186\"],[0.8,\"#7fbc41\"],[0.9,\"#4d9221\"],[1,\"#276419\"]],\"sequential\":[[0.0,\"#0d0887\"],[0.1111111111111111,\"#46039f\"],[0.2222222222222222,\"#7201a8\"],[0.3333333333333333,\"#9c179e\"],[0.4444444444444444,\"#bd3786\"],[0.5555555555555556,\"#d8576b\"],[0.6666666666666666,\"#ed7953\"],[0.7777777777777778,\"#fb9f3a\"],[0.8888888888888888,\"#fdca26\"],[1.0,\"#f0f921\"]],\"sequentialminus\":[[0.0,\"#0d0887\"],[0.1111111111111111,\"#46039f\"],[0.2222222222222222,\"#7201a8\"],[0.3333333333333333,\"#9c179e\"],[0.4444444444444444,\"#bd3786\"],[0.5555555555555556,\"#d8576b\"],[0.6666666666666666,\"#ed7953\"],[0.7777777777777778,\"#fb9f3a\"],[0.8888888888888888,\"#fdca26\"],[1.0,\"#f0f921\"]]},\"colorway\":[\"#636efa\",\"#EF553B\",\"#00cc96\",\"#ab63fa\",\"#FFA15A\",\"#19d3f3\",\"#FF6692\",\"#B6E880\",\"#FF97FF\",\"#FECB52\"],\"font\":{\"color\":\"#2a3f5f\"},\"geo\":{\"bgcolor\":\"white\",\"lakecolor\":\"white\",\"landcolor\":\"#E5ECF6\",\"showlakes\":true,\"showland\":true,\"subunitcolor\":\"white\"},\"hoverlabel\":{\"align\":\"left\"},\"hovermode\":\"closest\",\"mapbox\":{\"style\":\"light\"},\"paper_bgcolor\":\"white\",\"plot_bgcolor\":\"#E5ECF6\",\"polar\":{\"angularaxis\":{\"gridcolor\":\"white\",\"linecolor\":\"white\",\"ticks\":\"\"},\"bgcolor\":\"#E5ECF6\",\"radialaxis\":{\"gridcolor\":\"white\",\"linecolor\":\"white\",\"ticks\":\"\"}},\"scene\":{\"xaxis\":{\"backgroundcolor\":\"#E5ECF6\",\"gridcolor\":\"white\",\"gridwidth\":2,\"linecolor\":\"white\",\"showbackground\":true,\"ticks\":\"\",\"zerolinecolor\":\"white\"},\"yaxis\":{\"backgroundcolor\":\"#E5ECF6\",\"gridcolor\":\"white\",\"gridwidth\":2,\"linecolor\":\"white\",\"showbackground\":true,\"ticks\":\"\",\"zerolinecolor\":\"white\"},\"zaxis\":{\"backgroundcolor\":\"#E5ECF6\",\"gridcolor\":\"white\",\"gridwidth\":2,\"linecolor\":\"white\",\"showbackground\":true,\"ticks\":\"\",\"zerolinecolor\":\"white\"}},\"shapedefaults\":{\"line\":{\"color\":\"#2a3f5f\"}},\"ternary\":{\"aaxis\":{\"gridcolor\":\"white\",\"linecolor\":\"white\",\"ticks\":\"\"},\"baxis\":{\"gridcolor\":\"white\",\"linecolor\":\"white\",\"ticks\":\"\"},\"bgcolor\":\"#E5ECF6\",\"caxis\":{\"gridcolor\":\"white\",\"linecolor\":\"white\",\"ticks\":\"\"}},\"title\":{\"x\":0.05},\"xaxis\":{\"automargin\":true,\"gridcolor\":\"white\",\"linecolor\":\"white\",\"ticks\":\"\",\"title\":{\"standoff\":15},\"zerolinecolor\":\"white\",\"zerolinewidth\":2},\"yaxis\":{\"automargin\":true,\"gridcolor\":\"white\",\"linecolor\":\"white\",\"ticks\":\"\",\"title\":{\"standoff\":15},\"zerolinecolor\":\"white\",\"zerolinewidth\":2}}},\"xaxis\":{\"anchor\":\"y\",\"domain\":[0.0,1.0],\"title\":{\"text\":\"N\\u00famero de clusters\"}},\"yaxis\":{\"anchor\":\"x\",\"domain\":[0.0,1.0],\"title\":{\"text\":\"Valor do wcss\"}},\"title\":{\"text\":\"Calculando o WCSS\"}},                        {\"responsive\": true}                    ).then(function(){\n",
       "                            \n",
       "var gd = document.getElementById('b5817624-2a59-4f81-a640-2cf0a17a5aed');\n",
       "var x = new MutationObserver(function (mutations, observer) {{\n",
       "        var display = window.getComputedStyle(gd).display;\n",
       "        if (!display || display === 'none') {{\n",
       "            console.log([gd, 'removed!']);\n",
       "            Plotly.purge(gd);\n",
       "            observer.disconnect();\n",
       "        }}\n",
       "}});\n",
       "\n",
       "// Listen for the removal of the full notebook cells\n",
       "var notebookContainer = gd.closest('#notebook-container');\n",
       "if (notebookContainer) {{\n",
       "    x.observe(notebookContainer, {childList: true});\n",
       "}}\n",
       "\n",
       "// Listen for the clearing of the current output cell\n",
       "var outputEl = gd.closest('.output');\n",
       "if (outputEl) {{\n",
       "    x.observe(outputEl, {childList: true});\n",
       "}}\n",
       "\n",
       "                        })                };                });            </script>        </div>"
      ]
     },
     "metadata": {},
     "output_type": "display_data"
    }
   ],
   "source": [
    "# visualizado gráfico\n",
    "import plotly.express as px\n",
    "import plotly.graph_objects as go\n",
    "\n",
    "grafico_wcss = px.line(x=range(1,11), y=wcss_clientes)\n",
    "\n",
    "fig = go.Figure(grafico_wcss)\n",
    "\n",
    "fig.update_layout(\n",
    "    title='Calculando o WCSS', \n",
    "    xaxis_title='Número de clusters',\n",
    "    yaxis_title='Valor do wcss',\n",
    "    )\n",
    "\n",
    "fig.show()"
   ]
  },
  {
   "cell_type": "markdown",
   "metadata": {
    "id": "ceQJIJO4IyRx"
   },
   "source": [
    "Número de clusters = 4\n"
   ]
  },
  {
   "cell_type": "code",
   "execution_count": 130,
   "metadata": {
    "colab": {
     "base_uri": "https://localhost:8080/",
     "height": 574
    },
    "id": "XLl9W1dAoisc",
    "outputId": "b863e455-a7d2-459a-f6a3-66bb009ff3cc"
   },
   "outputs": [
    {
     "data": {
      "text/html": [
       "<div>\n",
       "<style scoped>\n",
       "    .dataframe tbody tr th:only-of-type {\n",
       "        vertical-align: middle;\n",
       "    }\n",
       "\n",
       "    .dataframe tbody tr th {\n",
       "        vertical-align: top;\n",
       "    }\n",
       "\n",
       "    .dataframe thead th {\n",
       "        text-align: right;\n",
       "    }\n",
       "</style>\n",
       "<table border=\"1\" class=\"dataframe\">\n",
       "  <thead>\n",
       "    <tr style=\"text-align: right;\">\n",
       "      <th></th>\n",
       "      <th>cod_cliente</th>\n",
       "      <th>peso</th>\n",
       "      <th>colesterol</th>\n",
       "      <th>genero</th>\n",
       "      <th>id_estado</th>\n",
       "      <th>estado</th>\n",
       "      <th>sigla_estado</th>\n",
       "      <th>pais</th>\n",
       "      <th>idade</th>\n",
       "      <th>cluster</th>\n",
       "    </tr>\n",
       "  </thead>\n",
       "  <tbody>\n",
       "    <tr>\n",
       "      <th>0</th>\n",
       "      <td>1</td>\n",
       "      <td>102.0</td>\n",
       "      <td>111</td>\n",
       "      <td>Masculino</td>\n",
       "      <td>23</td>\n",
       "      <td>Roraima</td>\n",
       "      <td>RR</td>\n",
       "      <td>Brasil</td>\n",
       "      <td>17</td>\n",
       "      <td>2</td>\n",
       "    </tr>\n",
       "    <tr>\n",
       "      <th>17</th>\n",
       "      <td>2</td>\n",
       "      <td>115.0</td>\n",
       "      <td>135</td>\n",
       "      <td>Masculino</td>\n",
       "      <td>7</td>\n",
       "      <td>Distrito Federal</td>\n",
       "      <td>DF</td>\n",
       "      <td>Brasil</td>\n",
       "      <td>28</td>\n",
       "      <td>2</td>\n",
       "    </tr>\n",
       "    <tr>\n",
       "      <th>39</th>\n",
       "      <td>3</td>\n",
       "      <td>115.0</td>\n",
       "      <td>136</td>\n",
       "      <td>Masculino</td>\n",
       "      <td>4</td>\n",
       "      <td>Amazonas</td>\n",
       "      <td>AM</td>\n",
       "      <td>Brasil</td>\n",
       "      <td>62</td>\n",
       "      <td>2</td>\n",
       "    </tr>\n",
       "    <tr>\n",
       "      <th>64</th>\n",
       "      <td>5</td>\n",
       "      <td>130.0</td>\n",
       "      <td>158</td>\n",
       "      <td>Masculino</td>\n",
       "      <td>26</td>\n",
       "      <td>Sergipe</td>\n",
       "      <td>SE</td>\n",
       "      <td>Brasil</td>\n",
       "      <td>44</td>\n",
       "      <td>1</td>\n",
       "    </tr>\n",
       "    <tr>\n",
       "      <th>83</th>\n",
       "      <td>6</td>\n",
       "      <td>198.0</td>\n",
       "      <td>227</td>\n",
       "      <td>Masculino</td>\n",
       "      <td>8</td>\n",
       "      <td>Espírito Santo</td>\n",
       "      <td>ES</td>\n",
       "      <td>Brasil</td>\n",
       "      <td>17</td>\n",
       "      <td>0</td>\n",
       "    </tr>\n",
       "    <tr>\n",
       "      <th>...</th>\n",
       "      <td>...</td>\n",
       "      <td>...</td>\n",
       "      <td>...</td>\n",
       "      <td>...</td>\n",
       "      <td>...</td>\n",
       "      <td>...</td>\n",
       "      <td>...</td>\n",
       "      <td>...</td>\n",
       "      <td>...</td>\n",
       "      <td>...</td>\n",
       "    </tr>\n",
       "    <tr>\n",
       "      <th>418</th>\n",
       "      <td>543</td>\n",
       "      <td>172.0</td>\n",
       "      <td>207</td>\n",
       "      <td>Masculino</td>\n",
       "      <td>22</td>\n",
       "      <td>Rondônia</td>\n",
       "      <td>RO</td>\n",
       "      <td>Brasil</td>\n",
       "      <td>20</td>\n",
       "      <td>0</td>\n",
       "    </tr>\n",
       "    <tr>\n",
       "      <th>430</th>\n",
       "      <td>544</td>\n",
       "      <td>129.0</td>\n",
       "      <td>157</td>\n",
       "      <td>Masculino</td>\n",
       "      <td>1</td>\n",
       "      <td>Acre</td>\n",
       "      <td>AC</td>\n",
       "      <td>Brasil</td>\n",
       "      <td>66</td>\n",
       "      <td>1</td>\n",
       "    </tr>\n",
       "    <tr>\n",
       "      <th>155</th>\n",
       "      <td>545</td>\n",
       "      <td>107.0</td>\n",
       "      <td>115</td>\n",
       "      <td>Masculino</td>\n",
       "      <td>6</td>\n",
       "      <td>Ceará</td>\n",
       "      <td>CE</td>\n",
       "      <td>Brasil</td>\n",
       "      <td>36</td>\n",
       "      <td>2</td>\n",
       "    </tr>\n",
       "    <tr>\n",
       "      <th>372</th>\n",
       "      <td>546</td>\n",
       "      <td>117.0</td>\n",
       "      <td>147</td>\n",
       "      <td>Masculino</td>\n",
       "      <td>20</td>\n",
       "      <td>Rio Grande do Norte</td>\n",
       "      <td>RN</td>\n",
       "      <td>Brasil</td>\n",
       "      <td>57</td>\n",
       "      <td>1</td>\n",
       "    </tr>\n",
       "    <tr>\n",
       "      <th>100</th>\n",
       "      <td>547</td>\n",
       "      <td>148.0</td>\n",
       "      <td>176</td>\n",
       "      <td>Masculino</td>\n",
       "      <td>8</td>\n",
       "      <td>Espírito Santo</td>\n",
       "      <td>ES</td>\n",
       "      <td>Brasil</td>\n",
       "      <td>61</td>\n",
       "      <td>3</td>\n",
       "    </tr>\n",
       "  </tbody>\n",
       "</table>\n",
       "<p>498 rows × 10 columns</p>\n",
       "</div>"
      ],
      "text/plain": [
       "     cod_cliente   peso  colesterol     genero  id_estado  \\\n",
       "0              1  102.0         111  Masculino         23   \n",
       "17             2  115.0         135  Masculino          7   \n",
       "39             3  115.0         136  Masculino          4   \n",
       "64             5  130.0         158  Masculino         26   \n",
       "83             6  198.0         227  Masculino          8   \n",
       "..           ...    ...         ...        ...        ...   \n",
       "418          543  172.0         207  Masculino         22   \n",
       "430          544  129.0         157  Masculino          1   \n",
       "155          545  107.0         115  Masculino          6   \n",
       "372          546  117.0         147  Masculino         20   \n",
       "100          547  148.0         176  Masculino          8   \n",
       "\n",
       "                  estado sigla_estado    pais  idade  cluster  \n",
       "0                Roraima           RR  Brasil     17        2  \n",
       "17      Distrito Federal           DF  Brasil     28        2  \n",
       "39              Amazonas           AM  Brasil     62        2  \n",
       "64               Sergipe           SE  Brasil     44        1  \n",
       "83        Espírito Santo           ES  Brasil     17        0  \n",
       "..                   ...          ...     ...    ...      ...  \n",
       "418             Rondônia           RO  Brasil     20        0  \n",
       "430                 Acre           AC  Brasil     66        1  \n",
       "155                Ceará           CE  Brasil     36        2  \n",
       "372  Rio Grande do Norte           RN  Brasil     57        1  \n",
       "100       Espírito Santo           ES  Brasil     61        3  \n",
       "\n",
       "[498 rows x 10 columns]"
      ]
     },
     "execution_count": 130,
     "metadata": {},
     "output_type": "execute_result"
    }
   ],
   "source": [
    "# fazendo o predict com a coluna resultado\n",
    "kmeans_clientes = KMeans(n_clusters=4, random_state=0)\n",
    "base_completa['cluster'] = kmeans_clientes.fit_predict(dados_cliente)\n",
    "base_completa"
   ]
  },
  {
   "cell_type": "markdown",
   "metadata": {
    "id": "V9agtii1JV-x"
   },
   "source": [
    "### Calcular centroides de cada cluster"
   ]
  },
  {
   "cell_type": "code",
   "execution_count": 131,
   "metadata": {
    "colab": {
     "base_uri": "https://localhost:8080/",
     "height": 423
    },
    "id": "6pI4fXQ3I976",
    "outputId": "64adc34d-7193-44b4-fd09-4957e5465453"
   },
   "outputs": [
    {
     "data": {
      "text/html": [
       "<div>\n",
       "<style scoped>\n",
       "    .dataframe tbody tr th:only-of-type {\n",
       "        vertical-align: middle;\n",
       "    }\n",
       "\n",
       "    .dataframe tbody tr th {\n",
       "        vertical-align: top;\n",
       "    }\n",
       "\n",
       "    .dataframe thead th {\n",
       "        text-align: right;\n",
       "    }\n",
       "</style>\n",
       "<table border=\"1\" class=\"dataframe\">\n",
       "  <thead>\n",
       "    <tr style=\"text-align: right;\">\n",
       "      <th></th>\n",
       "      <th>peso</th>\n",
       "      <th>colesterol</th>\n",
       "    </tr>\n",
       "  </thead>\n",
       "  <tbody>\n",
       "    <tr>\n",
       "      <th>0</th>\n",
       "      <td>102.0</td>\n",
       "      <td>111</td>\n",
       "    </tr>\n",
       "    <tr>\n",
       "      <th>17</th>\n",
       "      <td>115.0</td>\n",
       "      <td>135</td>\n",
       "    </tr>\n",
       "    <tr>\n",
       "      <th>39</th>\n",
       "      <td>115.0</td>\n",
       "      <td>136</td>\n",
       "    </tr>\n",
       "    <tr>\n",
       "      <th>64</th>\n",
       "      <td>130.0</td>\n",
       "      <td>158</td>\n",
       "    </tr>\n",
       "    <tr>\n",
       "      <th>83</th>\n",
       "      <td>198.0</td>\n",
       "      <td>227</td>\n",
       "    </tr>\n",
       "    <tr>\n",
       "      <th>...</th>\n",
       "      <td>...</td>\n",
       "      <td>...</td>\n",
       "    </tr>\n",
       "    <tr>\n",
       "      <th>418</th>\n",
       "      <td>172.0</td>\n",
       "      <td>207</td>\n",
       "    </tr>\n",
       "    <tr>\n",
       "      <th>430</th>\n",
       "      <td>129.0</td>\n",
       "      <td>157</td>\n",
       "    </tr>\n",
       "    <tr>\n",
       "      <th>155</th>\n",
       "      <td>107.0</td>\n",
       "      <td>115</td>\n",
       "    </tr>\n",
       "    <tr>\n",
       "      <th>372</th>\n",
       "      <td>117.0</td>\n",
       "      <td>147</td>\n",
       "    </tr>\n",
       "    <tr>\n",
       "      <th>100</th>\n",
       "      <td>148.0</td>\n",
       "      <td>176</td>\n",
       "    </tr>\n",
       "  </tbody>\n",
       "</table>\n",
       "<p>498 rows × 2 columns</p>\n",
       "</div>"
      ],
      "text/plain": [
       "      peso  colesterol\n",
       "0    102.0         111\n",
       "17   115.0         135\n",
       "39   115.0         136\n",
       "64   130.0         158\n",
       "83   198.0         227\n",
       "..     ...         ...\n",
       "418  172.0         207\n",
       "430  129.0         157\n",
       "155  107.0         115\n",
       "372  117.0         147\n",
       "100  148.0         176\n",
       "\n",
       "[498 rows x 2 columns]"
      ]
     },
     "execution_count": 131,
     "metadata": {},
     "output_type": "execute_result"
    }
   ],
   "source": [
    "dados_cliente"
   ]
  },
  {
   "cell_type": "code",
   "execution_count": 132,
   "metadata": {
    "colab": {
     "base_uri": "https://localhost:8080/"
    },
    "id": "xCQadqKaJaki",
    "outputId": "bd51bcfb-dad4-43f1-d599-30f1bc91127a"
   },
   "outputs": [
    {
     "data": {
      "text/plain": [
       "array([[184.32394366, 218.98591549],\n",
       "       [127.57024793, 154.20661157],\n",
       "       [106.90697674, 119.57364341],\n",
       "       [152.32075472, 186.03773585]])"
      ]
     },
     "execution_count": 132,
     "metadata": {},
     "output_type": "execute_result"
    }
   ],
   "source": [
    "#calculando os centroides do cluster\n",
    "centroides_clusters = kmeans_clientes.cluster_centers_\n",
    "centroides_clusters"
   ]
  },
  {
   "cell_type": "markdown",
   "metadata": {
    "id": "f0n9uIbIKNMw"
   },
   "source": [
    "### Visualizando o Gráfico"
   ]
  },
  {
   "cell_type": "code",
   "execution_count": 133,
   "metadata": {
    "colab": {
     "base_uri": "https://localhost:8080/",
     "height": 542
    },
    "id": "b2XmpOjAqXjS",
    "outputId": "82eddab9-6403-4054-fd51-6d1d990d8bcf"
   },
   "outputs": [
    {
     "data": {
      "application/vnd.plotly.v1+json": {
       "config": {
        "plotlyServerURL": "https://plot.ly"
       },
       "data": [
        {
         "hovertemplate": "x=%{x}<br>y=%{y}<br>color=%{marker.color}<extra></extra>",
         "legendgroup": "",
         "marker": {
          "color": [
           2,
           2,
           2,
           1,
           0,
           2,
           3,
           0,
           0,
           2,
           0,
           2,
           3,
           1,
           0,
           2,
           0,
           3,
           1,
           3,
           2,
           0,
           1,
           2,
           0,
           2,
           0,
           0,
           3,
           0,
           1,
           3,
           0,
           2,
           0,
           2,
           1,
           3,
           0,
           3,
           1,
           0,
           1,
           0,
           1,
           1,
           2,
           2,
           3,
           0,
           3,
           2,
           3,
           3,
           0,
           1,
           3,
           2,
           3,
           2,
           1,
           3,
           3,
           0,
           1,
           1,
           1,
           1,
           3,
           0,
           2,
           1,
           0,
           2,
           1,
           1,
           2,
           0,
           1,
           2,
           1,
           3,
           1,
           1,
           2,
           3,
           0,
           2,
           2,
           2,
           1,
           1,
           3,
           2,
           2,
           3,
           1,
           0,
           2,
           3,
           2,
           0,
           1,
           0,
           1,
           2,
           0,
           2,
           1,
           3,
           1,
           0,
           2,
           3,
           0,
           0,
           2,
           0,
           2,
           1,
           0,
           2,
           0,
           3,
           1,
           3,
           2,
           0,
           3,
           2,
           0,
           2,
           0,
           0,
           3,
           3,
           2,
           0,
           2,
           0,
           2,
           1,
           0,
           0,
           1,
           0,
           0,
           0,
           1,
           1,
           3,
           0,
           3,
           2,
           0,
           3,
           0,
           1,
           3,
           2,
           3,
           2,
           0,
           3,
           3,
           0,
           1,
           1,
           1,
           1,
           3,
           0,
           2,
           1,
           0,
           2,
           1,
           2,
           0,
           1,
           2,
           1,
           3,
           3,
           1,
           2,
           3,
           0,
           2,
           2,
           2,
           1,
           1,
           3,
           2,
           2,
           0,
           2,
           1,
           0,
           0,
           1,
           2,
           0,
           0,
           1,
           2,
           0,
           2,
           1,
           1,
           1,
           0,
           2,
           3,
           0,
           2,
           0,
           2,
           3,
           1,
           0,
           2,
           0,
           3,
           1,
           3,
           2,
           0,
           2,
           0,
           2,
           0,
           0,
           3,
           0,
           3,
           3,
           0,
           2,
           0,
           2,
           1,
           0,
           0,
           3,
           1,
           0,
           1,
           0,
           1,
           1,
           2,
           1,
           0,
           0,
           3,
           2,
           3,
           3,
           0,
           3,
           2,
           3,
           2,
           0,
           3,
           3,
           2,
           3,
           0,
           1,
           1,
           1,
           3,
           0,
           2,
           1,
           0,
           2,
           1,
           2,
           0,
           1,
           2,
           1,
           3,
           3,
           1,
           2,
           3,
           0,
           2,
           2,
           2,
           1,
           1,
           3,
           2,
           2,
           3,
           0,
           2,
           1,
           0,
           0,
           2,
           3,
           2,
           0,
           1,
           0,
           1,
           2,
           0,
           2,
           1,
           1,
           3,
           1,
           0,
           2,
           3,
           0,
           0,
           2,
           0,
           2,
           1,
           0,
           0,
           3,
           1,
           3,
           2,
           0,
           3,
           2,
           0,
           2,
           0,
           0,
           0,
           1,
           3,
           2,
           0,
           2,
           0,
           2,
           0,
           0,
           3,
           1,
           0,
           0,
           0,
           1,
           1,
           1,
           3,
           0,
           3,
           2,
           3,
           0,
           1,
           3,
           2,
           3,
           0,
           3,
           3,
           2,
           3,
           0,
           1,
           1,
           1,
           1,
           3,
           0,
           2,
           1,
           0,
           2,
           1,
           2,
           0,
           2,
           1,
           3,
           1,
           1,
           2,
           3,
           2,
           2,
           2,
           1,
           1,
           3,
           2,
           2,
           3,
           0,
           1,
           0,
           0,
           1,
           3,
           2,
           0,
           1,
           0,
           1,
           2,
           0,
           2,
           1,
           1,
           3,
           1,
           1,
           3,
           0,
           0,
           2,
           0,
           2,
           3,
           1,
           0,
           2,
           0,
           3,
           1,
           3,
           0,
           3,
           2,
           0,
           2,
           0,
           0,
           3,
           0,
           3,
           3,
           2,
           2,
           0,
           2,
           1,
           0,
           3,
           1,
           0,
           0,
           1,
           0,
           1,
           1,
           2,
           3,
           0,
           3,
           2,
           3,
           3,
           0,
           1,
           3,
           2,
           2,
           3,
           3,
           2,
           3,
           0,
           3,
           1,
           1,
           1,
           3,
           0,
           2,
           1,
           0,
           2,
           1,
           1,
           2,
           0,
           1,
           2,
           1,
           3
          ],
          "coloraxis": "coloraxis",
          "symbol": "circle"
         },
         "mode": "markers",
         "name": "",
         "orientation": "v",
         "showlegend": false,
         "type": "scatter",
         "x": [
          102,
          115,
          115,
          130,
          198,
          114,
          145,
          191,
          186,
          104,
          188,
          96,
          156,
          125,
          178,
          109,
          168,
          152,
          133,
          153,
          107,
          199,
          140,
          95,
          183,
          108,
          190,
          174,
          149,
          169,
          138,
          151,
          178,
          106,
          195,
          96,
          129,
          166,
          197,
          148,
          117,
          193,
          130,
          183,
          134,
          128,
          105,
          115,
          166,
          183,
          149,
          110,
          164,
          157,
          170,
          124,
          145,
          113,
          150,
          100,
          139,
          150,
          157,
          187,
          137,
          121,
          132,
          130,
          156,
          180,
          100,
          122,
          185,
          113,
          123,
          119,
          113,
          168,
          126,
          102,
          116,
          144,
          140,
          124,
          108,
          154,
          185,
          106,
          97,
          96,
          129,
          124,
          149,
          97,
          102,
          146,
          118,
          179,
          113,
          142,
          101,
          174,
          131,
          179,
          122,
          105,
          176,
          103,
          120,
          143,
          134,
          203,
          116,
          150,
          192,
          187,
          107,
          192,
          97,
          128,
          183,
          112,
          173,
          156,
          137,
          156,
          112,
          203,
          141,
          97,
          186,
          113,
          195,
          175,
          154,
          152,
          114,
          181,
          111,
          200,
          100,
          134,
          167,
          198,
          121,
          196,
          171,
          186,
          133,
          120,
          168,
          184,
          154,
          115,
          168,
          161,
          171,
          129,
          150,
          118,
          154,
          103,
          180,
          141,
          159,
          191,
          142,
          123,
          135,
          132,
          158,
          181,
          105,
          126,
          186,
          116,
          124,
          115,
          173,
          128,
          103,
          120,
          146,
          145,
          125,
          109,
          156,
          187,
          110,
          100,
          97,
          133,
          128,
          154,
          100,
          104,
          203,
          104,
          119,
          181,
          180,
          116,
          102,
          176,
          184,
          124,
          110,
          180,
          103,
          117,
          120,
          133,
          201,
          117,
          146,
          195,
          108,
          191,
          100,
          158,
          127,
          181,
          113,
          171,
          153,
          137,
          154,
          112,
          201,
          100,
          185,
          111,
          191,
          176,
          150,
          171,
          140,
          153,
          180,
          107,
          197,
          101,
          132,
          168,
          200,
          150,
          119,
          197,
          134,
          185,
          135,
          132,
          109,
          116,
          170,
          187,
          154,
          111,
          169,
          161,
          174,
          148,
          117,
          154,
          104,
          183,
          142,
          155,
          105,
          160,
          191,
          140,
          123,
          132,
          158,
          182,
          104,
          126,
          188,
          118,
          127,
          118,
          169,
          128,
          106,
          119,
          147,
          141,
          125,
          109,
          158,
          190,
          110,
          99,
          98,
          134,
          129,
          154,
          100,
          107,
          149,
          203,
          101,
          119,
          182,
          181,
          115,
          145,
          102,
          176,
          134,
          183,
          123,
          108,
          177,
          104,
          117,
          117,
          145,
          134,
          199,
          115,
          149,
          192,
          188,
          107,
          190,
          98,
          128,
          180,
          172,
          157,
          137,
          158,
          110,
          203,
          145,
          96,
          186,
          110,
          194,
          177,
          172,
          140,
          154,
          113,
          179,
          111,
          196,
          101,
          171,
          199,
          151,
          121,
          196,
          174,
          184,
          137,
          129,
          116,
          168,
          184,
          151,
          114,
          167,
          175,
          127,
          146,
          118,
          151,
          180,
          140,
          155,
          106,
          160,
          192,
          138,
          122,
          135,
          132,
          158,
          184,
          101,
          126,
          188,
          118,
          127,
          117,
          172,
          104,
          121,
          148,
          141,
          128,
          113,
          155,
          108,
          98,
          100,
          134,
          125,
          151,
          100,
          107,
          147,
          200,
          120,
          181,
          182,
          117,
          145,
          106,
          179,
          134,
          180,
          126,
          110,
          180,
          103,
          116,
          119,
          144,
          133,
          115,
          150,
          192,
          188,
          109,
          189,
          101,
          159,
          128,
          182,
          111,
          171,
          154,
          134,
          157,
          203,
          142,
          97,
          187,
          111,
          194,
          176,
          153,
          171,
          142,
          153,
          113,
          108,
          200,
          99,
          131,
          171,
          152,
          119,
          196,
          173,
          132,
          185,
          138,
          132,
          110,
          167,
          188,
          151,
          112,
          166,
          158,
          172,
          127,
          150,
          115,
          103,
          141,
          152,
          105,
          162,
          190,
          141,
          122,
          136,
          131,
          157,
          181,
          103,
          127,
          189,
          114,
          125,
          123,
          116,
          172,
          129,
          107,
          117,
          148
         ],
         "xaxis": "x",
         "y": [
          111,
          135,
          136,
          158,
          227,
          131,
          176,
          223,
          221,
          116,
          222,
          102,
          192,
          152,
          213,
          125,
          204,
          189,
          163,
          189,
          122,
          228,
          168,
          102,
          218,
          123,
          222,
          208,
          183,
          204,
          167,
          188,
          213,
          122,
          225,
          105,
          155,
          203,
          225,
          177,
          139,
          224,
          158,
          218,
          164,
          154,
          118,
          138,
          199,
          219,
          183,
          128,
          197,
          196,
          208,
          152,
          175,
          129,
          185,
          107,
          167,
          185,
          194,
          221,
          166,
          143,
          163,
          158,
          191,
          216,
          106,
          146,
          220,
          131,
          147,
          141,
          130,
          204,
          152,
          111,
          139,
          172,
          168,
          148,
          123,
          189,
          220,
          120,
          106,
          105,
          157,
          149,
          185,
          106,
          115,
          177,
          140,
          216,
          130,
          169,
          110,
          209,
          162,
          214,
          145,
          116,
          209,
          116,
          139,
          168,
          158,
          232,
          136,
          180,
          228,
          222,
          117,
          224,
          104,
          156,
          213,
          133,
          208,
          195,
          163,
          195,
          124,
          231,
          172,
          104,
          221,
          128,
          222,
          214,
          184,
          195,
          132,
          214,
          123,
          233,
          107,
          162,
          204,
          227,
          142,
          225,
          212,
          220,
          155,
          144,
          201,
          222,
          189,
          132,
          204,
          201,
          211,
          156,
          179,
          129,
          185,
          107,
          213,
          172,
          202,
          222,
          168,
          146,
          170,
          165,
          196,
          224,
          108,
          149,
          224,
          136,
          152,
          135,
          211,
          156,
          115,
          143,
          179,
          173,
          148,
          127,
          194,
          225,
          127,
          106,
          112,
          164,
          151,
          191,
          110,
          116,
          235,
          108,
          141,
          219,
          219,
          138,
          116,
          212,
          220,
          151,
          119,
          212,
          111,
          142,
          138,
          158,
          228,
          134,
          181,
          231,
          121,
          222,
          102,
          195,
          156,
          214,
          132,
          204,
          190,
          167,
          195,
          127,
          235,
          110,
          221,
          128,
          226,
          208,
          191,
          205,
          173,
          191,
          220,
          126,
          232,
          108,
          159,
          211,
          232,
          182,
          145,
          224,
          160,
          219,
          170,
          161,
          122,
          141,
          204,
          226,
          187,
          129,
          199,
          199,
          214,
          176,
          129,
          187,
          109,
          212,
          170,
          191,
          116,
          202,
          226,
          166,
          151,
          166,
          193,
          218,
          109,
          152,
          220,
          133,
          152,
          131,
          204,
          153,
          114,
          144,
          172,
          176,
          150,
          129,
          190,
          226,
          128,
          106,
          107,
          159,
          157,
          192,
          110,
          115,
          183,
          233,
          112,
          146,
          222,
          216,
          134,
          174,
          114,
          211,
          167,
          214,
          145,
          120,
          217,
          113,
          141,
          140,
          171,
          163,
          232,
          131,
          184,
          225,
          223,
          121,
          223,
          105,
          160,
          218,
          211,
          194,
          169,
          189,
          128,
          228,
          169,
          108,
          219,
          124,
          224,
          214,
          205,
          167,
          190,
          128,
          217,
          126,
          228,
          105,
          211,
          227,
          178,
          146,
          227,
          208,
          225,
          167,
          162,
          144,
          199,
          226,
          183,
          136,
          199,
          215,
          155,
          179,
          133,
          186,
          219,
          173,
          185,
          118,
          199,
          226,
          169,
          144,
          166,
          166,
          198,
          222,
          110,
          154,
          226,
          135,
          151,
          133,
          205,
          116,
          145,
          174,
          168,
          156,
          124,
          196,
          122,
          106,
          110,
          158,
          154,
          190,
          110,
          120,
          180,
          232,
          142,
          222,
          218,
          138,
          176,
          115,
          211,
          168,
          216,
          147,
          124,
          215,
          117,
          139,
          138,
          171,
          158,
          139,
          178,
          224,
          224,
          116,
          223,
          109,
          193,
          155,
          221,
          130,
          212,
          190,
          169,
          191,
          234,
          175,
          108,
          220,
          126,
          227,
          216,
          188,
          205,
          172,
          192,
          129,
          127,
          228,
          105,
          159,
          205,
          178,
          139,
          232,
          212,
          162,
          226,
          171,
          159,
          120,
          200,
          221,
          184,
          134,
          200,
          201,
          210,
          159,
          178,
          137,
          110,
          170,
          193,
          113,
          196,
          222,
          174,
          143,
          169,
          165,
          194,
          217,
          113,
          150,
          223,
          133,
          149,
          149,
          130,
          207,
          157,
          115,
          147,
          176
         ],
         "yaxis": "y"
        },
        {
         "hovertemplate": "x=%{x}<br>y=%{y}<br>size=%{marker.size}<extra></extra>",
         "legendgroup": "",
         "marker": {
          "color": "#636efa",
          "size": [
           7,
           7,
           7,
           7
          ],
          "sizemode": "area",
          "sizeref": 0.0175,
          "symbol": "circle"
         },
         "mode": "markers",
         "name": "",
         "orientation": "v",
         "showlegend": false,
         "type": "scatter",
         "x": [
          184.32394366197178,
          127.57024793388432,
          106.90697674418601,
          152.32075471698116
         ],
         "xaxis": "x",
         "y": [
          218.98591549295764,
          154.20661157024793,
          119.57364341085263,
          186.03773584905662
         ],
         "yaxis": "y"
        }
       ],
       "layout": {
        "template": {
         "data": {
          "bar": [
           {
            "error_x": {
             "color": "#2a3f5f"
            },
            "error_y": {
             "color": "#2a3f5f"
            },
            "marker": {
             "line": {
              "color": "#E5ECF6",
              "width": 0.5
             },
             "pattern": {
              "fillmode": "overlay",
              "size": 10,
              "solidity": 0.2
             }
            },
            "type": "bar"
           }
          ],
          "barpolar": [
           {
            "marker": {
             "line": {
              "color": "#E5ECF6",
              "width": 0.5
             },
             "pattern": {
              "fillmode": "overlay",
              "size": 10,
              "solidity": 0.2
             }
            },
            "type": "barpolar"
           }
          ],
          "carpet": [
           {
            "aaxis": {
             "endlinecolor": "#2a3f5f",
             "gridcolor": "white",
             "linecolor": "white",
             "minorgridcolor": "white",
             "startlinecolor": "#2a3f5f"
            },
            "baxis": {
             "endlinecolor": "#2a3f5f",
             "gridcolor": "white",
             "linecolor": "white",
             "minorgridcolor": "white",
             "startlinecolor": "#2a3f5f"
            },
            "type": "carpet"
           }
          ],
          "choropleth": [
           {
            "colorbar": {
             "outlinewidth": 0,
             "ticks": ""
            },
            "type": "choropleth"
           }
          ],
          "contour": [
           {
            "colorbar": {
             "outlinewidth": 0,
             "ticks": ""
            },
            "colorscale": [
             [
              0,
              "#0d0887"
             ],
             [
              0.1111111111111111,
              "#46039f"
             ],
             [
              0.2222222222222222,
              "#7201a8"
             ],
             [
              0.3333333333333333,
              "#9c179e"
             ],
             [
              0.4444444444444444,
              "#bd3786"
             ],
             [
              0.5555555555555556,
              "#d8576b"
             ],
             [
              0.6666666666666666,
              "#ed7953"
             ],
             [
              0.7777777777777778,
              "#fb9f3a"
             ],
             [
              0.8888888888888888,
              "#fdca26"
             ],
             [
              1,
              "#f0f921"
             ]
            ],
            "type": "contour"
           }
          ],
          "contourcarpet": [
           {
            "colorbar": {
             "outlinewidth": 0,
             "ticks": ""
            },
            "type": "contourcarpet"
           }
          ],
          "heatmap": [
           {
            "colorbar": {
             "outlinewidth": 0,
             "ticks": ""
            },
            "colorscale": [
             [
              0,
              "#0d0887"
             ],
             [
              0.1111111111111111,
              "#46039f"
             ],
             [
              0.2222222222222222,
              "#7201a8"
             ],
             [
              0.3333333333333333,
              "#9c179e"
             ],
             [
              0.4444444444444444,
              "#bd3786"
             ],
             [
              0.5555555555555556,
              "#d8576b"
             ],
             [
              0.6666666666666666,
              "#ed7953"
             ],
             [
              0.7777777777777778,
              "#fb9f3a"
             ],
             [
              0.8888888888888888,
              "#fdca26"
             ],
             [
              1,
              "#f0f921"
             ]
            ],
            "type": "heatmap"
           }
          ],
          "heatmapgl": [
           {
            "colorbar": {
             "outlinewidth": 0,
             "ticks": ""
            },
            "colorscale": [
             [
              0,
              "#0d0887"
             ],
             [
              0.1111111111111111,
              "#46039f"
             ],
             [
              0.2222222222222222,
              "#7201a8"
             ],
             [
              0.3333333333333333,
              "#9c179e"
             ],
             [
              0.4444444444444444,
              "#bd3786"
             ],
             [
              0.5555555555555556,
              "#d8576b"
             ],
             [
              0.6666666666666666,
              "#ed7953"
             ],
             [
              0.7777777777777778,
              "#fb9f3a"
             ],
             [
              0.8888888888888888,
              "#fdca26"
             ],
             [
              1,
              "#f0f921"
             ]
            ],
            "type": "heatmapgl"
           }
          ],
          "histogram": [
           {
            "marker": {
             "pattern": {
              "fillmode": "overlay",
              "size": 10,
              "solidity": 0.2
             }
            },
            "type": "histogram"
           }
          ],
          "histogram2d": [
           {
            "colorbar": {
             "outlinewidth": 0,
             "ticks": ""
            },
            "colorscale": [
             [
              0,
              "#0d0887"
             ],
             [
              0.1111111111111111,
              "#46039f"
             ],
             [
              0.2222222222222222,
              "#7201a8"
             ],
             [
              0.3333333333333333,
              "#9c179e"
             ],
             [
              0.4444444444444444,
              "#bd3786"
             ],
             [
              0.5555555555555556,
              "#d8576b"
             ],
             [
              0.6666666666666666,
              "#ed7953"
             ],
             [
              0.7777777777777778,
              "#fb9f3a"
             ],
             [
              0.8888888888888888,
              "#fdca26"
             ],
             [
              1,
              "#f0f921"
             ]
            ],
            "type": "histogram2d"
           }
          ],
          "histogram2dcontour": [
           {
            "colorbar": {
             "outlinewidth": 0,
             "ticks": ""
            },
            "colorscale": [
             [
              0,
              "#0d0887"
             ],
             [
              0.1111111111111111,
              "#46039f"
             ],
             [
              0.2222222222222222,
              "#7201a8"
             ],
             [
              0.3333333333333333,
              "#9c179e"
             ],
             [
              0.4444444444444444,
              "#bd3786"
             ],
             [
              0.5555555555555556,
              "#d8576b"
             ],
             [
              0.6666666666666666,
              "#ed7953"
             ],
             [
              0.7777777777777778,
              "#fb9f3a"
             ],
             [
              0.8888888888888888,
              "#fdca26"
             ],
             [
              1,
              "#f0f921"
             ]
            ],
            "type": "histogram2dcontour"
           }
          ],
          "mesh3d": [
           {
            "colorbar": {
             "outlinewidth": 0,
             "ticks": ""
            },
            "type": "mesh3d"
           }
          ],
          "parcoords": [
           {
            "line": {
             "colorbar": {
              "outlinewidth": 0,
              "ticks": ""
             }
            },
            "type": "parcoords"
           }
          ],
          "pie": [
           {
            "automargin": true,
            "type": "pie"
           }
          ],
          "scatter": [
           {
            "fillpattern": {
             "fillmode": "overlay",
             "size": 10,
             "solidity": 0.2
            },
            "type": "scatter"
           }
          ],
          "scatter3d": [
           {
            "line": {
             "colorbar": {
              "outlinewidth": 0,
              "ticks": ""
             }
            },
            "marker": {
             "colorbar": {
              "outlinewidth": 0,
              "ticks": ""
             }
            },
            "type": "scatter3d"
           }
          ],
          "scattercarpet": [
           {
            "marker": {
             "colorbar": {
              "outlinewidth": 0,
              "ticks": ""
             }
            },
            "type": "scattercarpet"
           }
          ],
          "scattergeo": [
           {
            "marker": {
             "colorbar": {
              "outlinewidth": 0,
              "ticks": ""
             }
            },
            "type": "scattergeo"
           }
          ],
          "scattergl": [
           {
            "marker": {
             "colorbar": {
              "outlinewidth": 0,
              "ticks": ""
             }
            },
            "type": "scattergl"
           }
          ],
          "scattermapbox": [
           {
            "marker": {
             "colorbar": {
              "outlinewidth": 0,
              "ticks": ""
             }
            },
            "type": "scattermapbox"
           }
          ],
          "scatterpolar": [
           {
            "marker": {
             "colorbar": {
              "outlinewidth": 0,
              "ticks": ""
             }
            },
            "type": "scatterpolar"
           }
          ],
          "scatterpolargl": [
           {
            "marker": {
             "colorbar": {
              "outlinewidth": 0,
              "ticks": ""
             }
            },
            "type": "scatterpolargl"
           }
          ],
          "scatterternary": [
           {
            "marker": {
             "colorbar": {
              "outlinewidth": 0,
              "ticks": ""
             }
            },
            "type": "scatterternary"
           }
          ],
          "surface": [
           {
            "colorbar": {
             "outlinewidth": 0,
             "ticks": ""
            },
            "colorscale": [
             [
              0,
              "#0d0887"
             ],
             [
              0.1111111111111111,
              "#46039f"
             ],
             [
              0.2222222222222222,
              "#7201a8"
             ],
             [
              0.3333333333333333,
              "#9c179e"
             ],
             [
              0.4444444444444444,
              "#bd3786"
             ],
             [
              0.5555555555555556,
              "#d8576b"
             ],
             [
              0.6666666666666666,
              "#ed7953"
             ],
             [
              0.7777777777777778,
              "#fb9f3a"
             ],
             [
              0.8888888888888888,
              "#fdca26"
             ],
             [
              1,
              "#f0f921"
             ]
            ],
            "type": "surface"
           }
          ],
          "table": [
           {
            "cells": {
             "fill": {
              "color": "#EBF0F8"
             },
             "line": {
              "color": "white"
             }
            },
            "header": {
             "fill": {
              "color": "#C8D4E3"
             },
             "line": {
              "color": "white"
             }
            },
            "type": "table"
           }
          ]
         },
         "layout": {
          "annotationdefaults": {
           "arrowcolor": "#2a3f5f",
           "arrowhead": 0,
           "arrowwidth": 1
          },
          "autotypenumbers": "strict",
          "coloraxis": {
           "colorbar": {
            "outlinewidth": 0,
            "ticks": ""
           }
          },
          "colorscale": {
           "diverging": [
            [
             0,
             "#8e0152"
            ],
            [
             0.1,
             "#c51b7d"
            ],
            [
             0.2,
             "#de77ae"
            ],
            [
             0.3,
             "#f1b6da"
            ],
            [
             0.4,
             "#fde0ef"
            ],
            [
             0.5,
             "#f7f7f7"
            ],
            [
             0.6,
             "#e6f5d0"
            ],
            [
             0.7,
             "#b8e186"
            ],
            [
             0.8,
             "#7fbc41"
            ],
            [
             0.9,
             "#4d9221"
            ],
            [
             1,
             "#276419"
            ]
           ],
           "sequential": [
            [
             0,
             "#0d0887"
            ],
            [
             0.1111111111111111,
             "#46039f"
            ],
            [
             0.2222222222222222,
             "#7201a8"
            ],
            [
             0.3333333333333333,
             "#9c179e"
            ],
            [
             0.4444444444444444,
             "#bd3786"
            ],
            [
             0.5555555555555556,
             "#d8576b"
            ],
            [
             0.6666666666666666,
             "#ed7953"
            ],
            [
             0.7777777777777778,
             "#fb9f3a"
            ],
            [
             0.8888888888888888,
             "#fdca26"
            ],
            [
             1,
             "#f0f921"
            ]
           ],
           "sequentialminus": [
            [
             0,
             "#0d0887"
            ],
            [
             0.1111111111111111,
             "#46039f"
            ],
            [
             0.2222222222222222,
             "#7201a8"
            ],
            [
             0.3333333333333333,
             "#9c179e"
            ],
            [
             0.4444444444444444,
             "#bd3786"
            ],
            [
             0.5555555555555556,
             "#d8576b"
            ],
            [
             0.6666666666666666,
             "#ed7953"
            ],
            [
             0.7777777777777778,
             "#fb9f3a"
            ],
            [
             0.8888888888888888,
             "#fdca26"
            ],
            [
             1,
             "#f0f921"
            ]
           ]
          },
          "colorway": [
           "#636efa",
           "#EF553B",
           "#00cc96",
           "#ab63fa",
           "#FFA15A",
           "#19d3f3",
           "#FF6692",
           "#B6E880",
           "#FF97FF",
           "#FECB52"
          ],
          "font": {
           "color": "#2a3f5f"
          },
          "geo": {
           "bgcolor": "white",
           "lakecolor": "white",
           "landcolor": "#E5ECF6",
           "showlakes": true,
           "showland": true,
           "subunitcolor": "white"
          },
          "hoverlabel": {
           "align": "left"
          },
          "hovermode": "closest",
          "mapbox": {
           "style": "light"
          },
          "paper_bgcolor": "white",
          "plot_bgcolor": "#E5ECF6",
          "polar": {
           "angularaxis": {
            "gridcolor": "white",
            "linecolor": "white",
            "ticks": ""
           },
           "bgcolor": "#E5ECF6",
           "radialaxis": {
            "gridcolor": "white",
            "linecolor": "white",
            "ticks": ""
           }
          },
          "scene": {
           "xaxis": {
            "backgroundcolor": "#E5ECF6",
            "gridcolor": "white",
            "gridwidth": 2,
            "linecolor": "white",
            "showbackground": true,
            "ticks": "",
            "zerolinecolor": "white"
           },
           "yaxis": {
            "backgroundcolor": "#E5ECF6",
            "gridcolor": "white",
            "gridwidth": 2,
            "linecolor": "white",
            "showbackground": true,
            "ticks": "",
            "zerolinecolor": "white"
           },
           "zaxis": {
            "backgroundcolor": "#E5ECF6",
            "gridcolor": "white",
            "gridwidth": 2,
            "linecolor": "white",
            "showbackground": true,
            "ticks": "",
            "zerolinecolor": "white"
           }
          },
          "shapedefaults": {
           "line": {
            "color": "#2a3f5f"
           }
          },
          "ternary": {
           "aaxis": {
            "gridcolor": "white",
            "linecolor": "white",
            "ticks": ""
           },
           "baxis": {
            "gridcolor": "white",
            "linecolor": "white",
            "ticks": ""
           },
           "bgcolor": "#E5ECF6",
           "caxis": {
            "gridcolor": "white",
            "linecolor": "white",
            "ticks": ""
           }
          },
          "title": {
           "x": 0.05
          },
          "xaxis": {
           "automargin": true,
           "gridcolor": "white",
           "linecolor": "white",
           "ticks": "",
           "title": {
            "standoff": 15
           },
           "zerolinecolor": "white",
           "zerolinewidth": 2
          },
          "yaxis": {
           "automargin": true,
           "gridcolor": "white",
           "linecolor": "white",
           "ticks": "",
           "title": {
            "standoff": 15
           },
           "zerolinecolor": "white",
           "zerolinewidth": 2
          }
         }
        },
        "title": {
         "text": "Analise de Clusters"
        },
        "xaxis": {
         "title": {
          "text": "Peso"
         }
        },
        "yaxis": {
         "title": {
          "text": "Colesterol"
         }
        }
       }
      },
      "text/html": [
       "<div>                            <div id=\"2ecb8c91-2b3d-4e9b-8a60-9ae43175f15c\" class=\"plotly-graph-div\" style=\"height:525px; width:100%;\"></div>            <script type=\"text/javascript\">                require([\"plotly\"], function(Plotly) {                    window.PLOTLYENV=window.PLOTLYENV || {};                                    if (document.getElementById(\"2ecb8c91-2b3d-4e9b-8a60-9ae43175f15c\")) {                    Plotly.newPlot(                        \"2ecb8c91-2b3d-4e9b-8a60-9ae43175f15c\",                        [{\"hovertemplate\":\"x=%{x}<br>y=%{y}<br>color=%{marker.color}<extra></extra>\",\"legendgroup\":\"\",\"marker\":{\"color\":[2,2,2,1,0,2,3,0,0,2,0,2,3,1,0,2,0,3,1,3,2,0,1,2,0,2,0,0,3,0,1,3,0,2,0,2,1,3,0,3,1,0,1,0,1,1,2,2,3,0,3,2,3,3,0,1,3,2,3,2,1,3,3,0,1,1,1,1,3,0,2,1,0,2,1,1,2,0,1,2,1,3,1,1,2,3,0,2,2,2,1,1,3,2,2,3,1,0,2,3,2,0,1,0,1,2,0,2,1,3,1,0,2,3,0,0,2,0,2,1,0,2,0,3,1,3,2,0,3,2,0,2,0,0,3,3,2,0,2,0,2,1,0,0,1,0,0,0,1,1,3,0,3,2,0,3,0,1,3,2,3,2,0,3,3,0,1,1,1,1,3,0,2,1,0,2,1,2,0,1,2,1,3,3,1,2,3,0,2,2,2,1,1,3,2,2,0,2,1,0,0,1,2,0,0,1,2,0,2,1,1,1,0,2,3,0,2,0,2,3,1,0,2,0,3,1,3,2,0,2,0,2,0,0,3,0,3,3,0,2,0,2,1,0,0,3,1,0,1,0,1,1,2,1,0,0,3,2,3,3,0,3,2,3,2,0,3,3,2,3,0,1,1,1,3,0,2,1,0,2,1,2,0,1,2,1,3,3,1,2,3,0,2,2,2,1,1,3,2,2,3,0,2,1,0,0,2,3,2,0,1,0,1,2,0,2,1,1,3,1,0,2,3,0,0,2,0,2,1,0,0,3,1,3,2,0,3,2,0,2,0,0,0,1,3,2,0,2,0,2,0,0,3,1,0,0,0,1,1,1,3,0,3,2,3,0,1,3,2,3,0,3,3,2,3,0,1,1,1,1,3,0,2,1,0,2,1,2,0,2,1,3,1,1,2,3,2,2,2,1,1,3,2,2,3,0,1,0,0,1,3,2,0,1,0,1,2,0,2,1,1,3,1,1,3,0,0,2,0,2,3,1,0,2,0,3,1,3,0,3,2,0,2,0,0,3,0,3,3,2,2,0,2,1,0,3,1,0,0,1,0,1,1,2,3,0,3,2,3,3,0,1,3,2,2,3,3,2,3,0,3,1,1,1,3,0,2,1,0,2,1,1,2,0,1,2,1,3],\"coloraxis\":\"coloraxis\",\"symbol\":\"circle\"},\"mode\":\"markers\",\"name\":\"\",\"orientation\":\"v\",\"showlegend\":false,\"x\":[102.0,115.0,115.0,130.0,198.0,114.0,145.0,191.0,186.0,104.0,188.0,96.0,156.0,125.0,178.0,109.0,168.0,152.0,133.0,153.0,107.0,199.0,140.0,95.0,183.0,108.0,190.0,174.0,149.0,169.0,138.0,151.0,178.0,106.0,195.0,96.0,129.0,166.0,197.0,148.0,117.0,193.0,130.0,183.0,134.0,128.0,105.0,115.0,166.0,183.0,149.0,110.0,164.0,157.0,170.0,124.0,145.0,113.0,150.0,100.0,139.0,150.0,157.0,187.0,137.0,121.0,132.0,130.0,156.0,180.0,100.0,122.0,185.0,113.0,123.0,119.0,113.0,168.0,126.0,102.0,116.0,144.0,140.0,124.0,108.0,154.0,185.0,106.0,97.0,96.0,129.0,124.0,149.0,97.0,102.0,146.0,118.0,179.0,113.0,142.0,101.0,174.0,131.0,179.0,122.0,105.0,176.0,103.0,120.0,143.0,134.0,203.0,116.0,150.0,192.0,187.0,107.0,192.0,97.0,128.0,183.0,112.0,173.0,156.0,137.0,156.0,112.0,203.0,141.0,97.0,186.0,113.0,195.0,175.0,154.0,152.0,114.0,181.0,111.0,200.0,100.0,134.0,167.0,198.0,121.0,196.0,171.0,186.0,133.0,120.0,168.0,184.0,154.0,115.0,168.0,161.0,171.0,129.0,150.0,118.0,154.0,103.0,180.0,141.0,159.0,191.0,142.0,123.0,135.0,132.0,158.0,181.0,105.0,126.0,186.0,116.0,124.0,115.0,173.0,128.0,103.0,120.0,146.0,145.0,125.0,109.0,156.0,187.0,110.0,100.0,97.0,133.0,128.0,154.0,100.0,104.0,203.0,104.0,119.0,181.0,180.0,116.0,102.0,176.0,184.0,124.0,110.0,180.0,103.0,117.0,120.0,133.0,201.0,117.0,146.0,195.0,108.0,191.0,100.0,158.0,127.0,181.0,113.0,171.0,153.0,137.0,154.0,112.0,201.0,100.0,185.0,111.0,191.0,176.0,150.0,171.0,140.0,153.0,180.0,107.0,197.0,101.0,132.0,168.0,200.0,150.0,119.0,197.0,134.0,185.0,135.0,132.0,109.0,116.0,170.0,187.0,154.0,111.0,169.0,161.0,174.0,148.0,117.0,154.0,104.0,183.0,142.0,155.0,105.0,160.0,191.0,140.0,123.0,132.0,158.0,182.0,104.0,126.0,188.0,118.0,127.0,118.0,169.0,128.0,106.0,119.0,147.0,141.0,125.0,109.0,158.0,190.0,110.0,99.0,98.0,134.0,129.0,154.0,100.0,107.0,149.0,203.0,101.0,119.0,182.0,181.0,115.0,145.0,102.0,176.0,134.0,183.0,123.0,108.0,177.0,104.0,117.0,117.0,145.0,134.0,199.0,115.0,149.0,192.0,188.0,107.0,190.0,98.0,128.0,180.0,172.0,157.0,137.0,158.0,110.0,203.0,145.0,96.0,186.0,110.0,194.0,177.0,172.0,140.0,154.0,113.0,179.0,111.0,196.0,101.0,171.0,199.0,151.0,121.0,196.0,174.0,184.0,137.0,129.0,116.0,168.0,184.0,151.0,114.0,167.0,175.0,127.0,146.0,118.0,151.0,180.0,140.0,155.0,106.0,160.0,192.0,138.0,122.0,135.0,132.0,158.0,184.0,101.0,126.0,188.0,118.0,127.0,117.0,172.0,104.0,121.0,148.0,141.0,128.0,113.0,155.0,108.0,98.0,100.0,134.0,125.0,151.0,100.0,107.0,147.0,200.0,120.0,181.0,182.0,117.0,145.0,106.0,179.0,134.0,180.0,126.0,110.0,180.0,103.0,116.0,119.0,144.0,133.0,115.0,150.0,192.0,188.0,109.0,189.0,101.0,159.0,128.0,182.0,111.0,171.0,154.0,134.0,157.0,203.0,142.0,97.0,187.0,111.0,194.0,176.0,153.0,171.0,142.0,153.0,113.0,108.0,200.0,99.0,131.0,171.0,152.0,119.0,196.0,173.0,132.0,185.0,138.0,132.0,110.0,167.0,188.0,151.0,112.0,166.0,158.0,172.0,127.0,150.0,115.0,103.0,141.0,152.0,105.0,162.0,190.0,141.0,122.0,136.0,131.0,157.0,181.0,103.0,127.0,189.0,114.0,125.0,123.0,116.0,172.0,129.0,107.0,117.0,148.0],\"xaxis\":\"x\",\"y\":[111,135,136,158,227,131,176,223,221,116,222,102,192,152,213,125,204,189,163,189,122,228,168,102,218,123,222,208,183,204,167,188,213,122,225,105,155,203,225,177,139,224,158,218,164,154,118,138,199,219,183,128,197,196,208,152,175,129,185,107,167,185,194,221,166,143,163,158,191,216,106,146,220,131,147,141,130,204,152,111,139,172,168,148,123,189,220,120,106,105,157,149,185,106,115,177,140,216,130,169,110,209,162,214,145,116,209,116,139,168,158,232,136,180,228,222,117,224,104,156,213,133,208,195,163,195,124,231,172,104,221,128,222,214,184,195,132,214,123,233,107,162,204,227,142,225,212,220,155,144,201,222,189,132,204,201,211,156,179,129,185,107,213,172,202,222,168,146,170,165,196,224,108,149,224,136,152,135,211,156,115,143,179,173,148,127,194,225,127,106,112,164,151,191,110,116,235,108,141,219,219,138,116,212,220,151,119,212,111,142,138,158,228,134,181,231,121,222,102,195,156,214,132,204,190,167,195,127,235,110,221,128,226,208,191,205,173,191,220,126,232,108,159,211,232,182,145,224,160,219,170,161,122,141,204,226,187,129,199,199,214,176,129,187,109,212,170,191,116,202,226,166,151,166,193,218,109,152,220,133,152,131,204,153,114,144,172,176,150,129,190,226,128,106,107,159,157,192,110,115,183,233,112,146,222,216,134,174,114,211,167,214,145,120,217,113,141,140,171,163,232,131,184,225,223,121,223,105,160,218,211,194,169,189,128,228,169,108,219,124,224,214,205,167,190,128,217,126,228,105,211,227,178,146,227,208,225,167,162,144,199,226,183,136,199,215,155,179,133,186,219,173,185,118,199,226,169,144,166,166,198,222,110,154,226,135,151,133,205,116,145,174,168,156,124,196,122,106,110,158,154,190,110,120,180,232,142,222,218,138,176,115,211,168,216,147,124,215,117,139,138,171,158,139,178,224,224,116,223,109,193,155,221,130,212,190,169,191,234,175,108,220,126,227,216,188,205,172,192,129,127,228,105,159,205,178,139,232,212,162,226,171,159,120,200,221,184,134,200,201,210,159,178,137,110,170,193,113,196,222,174,143,169,165,194,217,113,150,223,133,149,149,130,207,157,115,147,176],\"yaxis\":\"y\",\"type\":\"scatter\"},{\"hovertemplate\":\"x=%{x}<br>y=%{y}<br>size=%{marker.size}<extra></extra>\",\"legendgroup\":\"\",\"marker\":{\"color\":\"#636efa\",\"size\":[7,7,7,7],\"sizemode\":\"area\",\"sizeref\":0.0175,\"symbol\":\"circle\"},\"mode\":\"markers\",\"name\":\"\",\"orientation\":\"v\",\"showlegend\":false,\"x\":[184.32394366197178,127.57024793388432,106.90697674418601,152.32075471698116],\"xaxis\":\"x\",\"y\":[218.98591549295764,154.20661157024793,119.57364341085263,186.03773584905662],\"yaxis\":\"y\",\"type\":\"scatter\"}],                        {\"template\":{\"data\":{\"histogram2dcontour\":[{\"type\":\"histogram2dcontour\",\"colorbar\":{\"outlinewidth\":0,\"ticks\":\"\"},\"colorscale\":[[0.0,\"#0d0887\"],[0.1111111111111111,\"#46039f\"],[0.2222222222222222,\"#7201a8\"],[0.3333333333333333,\"#9c179e\"],[0.4444444444444444,\"#bd3786\"],[0.5555555555555556,\"#d8576b\"],[0.6666666666666666,\"#ed7953\"],[0.7777777777777778,\"#fb9f3a\"],[0.8888888888888888,\"#fdca26\"],[1.0,\"#f0f921\"]]}],\"choropleth\":[{\"type\":\"choropleth\",\"colorbar\":{\"outlinewidth\":0,\"ticks\":\"\"}}],\"histogram2d\":[{\"type\":\"histogram2d\",\"colorbar\":{\"outlinewidth\":0,\"ticks\":\"\"},\"colorscale\":[[0.0,\"#0d0887\"],[0.1111111111111111,\"#46039f\"],[0.2222222222222222,\"#7201a8\"],[0.3333333333333333,\"#9c179e\"],[0.4444444444444444,\"#bd3786\"],[0.5555555555555556,\"#d8576b\"],[0.6666666666666666,\"#ed7953\"],[0.7777777777777778,\"#fb9f3a\"],[0.8888888888888888,\"#fdca26\"],[1.0,\"#f0f921\"]]}],\"heatmap\":[{\"type\":\"heatmap\",\"colorbar\":{\"outlinewidth\":0,\"ticks\":\"\"},\"colorscale\":[[0.0,\"#0d0887\"],[0.1111111111111111,\"#46039f\"],[0.2222222222222222,\"#7201a8\"],[0.3333333333333333,\"#9c179e\"],[0.4444444444444444,\"#bd3786\"],[0.5555555555555556,\"#d8576b\"],[0.6666666666666666,\"#ed7953\"],[0.7777777777777778,\"#fb9f3a\"],[0.8888888888888888,\"#fdca26\"],[1.0,\"#f0f921\"]]}],\"heatmapgl\":[{\"type\":\"heatmapgl\",\"colorbar\":{\"outlinewidth\":0,\"ticks\":\"\"},\"colorscale\":[[0.0,\"#0d0887\"],[0.1111111111111111,\"#46039f\"],[0.2222222222222222,\"#7201a8\"],[0.3333333333333333,\"#9c179e\"],[0.4444444444444444,\"#bd3786\"],[0.5555555555555556,\"#d8576b\"],[0.6666666666666666,\"#ed7953\"],[0.7777777777777778,\"#fb9f3a\"],[0.8888888888888888,\"#fdca26\"],[1.0,\"#f0f921\"]]}],\"contourcarpet\":[{\"type\":\"contourcarpet\",\"colorbar\":{\"outlinewidth\":0,\"ticks\":\"\"}}],\"contour\":[{\"type\":\"contour\",\"colorbar\":{\"outlinewidth\":0,\"ticks\":\"\"},\"colorscale\":[[0.0,\"#0d0887\"],[0.1111111111111111,\"#46039f\"],[0.2222222222222222,\"#7201a8\"],[0.3333333333333333,\"#9c179e\"],[0.4444444444444444,\"#bd3786\"],[0.5555555555555556,\"#d8576b\"],[0.6666666666666666,\"#ed7953\"],[0.7777777777777778,\"#fb9f3a\"],[0.8888888888888888,\"#fdca26\"],[1.0,\"#f0f921\"]]}],\"surface\":[{\"type\":\"surface\",\"colorbar\":{\"outlinewidth\":0,\"ticks\":\"\"},\"colorscale\":[[0.0,\"#0d0887\"],[0.1111111111111111,\"#46039f\"],[0.2222222222222222,\"#7201a8\"],[0.3333333333333333,\"#9c179e\"],[0.4444444444444444,\"#bd3786\"],[0.5555555555555556,\"#d8576b\"],[0.6666666666666666,\"#ed7953\"],[0.7777777777777778,\"#fb9f3a\"],[0.8888888888888888,\"#fdca26\"],[1.0,\"#f0f921\"]]}],\"mesh3d\":[{\"type\":\"mesh3d\",\"colorbar\":{\"outlinewidth\":0,\"ticks\":\"\"}}],\"scatter\":[{\"fillpattern\":{\"fillmode\":\"overlay\",\"size\":10,\"solidity\":0.2},\"type\":\"scatter\"}],\"parcoords\":[{\"type\":\"parcoords\",\"line\":{\"colorbar\":{\"outlinewidth\":0,\"ticks\":\"\"}}}],\"scatterpolargl\":[{\"type\":\"scatterpolargl\",\"marker\":{\"colorbar\":{\"outlinewidth\":0,\"ticks\":\"\"}}}],\"bar\":[{\"error_x\":{\"color\":\"#2a3f5f\"},\"error_y\":{\"color\":\"#2a3f5f\"},\"marker\":{\"line\":{\"color\":\"#E5ECF6\",\"width\":0.5},\"pattern\":{\"fillmode\":\"overlay\",\"size\":10,\"solidity\":0.2}},\"type\":\"bar\"}],\"scattergeo\":[{\"type\":\"scattergeo\",\"marker\":{\"colorbar\":{\"outlinewidth\":0,\"ticks\":\"\"}}}],\"scatterpolar\":[{\"type\":\"scatterpolar\",\"marker\":{\"colorbar\":{\"outlinewidth\":0,\"ticks\":\"\"}}}],\"histogram\":[{\"marker\":{\"pattern\":{\"fillmode\":\"overlay\",\"size\":10,\"solidity\":0.2}},\"type\":\"histogram\"}],\"scattergl\":[{\"type\":\"scattergl\",\"marker\":{\"colorbar\":{\"outlinewidth\":0,\"ticks\":\"\"}}}],\"scatter3d\":[{\"type\":\"scatter3d\",\"line\":{\"colorbar\":{\"outlinewidth\":0,\"ticks\":\"\"}},\"marker\":{\"colorbar\":{\"outlinewidth\":0,\"ticks\":\"\"}}}],\"scattermapbox\":[{\"type\":\"scattermapbox\",\"marker\":{\"colorbar\":{\"outlinewidth\":0,\"ticks\":\"\"}}}],\"scatterternary\":[{\"type\":\"scatterternary\",\"marker\":{\"colorbar\":{\"outlinewidth\":0,\"ticks\":\"\"}}}],\"scattercarpet\":[{\"type\":\"scattercarpet\",\"marker\":{\"colorbar\":{\"outlinewidth\":0,\"ticks\":\"\"}}}],\"carpet\":[{\"aaxis\":{\"endlinecolor\":\"#2a3f5f\",\"gridcolor\":\"white\",\"linecolor\":\"white\",\"minorgridcolor\":\"white\",\"startlinecolor\":\"#2a3f5f\"},\"baxis\":{\"endlinecolor\":\"#2a3f5f\",\"gridcolor\":\"white\",\"linecolor\":\"white\",\"minorgridcolor\":\"white\",\"startlinecolor\":\"#2a3f5f\"},\"type\":\"carpet\"}],\"table\":[{\"cells\":{\"fill\":{\"color\":\"#EBF0F8\"},\"line\":{\"color\":\"white\"}},\"header\":{\"fill\":{\"color\":\"#C8D4E3\"},\"line\":{\"color\":\"white\"}},\"type\":\"table\"}],\"barpolar\":[{\"marker\":{\"line\":{\"color\":\"#E5ECF6\",\"width\":0.5},\"pattern\":{\"fillmode\":\"overlay\",\"size\":10,\"solidity\":0.2}},\"type\":\"barpolar\"}],\"pie\":[{\"automargin\":true,\"type\":\"pie\"}]},\"layout\":{\"autotypenumbers\":\"strict\",\"colorway\":[\"#636efa\",\"#EF553B\",\"#00cc96\",\"#ab63fa\",\"#FFA15A\",\"#19d3f3\",\"#FF6692\",\"#B6E880\",\"#FF97FF\",\"#FECB52\"],\"font\":{\"color\":\"#2a3f5f\"},\"hovermode\":\"closest\",\"hoverlabel\":{\"align\":\"left\"},\"paper_bgcolor\":\"white\",\"plot_bgcolor\":\"#E5ECF6\",\"polar\":{\"bgcolor\":\"#E5ECF6\",\"angularaxis\":{\"gridcolor\":\"white\",\"linecolor\":\"white\",\"ticks\":\"\"},\"radialaxis\":{\"gridcolor\":\"white\",\"linecolor\":\"white\",\"ticks\":\"\"}},\"ternary\":{\"bgcolor\":\"#E5ECF6\",\"aaxis\":{\"gridcolor\":\"white\",\"linecolor\":\"white\",\"ticks\":\"\"},\"baxis\":{\"gridcolor\":\"white\",\"linecolor\":\"white\",\"ticks\":\"\"},\"caxis\":{\"gridcolor\":\"white\",\"linecolor\":\"white\",\"ticks\":\"\"}},\"coloraxis\":{\"colorbar\":{\"outlinewidth\":0,\"ticks\":\"\"}},\"colorscale\":{\"sequential\":[[0.0,\"#0d0887\"],[0.1111111111111111,\"#46039f\"],[0.2222222222222222,\"#7201a8\"],[0.3333333333333333,\"#9c179e\"],[0.4444444444444444,\"#bd3786\"],[0.5555555555555556,\"#d8576b\"],[0.6666666666666666,\"#ed7953\"],[0.7777777777777778,\"#fb9f3a\"],[0.8888888888888888,\"#fdca26\"],[1.0,\"#f0f921\"]],\"sequentialminus\":[[0.0,\"#0d0887\"],[0.1111111111111111,\"#46039f\"],[0.2222222222222222,\"#7201a8\"],[0.3333333333333333,\"#9c179e\"],[0.4444444444444444,\"#bd3786\"],[0.5555555555555556,\"#d8576b\"],[0.6666666666666666,\"#ed7953\"],[0.7777777777777778,\"#fb9f3a\"],[0.8888888888888888,\"#fdca26\"],[1.0,\"#f0f921\"]],\"diverging\":[[0,\"#8e0152\"],[0.1,\"#c51b7d\"],[0.2,\"#de77ae\"],[0.3,\"#f1b6da\"],[0.4,\"#fde0ef\"],[0.5,\"#f7f7f7\"],[0.6,\"#e6f5d0\"],[0.7,\"#b8e186\"],[0.8,\"#7fbc41\"],[0.9,\"#4d9221\"],[1,\"#276419\"]]},\"xaxis\":{\"gridcolor\":\"white\",\"linecolor\":\"white\",\"ticks\":\"\",\"title\":{\"standoff\":15},\"zerolinecolor\":\"white\",\"automargin\":true,\"zerolinewidth\":2},\"yaxis\":{\"gridcolor\":\"white\",\"linecolor\":\"white\",\"ticks\":\"\",\"title\":{\"standoff\":15},\"zerolinecolor\":\"white\",\"automargin\":true,\"zerolinewidth\":2},\"scene\":{\"xaxis\":{\"backgroundcolor\":\"#E5ECF6\",\"gridcolor\":\"white\",\"linecolor\":\"white\",\"showbackground\":true,\"ticks\":\"\",\"zerolinecolor\":\"white\",\"gridwidth\":2},\"yaxis\":{\"backgroundcolor\":\"#E5ECF6\",\"gridcolor\":\"white\",\"linecolor\":\"white\",\"showbackground\":true,\"ticks\":\"\",\"zerolinecolor\":\"white\",\"gridwidth\":2},\"zaxis\":{\"backgroundcolor\":\"#E5ECF6\",\"gridcolor\":\"white\",\"linecolor\":\"white\",\"showbackground\":true,\"ticks\":\"\",\"zerolinecolor\":\"white\",\"gridwidth\":2}},\"shapedefaults\":{\"line\":{\"color\":\"#2a3f5f\"}},\"annotationdefaults\":{\"arrowcolor\":\"#2a3f5f\",\"arrowhead\":0,\"arrowwidth\":1},\"geo\":{\"bgcolor\":\"white\",\"landcolor\":\"#E5ECF6\",\"subunitcolor\":\"white\",\"showland\":true,\"showlakes\":true,\"lakecolor\":\"white\"},\"title\":{\"x\":0.05},\"mapbox\":{\"style\":\"light\"}}},\"title\":{\"text\":\"Analise de Clusters\"},\"xaxis\":{\"title\":{\"text\":\"Peso\"}},\"yaxis\":{\"title\":{\"text\":\"Colesterol\"}}},                        {\"responsive\": true}                    ).then(function(){\n",
       "                            \n",
       "var gd = document.getElementById('2ecb8c91-2b3d-4e9b-8a60-9ae43175f15c');\n",
       "var x = new MutationObserver(function (mutations, observer) {{\n",
       "        var display = window.getComputedStyle(gd).display;\n",
       "        if (!display || display === 'none') {{\n",
       "            console.log([gd, 'removed!']);\n",
       "            Plotly.purge(gd);\n",
       "            observer.disconnect();\n",
       "        }}\n",
       "}});\n",
       "\n",
       "// Listen for the removal of the full notebook cells\n",
       "var notebookContainer = gd.closest('#notebook-container');\n",
       "if (notebookContainer) {{\n",
       "    x.observe(notebookContainer, {childList: true});\n",
       "}}\n",
       "\n",
       "// Listen for the clearing of the current output cell\n",
       "var outputEl = gd.closest('.output');\n",
       "if (outputEl) {{\n",
       "    x.observe(outputEl, {childList: true});\n",
       "}}\n",
       "\n",
       "                        })                };                });            </script>        </div>"
      ]
     },
     "metadata": {},
     "output_type": "display_data"
    }
   ],
   "source": [
    "#grafico - dados\n",
    "grafico = px.scatter(x=base_completa['peso'],\n",
    "                     y=base_completa['colesterol'],\n",
    "                     color=base_completa['cluster'])\n",
    "\n",
    "#grafico - centroides\n",
    "grafico_centroide = px.scatter(x=centroides_clusters[:,0],\n",
    "                               y=centroides_clusters[:,1], size=[7,7,7,7]\n",
    "                               )\n",
    "\n",
    "grafico_final = go.Figure(data = grafico.data + grafico_centroide.data)\n",
    "\n",
    "# alterando layout - nomes para titulo e eixo no x e y\n",
    "grafico_final.update_layout(title='Analise de Clusters',\n",
    "                  xaxis_title='Peso',\n",
    "                  yaxis_title='Colesterol'\n",
    "                  )\n",
    "\n",
    "grafico_final.show()"
   ]
  },
  {
   "cell_type": "code",
   "execution_count": 134,
   "metadata": {
    "colab": {
     "base_uri": "https://localhost:8080/",
     "height": 542
    },
    "id": "pv75lmYXJobh",
    "outputId": "8cfb3429-cb70-4eab-a6b4-cc9698c7951c"
   },
   "outputs": [
    {
     "data": {
      "application/vnd.plotly.v1+json": {
       "config": {
        "plotlyServerURL": "https://plot.ly"
       },
       "data": [
        {
         "hovertemplate": "x=%{x}<br>y=%{y}<br>color=%{marker.color}<extra></extra>",
         "legendgroup": "",
         "marker": {
          "color": [
           2,
           2,
           2,
           1,
           0,
           2,
           3,
           0,
           0,
           2,
           0,
           2,
           3,
           1,
           0,
           2,
           0,
           3,
           1,
           3,
           2,
           0,
           1,
           2,
           0,
           2,
           0,
           0,
           3,
           0,
           1,
           3,
           0,
           2,
           0,
           2,
           1,
           3,
           0,
           3,
           1,
           0,
           1,
           0,
           1,
           1,
           2,
           2,
           3,
           0,
           3,
           2,
           3,
           3,
           0,
           1,
           3,
           2,
           3,
           2,
           1,
           3,
           3,
           0,
           1,
           1,
           1,
           1,
           3,
           0,
           2,
           1,
           0,
           2,
           1,
           1,
           2,
           0,
           1,
           2,
           1,
           3,
           1,
           1,
           2,
           3,
           0,
           2,
           2,
           2,
           1,
           1,
           3,
           2,
           2,
           3,
           1,
           0,
           2,
           3,
           2,
           0,
           1,
           0,
           1,
           2,
           0,
           2,
           1,
           3,
           1,
           0,
           2,
           3,
           0,
           0,
           2,
           0,
           2,
           1,
           0,
           2,
           0,
           3,
           1,
           3,
           2,
           0,
           3,
           2,
           0,
           2,
           0,
           0,
           3,
           3,
           2,
           0,
           2,
           0,
           2,
           1,
           0,
           0,
           1,
           0,
           0,
           0,
           1,
           1,
           3,
           0,
           3,
           2,
           0,
           3,
           0,
           1,
           3,
           2,
           3,
           2,
           0,
           3,
           3,
           0,
           1,
           1,
           1,
           1,
           3,
           0,
           2,
           1,
           0,
           2,
           1,
           2,
           0,
           1,
           2,
           1,
           3,
           3,
           1,
           2,
           3,
           0,
           2,
           2,
           2,
           1,
           1,
           3,
           2,
           2,
           0,
           2,
           1,
           0,
           0,
           1,
           2,
           0,
           0,
           1,
           2,
           0,
           2,
           1,
           1,
           1,
           0,
           2,
           3,
           0,
           2,
           0,
           2,
           3,
           1,
           0,
           2,
           0,
           3,
           1,
           3,
           2,
           0,
           2,
           0,
           2,
           0,
           0,
           3,
           0,
           3,
           3,
           0,
           2,
           0,
           2,
           1,
           0,
           0,
           3,
           1,
           0,
           1,
           0,
           1,
           1,
           2,
           1,
           0,
           0,
           3,
           2,
           3,
           3,
           0,
           3,
           2,
           3,
           2,
           0,
           3,
           3,
           2,
           3,
           0,
           1,
           1,
           1,
           3,
           0,
           2,
           1,
           0,
           2,
           1,
           2,
           0,
           1,
           2,
           1,
           3,
           3,
           1,
           2,
           3,
           0,
           2,
           2,
           2,
           1,
           1,
           3,
           2,
           2,
           3,
           0,
           2,
           1,
           0,
           0,
           2,
           3,
           2,
           0,
           1,
           0,
           1,
           2,
           0,
           2,
           1,
           1,
           3,
           1,
           0,
           2,
           3,
           0,
           0,
           2,
           0,
           2,
           1,
           0,
           0,
           3,
           1,
           3,
           2,
           0,
           3,
           2,
           0,
           2,
           0,
           0,
           0,
           1,
           3,
           2,
           0,
           2,
           0,
           2,
           0,
           0,
           3,
           1,
           0,
           0,
           0,
           1,
           1,
           1,
           3,
           0,
           3,
           2,
           3,
           0,
           1,
           3,
           2,
           3,
           0,
           3,
           3,
           2,
           3,
           0,
           1,
           1,
           1,
           1,
           3,
           0,
           2,
           1,
           0,
           2,
           1,
           2,
           0,
           2,
           1,
           3,
           1,
           1,
           2,
           3,
           2,
           2,
           2,
           1,
           1,
           3,
           2,
           2,
           3,
           0,
           1,
           0,
           0,
           1,
           3,
           2,
           0,
           1,
           0,
           1,
           2,
           0,
           2,
           1,
           1,
           3,
           1,
           1,
           3,
           0,
           0,
           2,
           0,
           2,
           3,
           1,
           0,
           2,
           0,
           3,
           1,
           3,
           0,
           3,
           2,
           0,
           2,
           0,
           0,
           3,
           0,
           3,
           3,
           2,
           2,
           0,
           2,
           1,
           0,
           3,
           1,
           0,
           0,
           1,
           0,
           1,
           1,
           2,
           3,
           0,
           3,
           2,
           3,
           3,
           0,
           1,
           3,
           2,
           2,
           3,
           3,
           2,
           3,
           0,
           3,
           1,
           1,
           1,
           3,
           0,
           2,
           1,
           0,
           2,
           1,
           1,
           2,
           0,
           1,
           2,
           1,
           3
          ],
          "coloraxis": "coloraxis",
          "symbol": "circle"
         },
         "mode": "markers",
         "name": "",
         "orientation": "v",
         "showlegend": false,
         "type": "scatter",
         "x": [
          102,
          115,
          115,
          130,
          198,
          114,
          145,
          191,
          186,
          104,
          188,
          96,
          156,
          125,
          178,
          109,
          168,
          152,
          133,
          153,
          107,
          199,
          140,
          95,
          183,
          108,
          190,
          174,
          149,
          169,
          138,
          151,
          178,
          106,
          195,
          96,
          129,
          166,
          197,
          148,
          117,
          193,
          130,
          183,
          134,
          128,
          105,
          115,
          166,
          183,
          149,
          110,
          164,
          157,
          170,
          124,
          145,
          113,
          150,
          100,
          139,
          150,
          157,
          187,
          137,
          121,
          132,
          130,
          156,
          180,
          100,
          122,
          185,
          113,
          123,
          119,
          113,
          168,
          126,
          102,
          116,
          144,
          140,
          124,
          108,
          154,
          185,
          106,
          97,
          96,
          129,
          124,
          149,
          97,
          102,
          146,
          118,
          179,
          113,
          142,
          101,
          174,
          131,
          179,
          122,
          105,
          176,
          103,
          120,
          143,
          134,
          203,
          116,
          150,
          192,
          187,
          107,
          192,
          97,
          128,
          183,
          112,
          173,
          156,
          137,
          156,
          112,
          203,
          141,
          97,
          186,
          113,
          195,
          175,
          154,
          152,
          114,
          181,
          111,
          200,
          100,
          134,
          167,
          198,
          121,
          196,
          171,
          186,
          133,
          120,
          168,
          184,
          154,
          115,
          168,
          161,
          171,
          129,
          150,
          118,
          154,
          103,
          180,
          141,
          159,
          191,
          142,
          123,
          135,
          132,
          158,
          181,
          105,
          126,
          186,
          116,
          124,
          115,
          173,
          128,
          103,
          120,
          146,
          145,
          125,
          109,
          156,
          187,
          110,
          100,
          97,
          133,
          128,
          154,
          100,
          104,
          203,
          104,
          119,
          181,
          180,
          116,
          102,
          176,
          184,
          124,
          110,
          180,
          103,
          117,
          120,
          133,
          201,
          117,
          146,
          195,
          108,
          191,
          100,
          158,
          127,
          181,
          113,
          171,
          153,
          137,
          154,
          112,
          201,
          100,
          185,
          111,
          191,
          176,
          150,
          171,
          140,
          153,
          180,
          107,
          197,
          101,
          132,
          168,
          200,
          150,
          119,
          197,
          134,
          185,
          135,
          132,
          109,
          116,
          170,
          187,
          154,
          111,
          169,
          161,
          174,
          148,
          117,
          154,
          104,
          183,
          142,
          155,
          105,
          160,
          191,
          140,
          123,
          132,
          158,
          182,
          104,
          126,
          188,
          118,
          127,
          118,
          169,
          128,
          106,
          119,
          147,
          141,
          125,
          109,
          158,
          190,
          110,
          99,
          98,
          134,
          129,
          154,
          100,
          107,
          149,
          203,
          101,
          119,
          182,
          181,
          115,
          145,
          102,
          176,
          134,
          183,
          123,
          108,
          177,
          104,
          117,
          117,
          145,
          134,
          199,
          115,
          149,
          192,
          188,
          107,
          190,
          98,
          128,
          180,
          172,
          157,
          137,
          158,
          110,
          203,
          145,
          96,
          186,
          110,
          194,
          177,
          172,
          140,
          154,
          113,
          179,
          111,
          196,
          101,
          171,
          199,
          151,
          121,
          196,
          174,
          184,
          137,
          129,
          116,
          168,
          184,
          151,
          114,
          167,
          175,
          127,
          146,
          118,
          151,
          180,
          140,
          155,
          106,
          160,
          192,
          138,
          122,
          135,
          132,
          158,
          184,
          101,
          126,
          188,
          118,
          127,
          117,
          172,
          104,
          121,
          148,
          141,
          128,
          113,
          155,
          108,
          98,
          100,
          134,
          125,
          151,
          100,
          107,
          147,
          200,
          120,
          181,
          182,
          117,
          145,
          106,
          179,
          134,
          180,
          126,
          110,
          180,
          103,
          116,
          119,
          144,
          133,
          115,
          150,
          192,
          188,
          109,
          189,
          101,
          159,
          128,
          182,
          111,
          171,
          154,
          134,
          157,
          203,
          142,
          97,
          187,
          111,
          194,
          176,
          153,
          171,
          142,
          153,
          113,
          108,
          200,
          99,
          131,
          171,
          152,
          119,
          196,
          173,
          132,
          185,
          138,
          132,
          110,
          167,
          188,
          151,
          112,
          166,
          158,
          172,
          127,
          150,
          115,
          103,
          141,
          152,
          105,
          162,
          190,
          141,
          122,
          136,
          131,
          157,
          181,
          103,
          127,
          189,
          114,
          125,
          123,
          116,
          172,
          129,
          107,
          117,
          148
         ],
         "xaxis": "x",
         "y": [
          111,
          135,
          136,
          158,
          227,
          131,
          176,
          223,
          221,
          116,
          222,
          102,
          192,
          152,
          213,
          125,
          204,
          189,
          163,
          189,
          122,
          228,
          168,
          102,
          218,
          123,
          222,
          208,
          183,
          204,
          167,
          188,
          213,
          122,
          225,
          105,
          155,
          203,
          225,
          177,
          139,
          224,
          158,
          218,
          164,
          154,
          118,
          138,
          199,
          219,
          183,
          128,
          197,
          196,
          208,
          152,
          175,
          129,
          185,
          107,
          167,
          185,
          194,
          221,
          166,
          143,
          163,
          158,
          191,
          216,
          106,
          146,
          220,
          131,
          147,
          141,
          130,
          204,
          152,
          111,
          139,
          172,
          168,
          148,
          123,
          189,
          220,
          120,
          106,
          105,
          157,
          149,
          185,
          106,
          115,
          177,
          140,
          216,
          130,
          169,
          110,
          209,
          162,
          214,
          145,
          116,
          209,
          116,
          139,
          168,
          158,
          232,
          136,
          180,
          228,
          222,
          117,
          224,
          104,
          156,
          213,
          133,
          208,
          195,
          163,
          195,
          124,
          231,
          172,
          104,
          221,
          128,
          222,
          214,
          184,
          195,
          132,
          214,
          123,
          233,
          107,
          162,
          204,
          227,
          142,
          225,
          212,
          220,
          155,
          144,
          201,
          222,
          189,
          132,
          204,
          201,
          211,
          156,
          179,
          129,
          185,
          107,
          213,
          172,
          202,
          222,
          168,
          146,
          170,
          165,
          196,
          224,
          108,
          149,
          224,
          136,
          152,
          135,
          211,
          156,
          115,
          143,
          179,
          173,
          148,
          127,
          194,
          225,
          127,
          106,
          112,
          164,
          151,
          191,
          110,
          116,
          235,
          108,
          141,
          219,
          219,
          138,
          116,
          212,
          220,
          151,
          119,
          212,
          111,
          142,
          138,
          158,
          228,
          134,
          181,
          231,
          121,
          222,
          102,
          195,
          156,
          214,
          132,
          204,
          190,
          167,
          195,
          127,
          235,
          110,
          221,
          128,
          226,
          208,
          191,
          205,
          173,
          191,
          220,
          126,
          232,
          108,
          159,
          211,
          232,
          182,
          145,
          224,
          160,
          219,
          170,
          161,
          122,
          141,
          204,
          226,
          187,
          129,
          199,
          199,
          214,
          176,
          129,
          187,
          109,
          212,
          170,
          191,
          116,
          202,
          226,
          166,
          151,
          166,
          193,
          218,
          109,
          152,
          220,
          133,
          152,
          131,
          204,
          153,
          114,
          144,
          172,
          176,
          150,
          129,
          190,
          226,
          128,
          106,
          107,
          159,
          157,
          192,
          110,
          115,
          183,
          233,
          112,
          146,
          222,
          216,
          134,
          174,
          114,
          211,
          167,
          214,
          145,
          120,
          217,
          113,
          141,
          140,
          171,
          163,
          232,
          131,
          184,
          225,
          223,
          121,
          223,
          105,
          160,
          218,
          211,
          194,
          169,
          189,
          128,
          228,
          169,
          108,
          219,
          124,
          224,
          214,
          205,
          167,
          190,
          128,
          217,
          126,
          228,
          105,
          211,
          227,
          178,
          146,
          227,
          208,
          225,
          167,
          162,
          144,
          199,
          226,
          183,
          136,
          199,
          215,
          155,
          179,
          133,
          186,
          219,
          173,
          185,
          118,
          199,
          226,
          169,
          144,
          166,
          166,
          198,
          222,
          110,
          154,
          226,
          135,
          151,
          133,
          205,
          116,
          145,
          174,
          168,
          156,
          124,
          196,
          122,
          106,
          110,
          158,
          154,
          190,
          110,
          120,
          180,
          232,
          142,
          222,
          218,
          138,
          176,
          115,
          211,
          168,
          216,
          147,
          124,
          215,
          117,
          139,
          138,
          171,
          158,
          139,
          178,
          224,
          224,
          116,
          223,
          109,
          193,
          155,
          221,
          130,
          212,
          190,
          169,
          191,
          234,
          175,
          108,
          220,
          126,
          227,
          216,
          188,
          205,
          172,
          192,
          129,
          127,
          228,
          105,
          159,
          205,
          178,
          139,
          232,
          212,
          162,
          226,
          171,
          159,
          120,
          200,
          221,
          184,
          134,
          200,
          201,
          210,
          159,
          178,
          137,
          110,
          170,
          193,
          113,
          196,
          222,
          174,
          143,
          169,
          165,
          194,
          217,
          113,
          150,
          223,
          133,
          149,
          149,
          130,
          207,
          157,
          115,
          147,
          176
         ],
         "yaxis": "y"
        }
       ],
       "layout": {
        "coloraxis": {
         "colorbar": {
          "title": {
           "text": "color"
          }
         },
         "colorscale": [
          [
           0,
           "#0d0887"
          ],
          [
           0.1111111111111111,
           "#46039f"
          ],
          [
           0.2222222222222222,
           "#7201a8"
          ],
          [
           0.3333333333333333,
           "#9c179e"
          ],
          [
           0.4444444444444444,
           "#bd3786"
          ],
          [
           0.5555555555555556,
           "#d8576b"
          ],
          [
           0.6666666666666666,
           "#ed7953"
          ],
          [
           0.7777777777777778,
           "#fb9f3a"
          ],
          [
           0.8888888888888888,
           "#fdca26"
          ],
          [
           1,
           "#f0f921"
          ]
         ]
        },
        "legend": {
         "tracegroupgap": 0
        },
        "margin": {
         "t": 60
        },
        "template": {
         "data": {
          "bar": [
           {
            "error_x": {
             "color": "#2a3f5f"
            },
            "error_y": {
             "color": "#2a3f5f"
            },
            "marker": {
             "line": {
              "color": "#E5ECF6",
              "width": 0.5
             },
             "pattern": {
              "fillmode": "overlay",
              "size": 10,
              "solidity": 0.2
             }
            },
            "type": "bar"
           }
          ],
          "barpolar": [
           {
            "marker": {
             "line": {
              "color": "#E5ECF6",
              "width": 0.5
             },
             "pattern": {
              "fillmode": "overlay",
              "size": 10,
              "solidity": 0.2
             }
            },
            "type": "barpolar"
           }
          ],
          "carpet": [
           {
            "aaxis": {
             "endlinecolor": "#2a3f5f",
             "gridcolor": "white",
             "linecolor": "white",
             "minorgridcolor": "white",
             "startlinecolor": "#2a3f5f"
            },
            "baxis": {
             "endlinecolor": "#2a3f5f",
             "gridcolor": "white",
             "linecolor": "white",
             "minorgridcolor": "white",
             "startlinecolor": "#2a3f5f"
            },
            "type": "carpet"
           }
          ],
          "choropleth": [
           {
            "colorbar": {
             "outlinewidth": 0,
             "ticks": ""
            },
            "type": "choropleth"
           }
          ],
          "contour": [
           {
            "colorbar": {
             "outlinewidth": 0,
             "ticks": ""
            },
            "colorscale": [
             [
              0,
              "#0d0887"
             ],
             [
              0.1111111111111111,
              "#46039f"
             ],
             [
              0.2222222222222222,
              "#7201a8"
             ],
             [
              0.3333333333333333,
              "#9c179e"
             ],
             [
              0.4444444444444444,
              "#bd3786"
             ],
             [
              0.5555555555555556,
              "#d8576b"
             ],
             [
              0.6666666666666666,
              "#ed7953"
             ],
             [
              0.7777777777777778,
              "#fb9f3a"
             ],
             [
              0.8888888888888888,
              "#fdca26"
             ],
             [
              1,
              "#f0f921"
             ]
            ],
            "type": "contour"
           }
          ],
          "contourcarpet": [
           {
            "colorbar": {
             "outlinewidth": 0,
             "ticks": ""
            },
            "type": "contourcarpet"
           }
          ],
          "heatmap": [
           {
            "colorbar": {
             "outlinewidth": 0,
             "ticks": ""
            },
            "colorscale": [
             [
              0,
              "#0d0887"
             ],
             [
              0.1111111111111111,
              "#46039f"
             ],
             [
              0.2222222222222222,
              "#7201a8"
             ],
             [
              0.3333333333333333,
              "#9c179e"
             ],
             [
              0.4444444444444444,
              "#bd3786"
             ],
             [
              0.5555555555555556,
              "#d8576b"
             ],
             [
              0.6666666666666666,
              "#ed7953"
             ],
             [
              0.7777777777777778,
              "#fb9f3a"
             ],
             [
              0.8888888888888888,
              "#fdca26"
             ],
             [
              1,
              "#f0f921"
             ]
            ],
            "type": "heatmap"
           }
          ],
          "heatmapgl": [
           {
            "colorbar": {
             "outlinewidth": 0,
             "ticks": ""
            },
            "colorscale": [
             [
              0,
              "#0d0887"
             ],
             [
              0.1111111111111111,
              "#46039f"
             ],
             [
              0.2222222222222222,
              "#7201a8"
             ],
             [
              0.3333333333333333,
              "#9c179e"
             ],
             [
              0.4444444444444444,
              "#bd3786"
             ],
             [
              0.5555555555555556,
              "#d8576b"
             ],
             [
              0.6666666666666666,
              "#ed7953"
             ],
             [
              0.7777777777777778,
              "#fb9f3a"
             ],
             [
              0.8888888888888888,
              "#fdca26"
             ],
             [
              1,
              "#f0f921"
             ]
            ],
            "type": "heatmapgl"
           }
          ],
          "histogram": [
           {
            "marker": {
             "pattern": {
              "fillmode": "overlay",
              "size": 10,
              "solidity": 0.2
             }
            },
            "type": "histogram"
           }
          ],
          "histogram2d": [
           {
            "colorbar": {
             "outlinewidth": 0,
             "ticks": ""
            },
            "colorscale": [
             [
              0,
              "#0d0887"
             ],
             [
              0.1111111111111111,
              "#46039f"
             ],
             [
              0.2222222222222222,
              "#7201a8"
             ],
             [
              0.3333333333333333,
              "#9c179e"
             ],
             [
              0.4444444444444444,
              "#bd3786"
             ],
             [
              0.5555555555555556,
              "#d8576b"
             ],
             [
              0.6666666666666666,
              "#ed7953"
             ],
             [
              0.7777777777777778,
              "#fb9f3a"
             ],
             [
              0.8888888888888888,
              "#fdca26"
             ],
             [
              1,
              "#f0f921"
             ]
            ],
            "type": "histogram2d"
           }
          ],
          "histogram2dcontour": [
           {
            "colorbar": {
             "outlinewidth": 0,
             "ticks": ""
            },
            "colorscale": [
             [
              0,
              "#0d0887"
             ],
             [
              0.1111111111111111,
              "#46039f"
             ],
             [
              0.2222222222222222,
              "#7201a8"
             ],
             [
              0.3333333333333333,
              "#9c179e"
             ],
             [
              0.4444444444444444,
              "#bd3786"
             ],
             [
              0.5555555555555556,
              "#d8576b"
             ],
             [
              0.6666666666666666,
              "#ed7953"
             ],
             [
              0.7777777777777778,
              "#fb9f3a"
             ],
             [
              0.8888888888888888,
              "#fdca26"
             ],
             [
              1,
              "#f0f921"
             ]
            ],
            "type": "histogram2dcontour"
           }
          ],
          "mesh3d": [
           {
            "colorbar": {
             "outlinewidth": 0,
             "ticks": ""
            },
            "type": "mesh3d"
           }
          ],
          "parcoords": [
           {
            "line": {
             "colorbar": {
              "outlinewidth": 0,
              "ticks": ""
             }
            },
            "type": "parcoords"
           }
          ],
          "pie": [
           {
            "automargin": true,
            "type": "pie"
           }
          ],
          "scatter": [
           {
            "fillpattern": {
             "fillmode": "overlay",
             "size": 10,
             "solidity": 0.2
            },
            "type": "scatter"
           }
          ],
          "scatter3d": [
           {
            "line": {
             "colorbar": {
              "outlinewidth": 0,
              "ticks": ""
             }
            },
            "marker": {
             "colorbar": {
              "outlinewidth": 0,
              "ticks": ""
             }
            },
            "type": "scatter3d"
           }
          ],
          "scattercarpet": [
           {
            "marker": {
             "colorbar": {
              "outlinewidth": 0,
              "ticks": ""
             }
            },
            "type": "scattercarpet"
           }
          ],
          "scattergeo": [
           {
            "marker": {
             "colorbar": {
              "outlinewidth": 0,
              "ticks": ""
             }
            },
            "type": "scattergeo"
           }
          ],
          "scattergl": [
           {
            "marker": {
             "colorbar": {
              "outlinewidth": 0,
              "ticks": ""
             }
            },
            "type": "scattergl"
           }
          ],
          "scattermapbox": [
           {
            "marker": {
             "colorbar": {
              "outlinewidth": 0,
              "ticks": ""
             }
            },
            "type": "scattermapbox"
           }
          ],
          "scatterpolar": [
           {
            "marker": {
             "colorbar": {
              "outlinewidth": 0,
              "ticks": ""
             }
            },
            "type": "scatterpolar"
           }
          ],
          "scatterpolargl": [
           {
            "marker": {
             "colorbar": {
              "outlinewidth": 0,
              "ticks": ""
             }
            },
            "type": "scatterpolargl"
           }
          ],
          "scatterternary": [
           {
            "marker": {
             "colorbar": {
              "outlinewidth": 0,
              "ticks": ""
             }
            },
            "type": "scatterternary"
           }
          ],
          "surface": [
           {
            "colorbar": {
             "outlinewidth": 0,
             "ticks": ""
            },
            "colorscale": [
             [
              0,
              "#0d0887"
             ],
             [
              0.1111111111111111,
              "#46039f"
             ],
             [
              0.2222222222222222,
              "#7201a8"
             ],
             [
              0.3333333333333333,
              "#9c179e"
             ],
             [
              0.4444444444444444,
              "#bd3786"
             ],
             [
              0.5555555555555556,
              "#d8576b"
             ],
             [
              0.6666666666666666,
              "#ed7953"
             ],
             [
              0.7777777777777778,
              "#fb9f3a"
             ],
             [
              0.8888888888888888,
              "#fdca26"
             ],
             [
              1,
              "#f0f921"
             ]
            ],
            "type": "surface"
           }
          ],
          "table": [
           {
            "cells": {
             "fill": {
              "color": "#EBF0F8"
             },
             "line": {
              "color": "white"
             }
            },
            "header": {
             "fill": {
              "color": "#C8D4E3"
             },
             "line": {
              "color": "white"
             }
            },
            "type": "table"
           }
          ]
         },
         "layout": {
          "annotationdefaults": {
           "arrowcolor": "#2a3f5f",
           "arrowhead": 0,
           "arrowwidth": 1
          },
          "autotypenumbers": "strict",
          "coloraxis": {
           "colorbar": {
            "outlinewidth": 0,
            "ticks": ""
           }
          },
          "colorscale": {
           "diverging": [
            [
             0,
             "#8e0152"
            ],
            [
             0.1,
             "#c51b7d"
            ],
            [
             0.2,
             "#de77ae"
            ],
            [
             0.3,
             "#f1b6da"
            ],
            [
             0.4,
             "#fde0ef"
            ],
            [
             0.5,
             "#f7f7f7"
            ],
            [
             0.6,
             "#e6f5d0"
            ],
            [
             0.7,
             "#b8e186"
            ],
            [
             0.8,
             "#7fbc41"
            ],
            [
             0.9,
             "#4d9221"
            ],
            [
             1,
             "#276419"
            ]
           ],
           "sequential": [
            [
             0,
             "#0d0887"
            ],
            [
             0.1111111111111111,
             "#46039f"
            ],
            [
             0.2222222222222222,
             "#7201a8"
            ],
            [
             0.3333333333333333,
             "#9c179e"
            ],
            [
             0.4444444444444444,
             "#bd3786"
            ],
            [
             0.5555555555555556,
             "#d8576b"
            ],
            [
             0.6666666666666666,
             "#ed7953"
            ],
            [
             0.7777777777777778,
             "#fb9f3a"
            ],
            [
             0.8888888888888888,
             "#fdca26"
            ],
            [
             1,
             "#f0f921"
            ]
           ],
           "sequentialminus": [
            [
             0,
             "#0d0887"
            ],
            [
             0.1111111111111111,
             "#46039f"
            ],
            [
             0.2222222222222222,
             "#7201a8"
            ],
            [
             0.3333333333333333,
             "#9c179e"
            ],
            [
             0.4444444444444444,
             "#bd3786"
            ],
            [
             0.5555555555555556,
             "#d8576b"
            ],
            [
             0.6666666666666666,
             "#ed7953"
            ],
            [
             0.7777777777777778,
             "#fb9f3a"
            ],
            [
             0.8888888888888888,
             "#fdca26"
            ],
            [
             1,
             "#f0f921"
            ]
           ]
          },
          "colorway": [
           "#636efa",
           "#EF553B",
           "#00cc96",
           "#ab63fa",
           "#FFA15A",
           "#19d3f3",
           "#FF6692",
           "#B6E880",
           "#FF97FF",
           "#FECB52"
          ],
          "font": {
           "color": "#2a3f5f"
          },
          "geo": {
           "bgcolor": "white",
           "lakecolor": "white",
           "landcolor": "#E5ECF6",
           "showlakes": true,
           "showland": true,
           "subunitcolor": "white"
          },
          "hoverlabel": {
           "align": "left"
          },
          "hovermode": "closest",
          "mapbox": {
           "style": "light"
          },
          "paper_bgcolor": "white",
          "plot_bgcolor": "#E5ECF6",
          "polar": {
           "angularaxis": {
            "gridcolor": "white",
            "linecolor": "white",
            "ticks": ""
           },
           "bgcolor": "#E5ECF6",
           "radialaxis": {
            "gridcolor": "white",
            "linecolor": "white",
            "ticks": ""
           }
          },
          "scene": {
           "xaxis": {
            "backgroundcolor": "#E5ECF6",
            "gridcolor": "white",
            "gridwidth": 2,
            "linecolor": "white",
            "showbackground": true,
            "ticks": "",
            "zerolinecolor": "white"
           },
           "yaxis": {
            "backgroundcolor": "#E5ECF6",
            "gridcolor": "white",
            "gridwidth": 2,
            "linecolor": "white",
            "showbackground": true,
            "ticks": "",
            "zerolinecolor": "white"
           },
           "zaxis": {
            "backgroundcolor": "#E5ECF6",
            "gridcolor": "white",
            "gridwidth": 2,
            "linecolor": "white",
            "showbackground": true,
            "ticks": "",
            "zerolinecolor": "white"
           }
          },
          "shapedefaults": {
           "line": {
            "color": "#2a3f5f"
           }
          },
          "ternary": {
           "aaxis": {
            "gridcolor": "white",
            "linecolor": "white",
            "ticks": ""
           },
           "baxis": {
            "gridcolor": "white",
            "linecolor": "white",
            "ticks": ""
           },
           "bgcolor": "#E5ECF6",
           "caxis": {
            "gridcolor": "white",
            "linecolor": "white",
            "ticks": ""
           }
          },
          "title": {
           "x": 0.05
          },
          "xaxis": {
           "automargin": true,
           "gridcolor": "white",
           "linecolor": "white",
           "ticks": "",
           "title": {
            "standoff": 15
           },
           "zerolinecolor": "white",
           "zerolinewidth": 2
          },
          "yaxis": {
           "automargin": true,
           "gridcolor": "white",
           "linecolor": "white",
           "ticks": "",
           "title": {
            "standoff": 15
           },
           "zerolinecolor": "white",
           "zerolinewidth": 2
          }
         }
        },
        "title": {
         "text": "Analise de Clusters"
        },
        "xaxis": {
         "anchor": "y",
         "domain": [
          0,
          1
         ],
         "title": {
          "text": "Peso"
         }
        },
        "yaxis": {
         "anchor": "x",
         "domain": [
          0,
          1
         ],
         "title": {
          "text": "Colesterol"
         }
        }
       }
      },
      "text/html": [
       "<div>                            <div id=\"38c7b256-15ae-4cd9-9291-7f0461e71c39\" class=\"plotly-graph-div\" style=\"height:525px; width:100%;\"></div>            <script type=\"text/javascript\">                require([\"plotly\"], function(Plotly) {                    window.PLOTLYENV=window.PLOTLYENV || {};                                    if (document.getElementById(\"38c7b256-15ae-4cd9-9291-7f0461e71c39\")) {                    Plotly.newPlot(                        \"38c7b256-15ae-4cd9-9291-7f0461e71c39\",                        [{\"hovertemplate\":\"x=%{x}<br>y=%{y}<br>color=%{marker.color}<extra></extra>\",\"legendgroup\":\"\",\"marker\":{\"color\":[2,2,2,1,0,2,3,0,0,2,0,2,3,1,0,2,0,3,1,3,2,0,1,2,0,2,0,0,3,0,1,3,0,2,0,2,1,3,0,3,1,0,1,0,1,1,2,2,3,0,3,2,3,3,0,1,3,2,3,2,1,3,3,0,1,1,1,1,3,0,2,1,0,2,1,1,2,0,1,2,1,3,1,1,2,3,0,2,2,2,1,1,3,2,2,3,1,0,2,3,2,0,1,0,1,2,0,2,1,3,1,0,2,3,0,0,2,0,2,1,0,2,0,3,1,3,2,0,3,2,0,2,0,0,3,3,2,0,2,0,2,1,0,0,1,0,0,0,1,1,3,0,3,2,0,3,0,1,3,2,3,2,0,3,3,0,1,1,1,1,3,0,2,1,0,2,1,2,0,1,2,1,3,3,1,2,3,0,2,2,2,1,1,3,2,2,0,2,1,0,0,1,2,0,0,1,2,0,2,1,1,1,0,2,3,0,2,0,2,3,1,0,2,0,3,1,3,2,0,2,0,2,0,0,3,0,3,3,0,2,0,2,1,0,0,3,1,0,1,0,1,1,2,1,0,0,3,2,3,3,0,3,2,3,2,0,3,3,2,3,0,1,1,1,3,0,2,1,0,2,1,2,0,1,2,1,3,3,1,2,3,0,2,2,2,1,1,3,2,2,3,0,2,1,0,0,2,3,2,0,1,0,1,2,0,2,1,1,3,1,0,2,3,0,0,2,0,2,1,0,0,3,1,3,2,0,3,2,0,2,0,0,0,1,3,2,0,2,0,2,0,0,3,1,0,0,0,1,1,1,3,0,3,2,3,0,1,3,2,3,0,3,3,2,3,0,1,1,1,1,3,0,2,1,0,2,1,2,0,2,1,3,1,1,2,3,2,2,2,1,1,3,2,2,3,0,1,0,0,1,3,2,0,1,0,1,2,0,2,1,1,3,1,1,3,0,0,2,0,2,3,1,0,2,0,3,1,3,0,3,2,0,2,0,0,3,0,3,3,2,2,0,2,1,0,3,1,0,0,1,0,1,1,2,3,0,3,2,3,3,0,1,3,2,2,3,3,2,3,0,3,1,1,1,3,0,2,1,0,2,1,1,2,0,1,2,1,3],\"coloraxis\":\"coloraxis\",\"symbol\":\"circle\"},\"mode\":\"markers\",\"name\":\"\",\"orientation\":\"v\",\"showlegend\":false,\"x\":[102.0,115.0,115.0,130.0,198.0,114.0,145.0,191.0,186.0,104.0,188.0,96.0,156.0,125.0,178.0,109.0,168.0,152.0,133.0,153.0,107.0,199.0,140.0,95.0,183.0,108.0,190.0,174.0,149.0,169.0,138.0,151.0,178.0,106.0,195.0,96.0,129.0,166.0,197.0,148.0,117.0,193.0,130.0,183.0,134.0,128.0,105.0,115.0,166.0,183.0,149.0,110.0,164.0,157.0,170.0,124.0,145.0,113.0,150.0,100.0,139.0,150.0,157.0,187.0,137.0,121.0,132.0,130.0,156.0,180.0,100.0,122.0,185.0,113.0,123.0,119.0,113.0,168.0,126.0,102.0,116.0,144.0,140.0,124.0,108.0,154.0,185.0,106.0,97.0,96.0,129.0,124.0,149.0,97.0,102.0,146.0,118.0,179.0,113.0,142.0,101.0,174.0,131.0,179.0,122.0,105.0,176.0,103.0,120.0,143.0,134.0,203.0,116.0,150.0,192.0,187.0,107.0,192.0,97.0,128.0,183.0,112.0,173.0,156.0,137.0,156.0,112.0,203.0,141.0,97.0,186.0,113.0,195.0,175.0,154.0,152.0,114.0,181.0,111.0,200.0,100.0,134.0,167.0,198.0,121.0,196.0,171.0,186.0,133.0,120.0,168.0,184.0,154.0,115.0,168.0,161.0,171.0,129.0,150.0,118.0,154.0,103.0,180.0,141.0,159.0,191.0,142.0,123.0,135.0,132.0,158.0,181.0,105.0,126.0,186.0,116.0,124.0,115.0,173.0,128.0,103.0,120.0,146.0,145.0,125.0,109.0,156.0,187.0,110.0,100.0,97.0,133.0,128.0,154.0,100.0,104.0,203.0,104.0,119.0,181.0,180.0,116.0,102.0,176.0,184.0,124.0,110.0,180.0,103.0,117.0,120.0,133.0,201.0,117.0,146.0,195.0,108.0,191.0,100.0,158.0,127.0,181.0,113.0,171.0,153.0,137.0,154.0,112.0,201.0,100.0,185.0,111.0,191.0,176.0,150.0,171.0,140.0,153.0,180.0,107.0,197.0,101.0,132.0,168.0,200.0,150.0,119.0,197.0,134.0,185.0,135.0,132.0,109.0,116.0,170.0,187.0,154.0,111.0,169.0,161.0,174.0,148.0,117.0,154.0,104.0,183.0,142.0,155.0,105.0,160.0,191.0,140.0,123.0,132.0,158.0,182.0,104.0,126.0,188.0,118.0,127.0,118.0,169.0,128.0,106.0,119.0,147.0,141.0,125.0,109.0,158.0,190.0,110.0,99.0,98.0,134.0,129.0,154.0,100.0,107.0,149.0,203.0,101.0,119.0,182.0,181.0,115.0,145.0,102.0,176.0,134.0,183.0,123.0,108.0,177.0,104.0,117.0,117.0,145.0,134.0,199.0,115.0,149.0,192.0,188.0,107.0,190.0,98.0,128.0,180.0,172.0,157.0,137.0,158.0,110.0,203.0,145.0,96.0,186.0,110.0,194.0,177.0,172.0,140.0,154.0,113.0,179.0,111.0,196.0,101.0,171.0,199.0,151.0,121.0,196.0,174.0,184.0,137.0,129.0,116.0,168.0,184.0,151.0,114.0,167.0,175.0,127.0,146.0,118.0,151.0,180.0,140.0,155.0,106.0,160.0,192.0,138.0,122.0,135.0,132.0,158.0,184.0,101.0,126.0,188.0,118.0,127.0,117.0,172.0,104.0,121.0,148.0,141.0,128.0,113.0,155.0,108.0,98.0,100.0,134.0,125.0,151.0,100.0,107.0,147.0,200.0,120.0,181.0,182.0,117.0,145.0,106.0,179.0,134.0,180.0,126.0,110.0,180.0,103.0,116.0,119.0,144.0,133.0,115.0,150.0,192.0,188.0,109.0,189.0,101.0,159.0,128.0,182.0,111.0,171.0,154.0,134.0,157.0,203.0,142.0,97.0,187.0,111.0,194.0,176.0,153.0,171.0,142.0,153.0,113.0,108.0,200.0,99.0,131.0,171.0,152.0,119.0,196.0,173.0,132.0,185.0,138.0,132.0,110.0,167.0,188.0,151.0,112.0,166.0,158.0,172.0,127.0,150.0,115.0,103.0,141.0,152.0,105.0,162.0,190.0,141.0,122.0,136.0,131.0,157.0,181.0,103.0,127.0,189.0,114.0,125.0,123.0,116.0,172.0,129.0,107.0,117.0,148.0],\"xaxis\":\"x\",\"y\":[111,135,136,158,227,131,176,223,221,116,222,102,192,152,213,125,204,189,163,189,122,228,168,102,218,123,222,208,183,204,167,188,213,122,225,105,155,203,225,177,139,224,158,218,164,154,118,138,199,219,183,128,197,196,208,152,175,129,185,107,167,185,194,221,166,143,163,158,191,216,106,146,220,131,147,141,130,204,152,111,139,172,168,148,123,189,220,120,106,105,157,149,185,106,115,177,140,216,130,169,110,209,162,214,145,116,209,116,139,168,158,232,136,180,228,222,117,224,104,156,213,133,208,195,163,195,124,231,172,104,221,128,222,214,184,195,132,214,123,233,107,162,204,227,142,225,212,220,155,144,201,222,189,132,204,201,211,156,179,129,185,107,213,172,202,222,168,146,170,165,196,224,108,149,224,136,152,135,211,156,115,143,179,173,148,127,194,225,127,106,112,164,151,191,110,116,235,108,141,219,219,138,116,212,220,151,119,212,111,142,138,158,228,134,181,231,121,222,102,195,156,214,132,204,190,167,195,127,235,110,221,128,226,208,191,205,173,191,220,126,232,108,159,211,232,182,145,224,160,219,170,161,122,141,204,226,187,129,199,199,214,176,129,187,109,212,170,191,116,202,226,166,151,166,193,218,109,152,220,133,152,131,204,153,114,144,172,176,150,129,190,226,128,106,107,159,157,192,110,115,183,233,112,146,222,216,134,174,114,211,167,214,145,120,217,113,141,140,171,163,232,131,184,225,223,121,223,105,160,218,211,194,169,189,128,228,169,108,219,124,224,214,205,167,190,128,217,126,228,105,211,227,178,146,227,208,225,167,162,144,199,226,183,136,199,215,155,179,133,186,219,173,185,118,199,226,169,144,166,166,198,222,110,154,226,135,151,133,205,116,145,174,168,156,124,196,122,106,110,158,154,190,110,120,180,232,142,222,218,138,176,115,211,168,216,147,124,215,117,139,138,171,158,139,178,224,224,116,223,109,193,155,221,130,212,190,169,191,234,175,108,220,126,227,216,188,205,172,192,129,127,228,105,159,205,178,139,232,212,162,226,171,159,120,200,221,184,134,200,201,210,159,178,137,110,170,193,113,196,222,174,143,169,165,194,217,113,150,223,133,149,149,130,207,157,115,147,176],\"yaxis\":\"y\",\"type\":\"scatter\"}],                        {\"coloraxis\":{\"colorbar\":{\"title\":{\"text\":\"color\"}},\"colorscale\":[[0.0,\"#0d0887\"],[0.1111111111111111,\"#46039f\"],[0.2222222222222222,\"#7201a8\"],[0.3333333333333333,\"#9c179e\"],[0.4444444444444444,\"#bd3786\"],[0.5555555555555556,\"#d8576b\"],[0.6666666666666666,\"#ed7953\"],[0.7777777777777778,\"#fb9f3a\"],[0.8888888888888888,\"#fdca26\"],[1.0,\"#f0f921\"]]},\"legend\":{\"tracegroupgap\":0},\"margin\":{\"t\":60},\"template\":{\"data\":{\"barpolar\":[{\"marker\":{\"line\":{\"color\":\"#E5ECF6\",\"width\":0.5},\"pattern\":{\"fillmode\":\"overlay\",\"size\":10,\"solidity\":0.2}},\"type\":\"barpolar\"}],\"bar\":[{\"error_x\":{\"color\":\"#2a3f5f\"},\"error_y\":{\"color\":\"#2a3f5f\"},\"marker\":{\"line\":{\"color\":\"#E5ECF6\",\"width\":0.5},\"pattern\":{\"fillmode\":\"overlay\",\"size\":10,\"solidity\":0.2}},\"type\":\"bar\"}],\"carpet\":[{\"aaxis\":{\"endlinecolor\":\"#2a3f5f\",\"gridcolor\":\"white\",\"linecolor\":\"white\",\"minorgridcolor\":\"white\",\"startlinecolor\":\"#2a3f5f\"},\"baxis\":{\"endlinecolor\":\"#2a3f5f\",\"gridcolor\":\"white\",\"linecolor\":\"white\",\"minorgridcolor\":\"white\",\"startlinecolor\":\"#2a3f5f\"},\"type\":\"carpet\"}],\"choropleth\":[{\"colorbar\":{\"outlinewidth\":0,\"ticks\":\"\"},\"type\":\"choropleth\"}],\"contourcarpet\":[{\"colorbar\":{\"outlinewidth\":0,\"ticks\":\"\"},\"type\":\"contourcarpet\"}],\"contour\":[{\"colorbar\":{\"outlinewidth\":0,\"ticks\":\"\"},\"colorscale\":[[0.0,\"#0d0887\"],[0.1111111111111111,\"#46039f\"],[0.2222222222222222,\"#7201a8\"],[0.3333333333333333,\"#9c179e\"],[0.4444444444444444,\"#bd3786\"],[0.5555555555555556,\"#d8576b\"],[0.6666666666666666,\"#ed7953\"],[0.7777777777777778,\"#fb9f3a\"],[0.8888888888888888,\"#fdca26\"],[1.0,\"#f0f921\"]],\"type\":\"contour\"}],\"heatmapgl\":[{\"colorbar\":{\"outlinewidth\":0,\"ticks\":\"\"},\"colorscale\":[[0.0,\"#0d0887\"],[0.1111111111111111,\"#46039f\"],[0.2222222222222222,\"#7201a8\"],[0.3333333333333333,\"#9c179e\"],[0.4444444444444444,\"#bd3786\"],[0.5555555555555556,\"#d8576b\"],[0.6666666666666666,\"#ed7953\"],[0.7777777777777778,\"#fb9f3a\"],[0.8888888888888888,\"#fdca26\"],[1.0,\"#f0f921\"]],\"type\":\"heatmapgl\"}],\"heatmap\":[{\"colorbar\":{\"outlinewidth\":0,\"ticks\":\"\"},\"colorscale\":[[0.0,\"#0d0887\"],[0.1111111111111111,\"#46039f\"],[0.2222222222222222,\"#7201a8\"],[0.3333333333333333,\"#9c179e\"],[0.4444444444444444,\"#bd3786\"],[0.5555555555555556,\"#d8576b\"],[0.6666666666666666,\"#ed7953\"],[0.7777777777777778,\"#fb9f3a\"],[0.8888888888888888,\"#fdca26\"],[1.0,\"#f0f921\"]],\"type\":\"heatmap\"}],\"histogram2dcontour\":[{\"colorbar\":{\"outlinewidth\":0,\"ticks\":\"\"},\"colorscale\":[[0.0,\"#0d0887\"],[0.1111111111111111,\"#46039f\"],[0.2222222222222222,\"#7201a8\"],[0.3333333333333333,\"#9c179e\"],[0.4444444444444444,\"#bd3786\"],[0.5555555555555556,\"#d8576b\"],[0.6666666666666666,\"#ed7953\"],[0.7777777777777778,\"#fb9f3a\"],[0.8888888888888888,\"#fdca26\"],[1.0,\"#f0f921\"]],\"type\":\"histogram2dcontour\"}],\"histogram2d\":[{\"colorbar\":{\"outlinewidth\":0,\"ticks\":\"\"},\"colorscale\":[[0.0,\"#0d0887\"],[0.1111111111111111,\"#46039f\"],[0.2222222222222222,\"#7201a8\"],[0.3333333333333333,\"#9c179e\"],[0.4444444444444444,\"#bd3786\"],[0.5555555555555556,\"#d8576b\"],[0.6666666666666666,\"#ed7953\"],[0.7777777777777778,\"#fb9f3a\"],[0.8888888888888888,\"#fdca26\"],[1.0,\"#f0f921\"]],\"type\":\"histogram2d\"}],\"histogram\":[{\"marker\":{\"pattern\":{\"fillmode\":\"overlay\",\"size\":10,\"solidity\":0.2}},\"type\":\"histogram\"}],\"mesh3d\":[{\"colorbar\":{\"outlinewidth\":0,\"ticks\":\"\"},\"type\":\"mesh3d\"}],\"parcoords\":[{\"line\":{\"colorbar\":{\"outlinewidth\":0,\"ticks\":\"\"}},\"type\":\"parcoords\"}],\"pie\":[{\"automargin\":true,\"type\":\"pie\"}],\"scatter3d\":[{\"line\":{\"colorbar\":{\"outlinewidth\":0,\"ticks\":\"\"}},\"marker\":{\"colorbar\":{\"outlinewidth\":0,\"ticks\":\"\"}},\"type\":\"scatter3d\"}],\"scattercarpet\":[{\"marker\":{\"colorbar\":{\"outlinewidth\":0,\"ticks\":\"\"}},\"type\":\"scattercarpet\"}],\"scattergeo\":[{\"marker\":{\"colorbar\":{\"outlinewidth\":0,\"ticks\":\"\"}},\"type\":\"scattergeo\"}],\"scattergl\":[{\"marker\":{\"colorbar\":{\"outlinewidth\":0,\"ticks\":\"\"}},\"type\":\"scattergl\"}],\"scattermapbox\":[{\"marker\":{\"colorbar\":{\"outlinewidth\":0,\"ticks\":\"\"}},\"type\":\"scattermapbox\"}],\"scatterpolargl\":[{\"marker\":{\"colorbar\":{\"outlinewidth\":0,\"ticks\":\"\"}},\"type\":\"scatterpolargl\"}],\"scatterpolar\":[{\"marker\":{\"colorbar\":{\"outlinewidth\":0,\"ticks\":\"\"}},\"type\":\"scatterpolar\"}],\"scatter\":[{\"fillpattern\":{\"fillmode\":\"overlay\",\"size\":10,\"solidity\":0.2},\"type\":\"scatter\"}],\"scatterternary\":[{\"marker\":{\"colorbar\":{\"outlinewidth\":0,\"ticks\":\"\"}},\"type\":\"scatterternary\"}],\"surface\":[{\"colorbar\":{\"outlinewidth\":0,\"ticks\":\"\"},\"colorscale\":[[0.0,\"#0d0887\"],[0.1111111111111111,\"#46039f\"],[0.2222222222222222,\"#7201a8\"],[0.3333333333333333,\"#9c179e\"],[0.4444444444444444,\"#bd3786\"],[0.5555555555555556,\"#d8576b\"],[0.6666666666666666,\"#ed7953\"],[0.7777777777777778,\"#fb9f3a\"],[0.8888888888888888,\"#fdca26\"],[1.0,\"#f0f921\"]],\"type\":\"surface\"}],\"table\":[{\"cells\":{\"fill\":{\"color\":\"#EBF0F8\"},\"line\":{\"color\":\"white\"}},\"header\":{\"fill\":{\"color\":\"#C8D4E3\"},\"line\":{\"color\":\"white\"}},\"type\":\"table\"}]},\"layout\":{\"annotationdefaults\":{\"arrowcolor\":\"#2a3f5f\",\"arrowhead\":0,\"arrowwidth\":1},\"autotypenumbers\":\"strict\",\"coloraxis\":{\"colorbar\":{\"outlinewidth\":0,\"ticks\":\"\"}},\"colorscale\":{\"diverging\":[[0,\"#8e0152\"],[0.1,\"#c51b7d\"],[0.2,\"#de77ae\"],[0.3,\"#f1b6da\"],[0.4,\"#fde0ef\"],[0.5,\"#f7f7f7\"],[0.6,\"#e6f5d0\"],[0.7,\"#b8e186\"],[0.8,\"#7fbc41\"],[0.9,\"#4d9221\"],[1,\"#276419\"]],\"sequential\":[[0.0,\"#0d0887\"],[0.1111111111111111,\"#46039f\"],[0.2222222222222222,\"#7201a8\"],[0.3333333333333333,\"#9c179e\"],[0.4444444444444444,\"#bd3786\"],[0.5555555555555556,\"#d8576b\"],[0.6666666666666666,\"#ed7953\"],[0.7777777777777778,\"#fb9f3a\"],[0.8888888888888888,\"#fdca26\"],[1.0,\"#f0f921\"]],\"sequentialminus\":[[0.0,\"#0d0887\"],[0.1111111111111111,\"#46039f\"],[0.2222222222222222,\"#7201a8\"],[0.3333333333333333,\"#9c179e\"],[0.4444444444444444,\"#bd3786\"],[0.5555555555555556,\"#d8576b\"],[0.6666666666666666,\"#ed7953\"],[0.7777777777777778,\"#fb9f3a\"],[0.8888888888888888,\"#fdca26\"],[1.0,\"#f0f921\"]]},\"colorway\":[\"#636efa\",\"#EF553B\",\"#00cc96\",\"#ab63fa\",\"#FFA15A\",\"#19d3f3\",\"#FF6692\",\"#B6E880\",\"#FF97FF\",\"#FECB52\"],\"font\":{\"color\":\"#2a3f5f\"},\"geo\":{\"bgcolor\":\"white\",\"lakecolor\":\"white\",\"landcolor\":\"#E5ECF6\",\"showlakes\":true,\"showland\":true,\"subunitcolor\":\"white\"},\"hoverlabel\":{\"align\":\"left\"},\"hovermode\":\"closest\",\"mapbox\":{\"style\":\"light\"},\"paper_bgcolor\":\"white\",\"plot_bgcolor\":\"#E5ECF6\",\"polar\":{\"angularaxis\":{\"gridcolor\":\"white\",\"linecolor\":\"white\",\"ticks\":\"\"},\"bgcolor\":\"#E5ECF6\",\"radialaxis\":{\"gridcolor\":\"white\",\"linecolor\":\"white\",\"ticks\":\"\"}},\"scene\":{\"xaxis\":{\"backgroundcolor\":\"#E5ECF6\",\"gridcolor\":\"white\",\"gridwidth\":2,\"linecolor\":\"white\",\"showbackground\":true,\"ticks\":\"\",\"zerolinecolor\":\"white\"},\"yaxis\":{\"backgroundcolor\":\"#E5ECF6\",\"gridcolor\":\"white\",\"gridwidth\":2,\"linecolor\":\"white\",\"showbackground\":true,\"ticks\":\"\",\"zerolinecolor\":\"white\"},\"zaxis\":{\"backgroundcolor\":\"#E5ECF6\",\"gridcolor\":\"white\",\"gridwidth\":2,\"linecolor\":\"white\",\"showbackground\":true,\"ticks\":\"\",\"zerolinecolor\":\"white\"}},\"shapedefaults\":{\"line\":{\"color\":\"#2a3f5f\"}},\"ternary\":{\"aaxis\":{\"gridcolor\":\"white\",\"linecolor\":\"white\",\"ticks\":\"\"},\"baxis\":{\"gridcolor\":\"white\",\"linecolor\":\"white\",\"ticks\":\"\"},\"bgcolor\":\"#E5ECF6\",\"caxis\":{\"gridcolor\":\"white\",\"linecolor\":\"white\",\"ticks\":\"\"}},\"title\":{\"x\":0.05},\"xaxis\":{\"automargin\":true,\"gridcolor\":\"white\",\"linecolor\":\"white\",\"ticks\":\"\",\"title\":{\"standoff\":15},\"zerolinecolor\":\"white\",\"zerolinewidth\":2},\"yaxis\":{\"automargin\":true,\"gridcolor\":\"white\",\"linecolor\":\"white\",\"ticks\":\"\",\"title\":{\"standoff\":15},\"zerolinecolor\":\"white\",\"zerolinewidth\":2}}},\"xaxis\":{\"anchor\":\"y\",\"domain\":[0.0,1.0],\"title\":{\"text\":\"Peso\"}},\"yaxis\":{\"anchor\":\"x\",\"domain\":[0.0,1.0],\"title\":{\"text\":\"Colesterol\"}},\"title\":{\"text\":\"Analise de Clusters\"}},                        {\"responsive\": true}                    ).then(function(){\n",
       "                            \n",
       "var gd = document.getElementById('38c7b256-15ae-4cd9-9291-7f0461e71c39');\n",
       "var x = new MutationObserver(function (mutations, observer) {{\n",
       "        var display = window.getComputedStyle(gd).display;\n",
       "        if (!display || display === 'none') {{\n",
       "            console.log([gd, 'removed!']);\n",
       "            Plotly.purge(gd);\n",
       "            observer.disconnect();\n",
       "        }}\n",
       "}});\n",
       "\n",
       "// Listen for the removal of the full notebook cells\n",
       "var notebookContainer = gd.closest('#notebook-container');\n",
       "if (notebookContainer) {{\n",
       "    x.observe(notebookContainer, {childList: true});\n",
       "}}\n",
       "\n",
       "// Listen for the clearing of the current output cell\n",
       "var outputEl = gd.closest('.output');\n",
       "if (outputEl) {{\n",
       "    x.observe(outputEl, {childList: true});\n",
       "}}\n",
       "\n",
       "                        })                };                });            </script>        </div>"
      ]
     },
     "metadata": {},
     "output_type": "display_data"
    }
   ],
   "source": [
    "# gráfico sem os centroides\n",
    "\n",
    "grafico = px.scatter(x=base_completa['peso'],\n",
    "                     y=base_completa['colesterol'],\n",
    "                     color=base_completa['cluster'])\n",
    "\n",
    "fig = go.Figure(grafico)\n",
    "\n",
    "fig.update_layout(title='Analise de Clusters',\n",
    "                  xaxis_title='Peso',\n",
    "                  yaxis_title='Colesterol'\n",
    "                  )\n",
    "fig.show()"
   ]
  },
  {
   "cell_type": "markdown",
   "metadata": {
    "id": "5iDNWJf7Le7R"
   },
   "source": [
    "### Definindo uma função para gerar graficos"
   ]
  },
  {
   "cell_type": "code",
   "execution_count": 135,
   "metadata": {
    "id": "hSWlifVLKSrR"
   },
   "outputs": [],
   "source": [
    "def plotar_grafico(x,y,xlabel,y_label):\n",
    "  grafico = px.scatter(x=x,\n",
    "                       y=y,\n",
    "                       color=base_completa['cluster']\n",
    "                       )\n",
    "  fig = go.Figure(grafico)\n",
    "\n",
    "  fig.update_layout(title='Análise de Clusters',\n",
    "                    xaxis_title=xlabel,\n",
    "                    yaxis_title=y_label\n",
    "                    )\n",
    "  fig.show()"
   ]
  },
  {
   "cell_type": "code",
   "execution_count": 136,
   "metadata": {
    "colab": {
     "base_uri": "https://localhost:8080/",
     "height": 542
    },
    "id": "7fMzkcGaLlQB",
    "outputId": "63dbb9c7-6f5e-4e0b-c3cf-32664f1ca046"
   },
   "outputs": [
    {
     "data": {
      "application/vnd.plotly.v1+json": {
       "config": {
        "plotlyServerURL": "https://plot.ly"
       },
       "data": [
        {
         "hovertemplate": "x=%{x}<br>y=%{y}<br>color=%{marker.color}<extra></extra>",
         "legendgroup": "",
         "marker": {
          "color": [
           2,
           2,
           2,
           1,
           0,
           2,
           3,
           0,
           0,
           2,
           0,
           2,
           3,
           1,
           0,
           2,
           0,
           3,
           1,
           3,
           2,
           0,
           1,
           2,
           0,
           2,
           0,
           0,
           3,
           0,
           1,
           3,
           0,
           2,
           0,
           2,
           1,
           3,
           0,
           3,
           1,
           0,
           1,
           0,
           1,
           1,
           2,
           2,
           3,
           0,
           3,
           2,
           3,
           3,
           0,
           1,
           3,
           2,
           3,
           2,
           1,
           3,
           3,
           0,
           1,
           1,
           1,
           1,
           3,
           0,
           2,
           1,
           0,
           2,
           1,
           1,
           2,
           0,
           1,
           2,
           1,
           3,
           1,
           1,
           2,
           3,
           0,
           2,
           2,
           2,
           1,
           1,
           3,
           2,
           2,
           3,
           1,
           0,
           2,
           3,
           2,
           0,
           1,
           0,
           1,
           2,
           0,
           2,
           1,
           3,
           1,
           0,
           2,
           3,
           0,
           0,
           2,
           0,
           2,
           1,
           0,
           2,
           0,
           3,
           1,
           3,
           2,
           0,
           3,
           2,
           0,
           2,
           0,
           0,
           3,
           3,
           2,
           0,
           2,
           0,
           2,
           1,
           0,
           0,
           1,
           0,
           0,
           0,
           1,
           1,
           3,
           0,
           3,
           2,
           0,
           3,
           0,
           1,
           3,
           2,
           3,
           2,
           0,
           3,
           3,
           0,
           1,
           1,
           1,
           1,
           3,
           0,
           2,
           1,
           0,
           2,
           1,
           2,
           0,
           1,
           2,
           1,
           3,
           3,
           1,
           2,
           3,
           0,
           2,
           2,
           2,
           1,
           1,
           3,
           2,
           2,
           0,
           2,
           1,
           0,
           0,
           1,
           2,
           0,
           0,
           1,
           2,
           0,
           2,
           1,
           1,
           1,
           0,
           2,
           3,
           0,
           2,
           0,
           2,
           3,
           1,
           0,
           2,
           0,
           3,
           1,
           3,
           2,
           0,
           2,
           0,
           2,
           0,
           0,
           3,
           0,
           3,
           3,
           0,
           2,
           0,
           2,
           1,
           0,
           0,
           3,
           1,
           0,
           1,
           0,
           1,
           1,
           2,
           1,
           0,
           0,
           3,
           2,
           3,
           3,
           0,
           3,
           2,
           3,
           2,
           0,
           3,
           3,
           2,
           3,
           0,
           1,
           1,
           1,
           3,
           0,
           2,
           1,
           0,
           2,
           1,
           2,
           0,
           1,
           2,
           1,
           3,
           3,
           1,
           2,
           3,
           0,
           2,
           2,
           2,
           1,
           1,
           3,
           2,
           2,
           3,
           0,
           2,
           1,
           0,
           0,
           2,
           3,
           2,
           0,
           1,
           0,
           1,
           2,
           0,
           2,
           1,
           1,
           3,
           1,
           0,
           2,
           3,
           0,
           0,
           2,
           0,
           2,
           1,
           0,
           0,
           3,
           1,
           3,
           2,
           0,
           3,
           2,
           0,
           2,
           0,
           0,
           0,
           1,
           3,
           2,
           0,
           2,
           0,
           2,
           0,
           0,
           3,
           1,
           0,
           0,
           0,
           1,
           1,
           1,
           3,
           0,
           3,
           2,
           3,
           0,
           1,
           3,
           2,
           3,
           0,
           3,
           3,
           2,
           3,
           0,
           1,
           1,
           1,
           1,
           3,
           0,
           2,
           1,
           0,
           2,
           1,
           2,
           0,
           2,
           1,
           3,
           1,
           1,
           2,
           3,
           2,
           2,
           2,
           1,
           1,
           3,
           2,
           2,
           3,
           0,
           1,
           0,
           0,
           1,
           3,
           2,
           0,
           1,
           0,
           1,
           2,
           0,
           2,
           1,
           1,
           3,
           1,
           1,
           3,
           0,
           0,
           2,
           0,
           2,
           3,
           1,
           0,
           2,
           0,
           3,
           1,
           3,
           0,
           3,
           2,
           0,
           2,
           0,
           0,
           3,
           0,
           3,
           3,
           2,
           2,
           0,
           2,
           1,
           0,
           3,
           1,
           0,
           0,
           1,
           0,
           1,
           1,
           2,
           3,
           0,
           3,
           2,
           3,
           3,
           0,
           1,
           3,
           2,
           2,
           3,
           3,
           2,
           3,
           0,
           3,
           1,
           1,
           1,
           3,
           0,
           2,
           1,
           0,
           2,
           1,
           1,
           2,
           0,
           1,
           2,
           1,
           3
          ],
          "coloraxis": "coloraxis",
          "symbol": "circle"
         },
         "mode": "markers",
         "name": "",
         "orientation": "v",
         "showlegend": false,
         "type": "scatter",
         "x": [
          102,
          115,
          115,
          130,
          198,
          114,
          145,
          191,
          186,
          104,
          188,
          96,
          156,
          125,
          178,
          109,
          168,
          152,
          133,
          153,
          107,
          199,
          140,
          95,
          183,
          108,
          190,
          174,
          149,
          169,
          138,
          151,
          178,
          106,
          195,
          96,
          129,
          166,
          197,
          148,
          117,
          193,
          130,
          183,
          134,
          128,
          105,
          115,
          166,
          183,
          149,
          110,
          164,
          157,
          170,
          124,
          145,
          113,
          150,
          100,
          139,
          150,
          157,
          187,
          137,
          121,
          132,
          130,
          156,
          180,
          100,
          122,
          185,
          113,
          123,
          119,
          113,
          168,
          126,
          102,
          116,
          144,
          140,
          124,
          108,
          154,
          185,
          106,
          97,
          96,
          129,
          124,
          149,
          97,
          102,
          146,
          118,
          179,
          113,
          142,
          101,
          174,
          131,
          179,
          122,
          105,
          176,
          103,
          120,
          143,
          134,
          203,
          116,
          150,
          192,
          187,
          107,
          192,
          97,
          128,
          183,
          112,
          173,
          156,
          137,
          156,
          112,
          203,
          141,
          97,
          186,
          113,
          195,
          175,
          154,
          152,
          114,
          181,
          111,
          200,
          100,
          134,
          167,
          198,
          121,
          196,
          171,
          186,
          133,
          120,
          168,
          184,
          154,
          115,
          168,
          161,
          171,
          129,
          150,
          118,
          154,
          103,
          180,
          141,
          159,
          191,
          142,
          123,
          135,
          132,
          158,
          181,
          105,
          126,
          186,
          116,
          124,
          115,
          173,
          128,
          103,
          120,
          146,
          145,
          125,
          109,
          156,
          187,
          110,
          100,
          97,
          133,
          128,
          154,
          100,
          104,
          203,
          104,
          119,
          181,
          180,
          116,
          102,
          176,
          184,
          124,
          110,
          180,
          103,
          117,
          120,
          133,
          201,
          117,
          146,
          195,
          108,
          191,
          100,
          158,
          127,
          181,
          113,
          171,
          153,
          137,
          154,
          112,
          201,
          100,
          185,
          111,
          191,
          176,
          150,
          171,
          140,
          153,
          180,
          107,
          197,
          101,
          132,
          168,
          200,
          150,
          119,
          197,
          134,
          185,
          135,
          132,
          109,
          116,
          170,
          187,
          154,
          111,
          169,
          161,
          174,
          148,
          117,
          154,
          104,
          183,
          142,
          155,
          105,
          160,
          191,
          140,
          123,
          132,
          158,
          182,
          104,
          126,
          188,
          118,
          127,
          118,
          169,
          128,
          106,
          119,
          147,
          141,
          125,
          109,
          158,
          190,
          110,
          99,
          98,
          134,
          129,
          154,
          100,
          107,
          149,
          203,
          101,
          119,
          182,
          181,
          115,
          145,
          102,
          176,
          134,
          183,
          123,
          108,
          177,
          104,
          117,
          117,
          145,
          134,
          199,
          115,
          149,
          192,
          188,
          107,
          190,
          98,
          128,
          180,
          172,
          157,
          137,
          158,
          110,
          203,
          145,
          96,
          186,
          110,
          194,
          177,
          172,
          140,
          154,
          113,
          179,
          111,
          196,
          101,
          171,
          199,
          151,
          121,
          196,
          174,
          184,
          137,
          129,
          116,
          168,
          184,
          151,
          114,
          167,
          175,
          127,
          146,
          118,
          151,
          180,
          140,
          155,
          106,
          160,
          192,
          138,
          122,
          135,
          132,
          158,
          184,
          101,
          126,
          188,
          118,
          127,
          117,
          172,
          104,
          121,
          148,
          141,
          128,
          113,
          155,
          108,
          98,
          100,
          134,
          125,
          151,
          100,
          107,
          147,
          200,
          120,
          181,
          182,
          117,
          145,
          106,
          179,
          134,
          180,
          126,
          110,
          180,
          103,
          116,
          119,
          144,
          133,
          115,
          150,
          192,
          188,
          109,
          189,
          101,
          159,
          128,
          182,
          111,
          171,
          154,
          134,
          157,
          203,
          142,
          97,
          187,
          111,
          194,
          176,
          153,
          171,
          142,
          153,
          113,
          108,
          200,
          99,
          131,
          171,
          152,
          119,
          196,
          173,
          132,
          185,
          138,
          132,
          110,
          167,
          188,
          151,
          112,
          166,
          158,
          172,
          127,
          150,
          115,
          103,
          141,
          152,
          105,
          162,
          190,
          141,
          122,
          136,
          131,
          157,
          181,
          103,
          127,
          189,
          114,
          125,
          123,
          116,
          172,
          129,
          107,
          117,
          148
         ],
         "xaxis": "x",
         "y": [
          111,
          135,
          136,
          158,
          227,
          131,
          176,
          223,
          221,
          116,
          222,
          102,
          192,
          152,
          213,
          125,
          204,
          189,
          163,
          189,
          122,
          228,
          168,
          102,
          218,
          123,
          222,
          208,
          183,
          204,
          167,
          188,
          213,
          122,
          225,
          105,
          155,
          203,
          225,
          177,
          139,
          224,
          158,
          218,
          164,
          154,
          118,
          138,
          199,
          219,
          183,
          128,
          197,
          196,
          208,
          152,
          175,
          129,
          185,
          107,
          167,
          185,
          194,
          221,
          166,
          143,
          163,
          158,
          191,
          216,
          106,
          146,
          220,
          131,
          147,
          141,
          130,
          204,
          152,
          111,
          139,
          172,
          168,
          148,
          123,
          189,
          220,
          120,
          106,
          105,
          157,
          149,
          185,
          106,
          115,
          177,
          140,
          216,
          130,
          169,
          110,
          209,
          162,
          214,
          145,
          116,
          209,
          116,
          139,
          168,
          158,
          232,
          136,
          180,
          228,
          222,
          117,
          224,
          104,
          156,
          213,
          133,
          208,
          195,
          163,
          195,
          124,
          231,
          172,
          104,
          221,
          128,
          222,
          214,
          184,
          195,
          132,
          214,
          123,
          233,
          107,
          162,
          204,
          227,
          142,
          225,
          212,
          220,
          155,
          144,
          201,
          222,
          189,
          132,
          204,
          201,
          211,
          156,
          179,
          129,
          185,
          107,
          213,
          172,
          202,
          222,
          168,
          146,
          170,
          165,
          196,
          224,
          108,
          149,
          224,
          136,
          152,
          135,
          211,
          156,
          115,
          143,
          179,
          173,
          148,
          127,
          194,
          225,
          127,
          106,
          112,
          164,
          151,
          191,
          110,
          116,
          235,
          108,
          141,
          219,
          219,
          138,
          116,
          212,
          220,
          151,
          119,
          212,
          111,
          142,
          138,
          158,
          228,
          134,
          181,
          231,
          121,
          222,
          102,
          195,
          156,
          214,
          132,
          204,
          190,
          167,
          195,
          127,
          235,
          110,
          221,
          128,
          226,
          208,
          191,
          205,
          173,
          191,
          220,
          126,
          232,
          108,
          159,
          211,
          232,
          182,
          145,
          224,
          160,
          219,
          170,
          161,
          122,
          141,
          204,
          226,
          187,
          129,
          199,
          199,
          214,
          176,
          129,
          187,
          109,
          212,
          170,
          191,
          116,
          202,
          226,
          166,
          151,
          166,
          193,
          218,
          109,
          152,
          220,
          133,
          152,
          131,
          204,
          153,
          114,
          144,
          172,
          176,
          150,
          129,
          190,
          226,
          128,
          106,
          107,
          159,
          157,
          192,
          110,
          115,
          183,
          233,
          112,
          146,
          222,
          216,
          134,
          174,
          114,
          211,
          167,
          214,
          145,
          120,
          217,
          113,
          141,
          140,
          171,
          163,
          232,
          131,
          184,
          225,
          223,
          121,
          223,
          105,
          160,
          218,
          211,
          194,
          169,
          189,
          128,
          228,
          169,
          108,
          219,
          124,
          224,
          214,
          205,
          167,
          190,
          128,
          217,
          126,
          228,
          105,
          211,
          227,
          178,
          146,
          227,
          208,
          225,
          167,
          162,
          144,
          199,
          226,
          183,
          136,
          199,
          215,
          155,
          179,
          133,
          186,
          219,
          173,
          185,
          118,
          199,
          226,
          169,
          144,
          166,
          166,
          198,
          222,
          110,
          154,
          226,
          135,
          151,
          133,
          205,
          116,
          145,
          174,
          168,
          156,
          124,
          196,
          122,
          106,
          110,
          158,
          154,
          190,
          110,
          120,
          180,
          232,
          142,
          222,
          218,
          138,
          176,
          115,
          211,
          168,
          216,
          147,
          124,
          215,
          117,
          139,
          138,
          171,
          158,
          139,
          178,
          224,
          224,
          116,
          223,
          109,
          193,
          155,
          221,
          130,
          212,
          190,
          169,
          191,
          234,
          175,
          108,
          220,
          126,
          227,
          216,
          188,
          205,
          172,
          192,
          129,
          127,
          228,
          105,
          159,
          205,
          178,
          139,
          232,
          212,
          162,
          226,
          171,
          159,
          120,
          200,
          221,
          184,
          134,
          200,
          201,
          210,
          159,
          178,
          137,
          110,
          170,
          193,
          113,
          196,
          222,
          174,
          143,
          169,
          165,
          194,
          217,
          113,
          150,
          223,
          133,
          149,
          149,
          130,
          207,
          157,
          115,
          147,
          176
         ],
         "yaxis": "y"
        }
       ],
       "layout": {
        "coloraxis": {
         "colorbar": {
          "title": {
           "text": "color"
          }
         },
         "colorscale": [
          [
           0,
           "#0d0887"
          ],
          [
           0.1111111111111111,
           "#46039f"
          ],
          [
           0.2222222222222222,
           "#7201a8"
          ],
          [
           0.3333333333333333,
           "#9c179e"
          ],
          [
           0.4444444444444444,
           "#bd3786"
          ],
          [
           0.5555555555555556,
           "#d8576b"
          ],
          [
           0.6666666666666666,
           "#ed7953"
          ],
          [
           0.7777777777777778,
           "#fb9f3a"
          ],
          [
           0.8888888888888888,
           "#fdca26"
          ],
          [
           1,
           "#f0f921"
          ]
         ]
        },
        "legend": {
         "tracegroupgap": 0
        },
        "margin": {
         "t": 60
        },
        "template": {
         "data": {
          "bar": [
           {
            "error_x": {
             "color": "#2a3f5f"
            },
            "error_y": {
             "color": "#2a3f5f"
            },
            "marker": {
             "line": {
              "color": "#E5ECF6",
              "width": 0.5
             },
             "pattern": {
              "fillmode": "overlay",
              "size": 10,
              "solidity": 0.2
             }
            },
            "type": "bar"
           }
          ],
          "barpolar": [
           {
            "marker": {
             "line": {
              "color": "#E5ECF6",
              "width": 0.5
             },
             "pattern": {
              "fillmode": "overlay",
              "size": 10,
              "solidity": 0.2
             }
            },
            "type": "barpolar"
           }
          ],
          "carpet": [
           {
            "aaxis": {
             "endlinecolor": "#2a3f5f",
             "gridcolor": "white",
             "linecolor": "white",
             "minorgridcolor": "white",
             "startlinecolor": "#2a3f5f"
            },
            "baxis": {
             "endlinecolor": "#2a3f5f",
             "gridcolor": "white",
             "linecolor": "white",
             "minorgridcolor": "white",
             "startlinecolor": "#2a3f5f"
            },
            "type": "carpet"
           }
          ],
          "choropleth": [
           {
            "colorbar": {
             "outlinewidth": 0,
             "ticks": ""
            },
            "type": "choropleth"
           }
          ],
          "contour": [
           {
            "colorbar": {
             "outlinewidth": 0,
             "ticks": ""
            },
            "colorscale": [
             [
              0,
              "#0d0887"
             ],
             [
              0.1111111111111111,
              "#46039f"
             ],
             [
              0.2222222222222222,
              "#7201a8"
             ],
             [
              0.3333333333333333,
              "#9c179e"
             ],
             [
              0.4444444444444444,
              "#bd3786"
             ],
             [
              0.5555555555555556,
              "#d8576b"
             ],
             [
              0.6666666666666666,
              "#ed7953"
             ],
             [
              0.7777777777777778,
              "#fb9f3a"
             ],
             [
              0.8888888888888888,
              "#fdca26"
             ],
             [
              1,
              "#f0f921"
             ]
            ],
            "type": "contour"
           }
          ],
          "contourcarpet": [
           {
            "colorbar": {
             "outlinewidth": 0,
             "ticks": ""
            },
            "type": "contourcarpet"
           }
          ],
          "heatmap": [
           {
            "colorbar": {
             "outlinewidth": 0,
             "ticks": ""
            },
            "colorscale": [
             [
              0,
              "#0d0887"
             ],
             [
              0.1111111111111111,
              "#46039f"
             ],
             [
              0.2222222222222222,
              "#7201a8"
             ],
             [
              0.3333333333333333,
              "#9c179e"
             ],
             [
              0.4444444444444444,
              "#bd3786"
             ],
             [
              0.5555555555555556,
              "#d8576b"
             ],
             [
              0.6666666666666666,
              "#ed7953"
             ],
             [
              0.7777777777777778,
              "#fb9f3a"
             ],
             [
              0.8888888888888888,
              "#fdca26"
             ],
             [
              1,
              "#f0f921"
             ]
            ],
            "type": "heatmap"
           }
          ],
          "heatmapgl": [
           {
            "colorbar": {
             "outlinewidth": 0,
             "ticks": ""
            },
            "colorscale": [
             [
              0,
              "#0d0887"
             ],
             [
              0.1111111111111111,
              "#46039f"
             ],
             [
              0.2222222222222222,
              "#7201a8"
             ],
             [
              0.3333333333333333,
              "#9c179e"
             ],
             [
              0.4444444444444444,
              "#bd3786"
             ],
             [
              0.5555555555555556,
              "#d8576b"
             ],
             [
              0.6666666666666666,
              "#ed7953"
             ],
             [
              0.7777777777777778,
              "#fb9f3a"
             ],
             [
              0.8888888888888888,
              "#fdca26"
             ],
             [
              1,
              "#f0f921"
             ]
            ],
            "type": "heatmapgl"
           }
          ],
          "histogram": [
           {
            "marker": {
             "pattern": {
              "fillmode": "overlay",
              "size": 10,
              "solidity": 0.2
             }
            },
            "type": "histogram"
           }
          ],
          "histogram2d": [
           {
            "colorbar": {
             "outlinewidth": 0,
             "ticks": ""
            },
            "colorscale": [
             [
              0,
              "#0d0887"
             ],
             [
              0.1111111111111111,
              "#46039f"
             ],
             [
              0.2222222222222222,
              "#7201a8"
             ],
             [
              0.3333333333333333,
              "#9c179e"
             ],
             [
              0.4444444444444444,
              "#bd3786"
             ],
             [
              0.5555555555555556,
              "#d8576b"
             ],
             [
              0.6666666666666666,
              "#ed7953"
             ],
             [
              0.7777777777777778,
              "#fb9f3a"
             ],
             [
              0.8888888888888888,
              "#fdca26"
             ],
             [
              1,
              "#f0f921"
             ]
            ],
            "type": "histogram2d"
           }
          ],
          "histogram2dcontour": [
           {
            "colorbar": {
             "outlinewidth": 0,
             "ticks": ""
            },
            "colorscale": [
             [
              0,
              "#0d0887"
             ],
             [
              0.1111111111111111,
              "#46039f"
             ],
             [
              0.2222222222222222,
              "#7201a8"
             ],
             [
              0.3333333333333333,
              "#9c179e"
             ],
             [
              0.4444444444444444,
              "#bd3786"
             ],
             [
              0.5555555555555556,
              "#d8576b"
             ],
             [
              0.6666666666666666,
              "#ed7953"
             ],
             [
              0.7777777777777778,
              "#fb9f3a"
             ],
             [
              0.8888888888888888,
              "#fdca26"
             ],
             [
              1,
              "#f0f921"
             ]
            ],
            "type": "histogram2dcontour"
           }
          ],
          "mesh3d": [
           {
            "colorbar": {
             "outlinewidth": 0,
             "ticks": ""
            },
            "type": "mesh3d"
           }
          ],
          "parcoords": [
           {
            "line": {
             "colorbar": {
              "outlinewidth": 0,
              "ticks": ""
             }
            },
            "type": "parcoords"
           }
          ],
          "pie": [
           {
            "automargin": true,
            "type": "pie"
           }
          ],
          "scatter": [
           {
            "fillpattern": {
             "fillmode": "overlay",
             "size": 10,
             "solidity": 0.2
            },
            "type": "scatter"
           }
          ],
          "scatter3d": [
           {
            "line": {
             "colorbar": {
              "outlinewidth": 0,
              "ticks": ""
             }
            },
            "marker": {
             "colorbar": {
              "outlinewidth": 0,
              "ticks": ""
             }
            },
            "type": "scatter3d"
           }
          ],
          "scattercarpet": [
           {
            "marker": {
             "colorbar": {
              "outlinewidth": 0,
              "ticks": ""
             }
            },
            "type": "scattercarpet"
           }
          ],
          "scattergeo": [
           {
            "marker": {
             "colorbar": {
              "outlinewidth": 0,
              "ticks": ""
             }
            },
            "type": "scattergeo"
           }
          ],
          "scattergl": [
           {
            "marker": {
             "colorbar": {
              "outlinewidth": 0,
              "ticks": ""
             }
            },
            "type": "scattergl"
           }
          ],
          "scattermapbox": [
           {
            "marker": {
             "colorbar": {
              "outlinewidth": 0,
              "ticks": ""
             }
            },
            "type": "scattermapbox"
           }
          ],
          "scatterpolar": [
           {
            "marker": {
             "colorbar": {
              "outlinewidth": 0,
              "ticks": ""
             }
            },
            "type": "scatterpolar"
           }
          ],
          "scatterpolargl": [
           {
            "marker": {
             "colorbar": {
              "outlinewidth": 0,
              "ticks": ""
             }
            },
            "type": "scatterpolargl"
           }
          ],
          "scatterternary": [
           {
            "marker": {
             "colorbar": {
              "outlinewidth": 0,
              "ticks": ""
             }
            },
            "type": "scatterternary"
           }
          ],
          "surface": [
           {
            "colorbar": {
             "outlinewidth": 0,
             "ticks": ""
            },
            "colorscale": [
             [
              0,
              "#0d0887"
             ],
             [
              0.1111111111111111,
              "#46039f"
             ],
             [
              0.2222222222222222,
              "#7201a8"
             ],
             [
              0.3333333333333333,
              "#9c179e"
             ],
             [
              0.4444444444444444,
              "#bd3786"
             ],
             [
              0.5555555555555556,
              "#d8576b"
             ],
             [
              0.6666666666666666,
              "#ed7953"
             ],
             [
              0.7777777777777778,
              "#fb9f3a"
             ],
             [
              0.8888888888888888,
              "#fdca26"
             ],
             [
              1,
              "#f0f921"
             ]
            ],
            "type": "surface"
           }
          ],
          "table": [
           {
            "cells": {
             "fill": {
              "color": "#EBF0F8"
             },
             "line": {
              "color": "white"
             }
            },
            "header": {
             "fill": {
              "color": "#C8D4E3"
             },
             "line": {
              "color": "white"
             }
            },
            "type": "table"
           }
          ]
         },
         "layout": {
          "annotationdefaults": {
           "arrowcolor": "#2a3f5f",
           "arrowhead": 0,
           "arrowwidth": 1
          },
          "autotypenumbers": "strict",
          "coloraxis": {
           "colorbar": {
            "outlinewidth": 0,
            "ticks": ""
           }
          },
          "colorscale": {
           "diverging": [
            [
             0,
             "#8e0152"
            ],
            [
             0.1,
             "#c51b7d"
            ],
            [
             0.2,
             "#de77ae"
            ],
            [
             0.3,
             "#f1b6da"
            ],
            [
             0.4,
             "#fde0ef"
            ],
            [
             0.5,
             "#f7f7f7"
            ],
            [
             0.6,
             "#e6f5d0"
            ],
            [
             0.7,
             "#b8e186"
            ],
            [
             0.8,
             "#7fbc41"
            ],
            [
             0.9,
             "#4d9221"
            ],
            [
             1,
             "#276419"
            ]
           ],
           "sequential": [
            [
             0,
             "#0d0887"
            ],
            [
             0.1111111111111111,
             "#46039f"
            ],
            [
             0.2222222222222222,
             "#7201a8"
            ],
            [
             0.3333333333333333,
             "#9c179e"
            ],
            [
             0.4444444444444444,
             "#bd3786"
            ],
            [
             0.5555555555555556,
             "#d8576b"
            ],
            [
             0.6666666666666666,
             "#ed7953"
            ],
            [
             0.7777777777777778,
             "#fb9f3a"
            ],
            [
             0.8888888888888888,
             "#fdca26"
            ],
            [
             1,
             "#f0f921"
            ]
           ],
           "sequentialminus": [
            [
             0,
             "#0d0887"
            ],
            [
             0.1111111111111111,
             "#46039f"
            ],
            [
             0.2222222222222222,
             "#7201a8"
            ],
            [
             0.3333333333333333,
             "#9c179e"
            ],
            [
             0.4444444444444444,
             "#bd3786"
            ],
            [
             0.5555555555555556,
             "#d8576b"
            ],
            [
             0.6666666666666666,
             "#ed7953"
            ],
            [
             0.7777777777777778,
             "#fb9f3a"
            ],
            [
             0.8888888888888888,
             "#fdca26"
            ],
            [
             1,
             "#f0f921"
            ]
           ]
          },
          "colorway": [
           "#636efa",
           "#EF553B",
           "#00cc96",
           "#ab63fa",
           "#FFA15A",
           "#19d3f3",
           "#FF6692",
           "#B6E880",
           "#FF97FF",
           "#FECB52"
          ],
          "font": {
           "color": "#2a3f5f"
          },
          "geo": {
           "bgcolor": "white",
           "lakecolor": "white",
           "landcolor": "#E5ECF6",
           "showlakes": true,
           "showland": true,
           "subunitcolor": "white"
          },
          "hoverlabel": {
           "align": "left"
          },
          "hovermode": "closest",
          "mapbox": {
           "style": "light"
          },
          "paper_bgcolor": "white",
          "plot_bgcolor": "#E5ECF6",
          "polar": {
           "angularaxis": {
            "gridcolor": "white",
            "linecolor": "white",
            "ticks": ""
           },
           "bgcolor": "#E5ECF6",
           "radialaxis": {
            "gridcolor": "white",
            "linecolor": "white",
            "ticks": ""
           }
          },
          "scene": {
           "xaxis": {
            "backgroundcolor": "#E5ECF6",
            "gridcolor": "white",
            "gridwidth": 2,
            "linecolor": "white",
            "showbackground": true,
            "ticks": "",
            "zerolinecolor": "white"
           },
           "yaxis": {
            "backgroundcolor": "#E5ECF6",
            "gridcolor": "white",
            "gridwidth": 2,
            "linecolor": "white",
            "showbackground": true,
            "ticks": "",
            "zerolinecolor": "white"
           },
           "zaxis": {
            "backgroundcolor": "#E5ECF6",
            "gridcolor": "white",
            "gridwidth": 2,
            "linecolor": "white",
            "showbackground": true,
            "ticks": "",
            "zerolinecolor": "white"
           }
          },
          "shapedefaults": {
           "line": {
            "color": "#2a3f5f"
           }
          },
          "ternary": {
           "aaxis": {
            "gridcolor": "white",
            "linecolor": "white",
            "ticks": ""
           },
           "baxis": {
            "gridcolor": "white",
            "linecolor": "white",
            "ticks": ""
           },
           "bgcolor": "#E5ECF6",
           "caxis": {
            "gridcolor": "white",
            "linecolor": "white",
            "ticks": ""
           }
          },
          "title": {
           "x": 0.05
          },
          "xaxis": {
           "automargin": true,
           "gridcolor": "white",
           "linecolor": "white",
           "ticks": "",
           "title": {
            "standoff": 15
           },
           "zerolinecolor": "white",
           "zerolinewidth": 2
          },
          "yaxis": {
           "automargin": true,
           "gridcolor": "white",
           "linecolor": "white",
           "ticks": "",
           "title": {
            "standoff": 15
           },
           "zerolinecolor": "white",
           "zerolinewidth": 2
          }
         }
        },
        "title": {
         "text": "Análise de Clusters"
        },
        "xaxis": {
         "anchor": "y",
         "domain": [
          0,
          1
         ],
         "title": {
          "text": "peso"
         }
        },
        "yaxis": {
         "anchor": "x",
         "domain": [
          0,
          1
         ],
         "title": {
          "text": "colesterol"
         }
        }
       }
      },
      "text/html": [
       "<div>                            <div id=\"223e6296-a5f9-47a4-bc72-82803fea1fc9\" class=\"plotly-graph-div\" style=\"height:525px; width:100%;\"></div>            <script type=\"text/javascript\">                require([\"plotly\"], function(Plotly) {                    window.PLOTLYENV=window.PLOTLYENV || {};                                    if (document.getElementById(\"223e6296-a5f9-47a4-bc72-82803fea1fc9\")) {                    Plotly.newPlot(                        \"223e6296-a5f9-47a4-bc72-82803fea1fc9\",                        [{\"hovertemplate\":\"x=%{x}<br>y=%{y}<br>color=%{marker.color}<extra></extra>\",\"legendgroup\":\"\",\"marker\":{\"color\":[2,2,2,1,0,2,3,0,0,2,0,2,3,1,0,2,0,3,1,3,2,0,1,2,0,2,0,0,3,0,1,3,0,2,0,2,1,3,0,3,1,0,1,0,1,1,2,2,3,0,3,2,3,3,0,1,3,2,3,2,1,3,3,0,1,1,1,1,3,0,2,1,0,2,1,1,2,0,1,2,1,3,1,1,2,3,0,2,2,2,1,1,3,2,2,3,1,0,2,3,2,0,1,0,1,2,0,2,1,3,1,0,2,3,0,0,2,0,2,1,0,2,0,3,1,3,2,0,3,2,0,2,0,0,3,3,2,0,2,0,2,1,0,0,1,0,0,0,1,1,3,0,3,2,0,3,0,1,3,2,3,2,0,3,3,0,1,1,1,1,3,0,2,1,0,2,1,2,0,1,2,1,3,3,1,2,3,0,2,2,2,1,1,3,2,2,0,2,1,0,0,1,2,0,0,1,2,0,2,1,1,1,0,2,3,0,2,0,2,3,1,0,2,0,3,1,3,2,0,2,0,2,0,0,3,0,3,3,0,2,0,2,1,0,0,3,1,0,1,0,1,1,2,1,0,0,3,2,3,3,0,3,2,3,2,0,3,3,2,3,0,1,1,1,3,0,2,1,0,2,1,2,0,1,2,1,3,3,1,2,3,0,2,2,2,1,1,3,2,2,3,0,2,1,0,0,2,3,2,0,1,0,1,2,0,2,1,1,3,1,0,2,3,0,0,2,0,2,1,0,0,3,1,3,2,0,3,2,0,2,0,0,0,1,3,2,0,2,0,2,0,0,3,1,0,0,0,1,1,1,3,0,3,2,3,0,1,3,2,3,0,3,3,2,3,0,1,1,1,1,3,0,2,1,0,2,1,2,0,2,1,3,1,1,2,3,2,2,2,1,1,3,2,2,3,0,1,0,0,1,3,2,0,1,0,1,2,0,2,1,1,3,1,1,3,0,0,2,0,2,3,1,0,2,0,3,1,3,0,3,2,0,2,0,0,3,0,3,3,2,2,0,2,1,0,3,1,0,0,1,0,1,1,2,3,0,3,2,3,3,0,1,3,2,2,3,3,2,3,0,3,1,1,1,3,0,2,1,0,2,1,1,2,0,1,2,1,3],\"coloraxis\":\"coloraxis\",\"symbol\":\"circle\"},\"mode\":\"markers\",\"name\":\"\",\"orientation\":\"v\",\"showlegend\":false,\"x\":[102.0,115.0,115.0,130.0,198.0,114.0,145.0,191.0,186.0,104.0,188.0,96.0,156.0,125.0,178.0,109.0,168.0,152.0,133.0,153.0,107.0,199.0,140.0,95.0,183.0,108.0,190.0,174.0,149.0,169.0,138.0,151.0,178.0,106.0,195.0,96.0,129.0,166.0,197.0,148.0,117.0,193.0,130.0,183.0,134.0,128.0,105.0,115.0,166.0,183.0,149.0,110.0,164.0,157.0,170.0,124.0,145.0,113.0,150.0,100.0,139.0,150.0,157.0,187.0,137.0,121.0,132.0,130.0,156.0,180.0,100.0,122.0,185.0,113.0,123.0,119.0,113.0,168.0,126.0,102.0,116.0,144.0,140.0,124.0,108.0,154.0,185.0,106.0,97.0,96.0,129.0,124.0,149.0,97.0,102.0,146.0,118.0,179.0,113.0,142.0,101.0,174.0,131.0,179.0,122.0,105.0,176.0,103.0,120.0,143.0,134.0,203.0,116.0,150.0,192.0,187.0,107.0,192.0,97.0,128.0,183.0,112.0,173.0,156.0,137.0,156.0,112.0,203.0,141.0,97.0,186.0,113.0,195.0,175.0,154.0,152.0,114.0,181.0,111.0,200.0,100.0,134.0,167.0,198.0,121.0,196.0,171.0,186.0,133.0,120.0,168.0,184.0,154.0,115.0,168.0,161.0,171.0,129.0,150.0,118.0,154.0,103.0,180.0,141.0,159.0,191.0,142.0,123.0,135.0,132.0,158.0,181.0,105.0,126.0,186.0,116.0,124.0,115.0,173.0,128.0,103.0,120.0,146.0,145.0,125.0,109.0,156.0,187.0,110.0,100.0,97.0,133.0,128.0,154.0,100.0,104.0,203.0,104.0,119.0,181.0,180.0,116.0,102.0,176.0,184.0,124.0,110.0,180.0,103.0,117.0,120.0,133.0,201.0,117.0,146.0,195.0,108.0,191.0,100.0,158.0,127.0,181.0,113.0,171.0,153.0,137.0,154.0,112.0,201.0,100.0,185.0,111.0,191.0,176.0,150.0,171.0,140.0,153.0,180.0,107.0,197.0,101.0,132.0,168.0,200.0,150.0,119.0,197.0,134.0,185.0,135.0,132.0,109.0,116.0,170.0,187.0,154.0,111.0,169.0,161.0,174.0,148.0,117.0,154.0,104.0,183.0,142.0,155.0,105.0,160.0,191.0,140.0,123.0,132.0,158.0,182.0,104.0,126.0,188.0,118.0,127.0,118.0,169.0,128.0,106.0,119.0,147.0,141.0,125.0,109.0,158.0,190.0,110.0,99.0,98.0,134.0,129.0,154.0,100.0,107.0,149.0,203.0,101.0,119.0,182.0,181.0,115.0,145.0,102.0,176.0,134.0,183.0,123.0,108.0,177.0,104.0,117.0,117.0,145.0,134.0,199.0,115.0,149.0,192.0,188.0,107.0,190.0,98.0,128.0,180.0,172.0,157.0,137.0,158.0,110.0,203.0,145.0,96.0,186.0,110.0,194.0,177.0,172.0,140.0,154.0,113.0,179.0,111.0,196.0,101.0,171.0,199.0,151.0,121.0,196.0,174.0,184.0,137.0,129.0,116.0,168.0,184.0,151.0,114.0,167.0,175.0,127.0,146.0,118.0,151.0,180.0,140.0,155.0,106.0,160.0,192.0,138.0,122.0,135.0,132.0,158.0,184.0,101.0,126.0,188.0,118.0,127.0,117.0,172.0,104.0,121.0,148.0,141.0,128.0,113.0,155.0,108.0,98.0,100.0,134.0,125.0,151.0,100.0,107.0,147.0,200.0,120.0,181.0,182.0,117.0,145.0,106.0,179.0,134.0,180.0,126.0,110.0,180.0,103.0,116.0,119.0,144.0,133.0,115.0,150.0,192.0,188.0,109.0,189.0,101.0,159.0,128.0,182.0,111.0,171.0,154.0,134.0,157.0,203.0,142.0,97.0,187.0,111.0,194.0,176.0,153.0,171.0,142.0,153.0,113.0,108.0,200.0,99.0,131.0,171.0,152.0,119.0,196.0,173.0,132.0,185.0,138.0,132.0,110.0,167.0,188.0,151.0,112.0,166.0,158.0,172.0,127.0,150.0,115.0,103.0,141.0,152.0,105.0,162.0,190.0,141.0,122.0,136.0,131.0,157.0,181.0,103.0,127.0,189.0,114.0,125.0,123.0,116.0,172.0,129.0,107.0,117.0,148.0],\"xaxis\":\"x\",\"y\":[111,135,136,158,227,131,176,223,221,116,222,102,192,152,213,125,204,189,163,189,122,228,168,102,218,123,222,208,183,204,167,188,213,122,225,105,155,203,225,177,139,224,158,218,164,154,118,138,199,219,183,128,197,196,208,152,175,129,185,107,167,185,194,221,166,143,163,158,191,216,106,146,220,131,147,141,130,204,152,111,139,172,168,148,123,189,220,120,106,105,157,149,185,106,115,177,140,216,130,169,110,209,162,214,145,116,209,116,139,168,158,232,136,180,228,222,117,224,104,156,213,133,208,195,163,195,124,231,172,104,221,128,222,214,184,195,132,214,123,233,107,162,204,227,142,225,212,220,155,144,201,222,189,132,204,201,211,156,179,129,185,107,213,172,202,222,168,146,170,165,196,224,108,149,224,136,152,135,211,156,115,143,179,173,148,127,194,225,127,106,112,164,151,191,110,116,235,108,141,219,219,138,116,212,220,151,119,212,111,142,138,158,228,134,181,231,121,222,102,195,156,214,132,204,190,167,195,127,235,110,221,128,226,208,191,205,173,191,220,126,232,108,159,211,232,182,145,224,160,219,170,161,122,141,204,226,187,129,199,199,214,176,129,187,109,212,170,191,116,202,226,166,151,166,193,218,109,152,220,133,152,131,204,153,114,144,172,176,150,129,190,226,128,106,107,159,157,192,110,115,183,233,112,146,222,216,134,174,114,211,167,214,145,120,217,113,141,140,171,163,232,131,184,225,223,121,223,105,160,218,211,194,169,189,128,228,169,108,219,124,224,214,205,167,190,128,217,126,228,105,211,227,178,146,227,208,225,167,162,144,199,226,183,136,199,215,155,179,133,186,219,173,185,118,199,226,169,144,166,166,198,222,110,154,226,135,151,133,205,116,145,174,168,156,124,196,122,106,110,158,154,190,110,120,180,232,142,222,218,138,176,115,211,168,216,147,124,215,117,139,138,171,158,139,178,224,224,116,223,109,193,155,221,130,212,190,169,191,234,175,108,220,126,227,216,188,205,172,192,129,127,228,105,159,205,178,139,232,212,162,226,171,159,120,200,221,184,134,200,201,210,159,178,137,110,170,193,113,196,222,174,143,169,165,194,217,113,150,223,133,149,149,130,207,157,115,147,176],\"yaxis\":\"y\",\"type\":\"scatter\"}],                        {\"coloraxis\":{\"colorbar\":{\"title\":{\"text\":\"color\"}},\"colorscale\":[[0.0,\"#0d0887\"],[0.1111111111111111,\"#46039f\"],[0.2222222222222222,\"#7201a8\"],[0.3333333333333333,\"#9c179e\"],[0.4444444444444444,\"#bd3786\"],[0.5555555555555556,\"#d8576b\"],[0.6666666666666666,\"#ed7953\"],[0.7777777777777778,\"#fb9f3a\"],[0.8888888888888888,\"#fdca26\"],[1.0,\"#f0f921\"]]},\"legend\":{\"tracegroupgap\":0},\"margin\":{\"t\":60},\"template\":{\"data\":{\"barpolar\":[{\"marker\":{\"line\":{\"color\":\"#E5ECF6\",\"width\":0.5},\"pattern\":{\"fillmode\":\"overlay\",\"size\":10,\"solidity\":0.2}},\"type\":\"barpolar\"}],\"bar\":[{\"error_x\":{\"color\":\"#2a3f5f\"},\"error_y\":{\"color\":\"#2a3f5f\"},\"marker\":{\"line\":{\"color\":\"#E5ECF6\",\"width\":0.5},\"pattern\":{\"fillmode\":\"overlay\",\"size\":10,\"solidity\":0.2}},\"type\":\"bar\"}],\"carpet\":[{\"aaxis\":{\"endlinecolor\":\"#2a3f5f\",\"gridcolor\":\"white\",\"linecolor\":\"white\",\"minorgridcolor\":\"white\",\"startlinecolor\":\"#2a3f5f\"},\"baxis\":{\"endlinecolor\":\"#2a3f5f\",\"gridcolor\":\"white\",\"linecolor\":\"white\",\"minorgridcolor\":\"white\",\"startlinecolor\":\"#2a3f5f\"},\"type\":\"carpet\"}],\"choropleth\":[{\"colorbar\":{\"outlinewidth\":0,\"ticks\":\"\"},\"type\":\"choropleth\"}],\"contourcarpet\":[{\"colorbar\":{\"outlinewidth\":0,\"ticks\":\"\"},\"type\":\"contourcarpet\"}],\"contour\":[{\"colorbar\":{\"outlinewidth\":0,\"ticks\":\"\"},\"colorscale\":[[0.0,\"#0d0887\"],[0.1111111111111111,\"#46039f\"],[0.2222222222222222,\"#7201a8\"],[0.3333333333333333,\"#9c179e\"],[0.4444444444444444,\"#bd3786\"],[0.5555555555555556,\"#d8576b\"],[0.6666666666666666,\"#ed7953\"],[0.7777777777777778,\"#fb9f3a\"],[0.8888888888888888,\"#fdca26\"],[1.0,\"#f0f921\"]],\"type\":\"contour\"}],\"heatmapgl\":[{\"colorbar\":{\"outlinewidth\":0,\"ticks\":\"\"},\"colorscale\":[[0.0,\"#0d0887\"],[0.1111111111111111,\"#46039f\"],[0.2222222222222222,\"#7201a8\"],[0.3333333333333333,\"#9c179e\"],[0.4444444444444444,\"#bd3786\"],[0.5555555555555556,\"#d8576b\"],[0.6666666666666666,\"#ed7953\"],[0.7777777777777778,\"#fb9f3a\"],[0.8888888888888888,\"#fdca26\"],[1.0,\"#f0f921\"]],\"type\":\"heatmapgl\"}],\"heatmap\":[{\"colorbar\":{\"outlinewidth\":0,\"ticks\":\"\"},\"colorscale\":[[0.0,\"#0d0887\"],[0.1111111111111111,\"#46039f\"],[0.2222222222222222,\"#7201a8\"],[0.3333333333333333,\"#9c179e\"],[0.4444444444444444,\"#bd3786\"],[0.5555555555555556,\"#d8576b\"],[0.6666666666666666,\"#ed7953\"],[0.7777777777777778,\"#fb9f3a\"],[0.8888888888888888,\"#fdca26\"],[1.0,\"#f0f921\"]],\"type\":\"heatmap\"}],\"histogram2dcontour\":[{\"colorbar\":{\"outlinewidth\":0,\"ticks\":\"\"},\"colorscale\":[[0.0,\"#0d0887\"],[0.1111111111111111,\"#46039f\"],[0.2222222222222222,\"#7201a8\"],[0.3333333333333333,\"#9c179e\"],[0.4444444444444444,\"#bd3786\"],[0.5555555555555556,\"#d8576b\"],[0.6666666666666666,\"#ed7953\"],[0.7777777777777778,\"#fb9f3a\"],[0.8888888888888888,\"#fdca26\"],[1.0,\"#f0f921\"]],\"type\":\"histogram2dcontour\"}],\"histogram2d\":[{\"colorbar\":{\"outlinewidth\":0,\"ticks\":\"\"},\"colorscale\":[[0.0,\"#0d0887\"],[0.1111111111111111,\"#46039f\"],[0.2222222222222222,\"#7201a8\"],[0.3333333333333333,\"#9c179e\"],[0.4444444444444444,\"#bd3786\"],[0.5555555555555556,\"#d8576b\"],[0.6666666666666666,\"#ed7953\"],[0.7777777777777778,\"#fb9f3a\"],[0.8888888888888888,\"#fdca26\"],[1.0,\"#f0f921\"]],\"type\":\"histogram2d\"}],\"histogram\":[{\"marker\":{\"pattern\":{\"fillmode\":\"overlay\",\"size\":10,\"solidity\":0.2}},\"type\":\"histogram\"}],\"mesh3d\":[{\"colorbar\":{\"outlinewidth\":0,\"ticks\":\"\"},\"type\":\"mesh3d\"}],\"parcoords\":[{\"line\":{\"colorbar\":{\"outlinewidth\":0,\"ticks\":\"\"}},\"type\":\"parcoords\"}],\"pie\":[{\"automargin\":true,\"type\":\"pie\"}],\"scatter3d\":[{\"line\":{\"colorbar\":{\"outlinewidth\":0,\"ticks\":\"\"}},\"marker\":{\"colorbar\":{\"outlinewidth\":0,\"ticks\":\"\"}},\"type\":\"scatter3d\"}],\"scattercarpet\":[{\"marker\":{\"colorbar\":{\"outlinewidth\":0,\"ticks\":\"\"}},\"type\":\"scattercarpet\"}],\"scattergeo\":[{\"marker\":{\"colorbar\":{\"outlinewidth\":0,\"ticks\":\"\"}},\"type\":\"scattergeo\"}],\"scattergl\":[{\"marker\":{\"colorbar\":{\"outlinewidth\":0,\"ticks\":\"\"}},\"type\":\"scattergl\"}],\"scattermapbox\":[{\"marker\":{\"colorbar\":{\"outlinewidth\":0,\"ticks\":\"\"}},\"type\":\"scattermapbox\"}],\"scatterpolargl\":[{\"marker\":{\"colorbar\":{\"outlinewidth\":0,\"ticks\":\"\"}},\"type\":\"scatterpolargl\"}],\"scatterpolar\":[{\"marker\":{\"colorbar\":{\"outlinewidth\":0,\"ticks\":\"\"}},\"type\":\"scatterpolar\"}],\"scatter\":[{\"fillpattern\":{\"fillmode\":\"overlay\",\"size\":10,\"solidity\":0.2},\"type\":\"scatter\"}],\"scatterternary\":[{\"marker\":{\"colorbar\":{\"outlinewidth\":0,\"ticks\":\"\"}},\"type\":\"scatterternary\"}],\"surface\":[{\"colorbar\":{\"outlinewidth\":0,\"ticks\":\"\"},\"colorscale\":[[0.0,\"#0d0887\"],[0.1111111111111111,\"#46039f\"],[0.2222222222222222,\"#7201a8\"],[0.3333333333333333,\"#9c179e\"],[0.4444444444444444,\"#bd3786\"],[0.5555555555555556,\"#d8576b\"],[0.6666666666666666,\"#ed7953\"],[0.7777777777777778,\"#fb9f3a\"],[0.8888888888888888,\"#fdca26\"],[1.0,\"#f0f921\"]],\"type\":\"surface\"}],\"table\":[{\"cells\":{\"fill\":{\"color\":\"#EBF0F8\"},\"line\":{\"color\":\"white\"}},\"header\":{\"fill\":{\"color\":\"#C8D4E3\"},\"line\":{\"color\":\"white\"}},\"type\":\"table\"}]},\"layout\":{\"annotationdefaults\":{\"arrowcolor\":\"#2a3f5f\",\"arrowhead\":0,\"arrowwidth\":1},\"autotypenumbers\":\"strict\",\"coloraxis\":{\"colorbar\":{\"outlinewidth\":0,\"ticks\":\"\"}},\"colorscale\":{\"diverging\":[[0,\"#8e0152\"],[0.1,\"#c51b7d\"],[0.2,\"#de77ae\"],[0.3,\"#f1b6da\"],[0.4,\"#fde0ef\"],[0.5,\"#f7f7f7\"],[0.6,\"#e6f5d0\"],[0.7,\"#b8e186\"],[0.8,\"#7fbc41\"],[0.9,\"#4d9221\"],[1,\"#276419\"]],\"sequential\":[[0.0,\"#0d0887\"],[0.1111111111111111,\"#46039f\"],[0.2222222222222222,\"#7201a8\"],[0.3333333333333333,\"#9c179e\"],[0.4444444444444444,\"#bd3786\"],[0.5555555555555556,\"#d8576b\"],[0.6666666666666666,\"#ed7953\"],[0.7777777777777778,\"#fb9f3a\"],[0.8888888888888888,\"#fdca26\"],[1.0,\"#f0f921\"]],\"sequentialminus\":[[0.0,\"#0d0887\"],[0.1111111111111111,\"#46039f\"],[0.2222222222222222,\"#7201a8\"],[0.3333333333333333,\"#9c179e\"],[0.4444444444444444,\"#bd3786\"],[0.5555555555555556,\"#d8576b\"],[0.6666666666666666,\"#ed7953\"],[0.7777777777777778,\"#fb9f3a\"],[0.8888888888888888,\"#fdca26\"],[1.0,\"#f0f921\"]]},\"colorway\":[\"#636efa\",\"#EF553B\",\"#00cc96\",\"#ab63fa\",\"#FFA15A\",\"#19d3f3\",\"#FF6692\",\"#B6E880\",\"#FF97FF\",\"#FECB52\"],\"font\":{\"color\":\"#2a3f5f\"},\"geo\":{\"bgcolor\":\"white\",\"lakecolor\":\"white\",\"landcolor\":\"#E5ECF6\",\"showlakes\":true,\"showland\":true,\"subunitcolor\":\"white\"},\"hoverlabel\":{\"align\":\"left\"},\"hovermode\":\"closest\",\"mapbox\":{\"style\":\"light\"},\"paper_bgcolor\":\"white\",\"plot_bgcolor\":\"#E5ECF6\",\"polar\":{\"angularaxis\":{\"gridcolor\":\"white\",\"linecolor\":\"white\",\"ticks\":\"\"},\"bgcolor\":\"#E5ECF6\",\"radialaxis\":{\"gridcolor\":\"white\",\"linecolor\":\"white\",\"ticks\":\"\"}},\"scene\":{\"xaxis\":{\"backgroundcolor\":\"#E5ECF6\",\"gridcolor\":\"white\",\"gridwidth\":2,\"linecolor\":\"white\",\"showbackground\":true,\"ticks\":\"\",\"zerolinecolor\":\"white\"},\"yaxis\":{\"backgroundcolor\":\"#E5ECF6\",\"gridcolor\":\"white\",\"gridwidth\":2,\"linecolor\":\"white\",\"showbackground\":true,\"ticks\":\"\",\"zerolinecolor\":\"white\"},\"zaxis\":{\"backgroundcolor\":\"#E5ECF6\",\"gridcolor\":\"white\",\"gridwidth\":2,\"linecolor\":\"white\",\"showbackground\":true,\"ticks\":\"\",\"zerolinecolor\":\"white\"}},\"shapedefaults\":{\"line\":{\"color\":\"#2a3f5f\"}},\"ternary\":{\"aaxis\":{\"gridcolor\":\"white\",\"linecolor\":\"white\",\"ticks\":\"\"},\"baxis\":{\"gridcolor\":\"white\",\"linecolor\":\"white\",\"ticks\":\"\"},\"bgcolor\":\"#E5ECF6\",\"caxis\":{\"gridcolor\":\"white\",\"linecolor\":\"white\",\"ticks\":\"\"}},\"title\":{\"x\":0.05},\"xaxis\":{\"automargin\":true,\"gridcolor\":\"white\",\"linecolor\":\"white\",\"ticks\":\"\",\"title\":{\"standoff\":15},\"zerolinecolor\":\"white\",\"zerolinewidth\":2},\"yaxis\":{\"automargin\":true,\"gridcolor\":\"white\",\"linecolor\":\"white\",\"ticks\":\"\",\"title\":{\"standoff\":15},\"zerolinecolor\":\"white\",\"zerolinewidth\":2}}},\"xaxis\":{\"anchor\":\"y\",\"domain\":[0.0,1.0],\"title\":{\"text\":\"peso\"}},\"yaxis\":{\"anchor\":\"x\",\"domain\":[0.0,1.0],\"title\":{\"text\":\"colesterol\"}},\"title\":{\"text\":\"An\\u00e1lise de Clusters\"}},                        {\"responsive\": true}                    ).then(function(){\n",
       "                            \n",
       "var gd = document.getElementById('223e6296-a5f9-47a4-bc72-82803fea1fc9');\n",
       "var x = new MutationObserver(function (mutations, observer) {{\n",
       "        var display = window.getComputedStyle(gd).display;\n",
       "        if (!display || display === 'none') {{\n",
       "            console.log([gd, 'removed!']);\n",
       "            Plotly.purge(gd);\n",
       "            observer.disconnect();\n",
       "        }}\n",
       "}});\n",
       "\n",
       "// Listen for the removal of the full notebook cells\n",
       "var notebookContainer = gd.closest('#notebook-container');\n",
       "if (notebookContainer) {{\n",
       "    x.observe(notebookContainer, {childList: true});\n",
       "}}\n",
       "\n",
       "// Listen for the clearing of the current output cell\n",
       "var outputEl = gd.closest('.output');\n",
       "if (outputEl) {{\n",
       "    x.observe(outputEl, {childList: true});\n",
       "}}\n",
       "\n",
       "                        })                };                });            </script>        </div>"
      ]
     },
     "metadata": {},
     "output_type": "display_data"
    }
   ],
   "source": [
    "# peso x colesterol\n",
    "plotar_grafico(base_completa['peso'], base_completa['colesterol'], 'peso', 'colesterol')"
   ]
  },
  {
   "cell_type": "markdown",
   "metadata": {
    "id": "o4BirlJ2Lsyx"
   },
   "source": [
    "### Segmentando clientes"
   ]
  },
  {
   "cell_type": "code",
   "execution_count": 137,
   "metadata": {
    "id": "DWRGzZTTOeDf"
   },
   "outputs": [],
   "source": [
    "#inserindo uma nova base com cluster clientes\n",
    "cluster_clientes = base_completa"
   ]
  },
  {
   "cell_type": "code",
   "execution_count": 138,
   "metadata": {
    "colab": {
     "base_uri": "https://localhost:8080/",
     "height": 574
    },
    "id": "FdTePT_gOfbH",
    "outputId": "a7f7207e-152b-45e5-8842-162ffc997618"
   },
   "outputs": [
    {
     "data": {
      "text/html": [
       "<div>\n",
       "<style scoped>\n",
       "    .dataframe tbody tr th:only-of-type {\n",
       "        vertical-align: middle;\n",
       "    }\n",
       "\n",
       "    .dataframe tbody tr th {\n",
       "        vertical-align: top;\n",
       "    }\n",
       "\n",
       "    .dataframe thead th {\n",
       "        text-align: right;\n",
       "    }\n",
       "</style>\n",
       "<table border=\"1\" class=\"dataframe\">\n",
       "  <thead>\n",
       "    <tr style=\"text-align: right;\">\n",
       "      <th></th>\n",
       "      <th>cod_cliente</th>\n",
       "      <th>peso</th>\n",
       "      <th>colesterol</th>\n",
       "      <th>genero</th>\n",
       "      <th>id_estado</th>\n",
       "      <th>estado</th>\n",
       "      <th>sigla_estado</th>\n",
       "      <th>pais</th>\n",
       "      <th>idade</th>\n",
       "      <th>cluster</th>\n",
       "    </tr>\n",
       "  </thead>\n",
       "  <tbody>\n",
       "    <tr>\n",
       "      <th>0</th>\n",
       "      <td>1</td>\n",
       "      <td>102.0</td>\n",
       "      <td>111</td>\n",
       "      <td>Masculino</td>\n",
       "      <td>23</td>\n",
       "      <td>Roraima</td>\n",
       "      <td>RR</td>\n",
       "      <td>Brasil</td>\n",
       "      <td>17</td>\n",
       "      <td>2</td>\n",
       "    </tr>\n",
       "    <tr>\n",
       "      <th>17</th>\n",
       "      <td>2</td>\n",
       "      <td>115.0</td>\n",
       "      <td>135</td>\n",
       "      <td>Masculino</td>\n",
       "      <td>7</td>\n",
       "      <td>Distrito Federal</td>\n",
       "      <td>DF</td>\n",
       "      <td>Brasil</td>\n",
       "      <td>28</td>\n",
       "      <td>2</td>\n",
       "    </tr>\n",
       "    <tr>\n",
       "      <th>39</th>\n",
       "      <td>3</td>\n",
       "      <td>115.0</td>\n",
       "      <td>136</td>\n",
       "      <td>Masculino</td>\n",
       "      <td>4</td>\n",
       "      <td>Amazonas</td>\n",
       "      <td>AM</td>\n",
       "      <td>Brasil</td>\n",
       "      <td>62</td>\n",
       "      <td>2</td>\n",
       "    </tr>\n",
       "    <tr>\n",
       "      <th>64</th>\n",
       "      <td>5</td>\n",
       "      <td>130.0</td>\n",
       "      <td>158</td>\n",
       "      <td>Masculino</td>\n",
       "      <td>26</td>\n",
       "      <td>Sergipe</td>\n",
       "      <td>SE</td>\n",
       "      <td>Brasil</td>\n",
       "      <td>44</td>\n",
       "      <td>1</td>\n",
       "    </tr>\n",
       "    <tr>\n",
       "      <th>83</th>\n",
       "      <td>6</td>\n",
       "      <td>198.0</td>\n",
       "      <td>227</td>\n",
       "      <td>Masculino</td>\n",
       "      <td>8</td>\n",
       "      <td>Espírito Santo</td>\n",
       "      <td>ES</td>\n",
       "      <td>Brasil</td>\n",
       "      <td>17</td>\n",
       "      <td>0</td>\n",
       "    </tr>\n",
       "    <tr>\n",
       "      <th>...</th>\n",
       "      <td>...</td>\n",
       "      <td>...</td>\n",
       "      <td>...</td>\n",
       "      <td>...</td>\n",
       "      <td>...</td>\n",
       "      <td>...</td>\n",
       "      <td>...</td>\n",
       "      <td>...</td>\n",
       "      <td>...</td>\n",
       "      <td>...</td>\n",
       "    </tr>\n",
       "    <tr>\n",
       "      <th>418</th>\n",
       "      <td>543</td>\n",
       "      <td>172.0</td>\n",
       "      <td>207</td>\n",
       "      <td>Masculino</td>\n",
       "      <td>22</td>\n",
       "      <td>Rondônia</td>\n",
       "      <td>RO</td>\n",
       "      <td>Brasil</td>\n",
       "      <td>20</td>\n",
       "      <td>0</td>\n",
       "    </tr>\n",
       "    <tr>\n",
       "      <th>430</th>\n",
       "      <td>544</td>\n",
       "      <td>129.0</td>\n",
       "      <td>157</td>\n",
       "      <td>Masculino</td>\n",
       "      <td>1</td>\n",
       "      <td>Acre</td>\n",
       "      <td>AC</td>\n",
       "      <td>Brasil</td>\n",
       "      <td>66</td>\n",
       "      <td>1</td>\n",
       "    </tr>\n",
       "    <tr>\n",
       "      <th>155</th>\n",
       "      <td>545</td>\n",
       "      <td>107.0</td>\n",
       "      <td>115</td>\n",
       "      <td>Masculino</td>\n",
       "      <td>6</td>\n",
       "      <td>Ceará</td>\n",
       "      <td>CE</td>\n",
       "      <td>Brasil</td>\n",
       "      <td>36</td>\n",
       "      <td>2</td>\n",
       "    </tr>\n",
       "    <tr>\n",
       "      <th>372</th>\n",
       "      <td>546</td>\n",
       "      <td>117.0</td>\n",
       "      <td>147</td>\n",
       "      <td>Masculino</td>\n",
       "      <td>20</td>\n",
       "      <td>Rio Grande do Norte</td>\n",
       "      <td>RN</td>\n",
       "      <td>Brasil</td>\n",
       "      <td>57</td>\n",
       "      <td>1</td>\n",
       "    </tr>\n",
       "    <tr>\n",
       "      <th>100</th>\n",
       "      <td>547</td>\n",
       "      <td>148.0</td>\n",
       "      <td>176</td>\n",
       "      <td>Masculino</td>\n",
       "      <td>8</td>\n",
       "      <td>Espírito Santo</td>\n",
       "      <td>ES</td>\n",
       "      <td>Brasil</td>\n",
       "      <td>61</td>\n",
       "      <td>3</td>\n",
       "    </tr>\n",
       "  </tbody>\n",
       "</table>\n",
       "<p>498 rows × 10 columns</p>\n",
       "</div>"
      ],
      "text/plain": [
       "     cod_cliente   peso  colesterol     genero  id_estado  \\\n",
       "0              1  102.0         111  Masculino         23   \n",
       "17             2  115.0         135  Masculino          7   \n",
       "39             3  115.0         136  Masculino          4   \n",
       "64             5  130.0         158  Masculino         26   \n",
       "83             6  198.0         227  Masculino          8   \n",
       "..           ...    ...         ...        ...        ...   \n",
       "418          543  172.0         207  Masculino         22   \n",
       "430          544  129.0         157  Masculino          1   \n",
       "155          545  107.0         115  Masculino          6   \n",
       "372          546  117.0         147  Masculino         20   \n",
       "100          547  148.0         176  Masculino          8   \n",
       "\n",
       "                  estado sigla_estado    pais  idade  cluster  \n",
       "0                Roraima           RR  Brasil     17        2  \n",
       "17      Distrito Federal           DF  Brasil     28        2  \n",
       "39              Amazonas           AM  Brasil     62        2  \n",
       "64               Sergipe           SE  Brasil     44        1  \n",
       "83        Espírito Santo           ES  Brasil     17        0  \n",
       "..                   ...          ...     ...    ...      ...  \n",
       "418             Rondônia           RO  Brasil     20        0  \n",
       "430                 Acre           AC  Brasil     66        1  \n",
       "155                Ceará           CE  Brasil     36        2  \n",
       "372  Rio Grande do Norte           RN  Brasil     57        1  \n",
       "100       Espírito Santo           ES  Brasil     61        3  \n",
       "\n",
       "[498 rows x 10 columns]"
      ]
     },
     "execution_count": 138,
     "metadata": {},
     "output_type": "execute_result"
    }
   ],
   "source": [
    "cluster_clientes"
   ]
  },
  {
   "cell_type": "code",
   "execution_count": 139,
   "metadata": {
    "id": "e0TuDjkNOgf_"
   },
   "outputs": [],
   "source": [
    "#segmentando-o e substituindo o valor pelo seu nome dentro da coluna nome_cluster\n",
    "cluster_clientes.loc[cluster_clientes['cluster'] == 3, 'nome_cluster'] = \"Moderado alto\"\n",
    "cluster_clientes.loc[cluster_clientes['cluster'] == 2, 'nome_cluster'] = \"Risco Baixo\"\n",
    "cluster_clientes.loc[cluster_clientes['cluster'] == 1, 'nome_cluster'] = \"Moderado Baixo\"\n",
    "cluster_clientes.loc[cluster_clientes['cluster'] == 0, 'nome_cluster'] = \"Risco Alto\""
   ]
  },
  {
   "cell_type": "code",
   "execution_count": 140,
   "metadata": {
    "colab": {
     "base_uri": "https://localhost:8080/"
    },
    "id": "GscHvnkDPiJg",
    "outputId": "a03dff4d-21d2-4427-cdea-810229b9bc04"
   },
   "outputs": [
    {
     "data": {
      "text/plain": [
       "array([[184.32394366, 218.98591549],\n",
       "       [127.57024793, 154.20661157],\n",
       "       [106.90697674, 119.57364341],\n",
       "       [152.32075472, 186.03773585]])"
      ]
     },
     "execution_count": 140,
     "metadata": {},
     "output_type": "execute_result"
    }
   ],
   "source": [
    "centroides_clusters"
   ]
  },
  {
   "cell_type": "markdown",
   "metadata": {
    "id": "6yd8jyRmPQCQ"
   },
   "source": [
    "[2] 106 - 119 - Baixo risco\n",
    "\n",
    "[1] 127 - 154 - Risco moderado baixo\n",
    "\n",
    "[3] 152 - 186 - Risco moderado alto\n",
    "\n",
    "[0] 184 - 218 - Alto risco"
   ]
  },
  {
   "cell_type": "code",
   "execution_count": 141,
   "metadata": {
    "colab": {
     "base_uri": "https://localhost:8080/",
     "height": 609
    },
    "id": "2yy4oQCHPBGm",
    "outputId": "7a9cff9b-06bc-4e02-d4ad-c3b9837cff15"
   },
   "outputs": [
    {
     "data": {
      "text/html": [
       "<div>\n",
       "<style scoped>\n",
       "    .dataframe tbody tr th:only-of-type {\n",
       "        vertical-align: middle;\n",
       "    }\n",
       "\n",
       "    .dataframe tbody tr th {\n",
       "        vertical-align: top;\n",
       "    }\n",
       "\n",
       "    .dataframe thead th {\n",
       "        text-align: right;\n",
       "    }\n",
       "</style>\n",
       "<table border=\"1\" class=\"dataframe\">\n",
       "  <thead>\n",
       "    <tr style=\"text-align: right;\">\n",
       "      <th></th>\n",
       "      <th>cod_cliente</th>\n",
       "      <th>peso</th>\n",
       "      <th>colesterol</th>\n",
       "      <th>genero</th>\n",
       "      <th>id_estado</th>\n",
       "      <th>estado</th>\n",
       "      <th>sigla_estado</th>\n",
       "      <th>pais</th>\n",
       "      <th>idade</th>\n",
       "      <th>cluster</th>\n",
       "      <th>nome_cluster</th>\n",
       "    </tr>\n",
       "  </thead>\n",
       "  <tbody>\n",
       "    <tr>\n",
       "      <th>0</th>\n",
       "      <td>1</td>\n",
       "      <td>102.0</td>\n",
       "      <td>111</td>\n",
       "      <td>Masculino</td>\n",
       "      <td>23</td>\n",
       "      <td>Roraima</td>\n",
       "      <td>RR</td>\n",
       "      <td>Brasil</td>\n",
       "      <td>17</td>\n",
       "      <td>2</td>\n",
       "      <td>Risco Baixo</td>\n",
       "    </tr>\n",
       "    <tr>\n",
       "      <th>17</th>\n",
       "      <td>2</td>\n",
       "      <td>115.0</td>\n",
       "      <td>135</td>\n",
       "      <td>Masculino</td>\n",
       "      <td>7</td>\n",
       "      <td>Distrito Federal</td>\n",
       "      <td>DF</td>\n",
       "      <td>Brasil</td>\n",
       "      <td>28</td>\n",
       "      <td>2</td>\n",
       "      <td>Risco Baixo</td>\n",
       "    </tr>\n",
       "    <tr>\n",
       "      <th>39</th>\n",
       "      <td>3</td>\n",
       "      <td>115.0</td>\n",
       "      <td>136</td>\n",
       "      <td>Masculino</td>\n",
       "      <td>4</td>\n",
       "      <td>Amazonas</td>\n",
       "      <td>AM</td>\n",
       "      <td>Brasil</td>\n",
       "      <td>62</td>\n",
       "      <td>2</td>\n",
       "      <td>Risco Baixo</td>\n",
       "    </tr>\n",
       "    <tr>\n",
       "      <th>64</th>\n",
       "      <td>5</td>\n",
       "      <td>130.0</td>\n",
       "      <td>158</td>\n",
       "      <td>Masculino</td>\n",
       "      <td>26</td>\n",
       "      <td>Sergipe</td>\n",
       "      <td>SE</td>\n",
       "      <td>Brasil</td>\n",
       "      <td>44</td>\n",
       "      <td>1</td>\n",
       "      <td>Moderado Baixo</td>\n",
       "    </tr>\n",
       "    <tr>\n",
       "      <th>83</th>\n",
       "      <td>6</td>\n",
       "      <td>198.0</td>\n",
       "      <td>227</td>\n",
       "      <td>Masculino</td>\n",
       "      <td>8</td>\n",
       "      <td>Espírito Santo</td>\n",
       "      <td>ES</td>\n",
       "      <td>Brasil</td>\n",
       "      <td>17</td>\n",
       "      <td>0</td>\n",
       "      <td>Risco Alto</td>\n",
       "    </tr>\n",
       "    <tr>\n",
       "      <th>...</th>\n",
       "      <td>...</td>\n",
       "      <td>...</td>\n",
       "      <td>...</td>\n",
       "      <td>...</td>\n",
       "      <td>...</td>\n",
       "      <td>...</td>\n",
       "      <td>...</td>\n",
       "      <td>...</td>\n",
       "      <td>...</td>\n",
       "      <td>...</td>\n",
       "      <td>...</td>\n",
       "    </tr>\n",
       "    <tr>\n",
       "      <th>418</th>\n",
       "      <td>543</td>\n",
       "      <td>172.0</td>\n",
       "      <td>207</td>\n",
       "      <td>Masculino</td>\n",
       "      <td>22</td>\n",
       "      <td>Rondônia</td>\n",
       "      <td>RO</td>\n",
       "      <td>Brasil</td>\n",
       "      <td>20</td>\n",
       "      <td>0</td>\n",
       "      <td>Risco Alto</td>\n",
       "    </tr>\n",
       "    <tr>\n",
       "      <th>430</th>\n",
       "      <td>544</td>\n",
       "      <td>129.0</td>\n",
       "      <td>157</td>\n",
       "      <td>Masculino</td>\n",
       "      <td>1</td>\n",
       "      <td>Acre</td>\n",
       "      <td>AC</td>\n",
       "      <td>Brasil</td>\n",
       "      <td>66</td>\n",
       "      <td>1</td>\n",
       "      <td>Moderado Baixo</td>\n",
       "    </tr>\n",
       "    <tr>\n",
       "      <th>155</th>\n",
       "      <td>545</td>\n",
       "      <td>107.0</td>\n",
       "      <td>115</td>\n",
       "      <td>Masculino</td>\n",
       "      <td>6</td>\n",
       "      <td>Ceará</td>\n",
       "      <td>CE</td>\n",
       "      <td>Brasil</td>\n",
       "      <td>36</td>\n",
       "      <td>2</td>\n",
       "      <td>Risco Baixo</td>\n",
       "    </tr>\n",
       "    <tr>\n",
       "      <th>372</th>\n",
       "      <td>546</td>\n",
       "      <td>117.0</td>\n",
       "      <td>147</td>\n",
       "      <td>Masculino</td>\n",
       "      <td>20</td>\n",
       "      <td>Rio Grande do Norte</td>\n",
       "      <td>RN</td>\n",
       "      <td>Brasil</td>\n",
       "      <td>57</td>\n",
       "      <td>1</td>\n",
       "      <td>Moderado Baixo</td>\n",
       "    </tr>\n",
       "    <tr>\n",
       "      <th>100</th>\n",
       "      <td>547</td>\n",
       "      <td>148.0</td>\n",
       "      <td>176</td>\n",
       "      <td>Masculino</td>\n",
       "      <td>8</td>\n",
       "      <td>Espírito Santo</td>\n",
       "      <td>ES</td>\n",
       "      <td>Brasil</td>\n",
       "      <td>61</td>\n",
       "      <td>3</td>\n",
       "      <td>Moderado alto</td>\n",
       "    </tr>\n",
       "  </tbody>\n",
       "</table>\n",
       "<p>498 rows × 11 columns</p>\n",
       "</div>"
      ],
      "text/plain": [
       "     cod_cliente   peso  colesterol     genero  id_estado  \\\n",
       "0              1  102.0         111  Masculino         23   \n",
       "17             2  115.0         135  Masculino          7   \n",
       "39             3  115.0         136  Masculino          4   \n",
       "64             5  130.0         158  Masculino         26   \n",
       "83             6  198.0         227  Masculino          8   \n",
       "..           ...    ...         ...        ...        ...   \n",
       "418          543  172.0         207  Masculino         22   \n",
       "430          544  129.0         157  Masculino          1   \n",
       "155          545  107.0         115  Masculino          6   \n",
       "372          546  117.0         147  Masculino         20   \n",
       "100          547  148.0         176  Masculino          8   \n",
       "\n",
       "                  estado sigla_estado    pais  idade  cluster    nome_cluster  \n",
       "0                Roraima           RR  Brasil     17        2     Risco Baixo  \n",
       "17      Distrito Federal           DF  Brasil     28        2     Risco Baixo  \n",
       "39              Amazonas           AM  Brasil     62        2     Risco Baixo  \n",
       "64               Sergipe           SE  Brasil     44        1  Moderado Baixo  \n",
       "83        Espírito Santo           ES  Brasil     17        0      Risco Alto  \n",
       "..                   ...          ...     ...    ...      ...             ...  \n",
       "418             Rondônia           RO  Brasil     20        0      Risco Alto  \n",
       "430                 Acre           AC  Brasil     66        1  Moderado Baixo  \n",
       "155                Ceará           CE  Brasil     36        2     Risco Baixo  \n",
       "372  Rio Grande do Norte           RN  Brasil     57        1  Moderado Baixo  \n",
       "100       Espírito Santo           ES  Brasil     61        3   Moderado alto  \n",
       "\n",
       "[498 rows x 11 columns]"
      ]
     },
     "execution_count": 141,
     "metadata": {},
     "output_type": "execute_result"
    }
   ],
   "source": [
    "cluster_clientes"
   ]
  },
  {
   "cell_type": "markdown",
   "metadata": {
    "id": "EGCIA5n1v4ES"
   },
   "source": [
    "### Analises dos clusters criados"
   ]
  },
  {
   "cell_type": "code",
   "execution_count": 142,
   "metadata": {
    "colab": {
     "base_uri": "https://localhost:8080/",
     "height": 206
    },
    "id": "oyLwYOs6v8FI",
    "outputId": "facfe84a-4b5e-4046-b36d-16d5d9727190"
   },
   "outputs": [
    {
     "data": {
      "text/html": [
       "<div>\n",
       "<style scoped>\n",
       "    .dataframe tbody tr th:only-of-type {\n",
       "        vertical-align: middle;\n",
       "    }\n",
       "\n",
       "    .dataframe tbody tr th {\n",
       "        vertical-align: top;\n",
       "    }\n",
       "\n",
       "    .dataframe thead th {\n",
       "        text-align: right;\n",
       "    }\n",
       "</style>\n",
       "<table border=\"1\" class=\"dataframe\">\n",
       "  <thead>\n",
       "    <tr style=\"text-align: right;\">\n",
       "      <th></th>\n",
       "      <th>count</th>\n",
       "      <th>mean</th>\n",
       "      <th>std</th>\n",
       "      <th>min</th>\n",
       "      <th>25%</th>\n",
       "      <th>50%</th>\n",
       "      <th>75%</th>\n",
       "      <th>max</th>\n",
       "    </tr>\n",
       "    <tr>\n",
       "      <th>nome_cluster</th>\n",
       "      <th></th>\n",
       "      <th></th>\n",
       "      <th></th>\n",
       "      <th></th>\n",
       "      <th></th>\n",
       "      <th></th>\n",
       "      <th></th>\n",
       "      <th></th>\n",
       "    </tr>\n",
       "  </thead>\n",
       "  <tbody>\n",
       "    <tr>\n",
       "      <th>Moderado Baixo</th>\n",
       "      <td>121.0</td>\n",
       "      <td>127.570248</td>\n",
       "      <td>6.971163</td>\n",
       "      <td>115.0</td>\n",
       "      <td>122.00</td>\n",
       "      <td>128.0</td>\n",
       "      <td>133.0</td>\n",
       "      <td>142.0</td>\n",
       "    </tr>\n",
       "    <tr>\n",
       "      <th>Moderado alto</th>\n",
       "      <td>106.0</td>\n",
       "      <td>152.320755</td>\n",
       "      <td>7.023155</td>\n",
       "      <td>140.0</td>\n",
       "      <td>147.25</td>\n",
       "      <td>152.0</td>\n",
       "      <td>157.0</td>\n",
       "      <td>169.0</td>\n",
       "    </tr>\n",
       "    <tr>\n",
       "      <th>Risco Alto</th>\n",
       "      <td>142.0</td>\n",
       "      <td>184.323944</td>\n",
       "      <td>9.764278</td>\n",
       "      <td>167.0</td>\n",
       "      <td>176.25</td>\n",
       "      <td>184.0</td>\n",
       "      <td>191.0</td>\n",
       "      <td>203.0</td>\n",
       "    </tr>\n",
       "    <tr>\n",
       "      <th>Risco Baixo</th>\n",
       "      <td>129.0</td>\n",
       "      <td>106.906977</td>\n",
       "      <td>6.313975</td>\n",
       "      <td>95.0</td>\n",
       "      <td>102.00</td>\n",
       "      <td>107.0</td>\n",
       "      <td>112.0</td>\n",
       "      <td>118.0</td>\n",
       "    </tr>\n",
       "  </tbody>\n",
       "</table>\n",
       "</div>"
      ],
      "text/plain": [
       "                count        mean       std    min     25%    50%    75%  \\\n",
       "nome_cluster                                                               \n",
       "Moderado Baixo  121.0  127.570248  6.971163  115.0  122.00  128.0  133.0   \n",
       "Moderado alto   106.0  152.320755  7.023155  140.0  147.25  152.0  157.0   \n",
       "Risco Alto      142.0  184.323944  9.764278  167.0  176.25  184.0  191.0   \n",
       "Risco Baixo     129.0  106.906977  6.313975   95.0  102.00  107.0  112.0   \n",
       "\n",
       "                  max  \n",
       "nome_cluster           \n",
       "Moderado Baixo  142.0  \n",
       "Moderado alto   169.0  \n",
       "Risco Alto      203.0  \n",
       "Risco Baixo     118.0  "
      ]
     },
     "execution_count": 142,
     "metadata": {},
     "output_type": "execute_result"
    }
   ],
   "source": [
    "# cluster x peso\n",
    "cluster_clientes.groupby('nome_cluster')['peso'].describe()"
   ]
  },
  {
   "cell_type": "code",
   "execution_count": 143,
   "metadata": {
    "colab": {
     "base_uri": "https://localhost:8080/",
     "height": 206
    },
    "id": "36Y0dnhXwQMp",
    "outputId": "687d9d8e-707d-4f2d-9666-047d5b1b5228"
   },
   "outputs": [
    {
     "data": {
      "text/html": [
       "<div>\n",
       "<style scoped>\n",
       "    .dataframe tbody tr th:only-of-type {\n",
       "        vertical-align: middle;\n",
       "    }\n",
       "\n",
       "    .dataframe tbody tr th {\n",
       "        vertical-align: top;\n",
       "    }\n",
       "\n",
       "    .dataframe thead th {\n",
       "        text-align: right;\n",
       "    }\n",
       "</style>\n",
       "<table border=\"1\" class=\"dataframe\">\n",
       "  <thead>\n",
       "    <tr style=\"text-align: right;\">\n",
       "      <th></th>\n",
       "      <th>count</th>\n",
       "      <th>unique</th>\n",
       "      <th>top</th>\n",
       "      <th>freq</th>\n",
       "    </tr>\n",
       "    <tr>\n",
       "      <th>nome_cluster</th>\n",
       "      <th></th>\n",
       "      <th></th>\n",
       "      <th></th>\n",
       "      <th></th>\n",
       "    </tr>\n",
       "  </thead>\n",
       "  <tbody>\n",
       "    <tr>\n",
       "      <th>Moderado Baixo</th>\n",
       "      <td>121</td>\n",
       "      <td>25</td>\n",
       "      <td>Sergipe</td>\n",
       "      <td>9</td>\n",
       "    </tr>\n",
       "    <tr>\n",
       "      <th>Moderado alto</th>\n",
       "      <td>106</td>\n",
       "      <td>25</td>\n",
       "      <td>Pernambuco</td>\n",
       "      <td>7</td>\n",
       "    </tr>\n",
       "    <tr>\n",
       "      <th>Risco Alto</th>\n",
       "      <td>142</td>\n",
       "      <td>25</td>\n",
       "      <td>Rio Grande do Sul</td>\n",
       "      <td>10</td>\n",
       "    </tr>\n",
       "    <tr>\n",
       "      <th>Risco Baixo</th>\n",
       "      <td>129</td>\n",
       "      <td>25</td>\n",
       "      <td>Amazonas</td>\n",
       "      <td>10</td>\n",
       "    </tr>\n",
       "  </tbody>\n",
       "</table>\n",
       "</div>"
      ],
      "text/plain": [
       "               count unique                top freq\n",
       "nome_cluster                                       \n",
       "Moderado Baixo   121     25            Sergipe    9\n",
       "Moderado alto    106     25         Pernambuco    7\n",
       "Risco Alto       142     25  Rio Grande do Sul   10\n",
       "Risco Baixo      129     25           Amazonas   10"
      ]
     },
     "execution_count": 143,
     "metadata": {},
     "output_type": "execute_result"
    }
   ],
   "source": [
    "#cluster x estado\n",
    "cluster_clientes.groupby('nome_cluster')['estado'].describe()"
   ]
  },
  {
   "cell_type": "code",
   "execution_count": 144,
   "metadata": {
    "colab": {
     "base_uri": "https://localhost:8080/",
     "height": 206
    },
    "id": "zjRu_C1FwaTI",
    "outputId": "63935355-8ff0-4779-aefe-48279651de5a"
   },
   "outputs": [
    {
     "data": {
      "text/html": [
       "<div>\n",
       "<style scoped>\n",
       "    .dataframe tbody tr th:only-of-type {\n",
       "        vertical-align: middle;\n",
       "    }\n",
       "\n",
       "    .dataframe tbody tr th {\n",
       "        vertical-align: top;\n",
       "    }\n",
       "\n",
       "    .dataframe thead th {\n",
       "        text-align: right;\n",
       "    }\n",
       "</style>\n",
       "<table border=\"1\" class=\"dataframe\">\n",
       "  <thead>\n",
       "    <tr style=\"text-align: right;\">\n",
       "      <th></th>\n",
       "      <th>count</th>\n",
       "      <th>mean</th>\n",
       "      <th>std</th>\n",
       "      <th>min</th>\n",
       "      <th>25%</th>\n",
       "      <th>50%</th>\n",
       "      <th>75%</th>\n",
       "      <th>max</th>\n",
       "    </tr>\n",
       "    <tr>\n",
       "      <th>nome_cluster</th>\n",
       "      <th></th>\n",
       "      <th></th>\n",
       "      <th></th>\n",
       "      <th></th>\n",
       "      <th></th>\n",
       "      <th></th>\n",
       "      <th></th>\n",
       "      <th></th>\n",
       "    </tr>\n",
       "  </thead>\n",
       "  <tbody>\n",
       "    <tr>\n",
       "      <th>Moderado Baixo</th>\n",
       "      <td>121.0</td>\n",
       "      <td>42.347107</td>\n",
       "      <td>14.411633</td>\n",
       "      <td>17.0</td>\n",
       "      <td>30.00</td>\n",
       "      <td>41.0</td>\n",
       "      <td>54.00</td>\n",
       "      <td>70.0</td>\n",
       "    </tr>\n",
       "    <tr>\n",
       "      <th>Moderado alto</th>\n",
       "      <td>106.0</td>\n",
       "      <td>42.716981</td>\n",
       "      <td>15.355318</td>\n",
       "      <td>16.0</td>\n",
       "      <td>29.25</td>\n",
       "      <td>44.0</td>\n",
       "      <td>54.75</td>\n",
       "      <td>70.0</td>\n",
       "    </tr>\n",
       "    <tr>\n",
       "      <th>Risco Alto</th>\n",
       "      <td>142.0</td>\n",
       "      <td>43.204225</td>\n",
       "      <td>15.208965</td>\n",
       "      <td>16.0</td>\n",
       "      <td>32.00</td>\n",
       "      <td>42.5</td>\n",
       "      <td>56.00</td>\n",
       "      <td>69.0</td>\n",
       "    </tr>\n",
       "    <tr>\n",
       "      <th>Risco Baixo</th>\n",
       "      <td>129.0</td>\n",
       "      <td>43.139535</td>\n",
       "      <td>15.428132</td>\n",
       "      <td>17.0</td>\n",
       "      <td>30.00</td>\n",
       "      <td>41.0</td>\n",
       "      <td>58.00</td>\n",
       "      <td>70.0</td>\n",
       "    </tr>\n",
       "  </tbody>\n",
       "</table>\n",
       "</div>"
      ],
      "text/plain": [
       "                count       mean        std   min    25%   50%    75%   max\n",
       "nome_cluster                                                               \n",
       "Moderado Baixo  121.0  42.347107  14.411633  17.0  30.00  41.0  54.00  70.0\n",
       "Moderado alto   106.0  42.716981  15.355318  16.0  29.25  44.0  54.75  70.0\n",
       "Risco Alto      142.0  43.204225  15.208965  16.0  32.00  42.5  56.00  69.0\n",
       "Risco Baixo     129.0  43.139535  15.428132  17.0  30.00  41.0  58.00  70.0"
      ]
     },
     "execution_count": 144,
     "metadata": {},
     "output_type": "execute_result"
    }
   ],
   "source": [
    "# cluster x idade\n",
    "cluster_clientes.groupby('nome_cluster')['idade'].describe()"
   ]
  },
  {
   "cell_type": "code",
   "execution_count": 145,
   "metadata": {
    "colab": {
     "base_uri": "https://localhost:8080/",
     "height": 774
    },
    "id": "zrxWDYiswjia",
    "outputId": "92525370-62a7-45c7-9e67-65aadd93bab5"
   },
   "outputs": [
    {
     "data": {
      "text/html": [
       "<div>\n",
       "<style scoped>\n",
       "    .dataframe tbody tr th:only-of-type {\n",
       "        vertical-align: middle;\n",
       "    }\n",
       "\n",
       "    .dataframe tbody tr th {\n",
       "        vertical-align: top;\n",
       "    }\n",
       "\n",
       "    .dataframe thead th {\n",
       "        text-align: right;\n",
       "    }\n",
       "</style>\n",
       "<table border=\"1\" class=\"dataframe\">\n",
       "  <thead>\n",
       "    <tr style=\"text-align: right;\">\n",
       "      <th></th>\n",
       "      <th>cod_cliente</th>\n",
       "      <th>peso</th>\n",
       "      <th>colesterol</th>\n",
       "      <th>genero</th>\n",
       "      <th>id_estado</th>\n",
       "      <th>estado</th>\n",
       "      <th>sigla_estado</th>\n",
       "      <th>pais</th>\n",
       "      <th>idade</th>\n",
       "      <th>cluster</th>\n",
       "      <th>nome_cluster</th>\n",
       "    </tr>\n",
       "  </thead>\n",
       "  <tbody>\n",
       "    <tr>\n",
       "      <th>330</th>\n",
       "      <td>69</td>\n",
       "      <td>187.0</td>\n",
       "      <td>221</td>\n",
       "      <td>Feminino</td>\n",
       "      <td>21</td>\n",
       "      <td>Rio Grande do Sul</td>\n",
       "      <td>RS</td>\n",
       "      <td>Brasil</td>\n",
       "      <td>35</td>\n",
       "      <td>0</td>\n",
       "      <td>Risco Alto</td>\n",
       "    </tr>\n",
       "    <tr>\n",
       "      <th>332</th>\n",
       "      <td>106</td>\n",
       "      <td>179.0</td>\n",
       "      <td>216</td>\n",
       "      <td>Masculino</td>\n",
       "      <td>21</td>\n",
       "      <td>Rio Grande do Sul</td>\n",
       "      <td>RS</td>\n",
       "      <td>Brasil</td>\n",
       "      <td>56</td>\n",
       "      <td>0</td>\n",
       "      <td>Risco Alto</td>\n",
       "    </tr>\n",
       "    <tr>\n",
       "      <th>337</th>\n",
       "      <td>261</td>\n",
       "      <td>171.0</td>\n",
       "      <td>205</td>\n",
       "      <td>Masculino</td>\n",
       "      <td>21</td>\n",
       "      <td>Rio Grande do Sul</td>\n",
       "      <td>RS</td>\n",
       "      <td>Brasil</td>\n",
       "      <td>34</td>\n",
       "      <td>0</td>\n",
       "      <td>Risco Alto</td>\n",
       "    </tr>\n",
       "    <tr>\n",
       "      <th>340</th>\n",
       "      <td>313</td>\n",
       "      <td>169.0</td>\n",
       "      <td>204</td>\n",
       "      <td>Masculino</td>\n",
       "      <td>21</td>\n",
       "      <td>Rio Grande do Sul</td>\n",
       "      <td>RS</td>\n",
       "      <td>Brasil</td>\n",
       "      <td>33</td>\n",
       "      <td>0</td>\n",
       "      <td>Risco Alto</td>\n",
       "    </tr>\n",
       "    <tr>\n",
       "      <th>341</th>\n",
       "      <td>335</td>\n",
       "      <td>182.0</td>\n",
       "      <td>222</td>\n",
       "      <td>Masculino</td>\n",
       "      <td>21</td>\n",
       "      <td>Rio Grande do Sul</td>\n",
       "      <td>RS</td>\n",
       "      <td>Brasil</td>\n",
       "      <td>68</td>\n",
       "      <td>0</td>\n",
       "      <td>Risco Alto</td>\n",
       "    </tr>\n",
       "    <tr>\n",
       "      <th>342</th>\n",
       "      <td>373</td>\n",
       "      <td>194.0</td>\n",
       "      <td>224</td>\n",
       "      <td>Feminino</td>\n",
       "      <td>21</td>\n",
       "      <td>Rio Grande do Sul</td>\n",
       "      <td>RS</td>\n",
       "      <td>Brasil</td>\n",
       "      <td>38</td>\n",
       "      <td>0</td>\n",
       "      <td>Risco Alto</td>\n",
       "    </tr>\n",
       "    <tr>\n",
       "      <th>343</th>\n",
       "      <td>374</td>\n",
       "      <td>177.0</td>\n",
       "      <td>214</td>\n",
       "      <td>Masculino</td>\n",
       "      <td>21</td>\n",
       "      <td>Rio Grande do Sul</td>\n",
       "      <td>RS</td>\n",
       "      <td>Brasil</td>\n",
       "      <td>18</td>\n",
       "      <td>0</td>\n",
       "      <td>Risco Alto</td>\n",
       "    </tr>\n",
       "    <tr>\n",
       "      <th>344</th>\n",
       "      <td>376</td>\n",
       "      <td>172.0</td>\n",
       "      <td>205</td>\n",
       "      <td>Masculino</td>\n",
       "      <td>21</td>\n",
       "      <td>Rio Grande do Sul</td>\n",
       "      <td>RS</td>\n",
       "      <td>Brasil</td>\n",
       "      <td>50</td>\n",
       "      <td>0</td>\n",
       "      <td>Risco Alto</td>\n",
       "    </tr>\n",
       "    <tr>\n",
       "      <th>345</th>\n",
       "      <td>403</td>\n",
       "      <td>175.0</td>\n",
       "      <td>215</td>\n",
       "      <td>Feminino</td>\n",
       "      <td>21</td>\n",
       "      <td>Rio Grande do Sul</td>\n",
       "      <td>RS</td>\n",
       "      <td>Brasil</td>\n",
       "      <td>45</td>\n",
       "      <td>0</td>\n",
       "      <td>Risco Alto</td>\n",
       "    </tr>\n",
       "    <tr>\n",
       "      <th>346</th>\n",
       "      <td>409</td>\n",
       "      <td>180.0</td>\n",
       "      <td>219</td>\n",
       "      <td>Masculino</td>\n",
       "      <td>21</td>\n",
       "      <td>Rio Grande do Sul</td>\n",
       "      <td>RS</td>\n",
       "      <td>Brasil</td>\n",
       "      <td>19</td>\n",
       "      <td>0</td>\n",
       "      <td>Risco Alto</td>\n",
       "    </tr>\n",
       "  </tbody>\n",
       "</table>\n",
       "</div>"
      ],
      "text/plain": [
       "     cod_cliente   peso  colesterol     genero  id_estado             estado  \\\n",
       "330           69  187.0         221   Feminino         21  Rio Grande do Sul   \n",
       "332          106  179.0         216  Masculino         21  Rio Grande do Sul   \n",
       "337          261  171.0         205  Masculino         21  Rio Grande do Sul   \n",
       "340          313  169.0         204  Masculino         21  Rio Grande do Sul   \n",
       "341          335  182.0         222  Masculino         21  Rio Grande do Sul   \n",
       "342          373  194.0         224   Feminino         21  Rio Grande do Sul   \n",
       "343          374  177.0         214  Masculino         21  Rio Grande do Sul   \n",
       "344          376  172.0         205  Masculino         21  Rio Grande do Sul   \n",
       "345          403  175.0         215   Feminino         21  Rio Grande do Sul   \n",
       "346          409  180.0         219  Masculino         21  Rio Grande do Sul   \n",
       "\n",
       "    sigla_estado    pais  idade  cluster nome_cluster  \n",
       "330           RS  Brasil     35        0   Risco Alto  \n",
       "332           RS  Brasil     56        0   Risco Alto  \n",
       "337           RS  Brasil     34        0   Risco Alto  \n",
       "340           RS  Brasil     33        0   Risco Alto  \n",
       "341           RS  Brasil     68        0   Risco Alto  \n",
       "342           RS  Brasil     38        0   Risco Alto  \n",
       "343           RS  Brasil     18        0   Risco Alto  \n",
       "344           RS  Brasil     50        0   Risco Alto  \n",
       "345           RS  Brasil     45        0   Risco Alto  \n",
       "346           RS  Brasil     19        0   Risco Alto  "
      ]
     },
     "execution_count": 145,
     "metadata": {},
     "output_type": "execute_result"
    }
   ],
   "source": [
    "# verifica os valores na base de dados de alto risco no estado do \"Rio Grande do Sul\n",
    "cluster_clientes.query('nome_cluster == \"Risco Alto\" & estado == \"Rio Grande do Sul\"')"
   ]
  },
  {
   "cell_type": "code",
   "execution_count": 146,
   "metadata": {
    "colab": {
     "base_uri": "https://localhost:8080/",
     "height": 331
    },
    "id": "Xuvh0ZOVxDaA",
    "outputId": "49936359-f8be-481e-d953-25cc6f679793"
   },
   "outputs": [
    {
     "data": {
      "text/html": [
       "<div>\n",
       "<style scoped>\n",
       "    .dataframe tbody tr th:only-of-type {\n",
       "        vertical-align: middle;\n",
       "    }\n",
       "\n",
       "    .dataframe tbody tr th {\n",
       "        vertical-align: top;\n",
       "    }\n",
       "\n",
       "    .dataframe thead th {\n",
       "        text-align: right;\n",
       "    }\n",
       "</style>\n",
       "<table border=\"1\" class=\"dataframe\">\n",
       "  <thead>\n",
       "    <tr style=\"text-align: right;\">\n",
       "      <th></th>\n",
       "      <th></th>\n",
       "      <th>count</th>\n",
       "      <th>mean</th>\n",
       "      <th>std</th>\n",
       "      <th>min</th>\n",
       "      <th>25%</th>\n",
       "      <th>50%</th>\n",
       "      <th>75%</th>\n",
       "      <th>max</th>\n",
       "    </tr>\n",
       "    <tr>\n",
       "      <th>nome_cluster</th>\n",
       "      <th>genero</th>\n",
       "      <th></th>\n",
       "      <th></th>\n",
       "      <th></th>\n",
       "      <th></th>\n",
       "      <th></th>\n",
       "      <th></th>\n",
       "      <th></th>\n",
       "      <th></th>\n",
       "    </tr>\n",
       "  </thead>\n",
       "  <tbody>\n",
       "    <tr>\n",
       "      <th rowspan=\"2\" valign=\"top\">Moderado Baixo</th>\n",
       "      <th>Feminino</th>\n",
       "      <td>63.0</td>\n",
       "      <td>129.317460</td>\n",
       "      <td>7.079788</td>\n",
       "      <td>116.0</td>\n",
       "      <td>125.00</td>\n",
       "      <td>129.0</td>\n",
       "      <td>135.00</td>\n",
       "      <td>142.0</td>\n",
       "    </tr>\n",
       "    <tr>\n",
       "      <th>Masculino</th>\n",
       "      <td>58.0</td>\n",
       "      <td>125.672414</td>\n",
       "      <td>6.383608</td>\n",
       "      <td>115.0</td>\n",
       "      <td>120.25</td>\n",
       "      <td>125.5</td>\n",
       "      <td>131.00</td>\n",
       "      <td>140.0</td>\n",
       "    </tr>\n",
       "    <tr>\n",
       "      <th rowspan=\"2\" valign=\"top\">Moderado alto</th>\n",
       "      <th>Feminino</th>\n",
       "      <td>59.0</td>\n",
       "      <td>152.135593</td>\n",
       "      <td>7.300112</td>\n",
       "      <td>140.0</td>\n",
       "      <td>145.00</td>\n",
       "      <td>154.0</td>\n",
       "      <td>157.00</td>\n",
       "      <td>169.0</td>\n",
       "    </tr>\n",
       "    <tr>\n",
       "      <th>Masculino</th>\n",
       "      <td>47.0</td>\n",
       "      <td>152.553191</td>\n",
       "      <td>6.730232</td>\n",
       "      <td>140.0</td>\n",
       "      <td>148.00</td>\n",
       "      <td>151.0</td>\n",
       "      <td>154.50</td>\n",
       "      <td>168.0</td>\n",
       "    </tr>\n",
       "    <tr>\n",
       "      <th rowspan=\"2\" valign=\"top\">Risco Alto</th>\n",
       "      <th>Feminino</th>\n",
       "      <td>60.0</td>\n",
       "      <td>185.983333</td>\n",
       "      <td>8.032754</td>\n",
       "      <td>168.0</td>\n",
       "      <td>180.00</td>\n",
       "      <td>186.0</td>\n",
       "      <td>192.00</td>\n",
       "      <td>203.0</td>\n",
       "    </tr>\n",
       "    <tr>\n",
       "      <th>Masculino</th>\n",
       "      <td>82.0</td>\n",
       "      <td>183.109756</td>\n",
       "      <td>10.743940</td>\n",
       "      <td>167.0</td>\n",
       "      <td>173.25</td>\n",
       "      <td>182.0</td>\n",
       "      <td>189.75</td>\n",
       "      <td>203.0</td>\n",
       "    </tr>\n",
       "    <tr>\n",
       "      <th rowspan=\"2\" valign=\"top\">Risco Baixo</th>\n",
       "      <th>Feminino</th>\n",
       "      <td>58.0</td>\n",
       "      <td>108.396552</td>\n",
       "      <td>6.472451</td>\n",
       "      <td>96.0</td>\n",
       "      <td>104.00</td>\n",
       "      <td>110.0</td>\n",
       "      <td>113.00</td>\n",
       "      <td>118.0</td>\n",
       "    </tr>\n",
       "    <tr>\n",
       "      <th>Masculino</th>\n",
       "      <td>71.0</td>\n",
       "      <td>105.690141</td>\n",
       "      <td>5.953610</td>\n",
       "      <td>95.0</td>\n",
       "      <td>101.50</td>\n",
       "      <td>105.0</td>\n",
       "      <td>110.00</td>\n",
       "      <td>118.0</td>\n",
       "    </tr>\n",
       "  </tbody>\n",
       "</table>\n",
       "</div>"
      ],
      "text/plain": [
       "                          count        mean        std    min     25%    50%  \\\n",
       "nome_cluster   genero                                                          \n",
       "Moderado Baixo Feminino    63.0  129.317460   7.079788  116.0  125.00  129.0   \n",
       "               Masculino   58.0  125.672414   6.383608  115.0  120.25  125.5   \n",
       "Moderado alto  Feminino    59.0  152.135593   7.300112  140.0  145.00  154.0   \n",
       "               Masculino   47.0  152.553191   6.730232  140.0  148.00  151.0   \n",
       "Risco Alto     Feminino    60.0  185.983333   8.032754  168.0  180.00  186.0   \n",
       "               Masculino   82.0  183.109756  10.743940  167.0  173.25  182.0   \n",
       "Risco Baixo    Feminino    58.0  108.396552   6.472451   96.0  104.00  110.0   \n",
       "               Masculino   71.0  105.690141   5.953610   95.0  101.50  105.0   \n",
       "\n",
       "                             75%    max  \n",
       "nome_cluster   genero                    \n",
       "Moderado Baixo Feminino   135.00  142.0  \n",
       "               Masculino  131.00  140.0  \n",
       "Moderado alto  Feminino   157.00  169.0  \n",
       "               Masculino  154.50  168.0  \n",
       "Risco Alto     Feminino   192.00  203.0  \n",
       "               Masculino  189.75  203.0  \n",
       "Risco Baixo    Feminino   113.00  118.0  \n",
       "               Masculino  110.00  118.0  "
      ]
     },
     "execution_count": 146,
     "metadata": {},
     "output_type": "execute_result"
    }
   ],
   "source": [
    "# Agrupar por nome e genero e verificar os dados de peso dessas pessoas\n",
    "cluster_clientes.groupby(['nome_cluster', 'genero'])['peso'].describe()"
   ]
  },
  {
   "cell_type": "markdown",
   "metadata": {
    "id": "2TprXR1SYQQG"
   },
   "source": [
    "## Questões Desafio\n",
    "\n"
   ]
  },
  {
   "cell_type": "code",
   "execution_count": 147,
   "metadata": {
    "colab": {
     "base_uri": "https://localhost:8080/"
    },
    "id": "ByPlea1msFYB",
    "outputId": "bbcdbe86-cbe2-48fc-efac-7e6855033977"
   },
   "outputs": [
    {
     "data": {
      "text/plain": [
       "id_cliente    158.049570\n",
       "idade          15.160209\n",
       "dtype: float64"
      ]
     },
     "execution_count": 147,
     "metadata": {},
     "output_type": "execute_result"
    }
   ],
   "source": [
    "#Analisando a base de idades de clientes. Qual é o desvio padrão das idades? \n",
    "idade.std()"
   ]
  },
  {
   "cell_type": "code",
   "execution_count": 148,
   "metadata": {
    "id": "-6oBzOe7Py5_"
   },
   "outputs": [],
   "source": [
    "#Pergunta: Quantos dados ausentes estão presentes nos 3 datasets? (somatório de dados ausentes se houver) \n",
    "#7"
   ]
  },
  {
   "cell_type": "code",
   "execution_count": 149,
   "metadata": {
    "id": "Fv6pLvQUPsV4"
   },
   "outputs": [],
   "source": [
    "#Pergunta:Qual comando abaixo realiza a correção de dados ausentes e aplica em um dataset? \n",
    "\n",
    "#df.altura.fillna(round(media,2), inplace=True)"
   ]
  },
  {
   "cell_type": "code",
   "execution_count": 150,
   "metadata": {
    "colab": {
     "base_uri": "https://localhost:8080/",
     "height": 384
    },
    "id": "IJPplWP_PCqI",
    "outputId": "f20dbf7c-5422-446e-8338-1a0c6aefe6db"
   },
   "outputs": [
    {
     "data": {
      "image/png": "[encoded data removed]",
      "text/plain": [
       "<Figure size 1080x504 with 1 Axes>"
      ]
     },
     "metadata": {
      "needs_background": "light"
     },
     "output_type": "display_data"
    }
   ],
   "source": [
    "#criando histograma para peso com bins - > lettra C\n",
    "clientes.hist(column='peso', figsize=(15,7), bins=30)\n",
    "plt.show()"
   ]
  },
  {
   "cell_type": "markdown",
   "metadata": {
    "id": "PbQQR9xkoPRb"
   },
   "source": [
    "Figura A - letra c"
   ]
  },
  {
   "cell_type": "code",
   "execution_count": 151,
   "metadata": {
    "id": "7cVgznpGoZud"
   },
   "outputs": [],
   "source": [
    "#Qual o valor do WCSS para o terceiro cluster? (utilize random_state=0) \n",
    "\n",
    "#Qual o valor do WCSS para o número de clusters = 4? (utilize random_state=0)\n",
    "\n",
    "# calcular a variação total de clusters\n",
    "def calcular_wcss(dados_cliente):\n",
    "  wcss=[]\n",
    "  for k in range(1,11):\n",
    "    kmeans = KMeans(n_clusters = k, random_state=0)\n",
    "    kmeans.fit(X=dados_cliente)\n",
    "    wcss.append(kmeans.inertia_)\n",
    "  return wcss"
   ]
  },
  {
   "cell_type": "code",
   "execution_count": 152,
   "metadata": {
    "colab": {
     "base_uri": "https://localhost:8080/",
     "height": 206
    },
    "id": "XXFrktV8p4i2",
    "outputId": "dfe369cf-f69b-4389-848f-f4a7c56547b8"
   },
   "outputs": [
    {
     "data": {
      "text/html": [
       "<div>\n",
       "<style scoped>\n",
       "    .dataframe tbody tr th:only-of-type {\n",
       "        vertical-align: middle;\n",
       "    }\n",
       "\n",
       "    .dataframe tbody tr th {\n",
       "        vertical-align: top;\n",
       "    }\n",
       "\n",
       "    .dataframe thead th {\n",
       "        text-align: right;\n",
       "    }\n",
       "</style>\n",
       "<table border=\"1\" class=\"dataframe\">\n",
       "  <thead>\n",
       "    <tr style=\"text-align: right;\">\n",
       "      <th></th>\n",
       "      <th>peso</th>\n",
       "      <th>colesterol</th>\n",
       "    </tr>\n",
       "  </thead>\n",
       "  <tbody>\n",
       "    <tr>\n",
       "      <th>0</th>\n",
       "      <td>102.0</td>\n",
       "      <td>111</td>\n",
       "    </tr>\n",
       "    <tr>\n",
       "      <th>17</th>\n",
       "      <td>115.0</td>\n",
       "      <td>135</td>\n",
       "    </tr>\n",
       "    <tr>\n",
       "      <th>39</th>\n",
       "      <td>115.0</td>\n",
       "      <td>136</td>\n",
       "    </tr>\n",
       "    <tr>\n",
       "      <th>64</th>\n",
       "      <td>130.0</td>\n",
       "      <td>158</td>\n",
       "    </tr>\n",
       "    <tr>\n",
       "      <th>83</th>\n",
       "      <td>198.0</td>\n",
       "      <td>227</td>\n",
       "    </tr>\n",
       "  </tbody>\n",
       "</table>\n",
       "</div>"
      ],
      "text/plain": [
       "     peso  colesterol\n",
       "0   102.0         111\n",
       "17  115.0         135\n",
       "39  115.0         136\n",
       "64  130.0         158\n",
       "83  198.0         227"
      ]
     },
     "execution_count": 152,
     "metadata": {},
     "output_type": "execute_result"
    }
   ],
   "source": [
    "# variaveis que serão utilizados no agrupamento\n",
    "dados_cliente = base_completa[['peso', 'colesterol']]\n",
    "dados_cliente.head()"
   ]
  },
  {
   "cell_type": "code",
   "execution_count": 153,
   "metadata": {
    "colab": {
     "base_uri": "https://localhost:8080/"
    },
    "id": "lKQCylMvqDhl",
    "outputId": "a1893339-2791-4d94-f0df-f84037b65c4f"
   },
   "outputs": [
    {
     "name": "stdout",
     "output_type": "stream",
     "text": [
      "O cluster 0 possui o valor de wcss de: 1248240.668674699\n",
      "O cluster 1 possui o valor de wcss de: 298932.7377352369\n",
      "O cluster 2 possui o valor de wcss de: 127847.6195681955\n",
      "O cluster 3 possui o valor de wcss de: 73826.3353951529\n",
      "O cluster 4 possui o valor de wcss de: 49079.083808467956\n",
      "O cluster 5 possui o valor de wcss de: 34064.500021008374\n",
      "O cluster 6 possui o valor de wcss de: 25122.257107188125\n",
      "O cluster 7 possui o valor de wcss de: 20441.83167815419\n",
      "O cluster 8 possui o valor de wcss de: 15949.21276427297\n",
      "O cluster 9 possui o valor de wcss de: 13390.707825076835\n"
     ]
    }
   ],
   "source": [
    "#visualizando os dados obtidos no wcss\n",
    "for i in range (len(wcss_clientes)):\n",
    "  print(f'O cluster {i} possui o valor de wcss de: {wcss_clientes[i]}')"
   ]
  },
  {
   "cell_type": "code",
   "execution_count": 154,
   "metadata": {
    "id": "OO5IYVhZP6oX"
   },
   "outputs": [],
   "source": [
    "#Qual o valor do WCSS para o terceiro cluster? (utilize random_state-0) \n",
    "#Terceiro cluster = 127847"
   ]
  },
  {
   "cell_type": "code",
   "execution_count": 155,
   "metadata": {
    "id": "cR5mo7t5QBoW"
   },
   "outputs": [],
   "source": [
    "#Qual o valor do WCSS para o número de clusters = 4? (utilize random_state=0) \n",
    "#49003.06"
   ]
  },
  {
   "cell_type": "code",
   "execution_count": 156,
   "metadata": {
    "colab": {
     "base_uri": "https://localhost:8080/"
    },
    "id": "VLlc1G5XQkif",
    "outputId": "9d6b343e-77f0-4103-fb87-fcd72395624c"
   },
   "outputs": [
    {
     "data": {
      "text/plain": [
       "array([[184.32394366, 218.98591549],\n",
       "       [127.57024793, 154.20661157],\n",
       "       [106.90697674, 119.57364341],\n",
       "       [152.32075472, 186.03773585]])"
      ]
     },
     "execution_count": 156,
     "metadata": {},
     "output_type": "execute_result"
    }
   ],
   "source": [
    "#Qual o valor do centroide para o grupo de alto risco? 184.32394366, 218.98591549\n",
    "#Leve em consideração as variáveis na seguinte sequência: peso e colesterol. \n",
    "centroides_clusters = kmeans_clientes.cluster_centers_\n",
    "centroides_clusters"
   ]
  },
  {
   "cell_type": "code",
   "execution_count": 157,
   "metadata": {
    "colab": {
     "base_uri": "https://localhost:8080/"
    },
    "id": "Wf6al3IKUFv1",
    "outputId": "0d3e81c3-507f-41c7-80b6-b2c0b20bdcd3"
   },
   "outputs": [
    {
     "data": {
      "text/plain": [
       "nome_cluster\n",
       "Moderado Baixo    42.347107\n",
       "Moderado alto     42.716981\n",
       "Risco Alto        43.204225\n",
       "Risco Baixo       43.139535\n",
       "Name: idade, dtype: float64"
      ]
     },
     "execution_count": 157,
     "metadata": {},
     "output_type": "execute_result"
    }
   ],
   "source": [
    "#Qual a média de idades para o cluster de Risco baixo? 43,13 \n",
    "cluster_clientes.groupby('nome_cluster')['idade'].mean()"
   ]
  },
  {
   "cell_type": "code",
   "execution_count": 158,
   "metadata": {
    "colab": {
     "base_uri": "https://localhost:8080/"
    },
    "id": "bZ4nY6ueZ4EG",
    "outputId": "41eba9c6-268b-4496-f3e1-14f917d8229b"
   },
   "outputs": [
    {
     "data": {
      "text/plain": [
       "nome_cluster\n",
       "Moderado Baixo    138\n",
       "Moderado alto     168\n",
       "Risco Alto        204\n",
       "Risco Baixo       102\n",
       "Name: colesterol, dtype: int64"
      ]
     },
     "execution_count": 158,
     "metadata": {},
     "output_type": "execute_result"
    }
   ],
   "source": [
    "#Qual o valor mínimo do colesterol coletado para o grupo de alto Risco? 204\n",
    "cluster_clientes.groupby('nome_cluster')['colesterol'].min()"
   ]
  },
  {
   "cell_type": "code",
   "execution_count": 159,
   "metadata": {
    "colab": {
     "base_uri": "https://localhost:8080/"
    },
    "id": "G-MtwhWZRNOu",
    "outputId": "bc76ae99-d967-4bb1-f3b8-f4a063d208ca"
   },
   "outputs": [
    {
     "data": {
      "text/plain": [
       "nome_cluster\n",
       "Moderado Baixo    142.0\n",
       "Moderado alto     169.0\n",
       "Risco Alto        203.0\n",
       "Risco Baixo       118.0\n",
       "Name: peso, dtype: float64"
      ]
     },
     "execution_count": 159,
     "metadata": {},
     "output_type": "execute_result"
    }
   ],
   "source": [
    "#Qual o peso máximo presente no cluster de alto risco? 203\n",
    "cluster_clientes.groupby('nome_cluster')['peso'].max()"
   ]
  },
  {
   "cell_type": "code",
   "execution_count": 160,
   "metadata": {
    "colab": {
     "base_uri": "https://localhost:8080/",
     "height": 206
    },
    "id": "oL0EeZeER3ce",
    "outputId": "c5dc1199-bc0e-48a4-d6de-105623293adb"
   },
   "outputs": [
    {
     "data": {
      "text/html": [
       "<div>\n",
       "<style scoped>\n",
       "    .dataframe tbody tr th:only-of-type {\n",
       "        vertical-align: middle;\n",
       "    }\n",
       "\n",
       "    .dataframe tbody tr th {\n",
       "        vertical-align: top;\n",
       "    }\n",
       "\n",
       "    .dataframe thead th {\n",
       "        text-align: right;\n",
       "    }\n",
       "</style>\n",
       "<table border=\"1\" class=\"dataframe\">\n",
       "  <thead>\n",
       "    <tr style=\"text-align: right;\">\n",
       "      <th></th>\n",
       "      <th>count</th>\n",
       "      <th>unique</th>\n",
       "      <th>top</th>\n",
       "      <th>freq</th>\n",
       "    </tr>\n",
       "    <tr>\n",
       "      <th>nome_cluster</th>\n",
       "      <th></th>\n",
       "      <th></th>\n",
       "      <th></th>\n",
       "      <th></th>\n",
       "    </tr>\n",
       "  </thead>\n",
       "  <tbody>\n",
       "    <tr>\n",
       "      <th>Moderado Baixo</th>\n",
       "      <td>121</td>\n",
       "      <td>25</td>\n",
       "      <td>Sergipe</td>\n",
       "      <td>9</td>\n",
       "    </tr>\n",
       "    <tr>\n",
       "      <th>Moderado alto</th>\n",
       "      <td>106</td>\n",
       "      <td>25</td>\n",
       "      <td>Pernambuco</td>\n",
       "      <td>7</td>\n",
       "    </tr>\n",
       "    <tr>\n",
       "      <th>Risco Alto</th>\n",
       "      <td>142</td>\n",
       "      <td>25</td>\n",
       "      <td>Rio Grande do Sul</td>\n",
       "      <td>10</td>\n",
       "    </tr>\n",
       "    <tr>\n",
       "      <th>Risco Baixo</th>\n",
       "      <td>129</td>\n",
       "      <td>25</td>\n",
       "      <td>Amazonas</td>\n",
       "      <td>10</td>\n",
       "    </tr>\n",
       "  </tbody>\n",
       "</table>\n",
       "</div>"
      ],
      "text/plain": [
       "               count unique                top freq\n",
       "nome_cluster                                       \n",
       "Moderado Baixo   121     25            Sergipe    9\n",
       "Moderado alto    106     25         Pernambuco    7\n",
       "Risco Alto       142     25  Rio Grande do Sul   10\n",
       "Risco Baixo      129     25           Amazonas   10"
      ]
     },
     "execution_count": 160,
     "metadata": {},
     "output_type": "execute_result"
    }
   ],
   "source": [
    "# Qual o estado com maior número de pessoas que estão no grupo de alto risco? Rio Grande do Sul\n",
    "cluster_clientes.groupby('nome_cluster')['estado'].describe()"
   ]
  },
  {
   "cell_type": "code",
   "execution_count": 161,
   "metadata": {
    "colab": {
     "base_uri": "https://localhost:8080/",
     "height": 774
    },
    "id": "yb04y83eYTYK",
    "outputId": "8c3351c2-518c-4372-dcef-503d6803b347"
   },
   "outputs": [
    {
     "data": {
      "text/html": [
       "<div>\n",
       "<style scoped>\n",
       "    .dataframe tbody tr th:only-of-type {\n",
       "        vertical-align: middle;\n",
       "    }\n",
       "\n",
       "    .dataframe tbody tr th {\n",
       "        vertical-align: top;\n",
       "    }\n",
       "\n",
       "    .dataframe thead th {\n",
       "        text-align: right;\n",
       "    }\n",
       "</style>\n",
       "<table border=\"1\" class=\"dataframe\">\n",
       "  <thead>\n",
       "    <tr style=\"text-align: right;\">\n",
       "      <th></th>\n",
       "      <th>cod_cliente</th>\n",
       "      <th>peso</th>\n",
       "      <th>colesterol</th>\n",
       "      <th>genero</th>\n",
       "      <th>id_estado</th>\n",
       "      <th>estado</th>\n",
       "      <th>sigla_estado</th>\n",
       "      <th>pais</th>\n",
       "      <th>idade</th>\n",
       "      <th>cluster</th>\n",
       "      <th>nome_cluster</th>\n",
       "    </tr>\n",
       "  </thead>\n",
       "  <tbody>\n",
       "    <tr>\n",
       "      <th>330</th>\n",
       "      <td>69</td>\n",
       "      <td>187.0</td>\n",
       "      <td>221</td>\n",
       "      <td>Feminino</td>\n",
       "      <td>21</td>\n",
       "      <td>Rio Grande do Sul</td>\n",
       "      <td>RS</td>\n",
       "      <td>Brasil</td>\n",
       "      <td>35</td>\n",
       "      <td>0</td>\n",
       "      <td>Risco Alto</td>\n",
       "    </tr>\n",
       "    <tr>\n",
       "      <th>332</th>\n",
       "      <td>106</td>\n",
       "      <td>179.0</td>\n",
       "      <td>216</td>\n",
       "      <td>Masculino</td>\n",
       "      <td>21</td>\n",
       "      <td>Rio Grande do Sul</td>\n",
       "      <td>RS</td>\n",
       "      <td>Brasil</td>\n",
       "      <td>56</td>\n",
       "      <td>0</td>\n",
       "      <td>Risco Alto</td>\n",
       "    </tr>\n",
       "    <tr>\n",
       "      <th>337</th>\n",
       "      <td>261</td>\n",
       "      <td>171.0</td>\n",
       "      <td>205</td>\n",
       "      <td>Masculino</td>\n",
       "      <td>21</td>\n",
       "      <td>Rio Grande do Sul</td>\n",
       "      <td>RS</td>\n",
       "      <td>Brasil</td>\n",
       "      <td>34</td>\n",
       "      <td>0</td>\n",
       "      <td>Risco Alto</td>\n",
       "    </tr>\n",
       "    <tr>\n",
       "      <th>340</th>\n",
       "      <td>313</td>\n",
       "      <td>169.0</td>\n",
       "      <td>204</td>\n",
       "      <td>Masculino</td>\n",
       "      <td>21</td>\n",
       "      <td>Rio Grande do Sul</td>\n",
       "      <td>RS</td>\n",
       "      <td>Brasil</td>\n",
       "      <td>33</td>\n",
       "      <td>0</td>\n",
       "      <td>Risco Alto</td>\n",
       "    </tr>\n",
       "    <tr>\n",
       "      <th>341</th>\n",
       "      <td>335</td>\n",
       "      <td>182.0</td>\n",
       "      <td>222</td>\n",
       "      <td>Masculino</td>\n",
       "      <td>21</td>\n",
       "      <td>Rio Grande do Sul</td>\n",
       "      <td>RS</td>\n",
       "      <td>Brasil</td>\n",
       "      <td>68</td>\n",
       "      <td>0</td>\n",
       "      <td>Risco Alto</td>\n",
       "    </tr>\n",
       "    <tr>\n",
       "      <th>342</th>\n",
       "      <td>373</td>\n",
       "      <td>194.0</td>\n",
       "      <td>224</td>\n",
       "      <td>Feminino</td>\n",
       "      <td>21</td>\n",
       "      <td>Rio Grande do Sul</td>\n",
       "      <td>RS</td>\n",
       "      <td>Brasil</td>\n",
       "      <td>38</td>\n",
       "      <td>0</td>\n",
       "      <td>Risco Alto</td>\n",
       "    </tr>\n",
       "    <tr>\n",
       "      <th>343</th>\n",
       "      <td>374</td>\n",
       "      <td>177.0</td>\n",
       "      <td>214</td>\n",
       "      <td>Masculino</td>\n",
       "      <td>21</td>\n",
       "      <td>Rio Grande do Sul</td>\n",
       "      <td>RS</td>\n",
       "      <td>Brasil</td>\n",
       "      <td>18</td>\n",
       "      <td>0</td>\n",
       "      <td>Risco Alto</td>\n",
       "    </tr>\n",
       "    <tr>\n",
       "      <th>344</th>\n",
       "      <td>376</td>\n",
       "      <td>172.0</td>\n",
       "      <td>205</td>\n",
       "      <td>Masculino</td>\n",
       "      <td>21</td>\n",
       "      <td>Rio Grande do Sul</td>\n",
       "      <td>RS</td>\n",
       "      <td>Brasil</td>\n",
       "      <td>50</td>\n",
       "      <td>0</td>\n",
       "      <td>Risco Alto</td>\n",
       "    </tr>\n",
       "    <tr>\n",
       "      <th>345</th>\n",
       "      <td>403</td>\n",
       "      <td>175.0</td>\n",
       "      <td>215</td>\n",
       "      <td>Feminino</td>\n",
       "      <td>21</td>\n",
       "      <td>Rio Grande do Sul</td>\n",
       "      <td>RS</td>\n",
       "      <td>Brasil</td>\n",
       "      <td>45</td>\n",
       "      <td>0</td>\n",
       "      <td>Risco Alto</td>\n",
       "    </tr>\n",
       "    <tr>\n",
       "      <th>346</th>\n",
       "      <td>409</td>\n",
       "      <td>180.0</td>\n",
       "      <td>219</td>\n",
       "      <td>Masculino</td>\n",
       "      <td>21</td>\n",
       "      <td>Rio Grande do Sul</td>\n",
       "      <td>RS</td>\n",
       "      <td>Brasil</td>\n",
       "      <td>19</td>\n",
       "      <td>0</td>\n",
       "      <td>Risco Alto</td>\n",
       "    </tr>\n",
       "  </tbody>\n",
       "</table>\n",
       "</div>"
      ],
      "text/plain": [
       "     cod_cliente   peso  colesterol     genero  id_estado             estado  \\\n",
       "330           69  187.0         221   Feminino         21  Rio Grande do Sul   \n",
       "332          106  179.0         216  Masculino         21  Rio Grande do Sul   \n",
       "337          261  171.0         205  Masculino         21  Rio Grande do Sul   \n",
       "340          313  169.0         204  Masculino         21  Rio Grande do Sul   \n",
       "341          335  182.0         222  Masculino         21  Rio Grande do Sul   \n",
       "342          373  194.0         224   Feminino         21  Rio Grande do Sul   \n",
       "343          374  177.0         214  Masculino         21  Rio Grande do Sul   \n",
       "344          376  172.0         205  Masculino         21  Rio Grande do Sul   \n",
       "345          403  175.0         215   Feminino         21  Rio Grande do Sul   \n",
       "346          409  180.0         219  Masculino         21  Rio Grande do Sul   \n",
       "\n",
       "    sigla_estado    pais  idade  cluster nome_cluster  \n",
       "330           RS  Brasil     35        0   Risco Alto  \n",
       "332           RS  Brasil     56        0   Risco Alto  \n",
       "337           RS  Brasil     34        0   Risco Alto  \n",
       "340           RS  Brasil     33        0   Risco Alto  \n",
       "341           RS  Brasil     68        0   Risco Alto  \n",
       "342           RS  Brasil     38        0   Risco Alto  \n",
       "343           RS  Brasil     18        0   Risco Alto  \n",
       "344           RS  Brasil     50        0   Risco Alto  \n",
       "345           RS  Brasil     45        0   Risco Alto  \n",
       "346           RS  Brasil     19        0   Risco Alto  "
      ]
     },
     "execution_count": 161,
     "metadata": {},
     "output_type": "execute_result"
    }
   ],
   "source": [
    "# verifica os valores na base de dados de alto risco no estado do \"Rio Grande do Sul\"\n",
    "cluster_clientes.query('nome_cluster == \"Risco Alto\" & estado == \"Rio Grande do Sul\"')"
   ]
  },
  {
   "cell_type": "code",
   "execution_count": 162,
   "metadata": {
    "colab": {
     "base_uri": "https://localhost:8080/"
    },
    "id": "5RqnAbYzzt8n",
    "outputId": "3ffcc967-56cd-48cd-b751-a90bd2c8c709"
   },
   "outputs": [
    {
     "data": {
      "text/plain": [
       "nome_cluster\n",
       "Moderado Baixo    127.570248\n",
       "Moderado alto     152.320755\n",
       "Risco Alto        184.323944\n",
       "Risco Baixo       106.906977\n",
       "Name: peso, dtype: float64"
      ]
     },
     "execution_count": 162,
     "metadata": {},
     "output_type": "execute_result"
    }
   ],
   "source": [
    "#Qual a média dos pesos para o grupo de risco moderado alto? 152,32\n",
    "cluster_clientes.groupby('nome_cluster')['peso'].mean()"
   ]
  },
  {
   "cell_type": "code",
   "execution_count": 163,
   "metadata": {
    "colab": {
     "base_uri": "https://localhost:8080/",
     "height": 331
    },
    "id": "G0OK8i9L2mvy",
    "outputId": "779703cf-64aa-4c86-a669-93533c642a99"
   },
   "outputs": [
    {
     "data": {
      "text/html": [
       "<div>\n",
       "<style scoped>\n",
       "    .dataframe tbody tr th:only-of-type {\n",
       "        vertical-align: middle;\n",
       "    }\n",
       "\n",
       "    .dataframe tbody tr th {\n",
       "        vertical-align: top;\n",
       "    }\n",
       "\n",
       "    .dataframe thead th {\n",
       "        text-align: right;\n",
       "    }\n",
       "</style>\n",
       "<table border=\"1\" class=\"dataframe\">\n",
       "  <thead>\n",
       "    <tr style=\"text-align: right;\">\n",
       "      <th></th>\n",
       "      <th></th>\n",
       "      <th>count</th>\n",
       "      <th>mean</th>\n",
       "      <th>std</th>\n",
       "      <th>min</th>\n",
       "      <th>25%</th>\n",
       "      <th>50%</th>\n",
       "      <th>75%</th>\n",
       "      <th>max</th>\n",
       "    </tr>\n",
       "    <tr>\n",
       "      <th>nome_cluster</th>\n",
       "      <th>genero</th>\n",
       "      <th></th>\n",
       "      <th></th>\n",
       "      <th></th>\n",
       "      <th></th>\n",
       "      <th></th>\n",
       "      <th></th>\n",
       "      <th></th>\n",
       "      <th></th>\n",
       "    </tr>\n",
       "  </thead>\n",
       "  <tbody>\n",
       "    <tr>\n",
       "      <th rowspan=\"2\" valign=\"top\">Moderado Baixo</th>\n",
       "      <th>Feminino</th>\n",
       "      <td>63.0</td>\n",
       "      <td>156.571429</td>\n",
       "      <td>9.596226</td>\n",
       "      <td>138.0</td>\n",
       "      <td>149.00</td>\n",
       "      <td>156.0</td>\n",
       "      <td>166.0</td>\n",
       "      <td>171.0</td>\n",
       "    </tr>\n",
       "    <tr>\n",
       "      <th>Masculino</th>\n",
       "      <td>58.0</td>\n",
       "      <td>151.637931</td>\n",
       "      <td>9.389614</td>\n",
       "      <td>138.0</td>\n",
       "      <td>143.25</td>\n",
       "      <td>151.5</td>\n",
       "      <td>158.0</td>\n",
       "      <td>168.0</td>\n",
       "    </tr>\n",
       "    <tr>\n",
       "      <th rowspan=\"2\" valign=\"top\">Moderado alto</th>\n",
       "      <th>Feminino</th>\n",
       "      <td>59.0</td>\n",
       "      <td>186.152542</td>\n",
       "      <td>10.182496</td>\n",
       "      <td>168.0</td>\n",
       "      <td>176.00</td>\n",
       "      <td>189.0</td>\n",
       "      <td>194.5</td>\n",
       "      <td>201.0</td>\n",
       "    </tr>\n",
       "    <tr>\n",
       "      <th>Masculino</th>\n",
       "      <td>47.0</td>\n",
       "      <td>185.893617</td>\n",
       "      <td>9.311596</td>\n",
       "      <td>172.0</td>\n",
       "      <td>178.00</td>\n",
       "      <td>184.0</td>\n",
       "      <td>192.5</td>\n",
       "      <td>203.0</td>\n",
       "    </tr>\n",
       "    <tr>\n",
       "      <th rowspan=\"2\" valign=\"top\">Risco Alto</th>\n",
       "      <th>Feminino</th>\n",
       "      <td>60.0</td>\n",
       "      <td>220.650000</td>\n",
       "      <td>6.456701</td>\n",
       "      <td>204.0</td>\n",
       "      <td>216.75</td>\n",
       "      <td>221.0</td>\n",
       "      <td>225.0</td>\n",
       "      <td>235.0</td>\n",
       "    </tr>\n",
       "    <tr>\n",
       "      <th>Masculino</th>\n",
       "      <td>82.0</td>\n",
       "      <td>217.768293</td>\n",
       "      <td>8.939162</td>\n",
       "      <td>204.0</td>\n",
       "      <td>211.00</td>\n",
       "      <td>219.0</td>\n",
       "      <td>225.0</td>\n",
       "      <td>235.0</td>\n",
       "    </tr>\n",
       "    <tr>\n",
       "      <th rowspan=\"2\" valign=\"top\">Risco Baixo</th>\n",
       "      <th>Feminino</th>\n",
       "      <td>58.0</td>\n",
       "      <td>122.448276</td>\n",
       "      <td>10.372319</td>\n",
       "      <td>102.0</td>\n",
       "      <td>113.00</td>\n",
       "      <td>124.5</td>\n",
       "      <td>130.0</td>\n",
       "      <td>138.0</td>\n",
       "    </tr>\n",
       "    <tr>\n",
       "      <th>Masculino</th>\n",
       "      <td>71.0</td>\n",
       "      <td>117.225352</td>\n",
       "      <td>9.677953</td>\n",
       "      <td>102.0</td>\n",
       "      <td>109.00</td>\n",
       "      <td>115.0</td>\n",
       "      <td>126.0</td>\n",
       "      <td>136.0</td>\n",
       "    </tr>\n",
       "  </tbody>\n",
       "</table>\n",
       "</div>"
      ],
      "text/plain": [
       "                          count        mean        std    min     25%    50%  \\\n",
       "nome_cluster   genero                                                          \n",
       "Moderado Baixo Feminino    63.0  156.571429   9.596226  138.0  149.00  156.0   \n",
       "               Masculino   58.0  151.637931   9.389614  138.0  143.25  151.5   \n",
       "Moderado alto  Feminino    59.0  186.152542  10.182496  168.0  176.00  189.0   \n",
       "               Masculino   47.0  185.893617   9.311596  172.0  178.00  184.0   \n",
       "Risco Alto     Feminino    60.0  220.650000   6.456701  204.0  216.75  221.0   \n",
       "               Masculino   82.0  217.768293   8.939162  204.0  211.00  219.0   \n",
       "Risco Baixo    Feminino    58.0  122.448276  10.372319  102.0  113.00  124.5   \n",
       "               Masculino   71.0  117.225352   9.677953  102.0  109.00  115.0   \n",
       "\n",
       "                            75%    max  \n",
       "nome_cluster   genero                   \n",
       "Moderado Baixo Feminino   166.0  171.0  \n",
       "               Masculino  158.0  168.0  \n",
       "Moderado alto  Feminino   194.5  201.0  \n",
       "               Masculino  192.5  203.0  \n",
       "Risco Alto     Feminino   225.0  235.0  \n",
       "               Masculino  225.0  235.0  \n",
       "Risco Baixo    Feminino   130.0  138.0  \n",
       "               Masculino  126.0  136.0  "
      ]
     },
     "execution_count": 163,
     "metadata": {},
     "output_type": "execute_result"
    }
   ],
   "source": [
    "# Agrupar por nome e genero e verificar os dados de colesterol dessas pessoas\n",
    "cluster_clientes.groupby(['nome_cluster', 'genero'])['colesterol'].describe()"
   ]
  },
  {
   "cell_type": "markdown",
   "metadata": {
    "id": "YwQUCoyF27pA"
   },
   "source": [
    "Conclusões com base no colesterol nos dados dos grupos em relação a genero masculino e feminino: \n",
    "\n",
    "* O grupo de alto risco possui média maior de colesterol para o gênero feminino em comparação ao gênero masculino.\n",
    "\n",
    "* A quantidade maior de pessoas estão no grupo de Risco Baixo do gênero masculino\n",
    "\n",
    "* A quantidade menor de pessoas está no grupo Moderado Alto do gênero feminino\n",
    "\n",
    "* O desvio padrão de todos os grupos de gênero feminino são maiores que o gênero masculino. "
   ]
  }
 ],
 "metadata": {
  "colab": {
   "authorship_tag": "ABX9TyN3KfsSd3gzI2EZstL1WQGQ",
   "collapsed_sections": [
    "WXRNUu5fYCb3",
    "UM5whX9lYG3H",
    "s58bwU8jYkwn",
    "Lac1NVn6YpeX"
   ],
   "include_colab_link": true,
   "name": "Trabalho prático 2 - Plano Saúde.ipynb",
   "provenance": [],
   "toc_visible": true
  },
  "kernelspec": {
   "display_name": "Python 3 (ipykernel)",
   "language": "python",
   "name": "python3"
  },
  "language_info": {
   "codemirror_mode": {
    "name": "ipython",
    "version": 3
   },
   "file_extension": ".py",
   "mimetype": "text/x-python",
   "name": "python",
   "nbconvert_exporter": "python",
   "pygments_lexer": "ipython3",
   "version": "3.9.12"
  }
 },
 "nbformat": 4,
 "nbformat_minor": 1
}
